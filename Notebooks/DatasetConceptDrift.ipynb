{
 "cells": [
  {
   "cell_type": "code",
   "execution_count": 22,
   "metadata": {},
   "outputs": [],
   "source": [
    "from tsl.datasets import MetrLA, PemsBay, AirQuality\n",
    "from scipy.stats import skew, kurtosis\n",
    "import nannyml as nml\n",
    "import pandas as pd\n",
    "import numpy as np\n",
    "\n",
    "dataset1 = MetrLA()\n",
    "dataset2 = PemsBay()\n",
    "dataset3 = AirQuality(impute_nans=True, small=True)\n",
    "df1 = dataset1.dataframe()\n",
    "df2 = dataset2.dataframe()\n",
    "df3 = dataset3.dataframe()"
   ]
  },
  {
   "cell_type": "code",
   "execution_count": 23,
   "metadata": {},
   "outputs": [],
   "source": [
    "# drop level channels from columns\n",
    "df1.columns = df1.columns.droplevel('channels')\n",
    "df2.columns = df2.columns.droplevel('channels')\n",
    "df3.columns = df3.columns.droplevel('channels')"
   ]
  },
  {
   "cell_type": "code",
   "execution_count": 24,
   "metadata": {},
   "outputs": [],
   "source": [
    "def get_stats(df):\n",
    "    \"\"\"\n",
    "    Get statistics of dataframe.\n",
    "    \"\"\"\n",
    "    df_described = df.describe()\n",
    "    stats = pd.DataFrame({'skewness': [], 'kurtosis': []})\n",
    "    for column in df.columns:\n",
    "        stats = pd.concat([stats, pd.DataFrame({\n",
    "            'skewness': [skew(df[column])],\n",
    "            'kurtosis': [kurtosis(df[column])]\n",
    "        })], ignore_index=True)\n",
    "    stats = stats.T\n",
    "    stats.columns = df_described.columns\n",
    "    df_described = pd.concat([df_described, stats], axis=0)\n",
    "    return df_described.mean(axis=1)"
   ]
  },
  {
   "cell_type": "markdown",
   "metadata": {},
   "source": [
    "# Description of values of MetrLA Dataset"
   ]
  },
  {
   "cell_type": "code",
   "execution_count": 25,
   "metadata": {},
   "outputs": [],
   "source": [
    "df1_described = get_stats(df1)"
   ]
  },
  {
   "cell_type": "markdown",
   "metadata": {},
   "source": [
    "# Description of values of PemsBay Dataset"
   ]
  },
  {
   "cell_type": "code",
   "execution_count": 26,
   "metadata": {},
   "outputs": [],
   "source": [
    "df2_described = get_stats(df2)"
   ]
  },
  {
   "cell_type": "markdown",
   "metadata": {},
   "source": [
    "# Description of values of AirQuality Dataset"
   ]
  },
  {
   "cell_type": "code",
   "execution_count": 27,
   "metadata": {},
   "outputs": [],
   "source": [
    "df3_described = get_stats(df3)"
   ]
  },
  {
   "cell_type": "code",
   "execution_count": 28,
   "metadata": {},
   "outputs": [],
   "source": [
    "df_stats = pd.concat([df1_described, df2_described, df3_described], axis=1)\n",
    "df_stats.columns = ['MetrLA', 'PemsBay', 'AirQuality(36)']\n",
    "df_stats = df_stats.T\n",
    "df_stats.insert(0, 'Dataset', df_stats.index)\n",
    "df_stats.reset_index(drop=True, inplace=True)\n",
    "df_stats['count'] = df_stats['count'].astype('int') \n",
    "df_stats.drop(columns=['min', '25%', '50%','75%', 'max'], inplace=True)\n",
    "df_stats.to_csv('datasets_statistics.csv', index=False)"
   ]
  },
  {
   "cell_type": "code",
   "execution_count": 29,
   "metadata": {},
   "outputs": [
    {
     "data": {
      "text/html": [
       "<div>\n",
       "<style scoped>\n",
       "    .dataframe tbody tr th:only-of-type {\n",
       "        vertical-align: middle;\n",
       "    }\n",
       "\n",
       "    .dataframe tbody tr th {\n",
       "        vertical-align: top;\n",
       "    }\n",
       "\n",
       "    .dataframe thead th {\n",
       "        text-align: right;\n",
       "    }\n",
       "</style>\n",
       "<table border=\"1\" class=\"dataframe\">\n",
       "  <thead>\n",
       "    <tr style=\"text-align: right;\">\n",
       "      <th></th>\n",
       "      <th>Dataset</th>\n",
       "      <th>count</th>\n",
       "      <th>mean</th>\n",
       "      <th>std</th>\n",
       "      <th>skewness</th>\n",
       "      <th>kurtosis</th>\n",
       "    </tr>\n",
       "  </thead>\n",
       "  <tbody>\n",
       "    <tr>\n",
       "      <th>0</th>\n",
       "      <td>MetrLA</td>\n",
       "      <td>34272</td>\n",
       "      <td>58.367832</td>\n",
       "      <td>10.512709</td>\n",
       "      <td>-2.534072</td>\n",
       "      <td>13.184498</td>\n",
       "    </tr>\n",
       "    <tr>\n",
       "      <th>1</th>\n",
       "      <td>PemsBay</td>\n",
       "      <td>52128</td>\n",
       "      <td>62.620531</td>\n",
       "      <td>8.556311</td>\n",
       "      <td>-2.992395</td>\n",
       "      <td>15.073551</td>\n",
       "    </tr>\n",
       "    <tr>\n",
       "      <th>2</th>\n",
       "      <td>AirQuality(36)</td>\n",
       "      <td>8759</td>\n",
       "      <td>84.460824</td>\n",
       "      <td>75.650833</td>\n",
       "      <td>1.610577</td>\n",
       "      <td>3.157856</td>\n",
       "    </tr>\n",
       "  </tbody>\n",
       "</table>\n",
       "</div>"
      ],
      "text/plain": [
       "          Dataset  count       mean        std  skewness   kurtosis\n",
       "0          MetrLA  34272  58.367832  10.512709 -2.534072  13.184498\n",
       "1         PemsBay  52128  62.620531   8.556311 -2.992395  15.073551\n",
       "2  AirQuality(36)   8759  84.460824  75.650833  1.610577   3.157856"
      ]
     },
     "execution_count": 29,
     "metadata": {},
     "output_type": "execute_result"
    }
   ],
   "source": [
    "df_stats"
   ]
  },
  {
   "cell_type": "markdown",
   "metadata": {},
   "source": [
    "# Check distribution drift for both datasets"
   ]
  },
  {
   "cell_type": "code",
   "execution_count": 30,
   "metadata": {},
   "outputs": [
    {
     "name": "stderr",
     "output_type": "stream",
     "text": [
      "/Users/paulmagos/.pyenv/versions/3.11.9/envs/Dopple/lib/python3.11/site-packages/numpy/core/fromnumeric.py:3462: FutureWarning:\n",
      "\n",
      "In a future version, DataFrame.mean(axis=None) will return a scalar mean over the entire DataFrame. To retain the old behavior, use 'frame.mean(axis=0)' or just 'frame.mean()'\n",
      "\n",
      "/Users/paulmagos/.pyenv/versions/3.11.9/envs/Dopple/lib/python3.11/site-packages/numpy/core/fromnumeric.py:3462: FutureWarning:\n",
      "\n",
      "In a future version, DataFrame.mean(axis=None) will return a scalar mean over the entire DataFrame. To retain the old behavior, use 'frame.mean(axis=0)' or just 'frame.mean()'\n",
      "\n"
     ]
    },
    {
     "name": "stdout",
     "output_type": "stream",
     "text": [
      "Data drift detected in MetrLA data\n",
      "Data drift detected in PemsBay dataset\n",
      "Data drift detected in AirQuality dataset\n"
     ]
    },
    {
     "name": "stderr",
     "output_type": "stream",
     "text": [
      "/Users/paulmagos/.pyenv/versions/3.11.9/envs/Dopple/lib/python3.11/site-packages/numpy/core/fromnumeric.py:3462: FutureWarning:\n",
      "\n",
      "In a future version, DataFrame.mean(axis=None) will return a scalar mean over the entire DataFrame. To retain the old behavior, use 'frame.mean(axis=0)' or just 'frame.mean()'\n",
      "\n"
     ]
    }
   ],
   "source": [
    "\n",
    "def detect_drift(data, threshold=0.05):\n",
    "  \"\"\"\n",
    "  Code for detecting data drift\n",
    "\n",
    "  Args:\n",
    "      data: sample NumPy array of data points.\n",
    "      threshold: Proportion of data points allowed to fall outside the expected range (default: 0.05).\n",
    "\n",
    "  Returns:\n",
    "      A boolean indicating if data drift is detected.\n",
    "  \"\"\"\n",
    "  mean = np.mean(data)\n",
    "  std = np.std(data)\n",
    "  expected_upper_bound = mean + 2 * std\n",
    "  expected_lower_bound = mean - 2 * std\n",
    "\n",
    "  # Calculate the cumulative sum of deviations from the mean\n",
    "  deviations = np.cumsum(data - mean)\n",
    "\n",
    "  # Identify data points exceeding the expected bounds\n",
    "  outliers = np.sum(deviations > expected_upper_bound) + np.sum(deviations < expected_lower_bound)\n",
    "\n",
    "  # Check if the proportion of outliers exceeds the threshold\n",
    "  return outliers / len(data) > threshold\n",
    "\n",
    "\n",
    "# Calculate drift for both datasets\n",
    "drift_detected_1 = detect_drift(df1)\n",
    "drift_detected_2 = detect_drift(df2)\n",
    "drift_detected_3 = detect_drift(df3)\n",
    "\n",
    "if np.mean(drift_detected_1):\n",
    "  print(\"Data drift detected in MetrLA data\")\n",
    "else:\n",
    "  print(\"No data drift detected in MetrLA data.\")\n",
    "  \n",
    "if np.mean(drift_detected_2):\n",
    "  print(\"Data drift detected in PemsBay dataset\")\n",
    "else:\n",
    "  print(\"No data drift detected in PemsBay data.\")\n",
    "  \n",
    "if np.mean(drift_detected_3):\n",
    "  print(\"Data drift detected in AirQuality dataset\")\n",
    "else:\n",
    "  print(\"No data drift detected in PemsBay data.\")\n"
   ]
  },
  {
   "cell_type": "markdown",
   "metadata": {},
   "source": [
    "# Check drift distribution after half dataset fit with nannyml "
   ]
  },
  {
   "cell_type": "markdown",
   "metadata": {},
   "source": [
    "## MetrLa"
   ]
  },
  {
   "cell_type": "code",
   "execution_count": 31,
   "metadata": {},
   "outputs": [],
   "source": [
    "METRLA_middle_index = len(df1) // 2\n",
    "\n",
    "METRLA_first_half_df = df1.iloc[:METRLA_middle_index] # reference dataset \n",
    "METRLA_second_half_df = df1.iloc[METRLA_middle_index:]\n",
    "METRLA_feature_names = df1.columns\n",
    "METRLA_reference_set = METRLA_first_half_df.copy()  \n",
    "METRLA_analysis_set = METRLA_second_half_df.copy() "
   ]
  },
  {
   "cell_type": "code",
   "execution_count": 32,
   "metadata": {},
   "outputs": [
    {
     "data": {
      "application/vnd.plotly.v1+json": {
       "config": {
        "plotlyServerURL": "https://plot.ly"
       },
       "data": [
        {
         "hoverinfo": "skip",
         "legendgroup": "metric_reference",
         "line": {
          "color": "#00c8e5",
          "shape": "hv",
          "width": 2
         },
         "mode": "lines",
         "name": "Metric",
         "showlegend": true,
         "type": "scatter",
         "x": [
          0,
          1,
          2,
          3,
          4,
          5,
          6,
          7,
          8,
          9,
          10,
          11,
          12,
          13,
          14,
          15,
          16,
          17,
          18,
          19,
          20,
          21,
          22,
          23,
          24,
          25,
          26,
          27,
          28,
          29,
          30,
          31,
          32,
          33,
          34,
          35
         ],
         "y": [
          9.221981048583984,
          7.221761226654053,
          7.286573886871338,
          8.254500389099121,
          8.371353149414062,
          7.667555809020996,
          7.944255352020264,
          9.063573837280273,
          7.844042778015137,
          8.07101058959961,
          6.641871929168701,
          8.864232063293457,
          8.328932762145996,
          6.9492692947387695,
          5.54633903503418,
          6.433457851409912,
          8.047649383544922,
          7.411619186401367,
          6.719906330108643,
          8.613393783569336,
          8.27297306060791,
          7.70380163192749,
          8.036105155944824,
          9.035841941833496,
          7.430632591247559,
          7.562942028045654,
          7.929345607757568,
          8.6923246383667,
          8.115455627441406,
          8.587089538574219,
          7.4299540519714355,
          7.162470817565918,
          8.092244148254395,
          8.230890274047852,
          6.800092697143555,
          6.800092697143555
         ]
        },
        {
         "customdata": [
          [
           "Reconstruction Error",
           "<b style=\"color:Colors.BLUE_SKY_CRAYOLA;line-height:60px\">Reference</b>",
           "",
           "[0:499]",
           "Chunk index: <b>0</b>",
           9.222000122070312,
           0.5218
          ],
          [
           "Reconstruction Error",
           "<b style=\"color:Colors.BLUE_SKY_CRAYOLA;line-height:60px\">Reference</b>",
           "",
           "[500:999]",
           "Chunk index: <b>1</b>",
           7.221799850463867,
           0.3457
          ],
          [
           "Reconstruction Error",
           "<b style=\"color:Colors.BLUE_SKY_CRAYOLA;line-height:60px\">Reference</b>",
           "",
           "[1000:1499]",
           "Chunk index: <b>2</b>",
           7.286600112915039,
           0.2862
          ],
          [
           "Reconstruction Error",
           "<b style=\"color:Colors.BLUE_SKY_CRAYOLA;line-height:60px\">Reference</b>",
           "",
           "[1500:1999]",
           "Chunk index: <b>3</b>",
           8.254500389099121,
           0.4313
          ],
          [
           "Reconstruction Error",
           "<b style=\"color:Colors.BLUE_SKY_CRAYOLA;line-height:60px\">Reference</b>",
           "",
           "[2000:2499]",
           "Chunk index: <b>4</b>",
           8.371399879455566,
           0.2804
          ],
          [
           "Reconstruction Error",
           "<b style=\"color:Colors.BLUE_SKY_CRAYOLA;line-height:60px\">Reference</b>",
           "",
           "[2500:2999]",
           "Chunk index: <b>5</b>",
           7.667600154876709,
           0.3099
          ],
          [
           "Reconstruction Error",
           "<b style=\"color:Colors.BLUE_SKY_CRAYOLA;line-height:60px\">Reference</b>",
           "",
           "[3000:3499]",
           "Chunk index: <b>6</b>",
           7.944300174713135,
           0.3315
          ],
          [
           "Reconstruction Error",
           "<b style=\"color:Colors.BLUE_SKY_CRAYOLA;line-height:60px\">Reference</b>",
           "",
           "[3500:3999]",
           "Chunk index: <b>7</b>",
           9.063599586486816,
           0.4177
          ],
          [
           "Reconstruction Error",
           "<b style=\"color:Colors.BLUE_SKY_CRAYOLA;line-height:60px\">Reference</b>",
           "",
           "[4000:4499]",
           "Chunk index: <b>8</b>",
           7.843999862670898,
           0.3031
          ],
          [
           "Reconstruction Error",
           "<b style=\"color:Colors.BLUE_SKY_CRAYOLA;line-height:60px\">Reference</b>",
           "",
           "[4500:4999]",
           "Chunk index: <b>9</b>",
           8.071000099182129,
           0.514
          ],
          [
           "Reconstruction Error",
           "<b style=\"color:Colors.BLUE_SKY_CRAYOLA;line-height:60px\">Reference</b>",
           "",
           "[5000:5499]",
           "Chunk index: <b>10</b>",
           6.641900062561035,
           0.3723
          ],
          [
           "Reconstruction Error",
           "<b style=\"color:Colors.BLUE_SKY_CRAYOLA;line-height:60px\">Reference</b>",
           "",
           "[5500:5999]",
           "Chunk index: <b>11</b>",
           8.8641996383667,
           0.5469
          ],
          [
           "Reconstruction Error",
           "<b style=\"color:Colors.BLUE_SKY_CRAYOLA;line-height:60px\">Reference</b>",
           "",
           "[6000:6499]",
           "Chunk index: <b>12</b>",
           8.328900337219238,
           0.3609
          ],
          [
           "Reconstruction Error",
           "<b style=\"color:Colors.BLUE_SKY_CRAYOLA;line-height:60px\">Reference</b>",
           "",
           "[6500:6999]",
           "Chunk index: <b>13</b>",
           6.9492998123168945,
           0.3539
          ],
          [
           "Reconstruction Error",
           "<b style=\"color:Colors.BLUE_SKY_CRAYOLA;line-height:60px\">Reference</b>",
           "",
           "[7000:7499]",
           "Chunk index: <b>14</b>",
           5.546299934387207,
           0.3911
          ],
          [
           "Reconstruction Error",
           "<b style=\"color:Colors.BLUE_SKY_CRAYOLA;line-height:60px\">Reference</b>",
           "",
           "[7500:7999]",
           "Chunk index: <b>15</b>",
           6.433499813079834,
           0.4562
          ],
          [
           "Reconstruction Error",
           "<b style=\"color:Colors.BLUE_SKY_CRAYOLA;line-height:60px\">Reference</b>",
           "",
           "[8000:8499]",
           "Chunk index: <b>16</b>",
           8.047599792480469,
           0.3589
          ],
          [
           "Reconstruction Error",
           "<b style=\"color:Colors.BLUE_SKY_CRAYOLA;line-height:60px\">Reference</b>",
           "",
           "[8500:8999]",
           "Chunk index: <b>17</b>",
           7.411600112915039,
           0.3209
          ],
          [
           "Reconstruction Error",
           "<b style=\"color:Colors.BLUE_SKY_CRAYOLA;line-height:60px\">Reference</b>",
           "",
           "[9000:9499]",
           "Chunk index: <b>18</b>",
           6.719900131225586,
           0.2952
          ],
          [
           "Reconstruction Error",
           "<b style=\"color:Colors.BLUE_SKY_CRAYOLA;line-height:60px\">Reference</b>",
           "",
           "[9500:9999]",
           "Chunk index: <b>19</b>",
           8.61340045928955,
           0.4643
          ],
          [
           "Reconstruction Error",
           "<b style=\"color:Colors.BLUE_SKY_CRAYOLA;line-height:60px\">Reference</b>",
           "",
           "[10000:10499]",
           "Chunk index: <b>20</b>",
           8.27299976348877,
           0.2706
          ],
          [
           "Reconstruction Error",
           "<b style=\"color:Colors.BLUE_SKY_CRAYOLA;line-height:60px\">Reference</b>",
           "",
           "[10500:10999]",
           "Chunk index: <b>21</b>",
           7.703800201416016,
           0.3873
          ],
          [
           "Reconstruction Error",
           "<b style=\"color:Colors.BLUE_SKY_CRAYOLA;line-height:60px\">Reference</b>",
           "",
           "[11000:11499]",
           "Chunk index: <b>22</b>",
           8.036100387573242,
           0.3744
          ],
          [
           "Reconstruction Error",
           "<b style=\"color:Colors.BLUE_SKY_CRAYOLA;line-height:60px\">Reference</b>",
           "",
           "[11500:11999]",
           "Chunk index: <b>23</b>",
           9.035799980163574,
           0.4592
          ],
          [
           "Reconstruction Error",
           "<b style=\"color:Colors.BLUE_SKY_CRAYOLA;line-height:60px\">Reference</b>",
           "",
           "[12000:12499]",
           "Chunk index: <b>24</b>",
           7.430600166320801,
           0.3637
          ],
          [
           "Reconstruction Error",
           "<b style=\"color:Colors.BLUE_SKY_CRAYOLA;line-height:60px\">Reference</b>",
           "",
           "[12500:12999]",
           "Chunk index: <b>25</b>",
           7.562900066375732,
           0.3624
          ],
          [
           "Reconstruction Error",
           "<b style=\"color:Colors.BLUE_SKY_CRAYOLA;line-height:60px\">Reference</b>",
           "",
           "[13000:13499]",
           "Chunk index: <b>26</b>",
           7.929299831390381,
           0.5552
          ],
          [
           "Reconstruction Error",
           "<b style=\"color:Colors.BLUE_SKY_CRAYOLA;line-height:60px\">Reference</b>",
           "",
           "[13500:13999]",
           "Chunk index: <b>27</b>",
           8.692299842834473,
           0.518
          ],
          [
           "Reconstruction Error",
           "<b style=\"color:Colors.BLUE_SKY_CRAYOLA;line-height:60px\">Reference</b>",
           "",
           "[14000:14499]",
           "Chunk index: <b>28</b>",
           8.115500450134277,
           0.4019
          ],
          [
           "Reconstruction Error",
           "<b style=\"color:Colors.BLUE_SKY_CRAYOLA;line-height:60px\">Reference</b>",
           "",
           "[14500:14999]",
           "Chunk index: <b>29</b>",
           8.5871000289917,
           0.4968
          ],
          [
           "Reconstruction Error",
           "<b style=\"color:Colors.BLUE_SKY_CRAYOLA;line-height:60px\">Reference</b>",
           "",
           "[15000:15499]",
           "Chunk index: <b>30</b>",
           7.429999828338623,
           0.3526
          ],
          [
           "Reconstruction Error",
           "<b style=\"color:Colors.BLUE_SKY_CRAYOLA;line-height:60px\">Reference</b>",
           "",
           "[15500:15999]",
           "Chunk index: <b>31</b>",
           7.162499904632568,
           0.2928
          ],
          [
           "Reconstruction Error",
           "<b style=\"color:Colors.BLUE_SKY_CRAYOLA;line-height:60px\">Reference</b>",
           "",
           "[16000:16499]",
           "Chunk index: <b>32</b>",
           8.09220027923584,
           0.435
          ],
          [
           "Reconstruction Error",
           "<b style=\"color:Colors.BLUE_SKY_CRAYOLA;line-height:60px\">Reference</b>",
           "",
           "[16500:16999]",
           "Chunk index: <b>33</b>",
           8.230899810791016,
           0.5048
          ],
          [
           "Reconstruction Error",
           "<b style=\"color:Colors.BLUE_SKY_CRAYOLA;line-height:60px\">Reference</b>",
           "",
           "[17000:17135]",
           "Chunk index: <b>34</b>",
           6.800099849700928,
           0.3868
          ]
         ],
         "hovertemplate": "%{customdata[1]} &nbsp; &nbsp; %{customdata[2]} <br />Chunk: <b>%{customdata[3]}</b> &nbsp; &nbsp; %{customdata[4]} <br />%{customdata[0]}: <b>%{customdata[5]}</b><br />Confidence band: +/- <b>%{customdata[6]}</b><br /><extra></extra>",
         "legendgroup": "metric_reference",
         "marker": {
          "color": "#00c8e5",
          "size": 5,
          "symbol": "circle"
         },
         "mode": "markers",
         "name": "Metric",
         "showlegend": false,
         "type": "scatter",
         "x": [
          0.5,
          1.5,
          2.5,
          3.5,
          4.5,
          5.5,
          6.5,
          7.5,
          8.5,
          9.5,
          10.5,
          11.5,
          12.5,
          13.5,
          14.5,
          15.5,
          16.5,
          17.5,
          18.5,
          19.5,
          20.5,
          21.5,
          22.5,
          23.5,
          24.5,
          25.5,
          26.5,
          27.5,
          28.5,
          29.5,
          30.5,
          31.5,
          32.5,
          33.5,
          34.5
         ],
         "y": [
          9.221981048583984,
          7.221761226654053,
          7.286573886871338,
          8.254500389099121,
          8.371353149414062,
          7.667555809020996,
          7.944255352020264,
          9.063573837280273,
          7.844042778015137,
          8.07101058959961,
          6.641871929168701,
          8.864232063293457,
          8.328932762145996,
          6.9492692947387695,
          5.54633903503418,
          6.433457851409912,
          8.047649383544922,
          7.411619186401367,
          6.719906330108643,
          8.613393783569336,
          8.27297306060791,
          7.70380163192749,
          8.036105155944824,
          9.035841941833496,
          7.430632591247559,
          7.562942028045654,
          7.929345607757568,
          8.6923246383667,
          8.115455627441406,
          8.587089538574219,
          7.4299540519714355,
          7.162470817565918,
          8.092244148254395,
          8.230890274047852,
          6.800092697143555,
          6.800092697143555
         ]
        },
        {
         "hoverinfo": "skip",
         "legendgroup": "metric_analysis",
         "line": {
          "color": "#00c8e5",
          "shape": "hv",
          "width": 2
         },
         "mode": "lines",
         "name": "Metric",
         "showlegend": false,
         "type": "scatter",
         "x": [
          35,
          36,
          37,
          38,
          39,
          40,
          41,
          42,
          43,
          44,
          45,
          46,
          47,
          48,
          49,
          50,
          51,
          52,
          53,
          54,
          55,
          56,
          57,
          58,
          59,
          60,
          61,
          62,
          63,
          64,
          65,
          66,
          67,
          68,
          69,
          70
         ],
         "y": [
          7.946058750152588,
          8.930717468261719,
          8.656293869018555,
          6.758145332336426,
          7.571571350097656,
          8.845710754394531,
          8.669193267822266,
          8.137269973754883,
          7.736732482910156,
          9.354246139526367,
          8.403480529785156,
          7.6328654289245605,
          7.8227763175964355,
          9.436738014221191,
          8.631369590759277,
          7.165844440460205,
          6.063065528869629,
          9.46444320678711,
          10.06689453125,
          8.318845748901367,
          7.245670795440674,
          8.31319522857666,
          8.668047904968262,
          9.076847076416016,
          7.184688568115234,
          9.272212982177734,
          9.089180946350098,
          9.8677396774292,
          9.26994514465332,
          8.33969497680664,
          8.944979667663574,
          9.212931632995605,
          8.818251609802246,
          11.193385124206543,
          12.040230751037598,
          12.040230751037598
         ]
        },
        {
         "customdata": [
          [
           "Reconstruction Error",
           "<b style=\"color:Colors.INDIGO_PERSIAN;line-height:60px\">Analysis</b>",
           "",
           "[0:499]",
           "Chunk index: <b>0</b>",
           7.946100234985352,
           0.3473
          ],
          [
           "Reconstruction Error",
           "<b style=\"color:Colors.INDIGO_PERSIAN;line-height:60px\">Analysis</b>",
           "",
           "[500:999]",
           "Chunk index: <b>1</b>",
           8.930700302124023,
           0.5215
          ],
          [
           "Reconstruction Error",
           "<b style=\"color:Colors.INDIGO_PERSIAN;line-height:60px\">Analysis</b>",
           "",
           "[1000:1499]",
           "Chunk index: <b>2</b>",
           8.656299591064453,
           0.4243
          ],
          [
           "Reconstruction Error",
           "<b style=\"color:Colors.INDIGO_PERSIAN;line-height:60px\">Analysis</b>",
           "",
           "[1500:1999]",
           "Chunk index: <b>3</b>",
           6.7581000328063965,
           0.3181
          ],
          [
           "Reconstruction Error",
           "<b style=\"color:Colors.INDIGO_PERSIAN;line-height:60px\">Analysis</b>",
           "",
           "[2000:2499]",
           "Chunk index: <b>4</b>",
           7.571599960327148,
           0.3111
          ],
          [
           "Reconstruction Error",
           "<b style=\"color:Colors.INDIGO_PERSIAN;line-height:60px\">Analysis</b>",
           "",
           "[2500:2999]",
           "Chunk index: <b>5</b>",
           8.84570026397705,
           0.3724
          ],
          [
           "Reconstruction Error",
           "<b style=\"color:Colors.INDIGO_PERSIAN;line-height:60px\">Analysis</b>",
           "",
           "[3000:3499]",
           "Chunk index: <b>6</b>",
           8.66919994354248,
           0.4071
          ],
          [
           "Reconstruction Error",
           "<b style=\"color:Colors.INDIGO_PERSIAN;line-height:60px\">Analysis</b>",
           "",
           "[3500:3999]",
           "Chunk index: <b>7</b>",
           8.137299537658691,
           0.5337
          ],
          [
           "Reconstruction Error",
           "<b style=\"color:Colors.INDIGO_PERSIAN;line-height:60px\">Analysis</b>",
           "",
           "[4000:4499]",
           "Chunk index: <b>8</b>",
           7.736700057983398,
           0.362
          ],
          [
           "Reconstruction Error",
           "<b style=\"color:Colors.INDIGO_PERSIAN;line-height:60px\">Analysis</b>",
           "",
           "[4500:4999]",
           "Chunk index: <b>9</b>",
           9.35420036315918,
           0.4166
          ],
          [
           "Reconstruction Error",
           "<b style=\"color:Colors.INDIGO_PERSIAN;line-height:60px\">Analysis</b>",
           "",
           "[5000:5499]",
           "Chunk index: <b>10</b>",
           8.403499603271484,
           0.351
          ],
          [
           "Reconstruction Error",
           "<b style=\"color:Colors.INDIGO_PERSIAN;line-height:60px\">Analysis</b>",
           "",
           "[5500:5999]",
           "Chunk index: <b>11</b>",
           7.632900238037109,
           0.3763
          ],
          [
           "Reconstruction Error",
           "<b style=\"color:Colors.INDIGO_PERSIAN;line-height:60px\">Analysis</b>",
           "",
           "[6000:6499]",
           "Chunk index: <b>12</b>",
           7.822800159454346,
           0.3259
          ],
          [
           "Reconstruction Error",
           "<b style=\"color:Colors.INDIGO_PERSIAN;line-height:60px\">Analysis</b>",
           "",
           "[6500:6999]",
           "Chunk index: <b>13</b>",
           9.436699867248535,
           0.3822
          ],
          [
           "Reconstruction Error",
           "<b style=\"color:Colors.INDIGO_PERSIAN;line-height:60px\">Analysis</b>",
           "",
           "[7000:7499]",
           "Chunk index: <b>14</b>",
           8.631400108337402,
           0.3686
          ],
          [
           "Reconstruction Error",
           "<b style=\"color:Colors.INDIGO_PERSIAN;line-height:60px\">Analysis</b>",
           "",
           "[7500:7999]",
           "Chunk index: <b>15</b>",
           7.165800094604492,
           0.4658
          ],
          [
           "Reconstruction Error",
           "<b style=\"color:Colors.INDIGO_PERSIAN;line-height:60px\">Analysis</b>",
           "",
           "[8000:8499]",
           "Chunk index: <b>16</b>",
           6.0630998611450195,
           0.2096
          ],
          [
           "Reconstruction Error",
           "<b style=\"color:Colors.INDIGO_PERSIAN;line-height:60px\">Analysis</b>",
           "",
           "[8500:8999]",
           "Chunk index: <b>17</b>",
           9.464400291442871,
           0.5452
          ],
          [
           "Reconstruction Error",
           "<b style=\"color:Colors.INDIGO_PERSIAN;line-height:60px\">Analysis</b>",
           "",
           "[9000:9499]",
           "Chunk index: <b>18</b>",
           10.066900253295898,
           0.4383
          ],
          [
           "Reconstruction Error",
           "<b style=\"color:Colors.INDIGO_PERSIAN;line-height:60px\">Analysis</b>",
           "",
           "[9500:9999]",
           "Chunk index: <b>19</b>",
           8.31879997253418,
           0.4753
          ],
          [
           "Reconstruction Error",
           "<b style=\"color:Colors.INDIGO_PERSIAN;line-height:60px\">Analysis</b>",
           "",
           "[10000:10499]",
           "Chunk index: <b>20</b>",
           7.245699882507324,
           0.3714
          ],
          [
           "Reconstruction Error",
           "<b style=\"color:Colors.INDIGO_PERSIAN;line-height:60px\">Analysis</b>",
           "",
           "[10500:10999]",
           "Chunk index: <b>21</b>",
           8.313199996948242,
           0.342
          ],
          [
           "Reconstruction Error",
           "<b style=\"color:Colors.INDIGO_PERSIAN;line-height:60px\">Analysis</b>",
           "",
           "[11000:11499]",
           "Chunk index: <b>22</b>",
           8.668000221252441,
           0.3802
          ],
          [
           "Reconstruction Error",
           "<b style=\"color:Colors.INDIGO_PERSIAN;line-height:60px\">Analysis</b>",
           "",
           "[11500:11999]",
           "Chunk index: <b>23</b>",
           9.076800346374512,
           0.465
          ],
          [
           "Reconstruction Error",
           "<b style=\"color:Colors.INDIGO_PERSIAN;line-height:60px\">Analysis</b>",
           "",
           "[12000:12499]",
           "Chunk index: <b>24</b>",
           7.184700012207031,
           0.3484
          ],
          [
           "Reconstruction Error",
           "<b style=\"color:Colors.INDIGO_PERSIAN;line-height:60px\">Analysis</b>",
           "",
           "[12500:12999]",
           "Chunk index: <b>25</b>",
           9.272199630737305,
           0.496
          ],
          [
           "Reconstruction Error",
           "<b style=\"color:Colors.INDIGO_PERSIAN;line-height:60px\">Analysis</b>",
           "",
           "[13000:13499]",
           "Chunk index: <b>26</b>",
           9.089200019836426,
           0.3868
          ],
          [
           "Reconstruction Error",
           "<b style=\"color:Colors.INDIGO_PERSIAN;line-height:60px\">Analysis</b>",
           "",
           "[13500:13999]",
           "Chunk index: <b>27</b>",
           9.86769962310791,
           0.5168
          ],
          [
           "Reconstruction Error",
           "<b style=\"color:Colors.INDIGO_PERSIAN;line-height:60px\">Analysis</b>",
           "",
           "[14000:14499]",
           "Chunk index: <b>28</b>",
           9.26990032196045,
           0.4423
          ],
          [
           "Reconstruction Error",
           "<b style=\"color:Colors.INDIGO_PERSIAN;line-height:60px\">Analysis</b>",
           "",
           "[14500:14999]",
           "Chunk index: <b>29</b>",
           8.339699745178223,
           0.3301
          ],
          [
           "Reconstruction Error",
           "<b style=\"color:Colors.INDIGO_PERSIAN;line-height:60px\">Analysis</b>",
           "",
           "[15000:15499]",
           "Chunk index: <b>30</b>",
           8.944999694824219,
           0.413
          ],
          [
           "Reconstruction Error",
           "<b style=\"color:Colors.INDIGO_PERSIAN;line-height:60px\">Analysis</b>",
           "",
           "[15500:15999]",
           "Chunk index: <b>31</b>",
           9.212900161743164,
           0.2557
          ],
          [
           "Reconstruction Error",
           "<b style=\"color:Colors.INDIGO_PERSIAN;line-height:60px\">Analysis</b>",
           "",
           "[16000:16499]",
           "Chunk index: <b>32</b>",
           8.818300247192383,
           0.2302
          ],
          [
           "Reconstruction Error",
           "<b style=\"color:Colors.INDIGO_PERSIAN;line-height:60px\">Analysis</b>",
           "<span style=\"color:#AD0000\">⚠ <b>Drift detected</b></span>",
           "[16500:16999]",
           "Chunk index: <b>33</b>",
           11.193400382995605,
           0.3902
          ],
          [
           "Reconstruction Error",
           "<b style=\"color:Colors.INDIGO_PERSIAN;line-height:60px\">Analysis</b>",
           "<span style=\"color:#AD0000\">⚠ <b>Drift detected</b></span>",
           "[17000:17135]",
           "Chunk index: <b>34</b>",
           12.040200233459473,
           0.7903
          ]
         ],
         "hovertemplate": "%{customdata[1]} &nbsp; &nbsp; %{customdata[2]} <br />Chunk: <b>%{customdata[3]}</b> &nbsp; &nbsp; %{customdata[4]} <br />%{customdata[0]}: <b>%{customdata[5]}</b><br />Confidence band: +/- <b>%{customdata[6]}</b><br /><extra></extra>",
         "legendgroup": "metric_analysis",
         "marker": {
          "color": "#00c8e5",
          "size": 5,
          "symbol": "circle"
         },
         "mode": "markers",
         "name": "Metric",
         "showlegend": false,
         "type": "scatter",
         "x": [
          35.5,
          36.5,
          37.5,
          38.5,
          39.5,
          40.5,
          41.5,
          42.5,
          43.5,
          44.5,
          45.5,
          46.5,
          47.5,
          48.5,
          49.5,
          50.5,
          51.5,
          52.5,
          53.5,
          54.5,
          55.5,
          56.5,
          57.5,
          58.5,
          59.5,
          60.5,
          61.5,
          62.5,
          63.5,
          64.5,
          65.5,
          66.5,
          67.5,
          68.5,
          69.5
         ],
         "y": [
          7.946058750152588,
          8.930717468261719,
          8.656293869018555,
          6.758145332336426,
          7.571571350097656,
          8.845710754394531,
          8.669193267822266,
          8.137269973754883,
          7.736732482910156,
          9.354246139526367,
          8.403480529785156,
          7.6328654289245605,
          7.8227763175964355,
          9.436738014221191,
          8.631369590759277,
          7.165844440460205,
          6.063065528869629,
          9.46444320678711,
          10.06689453125,
          8.318845748901367,
          7.245670795440674,
          8.31319522857666,
          8.668047904968262,
          9.076847076416016,
          7.184688568115234,
          9.272212982177734,
          9.089180946350098,
          9.8677396774292,
          9.26994514465332,
          8.33969497680664,
          8.944979667663574,
          9.212931632995605,
          8.818251609802246,
          11.193385124206543,
          12.040230751037598,
          12.040230751037598
         ]
        },
        {
         "hoverinfo": "skip",
         "legendgroup": "alert",
         "marker": {
          "color": "#DD4040",
          "size": 8,
          "symbol": "diamond"
         },
         "mode": "markers",
         "name": "Alert",
         "showlegend": true,
         "type": "scatter",
         "x": [
          68.5,
          69.5
         ],
         "y": [
          11.193385124206543,
          12.040230751037598
         ]
        },
        {
         "hoverinfo": "skip",
         "legendgroup": "thresh",
         "line": {
          "color": "#DD4040",
          "dash": "dash",
          "width": 2
         },
         "mode": "lines",
         "name": "Threshold",
         "showlegend": false,
         "type": "scatter",
         "x": [
          0,
          1,
          2,
          3,
          4,
          5,
          6,
          7,
          8,
          9,
          10,
          11,
          12,
          13,
          14,
          15,
          16,
          17,
          18,
          19,
          20,
          21,
          22,
          23,
          24,
          25,
          26,
          27,
          28,
          29,
          30,
          31,
          32,
          33,
          34,
          35
         ],
         "y": [
          10.23128890991211,
          10.23128890991211,
          10.23128890991211,
          10.23128890991211,
          10.23128890991211,
          10.23128890991211,
          10.23128890991211,
          10.23128890991211,
          10.23128890991211,
          10.23128890991211,
          10.23128890991211,
          10.23128890991211,
          10.23128890991211,
          10.23128890991211,
          10.23128890991211,
          10.23128890991211,
          10.23128890991211,
          10.23128890991211,
          10.23128890991211,
          10.23128890991211,
          10.23128890991211,
          10.23128890991211,
          10.23128890991211,
          10.23128890991211,
          10.23128890991211,
          10.23128890991211,
          10.23128890991211,
          10.23128890991211,
          10.23128890991211,
          10.23128890991211,
          10.23128890991211,
          10.23128890991211,
          10.23128890991211,
          10.23128890991211,
          10.23128890991211,
          10.23128890991211
         ]
        },
        {
         "hoverinfo": "skip",
         "legendgroup": "thresh",
         "line": {
          "color": "#DD4040",
          "dash": "dash",
          "width": 2
         },
         "mode": "lines",
         "name": "Threshold",
         "showlegend": false,
         "type": "scatter",
         "x": [
          0,
          1,
          2,
          3,
          4,
          5,
          6,
          7,
          8,
          9,
          10,
          11,
          12,
          13,
          14,
          15,
          16,
          17,
          18,
          19,
          20,
          21,
          22,
          23,
          24,
          25,
          26,
          27,
          28,
          29,
          30,
          31,
          32,
          33,
          34,
          35
         ],
         "y": [
          5.402165412902832,
          5.402165412902832,
          5.402165412902832,
          5.402165412902832,
          5.402165412902832,
          5.402165412902832,
          5.402165412902832,
          5.402165412902832,
          5.402165412902832,
          5.402165412902832,
          5.402165412902832,
          5.402165412902832,
          5.402165412902832,
          5.402165412902832,
          5.402165412902832,
          5.402165412902832,
          5.402165412902832,
          5.402165412902832,
          5.402165412902832,
          5.402165412902832,
          5.402165412902832,
          5.402165412902832,
          5.402165412902832,
          5.402165412902832,
          5.402165412902832,
          5.402165412902832,
          5.402165412902832,
          5.402165412902832,
          5.402165412902832,
          5.402165412902832,
          5.402165412902832,
          5.402165412902832,
          5.402165412902832,
          5.402165412902832,
          5.402165412902832,
          5.402165412902832
         ]
        },
        {
         "hoverinfo": "skip",
         "legendgroup": "thresh",
         "line": {
          "color": "#DD4040",
          "dash": "dash",
          "width": 2
         },
         "mode": "lines",
         "name": "Threshold",
         "showlegend": false,
         "type": "scatter",
         "x": [
          35,
          36,
          37,
          38,
          39,
          40,
          41,
          42,
          43,
          44,
          45,
          46,
          47,
          48,
          49,
          50,
          51,
          52,
          53,
          54,
          55,
          56,
          57,
          58,
          59,
          60,
          61,
          62,
          63,
          64,
          65,
          66,
          67,
          68,
          69,
          70
         ],
         "y": [
          10.23128890991211,
          10.23128890991211,
          10.23128890991211,
          10.23128890991211,
          10.23128890991211,
          10.23128890991211,
          10.23128890991211,
          10.23128890991211,
          10.23128890991211,
          10.23128890991211,
          10.23128890991211,
          10.23128890991211,
          10.23128890991211,
          10.23128890991211,
          10.23128890991211,
          10.23128890991211,
          10.23128890991211,
          10.23128890991211,
          10.23128890991211,
          10.23128890991211,
          10.23128890991211,
          10.23128890991211,
          10.23128890991211,
          10.23128890991211,
          10.23128890991211,
          10.23128890991211,
          10.23128890991211,
          10.23128890991211,
          10.23128890991211,
          10.23128890991211,
          10.23128890991211,
          10.23128890991211,
          10.23128890991211,
          10.23128890991211,
          10.23128890991211,
          10.23128890991211
         ]
        },
        {
         "hoverinfo": "skip",
         "legendgroup": "thresh",
         "line": {
          "color": "#DD4040",
          "dash": "dash",
          "width": 2
         },
         "mode": "lines",
         "name": "Threshold",
         "showlegend": false,
         "type": "scatter",
         "x": [
          35,
          36,
          37,
          38,
          39,
          40,
          41,
          42,
          43,
          44,
          45,
          46,
          47,
          48,
          49,
          50,
          51,
          52,
          53,
          54,
          55,
          56,
          57,
          58,
          59,
          60,
          61,
          62,
          63,
          64,
          65,
          66,
          67,
          68,
          69,
          70
         ],
         "y": [
          5.402165412902832,
          5.402165412902832,
          5.402165412902832,
          5.402165412902832,
          5.402165412902832,
          5.402165412902832,
          5.402165412902832,
          5.402165412902832,
          5.402165412902832,
          5.402165412902832,
          5.402165412902832,
          5.402165412902832,
          5.402165412902832,
          5.402165412902832,
          5.402165412902832,
          5.402165412902832,
          5.402165412902832,
          5.402165412902832,
          5.402165412902832,
          5.402165412902832,
          5.402165412902832,
          5.402165412902832,
          5.402165412902832,
          5.402165412902832,
          5.402165412902832,
          5.402165412902832,
          5.402165412902832,
          5.402165412902832,
          5.402165412902832,
          5.402165412902832,
          5.402165412902832,
          5.402165412902832,
          5.402165412902832,
          5.402165412902832,
          5.402165412902832,
          5.402165412902832
         ]
        },
        {
         "connectgaps": true,
         "hoverinfo": "skip",
         "line": {
          "color": "rgba(0,0,0,0)",
          "shape": "hv"
         },
         "mode": "lines",
         "name": "Confidence band",
         "showlegend": false,
         "type": "scatter",
         "x": [
          0,
          1,
          2,
          3,
          4,
          5,
          6,
          7,
          8,
          9,
          10,
          11,
          12,
          13,
          14,
          15,
          16,
          17,
          18,
          19,
          20,
          21,
          22,
          23,
          24,
          25,
          26,
          27,
          28,
          29,
          30,
          31,
          32,
          33,
          34,
          35
         ],
         "y": [
          9.743828532918918,
          7.567470632845053,
          7.5728125781312565,
          8.685783288277676,
          8.651743299380751,
          7.977479237260378,
          8.27579157776346,
          9.481308969921358,
          8.14713866444269,
          8.584971243709528,
          7.01414594473969,
          9.41113580016807,
          8.689794349303398,
          7.30314599500328,
          5.937394884151015,
          6.889652356969056,
          8.40651359341085,
          7.732542120173378,
          7.015117497466974,
          9.07767894184923,
          8.543524328933259,
          8.091131898825097,
          8.410504337707236,
          9.494998047112157,
          7.794333586986104,
          7.92535144425927,
          8.484593719894706,
          9.210300614834953,
          8.517388247169945,
          9.083926799963221,
          7.78260196360228,
          7.455307254528224,
          8.527234173032586,
          8.73569993144594,
          7.186883614492655,
          7.186883614492655
         ]
        },
        {
         "connectgaps": true,
         "fill": "tonexty",
         "fillcolor": "rgba(0.0, 0.7843137254901961, 0.8980392156862745, 0.2)",
         "hoverinfo": "skip",
         "line": {
          "color": "rgba(0,0,0,0)",
          "shape": "hv"
         },
         "mode": "lines",
         "name": "Confidence band",
         "showlegend": true,
         "type": "scatter",
         "x": [
          0,
          1,
          2,
          3,
          4,
          5,
          6,
          7,
          8,
          9,
          10,
          11,
          12,
          13,
          14,
          15,
          16,
          17,
          18,
          19,
          20,
          21,
          22,
          23,
          24,
          25,
          26,
          27,
          28,
          29,
          30,
          31,
          32,
          33,
          34,
          35
         ],
         "y": [
          8.70013356424905,
          6.8760518204630525,
          7.000335195611419,
          7.823217489920567,
          8.090962999447374,
          7.357632380781614,
          7.612719126277067,
          8.64583870463919,
          7.540946891587584,
          7.55704993548969,
          6.269597913597712,
          8.317328326418844,
          7.9680711749885935,
          6.595392594474259,
          5.1552831859173445,
          5.977263345850768,
          7.688785173678994,
          7.090696252629356,
          6.424695162750311,
          8.149108625289442,
          8.002421792282561,
          7.316471365029884,
          7.6617059741824125,
          8.576685836554836,
          7.066931595509013,
          7.200532611832038,
          7.374097495620431,
          8.174348661898446,
          7.713523007712868,
          8.090252277185217,
          7.077306140340591,
          6.869634380603612,
          7.657254123476203,
          7.726080616649764,
          6.4133017797944545,
          6.4133017797944545
         ]
        },
        {
         "connectgaps": true,
         "hoverinfo": "skip",
         "line": {
          "color": "rgba(0,0,0,0)",
          "shape": "hv"
         },
         "mode": "lines",
         "name": "Confidence band",
         "showlegend": false,
         "type": "scatter",
         "x": [
          35,
          36,
          37,
          38,
          39,
          40,
          41,
          42,
          43,
          44,
          45,
          46,
          47,
          48,
          49,
          50,
          51,
          52,
          53,
          54,
          55,
          56,
          57,
          58,
          59,
          60,
          61,
          62,
          63,
          64,
          65,
          66,
          67,
          68,
          69,
          70
         ],
         "y": [
          8.29336329448191,
          9.452258355198405,
          9.080571153592786,
          7.0762572301816755,
          7.882709396637118,
          9.218077980692541,
          9.076310950154994,
          8.67094667983665,
          8.098713366484823,
          9.770796465946157,
          8.754515262491804,
          8.009191264259352,
          8.148659475880589,
          9.818903018596977,
          8.999989291612685,
          7.631624904799138,
          6.272712335588576,
          10.009596091789996,
          10.505232017449853,
          8.794158337547346,
          7.617054543010825,
          8.655147865019657,
          9.048247967082498,
          9.541809307948775,
          7.533042932643878,
          9.768238983972125,
          9.475984671800385,
          10.384497612966012,
          9.712199080748496,
          8.669834928889857,
          9.358014311929582,
          9.468585722384686,
          9.048445432208396,
          11.58354625910049,
          12.830483787710822,
          12.830483787710822
         ]
        },
        {
         "connectgaps": true,
         "fill": "tonexty",
         "fillcolor": "rgba(0.0, 0.7843137254901961, 0.8980392156862745, 0.2)",
         "hoverinfo": "skip",
         "line": {
          "color": "rgba(0,0,0,0)",
          "shape": "hv"
         },
         "mode": "lines",
         "name": "Confidence band",
         "showlegend": false,
         "type": "scatter",
         "x": [
          35,
          36,
          37,
          38,
          39,
          40,
          41,
          42,
          43,
          44,
          45,
          46,
          47,
          48,
          49,
          50,
          51,
          52,
          53,
          54,
          55,
          56,
          57,
          58,
          59,
          60,
          61,
          62,
          63,
          64,
          65,
          66,
          67,
          68,
          69,
          70
         ],
         "y": [
          7.5987542058232656,
          8.409176581325033,
          8.232016584444324,
          6.440033434491176,
          7.2604333035581945,
          8.473343528096521,
          8.262075585489537,
          7.603593267673116,
          7.374751599335489,
          8.937695813106577,
          8.052445797078509,
          7.256539593589769,
          7.4968931593122825,
          9.054573009845406,
          8.26274988990587,
          6.700063976121272,
          5.853418722150682,
          8.919290321784223,
          9.628557045050147,
          7.843533160255388,
          6.8742870478705225,
          7.971242592133663,
          8.287847842854026,
          8.611884844883257,
          6.836334203586591,
          8.776186980383343,
          8.70237722089981,
          9.350981741892387,
          8.827691208558145,
          8.009555024723424,
          8.531945023397567,
          8.957277543606525,
          8.588057787396096,
          10.803223989312595,
          11.249977714364373,
          11.249977714364373
         ]
        }
       ],
       "layout": {
        "annotations": [
         {
          "showarrow": false,
          "text": "Reference",
          "x": 17,
          "xshift": 10,
          "y": 1.1,
          "yref": "y domain"
         },
         {
          "showarrow": false,
          "text": "Analysis",
          "x": 52,
          "xshift": 15,
          "y": 1.1,
          "yref": "y domain"
         }
        ],
        "hoverlabel": {
         "bgcolor": "white",
         "font": {
          "size": 14
         }
        },
        "legend": {
         "itemclick": false,
         "itemdoubleclick": false,
         "traceorder": "grouped",
         "x": 0.05,
         "y": 1
        },
        "paper_bgcolor": "rgba(255,255,255,1)",
        "plot_bgcolor": "rgba(255,255,255,1)",
        "shapes": [
         {
          "layer": "below",
          "line": {
           "color": "#666666",
           "width": 1
          },
          "type": "line",
          "x0": 35,
          "x1": 35,
          "xref": "x",
          "y0": 0,
          "y1": 1,
          "yref": "y domain"
         }
        ],
        "template": {
         "data": {
          "bar": [
           {
            "error_x": {
             "color": "#2a3f5f"
            },
            "error_y": {
             "color": "#2a3f5f"
            },
            "marker": {
             "line": {
              "color": "#E5ECF6",
              "width": 0.5
             },
             "pattern": {
              "fillmode": "overlay",
              "size": 10,
              "solidity": 0.2
             }
            },
            "type": "bar"
           }
          ],
          "barpolar": [
           {
            "marker": {
             "line": {
              "color": "#E5ECF6",
              "width": 0.5
             },
             "pattern": {
              "fillmode": "overlay",
              "size": 10,
              "solidity": 0.2
             }
            },
            "type": "barpolar"
           }
          ],
          "carpet": [
           {
            "aaxis": {
             "endlinecolor": "#2a3f5f",
             "gridcolor": "white",
             "linecolor": "white",
             "minorgridcolor": "white",
             "startlinecolor": "#2a3f5f"
            },
            "baxis": {
             "endlinecolor": "#2a3f5f",
             "gridcolor": "white",
             "linecolor": "white",
             "minorgridcolor": "white",
             "startlinecolor": "#2a3f5f"
            },
            "type": "carpet"
           }
          ],
          "choropleth": [
           {
            "colorbar": {
             "outlinewidth": 0,
             "ticks": ""
            },
            "type": "choropleth"
           }
          ],
          "contour": [
           {
            "colorbar": {
             "outlinewidth": 0,
             "ticks": ""
            },
            "colorscale": [
             [
              0,
              "#0d0887"
             ],
             [
              0.1111111111111111,
              "#46039f"
             ],
             [
              0.2222222222222222,
              "#7201a8"
             ],
             [
              0.3333333333333333,
              "#9c179e"
             ],
             [
              0.4444444444444444,
              "#bd3786"
             ],
             [
              0.5555555555555556,
              "#d8576b"
             ],
             [
              0.6666666666666666,
              "#ed7953"
             ],
             [
              0.7777777777777778,
              "#fb9f3a"
             ],
             [
              0.8888888888888888,
              "#fdca26"
             ],
             [
              1,
              "#f0f921"
             ]
            ],
            "type": "contour"
           }
          ],
          "contourcarpet": [
           {
            "colorbar": {
             "outlinewidth": 0,
             "ticks": ""
            },
            "type": "contourcarpet"
           }
          ],
          "heatmap": [
           {
            "colorbar": {
             "outlinewidth": 0,
             "ticks": ""
            },
            "colorscale": [
             [
              0,
              "#0d0887"
             ],
             [
              0.1111111111111111,
              "#46039f"
             ],
             [
              0.2222222222222222,
              "#7201a8"
             ],
             [
              0.3333333333333333,
              "#9c179e"
             ],
             [
              0.4444444444444444,
              "#bd3786"
             ],
             [
              0.5555555555555556,
              "#d8576b"
             ],
             [
              0.6666666666666666,
              "#ed7953"
             ],
             [
              0.7777777777777778,
              "#fb9f3a"
             ],
             [
              0.8888888888888888,
              "#fdca26"
             ],
             [
              1,
              "#f0f921"
             ]
            ],
            "type": "heatmap"
           }
          ],
          "heatmapgl": [
           {
            "colorbar": {
             "outlinewidth": 0,
             "ticks": ""
            },
            "colorscale": [
             [
              0,
              "#0d0887"
             ],
             [
              0.1111111111111111,
              "#46039f"
             ],
             [
              0.2222222222222222,
              "#7201a8"
             ],
             [
              0.3333333333333333,
              "#9c179e"
             ],
             [
              0.4444444444444444,
              "#bd3786"
             ],
             [
              0.5555555555555556,
              "#d8576b"
             ],
             [
              0.6666666666666666,
              "#ed7953"
             ],
             [
              0.7777777777777778,
              "#fb9f3a"
             ],
             [
              0.8888888888888888,
              "#fdca26"
             ],
             [
              1,
              "#f0f921"
             ]
            ],
            "type": "heatmapgl"
           }
          ],
          "histogram": [
           {
            "marker": {
             "pattern": {
              "fillmode": "overlay",
              "size": 10,
              "solidity": 0.2
             }
            },
            "type": "histogram"
           }
          ],
          "histogram2d": [
           {
            "colorbar": {
             "outlinewidth": 0,
             "ticks": ""
            },
            "colorscale": [
             [
              0,
              "#0d0887"
             ],
             [
              0.1111111111111111,
              "#46039f"
             ],
             [
              0.2222222222222222,
              "#7201a8"
             ],
             [
              0.3333333333333333,
              "#9c179e"
             ],
             [
              0.4444444444444444,
              "#bd3786"
             ],
             [
              0.5555555555555556,
              "#d8576b"
             ],
             [
              0.6666666666666666,
              "#ed7953"
             ],
             [
              0.7777777777777778,
              "#fb9f3a"
             ],
             [
              0.8888888888888888,
              "#fdca26"
             ],
             [
              1,
              "#f0f921"
             ]
            ],
            "type": "histogram2d"
           }
          ],
          "histogram2dcontour": [
           {
            "colorbar": {
             "outlinewidth": 0,
             "ticks": ""
            },
            "colorscale": [
             [
              0,
              "#0d0887"
             ],
             [
              0.1111111111111111,
              "#46039f"
             ],
             [
              0.2222222222222222,
              "#7201a8"
             ],
             [
              0.3333333333333333,
              "#9c179e"
             ],
             [
              0.4444444444444444,
              "#bd3786"
             ],
             [
              0.5555555555555556,
              "#d8576b"
             ],
             [
              0.6666666666666666,
              "#ed7953"
             ],
             [
              0.7777777777777778,
              "#fb9f3a"
             ],
             [
              0.8888888888888888,
              "#fdca26"
             ],
             [
              1,
              "#f0f921"
             ]
            ],
            "type": "histogram2dcontour"
           }
          ],
          "mesh3d": [
           {
            "colorbar": {
             "outlinewidth": 0,
             "ticks": ""
            },
            "type": "mesh3d"
           }
          ],
          "parcoords": [
           {
            "line": {
             "colorbar": {
              "outlinewidth": 0,
              "ticks": ""
             }
            },
            "type": "parcoords"
           }
          ],
          "pie": [
           {
            "automargin": true,
            "type": "pie"
           }
          ],
          "scatter": [
           {
            "fillpattern": {
             "fillmode": "overlay",
             "size": 10,
             "solidity": 0.2
            },
            "type": "scatter"
           }
          ],
          "scatter3d": [
           {
            "line": {
             "colorbar": {
              "outlinewidth": 0,
              "ticks": ""
             }
            },
            "marker": {
             "colorbar": {
              "outlinewidth": 0,
              "ticks": ""
             }
            },
            "type": "scatter3d"
           }
          ],
          "scattercarpet": [
           {
            "marker": {
             "colorbar": {
              "outlinewidth": 0,
              "ticks": ""
             }
            },
            "type": "scattercarpet"
           }
          ],
          "scattergeo": [
           {
            "marker": {
             "colorbar": {
              "outlinewidth": 0,
              "ticks": ""
             }
            },
            "type": "scattergeo"
           }
          ],
          "scattergl": [
           {
            "marker": {
             "colorbar": {
              "outlinewidth": 0,
              "ticks": ""
             }
            },
            "type": "scattergl"
           }
          ],
          "scattermapbox": [
           {
            "marker": {
             "colorbar": {
              "outlinewidth": 0,
              "ticks": ""
             }
            },
            "type": "scattermapbox"
           }
          ],
          "scatterpolar": [
           {
            "marker": {
             "colorbar": {
              "outlinewidth": 0,
              "ticks": ""
             }
            },
            "type": "scatterpolar"
           }
          ],
          "scatterpolargl": [
           {
            "marker": {
             "colorbar": {
              "outlinewidth": 0,
              "ticks": ""
             }
            },
            "type": "scatterpolargl"
           }
          ],
          "scatterternary": [
           {
            "marker": {
             "colorbar": {
              "outlinewidth": 0,
              "ticks": ""
             }
            },
            "type": "scatterternary"
           }
          ],
          "surface": [
           {
            "colorbar": {
             "outlinewidth": 0,
             "ticks": ""
            },
            "colorscale": [
             [
              0,
              "#0d0887"
             ],
             [
              0.1111111111111111,
              "#46039f"
             ],
             [
              0.2222222222222222,
              "#7201a8"
             ],
             [
              0.3333333333333333,
              "#9c179e"
             ],
             [
              0.4444444444444444,
              "#bd3786"
             ],
             [
              0.5555555555555556,
              "#d8576b"
             ],
             [
              0.6666666666666666,
              "#ed7953"
             ],
             [
              0.7777777777777778,
              "#fb9f3a"
             ],
             [
              0.8888888888888888,
              "#fdca26"
             ],
             [
              1,
              "#f0f921"
             ]
            ],
            "type": "surface"
           }
          ],
          "table": [
           {
            "cells": {
             "fill": {
              "color": "#EBF0F8"
             },
             "line": {
              "color": "white"
             }
            },
            "header": {
             "fill": {
              "color": "#C8D4E3"
             },
             "line": {
              "color": "white"
             }
            },
            "type": "table"
           }
          ]
         },
         "layout": {
          "annotationdefaults": {
           "arrowcolor": "#2a3f5f",
           "arrowhead": 0,
           "arrowwidth": 1
          },
          "autotypenumbers": "strict",
          "coloraxis": {
           "colorbar": {
            "outlinewidth": 0,
            "ticks": ""
           }
          },
          "colorscale": {
           "diverging": [
            [
             0,
             "#8e0152"
            ],
            [
             0.1,
             "#c51b7d"
            ],
            [
             0.2,
             "#de77ae"
            ],
            [
             0.3,
             "#f1b6da"
            ],
            [
             0.4,
             "#fde0ef"
            ],
            [
             0.5,
             "#f7f7f7"
            ],
            [
             0.6,
             "#e6f5d0"
            ],
            [
             0.7,
             "#b8e186"
            ],
            [
             0.8,
             "#7fbc41"
            ],
            [
             0.9,
             "#4d9221"
            ],
            [
             1,
             "#276419"
            ]
           ],
           "sequential": [
            [
             0,
             "#0d0887"
            ],
            [
             0.1111111111111111,
             "#46039f"
            ],
            [
             0.2222222222222222,
             "#7201a8"
            ],
            [
             0.3333333333333333,
             "#9c179e"
            ],
            [
             0.4444444444444444,
             "#bd3786"
            ],
            [
             0.5555555555555556,
             "#d8576b"
            ],
            [
             0.6666666666666666,
             "#ed7953"
            ],
            [
             0.7777777777777778,
             "#fb9f3a"
            ],
            [
             0.8888888888888888,
             "#fdca26"
            ],
            [
             1,
             "#f0f921"
            ]
           ],
           "sequentialminus": [
            [
             0,
             "#0d0887"
            ],
            [
             0.1111111111111111,
             "#46039f"
            ],
            [
             0.2222222222222222,
             "#7201a8"
            ],
            [
             0.3333333333333333,
             "#9c179e"
            ],
            [
             0.4444444444444444,
             "#bd3786"
            ],
            [
             0.5555555555555556,
             "#d8576b"
            ],
            [
             0.6666666666666666,
             "#ed7953"
            ],
            [
             0.7777777777777778,
             "#fb9f3a"
            ],
            [
             0.8888888888888888,
             "#fdca26"
            ],
            [
             1,
             "#f0f921"
            ]
           ]
          },
          "colorway": [
           "#636efa",
           "#EF553B",
           "#00cc96",
           "#ab63fa",
           "#FFA15A",
           "#19d3f3",
           "#FF6692",
           "#B6E880",
           "#FF97FF",
           "#FECB52"
          ],
          "font": {
           "color": "#2a3f5f"
          },
          "geo": {
           "bgcolor": "white",
           "lakecolor": "white",
           "landcolor": "#E5ECF6",
           "showlakes": true,
           "showland": true,
           "subunitcolor": "white"
          },
          "hoverlabel": {
           "align": "left"
          },
          "hovermode": "closest",
          "mapbox": {
           "style": "light"
          },
          "paper_bgcolor": "white",
          "plot_bgcolor": "#E5ECF6",
          "polar": {
           "angularaxis": {
            "gridcolor": "white",
            "linecolor": "white",
            "ticks": ""
           },
           "bgcolor": "#E5ECF6",
           "radialaxis": {
            "gridcolor": "white",
            "linecolor": "white",
            "ticks": ""
           }
          },
          "scene": {
           "xaxis": {
            "backgroundcolor": "#E5ECF6",
            "gridcolor": "white",
            "gridwidth": 2,
            "linecolor": "white",
            "showbackground": true,
            "ticks": "",
            "zerolinecolor": "white"
           },
           "yaxis": {
            "backgroundcolor": "#E5ECF6",
            "gridcolor": "white",
            "gridwidth": 2,
            "linecolor": "white",
            "showbackground": true,
            "ticks": "",
            "zerolinecolor": "white"
           },
           "zaxis": {
            "backgroundcolor": "#E5ECF6",
            "gridcolor": "white",
            "gridwidth": 2,
            "linecolor": "white",
            "showbackground": true,
            "ticks": "",
            "zerolinecolor": "white"
           }
          },
          "shapedefaults": {
           "line": {
            "color": "#2a3f5f"
           }
          },
          "ternary": {
           "aaxis": {
            "gridcolor": "white",
            "linecolor": "white",
            "ticks": ""
           },
           "baxis": {
            "gridcolor": "white",
            "linecolor": "white",
            "ticks": ""
           },
           "bgcolor": "#E5ECF6",
           "caxis": {
            "gridcolor": "white",
            "linecolor": "white",
            "ticks": ""
           }
          },
          "title": {
           "x": 0.05
          },
          "xaxis": {
           "automargin": true,
           "gridcolor": "white",
           "linecolor": "white",
           "ticks": "",
           "title": {
            "standoff": 15
           },
           "zerolinecolor": "white",
           "zerolinewidth": 2
          },
          "yaxis": {
           "automargin": true,
           "gridcolor": "white",
           "linecolor": "white",
           "ticks": "",
           "title": {
            "standoff": 15
           },
           "zerolinecolor": "white",
           "zerolinewidth": 2
          }
         }
        },
        "title": {
         "text": ""
        },
        "xaxis": {
         "linecolor": "#3b0280",
         "matches": "x",
         "mirror": true,
         "showgrid": false,
         "title": {
          "text": "Chunk"
         },
         "zeroline": false
        },
        "yaxis": {
         "linecolor": "#3b0280",
         "mirror": true,
         "showgrid": false,
         "title": {
          "text": "Reconstruction Error"
         },
         "zeroline": false
        }
       }
      }
     },
     "metadata": {},
     "output_type": "display_data"
    }
   ],
   "source": [
    "from nannyml.plots.blueprints.metrics import plot_metric\n",
    "METRLA_drift_detector = nml.DataReconstructionDriftCalculator(\n",
    "    column_names=METRLA_feature_names,\n",
    "    chunk_size=500\n",
    ").fit(reference_data=METRLA_reference_set)\n",
    "\n",
    "# Calculate drift results\n",
    "METRLA_drift_results = METRLA_drift_detector.calculate(data=METRLA_analysis_set)\n",
    "\n",
    "# Visualize drift\n",
    "METRLA_drift_results_plot = plot_metric(METRLA_drift_results, title='', metric_display_name='Reconstruction Error',\n",
    "                metric_column_name='reconstruction_error')\n",
    "METRLA_drift_results_plot.write_image('metrla_drift_results.png', width=1000, height=500)\n",
    "METRLA_drift_results_plot.show()"
   ]
  },
  {
   "cell_type": "code",
   "execution_count": null,
   "metadata": {},
   "outputs": [],
   "source": []
  },
  {
   "cell_type": "markdown",
   "metadata": {},
   "source": [
    "## PemsBay"
   ]
  },
  {
   "cell_type": "code",
   "execution_count": 33,
   "metadata": {},
   "outputs": [],
   "source": [
    "PemsBay_middle_index = len(df2) // 2\n",
    "\n",
    "PemsBay_first_half_df = df2.iloc[:PemsBay_middle_index] # reference dataset \n",
    "PemsBay_second_half_df = df2.iloc[PemsBay_middle_index:]\n",
    "\n",
    "PemsBay_feature_names = df2.columns\n",
    "PemsBay_reference_set = PemsBay_first_half_df.copy()  \n",
    "PemsBay_analysis_set = PemsBay_second_half_df.copy() "
   ]
  },
  {
   "cell_type": "code",
   "execution_count": 34,
   "metadata": {},
   "outputs": [
    {
     "data": {
      "application/vnd.plotly.v1+json": {
       "config": {
        "plotlyServerURL": "https://plot.ly"
       },
       "data": [
        {
         "hoverinfo": "skip",
         "legendgroup": "metric_reference",
         "line": {
          "color": "#00c8e5",
          "shape": "hv",
          "width": 2
         },
         "mode": "lines",
         "name": "Metric",
         "showlegend": true,
         "type": "scatter",
         "x": [
          0,
          1,
          2,
          3,
          4,
          5,
          6,
          7,
          8,
          9,
          10,
          11,
          12,
          13,
          14,
          15,
          16,
          17,
          18,
          19,
          20,
          21,
          22,
          23,
          24,
          25,
          26,
          27,
          28,
          29,
          30,
          31,
          32,
          33,
          34,
          35,
          36,
          37,
          38,
          39,
          40,
          41,
          42,
          43,
          44,
          45,
          46,
          47,
          48,
          49,
          50,
          51,
          52,
          53,
          54,
          55,
          56,
          57,
          58,
          59,
          60,
          61,
          62,
          63,
          64,
          65,
          66
         ],
         "y": [
          7.32151985168457,
          9.523040771484375,
          8.446710586547852,
          9.447402000427246,
          7.799157619476318,
          6.999124050140381,
          10.758337020874023,
          11.178308486938477,
          9.463735580444336,
          7.652219295501709,
          5.229544639587402,
          8.241657257080078,
          10.087721824645996,
          10.215066909790039,
          7.754353046417236,
          5.978819370269775,
          10.126591682434082,
          10.474276542663574,
          10.05000114440918,
          9.8535737991333,
          5.377501010894775,
          9.639183044433594,
          9.851309776306152,
          8.932034492492676,
          7.990940093994141,
          5.9580979347229,
          9.992798805236816,
          9.141319274902344,
          8.487903594970703,
          8.694047927856445,
          6.079212665557861,
          9.560977935791016,
          10.393858909606934,
          8.371113777160645,
          9.182668685913086,
          6.025701999664307,
          10.97994613647461,
          12.18481731414795,
          9.677422523498535,
          8.885520935058594,
          7.932041168212891,
          9.92744255065918,
          16.321619033813477,
          17.471878051757812,
          8.781625747680664,
          7.07809591293335,
          8.698942184448242,
          12.690664291381836,
          11.4096040725708,
          8.482010841369629,
          8.214621543884277,
          8.685510635375977,
          10.945905685424805,
          11.103930473327637,
          8.594354629516602,
          6.890792369842529,
          8.615023612976074,
          10.631535530090332,
          10.950265884399414,
          8.31265640258789,
          7.213261127471924,
          8.050271987915039,
          10.633432388305664,
          10.250151634216309,
          8.181205749511719,
          8.801475524902344,
          8.801475524902344
         ]
        },
        {
         "customdata": [
          [
           "Reconstruction Error",
           "<b style=\"color:Colors.BLUE_SKY_CRAYOLA;line-height:60px\">Reference</b>",
           "",
           "[0:399]",
           "Chunk index: <b>0</b>",
           7.321499824523926,
           0.3404
          ],
          [
           "Reconstruction Error",
           "<b style=\"color:Colors.BLUE_SKY_CRAYOLA;line-height:60px\">Reference</b>",
           "",
           "[400:799]",
           "Chunk index: <b>1</b>",
           9.52299976348877,
           0.6592
          ],
          [
           "Reconstruction Error",
           "<b style=\"color:Colors.BLUE_SKY_CRAYOLA;line-height:60px\">Reference</b>",
           "",
           "[800:1199]",
           "Chunk index: <b>2</b>",
           8.446700096130371,
           0.725
          ],
          [
           "Reconstruction Error",
           "<b style=\"color:Colors.BLUE_SKY_CRAYOLA;line-height:60px\">Reference</b>",
           "",
           "[1200:1599]",
           "Chunk index: <b>3</b>",
           9.447400093078613,
           0.7245
          ],
          [
           "Reconstruction Error",
           "<b style=\"color:Colors.BLUE_SKY_CRAYOLA;line-height:60px\">Reference</b>",
           "",
           "[1600:1999]",
           "Chunk index: <b>4</b>",
           7.799200057983398,
           0.4967
          ],
          [
           "Reconstruction Error",
           "<b style=\"color:Colors.BLUE_SKY_CRAYOLA;line-height:60px\">Reference</b>",
           "",
           "[2000:2399]",
           "Chunk index: <b>5</b>",
           6.999100208282471,
           0.5016
          ],
          [
           "Reconstruction Error",
           "<b style=\"color:Colors.BLUE_SKY_CRAYOLA;line-height:60px\">Reference</b>",
           "",
           "[2400:2799]",
           "Chunk index: <b>6</b>",
           10.758299827575684,
           0.7515
          ],
          [
           "Reconstruction Error",
           "<b style=\"color:Colors.BLUE_SKY_CRAYOLA;line-height:60px\">Reference</b>",
           "",
           "[2800:3199]",
           "Chunk index: <b>7</b>",
           11.178299903869629,
           1.1815
          ],
          [
           "Reconstruction Error",
           "<b style=\"color:Colors.BLUE_SKY_CRAYOLA;line-height:60px\">Reference</b>",
           "",
           "[3200:3599]",
           "Chunk index: <b>8</b>",
           9.463700294494629,
           0.8369
          ],
          [
           "Reconstruction Error",
           "<b style=\"color:Colors.BLUE_SKY_CRAYOLA;line-height:60px\">Reference</b>",
           "",
           "[3600:3999]",
           "Chunk index: <b>9</b>",
           7.652200222015381,
           0.6351
          ],
          [
           "Reconstruction Error",
           "<b style=\"color:Colors.BLUE_SKY_CRAYOLA;line-height:60px\">Reference</b>",
           "",
           "[4000:4399]",
           "Chunk index: <b>10</b>",
           5.229499816894531,
           0.2459
          ],
          [
           "Reconstruction Error",
           "<b style=\"color:Colors.BLUE_SKY_CRAYOLA;line-height:60px\">Reference</b>",
           "",
           "[4400:4799]",
           "Chunk index: <b>11</b>",
           8.241700172424316,
           0.6843
          ],
          [
           "Reconstruction Error",
           "<b style=\"color:Colors.BLUE_SKY_CRAYOLA;line-height:60px\">Reference</b>",
           "",
           "[4800:5199]",
           "Chunk index: <b>12</b>",
           10.087699890136719,
           0.8112
          ],
          [
           "Reconstruction Error",
           "<b style=\"color:Colors.BLUE_SKY_CRAYOLA;line-height:60px\">Reference</b>",
           "",
           "[5200:5599]",
           "Chunk index: <b>13</b>",
           10.215100288391113,
           0.7751
          ],
          [
           "Reconstruction Error",
           "<b style=\"color:Colors.BLUE_SKY_CRAYOLA;line-height:60px\">Reference</b>",
           "",
           "[5600:5999]",
           "Chunk index: <b>14</b>",
           7.75439977645874,
           0.5777
          ],
          [
           "Reconstruction Error",
           "<b style=\"color:Colors.BLUE_SKY_CRAYOLA;line-height:60px\">Reference</b>",
           "",
           "[6000:6399]",
           "Chunk index: <b>15</b>",
           5.978799819946289,
           0.3427
          ],
          [
           "Reconstruction Error",
           "<b style=\"color:Colors.BLUE_SKY_CRAYOLA;line-height:60px\">Reference</b>",
           "",
           "[6400:6799]",
           "Chunk index: <b>16</b>",
           10.12660026550293,
           0.8253
          ],
          [
           "Reconstruction Error",
           "<b style=\"color:Colors.BLUE_SKY_CRAYOLA;line-height:60px\">Reference</b>",
           "",
           "[6800:7199]",
           "Chunk index: <b>17</b>",
           10.474300384521484,
           0.8113
          ],
          [
           "Reconstruction Error",
           "<b style=\"color:Colors.BLUE_SKY_CRAYOLA;line-height:60px\">Reference</b>",
           "",
           "[7200:7599]",
           "Chunk index: <b>18</b>",
           10.050000190734863,
           0.8654
          ],
          [
           "Reconstruction Error",
           "<b style=\"color:Colors.BLUE_SKY_CRAYOLA;line-height:60px\">Reference</b>",
           "",
           "[7600:7999]",
           "Chunk index: <b>19</b>",
           9.853599548339844,
           0.911
          ],
          [
           "Reconstruction Error",
           "<b style=\"color:Colors.BLUE_SKY_CRAYOLA;line-height:60px\">Reference</b>",
           "",
           "[8000:8399]",
           "Chunk index: <b>20</b>",
           5.377500057220459,
           0.2812
          ],
          [
           "Reconstruction Error",
           "<b style=\"color:Colors.BLUE_SKY_CRAYOLA;line-height:60px\">Reference</b>",
           "",
           "[8400:8799]",
           "Chunk index: <b>21</b>",
           9.639200210571289,
           0.8238
          ],
          [
           "Reconstruction Error",
           "<b style=\"color:Colors.BLUE_SKY_CRAYOLA;line-height:60px\">Reference</b>",
           "",
           "[8800:9199]",
           "Chunk index: <b>22</b>",
           9.851300239562988,
           0.7694
          ],
          [
           "Reconstruction Error",
           "<b style=\"color:Colors.BLUE_SKY_CRAYOLA;line-height:60px\">Reference</b>",
           "",
           "[9200:9599]",
           "Chunk index: <b>23</b>",
           8.932000160217285,
           0.8042
          ],
          [
           "Reconstruction Error",
           "<b style=\"color:Colors.BLUE_SKY_CRAYOLA;line-height:60px\">Reference</b>",
           "",
           "[9600:9999]",
           "Chunk index: <b>24</b>",
           7.990900039672852,
           0.7339
          ],
          [
           "Reconstruction Error",
           "<b style=\"color:Colors.BLUE_SKY_CRAYOLA;line-height:60px\">Reference</b>",
           "",
           "[10000:10399]",
           "Chunk index: <b>25</b>",
           5.958099842071533,
           0.3417
          ],
          [
           "Reconstruction Error",
           "<b style=\"color:Colors.BLUE_SKY_CRAYOLA;line-height:60px\">Reference</b>",
           "",
           "[10400:10799]",
           "Chunk index: <b>26</b>",
           9.992799758911133,
           0.8634
          ],
          [
           "Reconstruction Error",
           "<b style=\"color:Colors.BLUE_SKY_CRAYOLA;line-height:60px\">Reference</b>",
           "",
           "[10800:11199]",
           "Chunk index: <b>27</b>",
           9.141300201416016,
           0.7671
          ],
          [
           "Reconstruction Error",
           "<b style=\"color:Colors.BLUE_SKY_CRAYOLA;line-height:60px\">Reference</b>",
           "",
           "[11200:11599]",
           "Chunk index: <b>28</b>",
           8.487899780273438,
           0.8016
          ],
          [
           "Reconstruction Error",
           "<b style=\"color:Colors.BLUE_SKY_CRAYOLA;line-height:60px\">Reference</b>",
           "",
           "[11600:11999]",
           "Chunk index: <b>29</b>",
           8.694000244140625,
           0.6491
          ],
          [
           "Reconstruction Error",
           "<b style=\"color:Colors.BLUE_SKY_CRAYOLA;line-height:60px\">Reference</b>",
           "",
           "[12000:12399]",
           "Chunk index: <b>30</b>",
           6.07919979095459,
           0.3306
          ],
          [
           "Reconstruction Error",
           "<b style=\"color:Colors.BLUE_SKY_CRAYOLA;line-height:60px\">Reference</b>",
           "",
           "[12400:12799]",
           "Chunk index: <b>31</b>",
           9.560999870300293,
           0.7316
          ],
          [
           "Reconstruction Error",
           "<b style=\"color:Colors.BLUE_SKY_CRAYOLA;line-height:60px\">Reference</b>",
           "",
           "[12800:13199]",
           "Chunk index: <b>32</b>",
           10.393899917602539,
           0.8529
          ],
          [
           "Reconstruction Error",
           "<b style=\"color:Colors.BLUE_SKY_CRAYOLA;line-height:60px\">Reference</b>",
           "",
           "[13200:13599]",
           "Chunk index: <b>33</b>",
           8.371100425720215,
           0.6057
          ],
          [
           "Reconstruction Error",
           "<b style=\"color:Colors.BLUE_SKY_CRAYOLA;line-height:60px\">Reference</b>",
           "",
           "[13600:13999]",
           "Chunk index: <b>34</b>",
           9.182700157165527,
           0.7254
          ],
          [
           "Reconstruction Error",
           "<b style=\"color:Colors.BLUE_SKY_CRAYOLA;line-height:60px\">Reference</b>",
           "",
           "[14000:14399]",
           "Chunk index: <b>35</b>",
           6.025700092315674,
           0.2579
          ],
          [
           "Reconstruction Error",
           "<b style=\"color:Colors.BLUE_SKY_CRAYOLA;line-height:60px\">Reference</b>",
           "",
           "[14400:14799]",
           "Chunk index: <b>36</b>",
           10.979900360107422,
           0.8289
          ],
          [
           "Reconstruction Error",
           "<b style=\"color:Colors.BLUE_SKY_CRAYOLA;line-height:60px\">Reference</b>",
           "",
           "[14800:15199]",
           "Chunk index: <b>37</b>",
           12.184800148010254,
           0.8775
          ],
          [
           "Reconstruction Error",
           "<b style=\"color:Colors.BLUE_SKY_CRAYOLA;line-height:60px\">Reference</b>",
           "",
           "[15200:15599]",
           "Chunk index: <b>38</b>",
           9.677399635314941,
           0.786
          ],
          [
           "Reconstruction Error",
           "<b style=\"color:Colors.BLUE_SKY_CRAYOLA;line-height:60px\">Reference</b>",
           "",
           "[15600:15999]",
           "Chunk index: <b>39</b>",
           8.885499954223633,
           0.561
          ],
          [
           "Reconstruction Error",
           "<b style=\"color:Colors.BLUE_SKY_CRAYOLA;line-height:60px\">Reference</b>",
           "",
           "[16000:16399]",
           "Chunk index: <b>40</b>",
           7.932000160217285,
           0.4209
          ],
          [
           "Reconstruction Error",
           "<b style=\"color:Colors.BLUE_SKY_CRAYOLA;line-height:60px\">Reference</b>",
           "",
           "[16400:16799]",
           "Chunk index: <b>41</b>",
           9.927399635314941,
           0.7668
          ],
          [
           "Reconstruction Error",
           "<b style=\"color:Colors.BLUE_SKY_CRAYOLA;line-height:60px\">Reference</b>",
           "<span style=\"color:#AD0000\">⚠ <b>Drift detected</b></span>",
           "[16800:17199]",
           "Chunk index: <b>42</b>",
           16.32159996032715,
           1.0234
          ],
          [
           "Reconstruction Error",
           "<b style=\"color:Colors.BLUE_SKY_CRAYOLA;line-height:60px\">Reference</b>",
           "<span style=\"color:#AD0000\">⚠ <b>Drift detected</b></span>",
           "[17200:17599]",
           "Chunk index: <b>43</b>",
           17.471900939941406,
           0.6661
          ],
          [
           "Reconstruction Error",
           "<b style=\"color:Colors.BLUE_SKY_CRAYOLA;line-height:60px\">Reference</b>",
           "",
           "[17600:17999]",
           "Chunk index: <b>44</b>",
           8.781599998474121,
           0.7033
          ],
          [
           "Reconstruction Error",
           "<b style=\"color:Colors.BLUE_SKY_CRAYOLA;line-height:60px\">Reference</b>",
           "",
           "[18000:18399]",
           "Chunk index: <b>45</b>",
           7.078100204467773,
           0.3834
          ],
          [
           "Reconstruction Error",
           "<b style=\"color:Colors.BLUE_SKY_CRAYOLA;line-height:60px\">Reference</b>",
           "",
           "[18400:18799]",
           "Chunk index: <b>46</b>",
           8.69890022277832,
           0.8725
          ],
          [
           "Reconstruction Error",
           "<b style=\"color:Colors.BLUE_SKY_CRAYOLA;line-height:60px\">Reference</b>",
           "",
           "[18800:19199]",
           "Chunk index: <b>47</b>",
           12.690699577331543,
           1.1249
          ],
          [
           "Reconstruction Error",
           "<b style=\"color:Colors.BLUE_SKY_CRAYOLA;line-height:60px\">Reference</b>",
           "",
           "[19200:19599]",
           "Chunk index: <b>48</b>",
           11.409600257873535,
           0.9146
          ],
          [
           "Reconstruction Error",
           "<b style=\"color:Colors.BLUE_SKY_CRAYOLA;line-height:60px\">Reference</b>",
           "",
           "[19600:19999]",
           "Chunk index: <b>49</b>",
           8.482000350952148,
           0.7599
          ],
          [
           "Reconstruction Error",
           "<b style=\"color:Colors.BLUE_SKY_CRAYOLA;line-height:60px\">Reference</b>",
           "",
           "[20000:20399]",
           "Chunk index: <b>50</b>",
           8.214599609375,
           0.6117
          ],
          [
           "Reconstruction Error",
           "<b style=\"color:Colors.BLUE_SKY_CRAYOLA;line-height:60px\">Reference</b>",
           "",
           "[20400:20799]",
           "Chunk index: <b>51</b>",
           8.685500144958496,
           0.8005
          ],
          [
           "Reconstruction Error",
           "<b style=\"color:Colors.BLUE_SKY_CRAYOLA;line-height:60px\">Reference</b>",
           "",
           "[20800:21199]",
           "Chunk index: <b>52</b>",
           10.945899963378906,
           0.8225
          ],
          [
           "Reconstruction Error",
           "<b style=\"color:Colors.BLUE_SKY_CRAYOLA;line-height:60px\">Reference</b>",
           "",
           "[21200:21599]",
           "Chunk index: <b>53</b>",
           11.103899955749512,
           0.716
          ],
          [
           "Reconstruction Error",
           "<b style=\"color:Colors.BLUE_SKY_CRAYOLA;line-height:60px\">Reference</b>",
           "",
           "[21600:21999]",
           "Chunk index: <b>54</b>",
           8.594400405883789,
           0.811
          ],
          [
           "Reconstruction Error",
           "<b style=\"color:Colors.BLUE_SKY_CRAYOLA;line-height:60px\">Reference</b>",
           "",
           "[22000:22399]",
           "Chunk index: <b>55</b>",
           6.8907999992370605,
           0.3795
          ],
          [
           "Reconstruction Error",
           "<b style=\"color:Colors.BLUE_SKY_CRAYOLA;line-height:60px\">Reference</b>",
           "",
           "[22400:22799]",
           "Chunk index: <b>56</b>",
           8.614999771118164,
           0.8233
          ],
          [
           "Reconstruction Error",
           "<b style=\"color:Colors.BLUE_SKY_CRAYOLA;line-height:60px\">Reference</b>",
           "",
           "[22800:23199]",
           "Chunk index: <b>57</b>",
           10.631500244140625,
           1.039
          ],
          [
           "Reconstruction Error",
           "<b style=\"color:Colors.BLUE_SKY_CRAYOLA;line-height:60px\">Reference</b>",
           "",
           "[23200:23599]",
           "Chunk index: <b>58</b>",
           10.950300216674805,
           0.7961
          ],
          [
           "Reconstruction Error",
           "<b style=\"color:Colors.BLUE_SKY_CRAYOLA;line-height:60px\">Reference</b>",
           "",
           "[23600:23999]",
           "Chunk index: <b>59</b>",
           8.312700271606445,
           0.7596
          ],
          [
           "Reconstruction Error",
           "<b style=\"color:Colors.BLUE_SKY_CRAYOLA;line-height:60px\">Reference</b>",
           "",
           "[24000:24399]",
           "Chunk index: <b>60</b>",
           7.2133002281188965,
           0.463
          ],
          [
           "Reconstruction Error",
           "<b style=\"color:Colors.BLUE_SKY_CRAYOLA;line-height:60px\">Reference</b>",
           "",
           "[24400:24799]",
           "Chunk index: <b>61</b>",
           8.050299644470215,
           0.6276
          ],
          [
           "Reconstruction Error",
           "<b style=\"color:Colors.BLUE_SKY_CRAYOLA;line-height:60px\">Reference</b>",
           "",
           "[24800:25199]",
           "Chunk index: <b>62</b>",
           10.633399963378906,
           0.8712
          ],
          [
           "Reconstruction Error",
           "<b style=\"color:Colors.BLUE_SKY_CRAYOLA;line-height:60px\">Reference</b>",
           "",
           "[25200:25599]",
           "Chunk index: <b>63</b>",
           10.250200271606445,
           0.7532
          ],
          [
           "Reconstruction Error",
           "<b style=\"color:Colors.BLUE_SKY_CRAYOLA;line-height:60px\">Reference</b>",
           "",
           "[25600:25999]",
           "Chunk index: <b>64</b>",
           8.18120002746582,
           0.8231
          ],
          [
           "Reconstruction Error",
           "<b style=\"color:Colors.BLUE_SKY_CRAYOLA;line-height:60px\">Reference</b>",
           "",
           "[26000:26063]",
           "Chunk index: <b>65</b>",
           8.80150032043457,
           1.9508
          ]
         ],
         "hovertemplate": "%{customdata[1]} &nbsp; &nbsp; %{customdata[2]} <br />Chunk: <b>%{customdata[3]}</b> &nbsp; &nbsp; %{customdata[4]} <br />%{customdata[0]}: <b>%{customdata[5]}</b><br />Confidence band: +/- <b>%{customdata[6]}</b><br /><extra></extra>",
         "legendgroup": "metric_reference",
         "marker": {
          "color": "#00c8e5",
          "size": 5,
          "symbol": "circle"
         },
         "mode": "markers",
         "name": "Metric",
         "showlegend": false,
         "type": "scatter",
         "x": [
          0.5,
          1.5,
          2.5,
          3.5,
          4.5,
          5.5,
          6.5,
          7.5,
          8.5,
          9.5,
          10.5,
          11.5,
          12.5,
          13.5,
          14.5,
          15.5,
          16.5,
          17.5,
          18.5,
          19.5,
          20.5,
          21.5,
          22.5,
          23.5,
          24.5,
          25.5,
          26.5,
          27.5,
          28.5,
          29.5,
          30.5,
          31.5,
          32.5,
          33.5,
          34.5,
          35.5,
          36.5,
          37.5,
          38.5,
          39.5,
          40.5,
          41.5,
          42.5,
          43.5,
          44.5,
          45.5,
          46.5,
          47.5,
          48.5,
          49.5,
          50.5,
          51.5,
          52.5,
          53.5,
          54.5,
          55.5,
          56.5,
          57.5,
          58.5,
          59.5,
          60.5,
          61.5,
          62.5,
          63.5,
          64.5,
          65.5
         ],
         "y": [
          7.32151985168457,
          9.523040771484375,
          8.446710586547852,
          9.447402000427246,
          7.799157619476318,
          6.999124050140381,
          10.758337020874023,
          11.178308486938477,
          9.463735580444336,
          7.652219295501709,
          5.229544639587402,
          8.241657257080078,
          10.087721824645996,
          10.215066909790039,
          7.754353046417236,
          5.978819370269775,
          10.126591682434082,
          10.474276542663574,
          10.05000114440918,
          9.8535737991333,
          5.377501010894775,
          9.639183044433594,
          9.851309776306152,
          8.932034492492676,
          7.990940093994141,
          5.9580979347229,
          9.992798805236816,
          9.141319274902344,
          8.487903594970703,
          8.694047927856445,
          6.079212665557861,
          9.560977935791016,
          10.393858909606934,
          8.371113777160645,
          9.182668685913086,
          6.025701999664307,
          10.97994613647461,
          12.18481731414795,
          9.677422523498535,
          8.885520935058594,
          7.932041168212891,
          9.92744255065918,
          16.321619033813477,
          17.471878051757812,
          8.781625747680664,
          7.07809591293335,
          8.698942184448242,
          12.690664291381836,
          11.4096040725708,
          8.482010841369629,
          8.214621543884277,
          8.685510635375977,
          10.945905685424805,
          11.103930473327637,
          8.594354629516602,
          6.890792369842529,
          8.615023612976074,
          10.631535530090332,
          10.950265884399414,
          8.31265640258789,
          7.213261127471924,
          8.050271987915039,
          10.633432388305664,
          10.250151634216309,
          8.181205749511719,
          8.801475524902344,
          8.801475524902344
         ]
        },
        {
         "hoverinfo": "skip",
         "legendgroup": "metric_analysis",
         "line": {
          "color": "#00c8e5",
          "shape": "hv",
          "width": 2
         },
         "mode": "lines",
         "name": "Metric",
         "showlegend": false,
         "type": "scatter",
         "x": [
          66,
          67,
          68,
          69,
          70,
          71,
          72,
          73,
          74,
          75,
          76,
          77,
          78,
          79,
          80,
          81,
          82,
          83,
          84,
          85,
          86,
          87,
          88,
          89,
          90,
          91,
          92,
          93,
          94,
          95,
          96,
          97,
          98,
          99,
          100,
          101,
          102,
          103,
          104,
          105,
          106,
          107,
          108,
          109,
          110,
          111,
          112,
          113,
          114,
          115,
          116,
          117,
          118,
          119,
          120,
          121,
          122,
          123,
          124,
          125,
          126,
          127,
          128,
          129,
          130,
          131,
          132
         ],
         "y": [
          7.831425189971924,
          7.764648914337158,
          10.059427261352539,
          9.506119728088379,
          7.932254791259766,
          7.205318450927734,
          8.269848823547363,
          9.754612922668457,
          9.667162895202637,
          8.352985382080078,
          7.776443004608154,
          9.187496185302734,
          24.397294998168945,
          14.790611267089844,
          12.558923721313477,
          9.003966331481934,
          9.469841003417969,
          22.298677444458008,
          18.173561096191406,
          16.20864486694336,
          11.932193756103516,
          17.203231811523438,
          20.82437515258789,
          15.195442199707031,
          13.166345596313477,
          9.377747535705566,
          13.343725204467773,
          16.80091667175293,
          15.093308448791504,
          12.54205322265625,
          9.347860336303711,
          13.409984588623047,
          14.243963241577148,
          19.604774475097656,
          13.022172927856445,
          12.163444519042969,
          16.110218048095703,
          14.481620788574219,
          20.23409652709961,
          16.078298568725586,
          9.702282905578613,
          10.375048637390137,
          15.237287521362305,
          20.835630416870117,
          20.371685028076172,
          10.492775917053223,
          16.889907836914062,
          17.78491973876953,
          27.661550521850586,
          18.550121307373047,
          8.922855377197266,
          13.703317642211914,
          18.084531784057617,
          26.302112579345703,
          21.47119140625,
          13.285922050476074,
          13.097158432006836,
          20.339536666870117,
          21.1070499420166,
          15.726709365844727,
          9.779257774353027,
          13.522761344909668,
          15.309133529663086,
          17.59804916381836,
          14.9699125289917,
          8.300504684448242,
          8.300504684448242
         ]
        },
        {
         "customdata": [
          [
           "Reconstruction Error",
           "<b style=\"color:Colors.INDIGO_PERSIAN;line-height:60px\">Analysis</b>",
           "",
           "[0:399]",
           "Chunk index: <b>0</b>",
           7.831399917602539,
           0.5924
          ],
          [
           "Reconstruction Error",
           "<b style=\"color:Colors.INDIGO_PERSIAN;line-height:60px\">Analysis</b>",
           "",
           "[400:799]",
           "Chunk index: <b>1</b>",
           7.764599800109863,
           0.7019
          ],
          [
           "Reconstruction Error",
           "<b style=\"color:Colors.INDIGO_PERSIAN;line-height:60px\">Analysis</b>",
           "",
           "[800:1199]",
           "Chunk index: <b>2</b>",
           10.059399604797363,
           0.7372
          ],
          [
           "Reconstruction Error",
           "<b style=\"color:Colors.INDIGO_PERSIAN;line-height:60px\">Analysis</b>",
           "",
           "[1200:1599]",
           "Chunk index: <b>3</b>",
           9.506099700927734,
           0.7305
          ],
          [
           "Reconstruction Error",
           "<b style=\"color:Colors.INDIGO_PERSIAN;line-height:60px\">Analysis</b>",
           "",
           "[1600:1999]",
           "Chunk index: <b>4</b>",
           7.932300090789795,
           0.6093
          ],
          [
           "Reconstruction Error",
           "<b style=\"color:Colors.INDIGO_PERSIAN;line-height:60px\">Analysis</b>",
           "",
           "[2000:2399]",
           "Chunk index: <b>5</b>",
           7.2052998542785645,
           0.3586
          ],
          [
           "Reconstruction Error",
           "<b style=\"color:Colors.INDIGO_PERSIAN;line-height:60px\">Analysis</b>",
           "",
           "[2400:2799]",
           "Chunk index: <b>6</b>",
           8.269800186157227,
           0.5716
          ],
          [
           "Reconstruction Error",
           "<b style=\"color:Colors.INDIGO_PERSIAN;line-height:60px\">Analysis</b>",
           "",
           "[2800:3199]",
           "Chunk index: <b>7</b>",
           9.754599571228027,
           0.7406
          ],
          [
           "Reconstruction Error",
           "<b style=\"color:Colors.INDIGO_PERSIAN;line-height:60px\">Analysis</b>",
           "",
           "[3200:3599]",
           "Chunk index: <b>8</b>",
           9.667200088500977,
           0.7489
          ],
          [
           "Reconstruction Error",
           "<b style=\"color:Colors.INDIGO_PERSIAN;line-height:60px\">Analysis</b>",
           "",
           "[3600:3999]",
           "Chunk index: <b>9</b>",
           8.352999687194824,
           0.6351
          ],
          [
           "Reconstruction Error",
           "<b style=\"color:Colors.INDIGO_PERSIAN;line-height:60px\">Analysis</b>",
           "",
           "[4000:4399]",
           "Chunk index: <b>10</b>",
           7.776400089263916,
           0.475
          ],
          [
           "Reconstruction Error",
           "<b style=\"color:Colors.INDIGO_PERSIAN;line-height:60px\">Analysis</b>",
           "",
           "[4400:4799]",
           "Chunk index: <b>11</b>",
           9.1875,
           0.8664
          ],
          [
           "Reconstruction Error",
           "<b style=\"color:Colors.INDIGO_PERSIAN;line-height:60px\">Analysis</b>",
           "<span style=\"color:#AD0000\">⚠ <b>Drift detected</b></span>",
           "[4800:5199]",
           "Chunk index: <b>12</b>",
           24.397300720214844,
           3.7044
          ],
          [
           "Reconstruction Error",
           "<b style=\"color:Colors.INDIGO_PERSIAN;line-height:60px\">Analysis</b>",
           "",
           "[5200:5599]",
           "Chunk index: <b>13</b>",
           14.790599822998047,
           2.2205
          ],
          [
           "Reconstruction Error",
           "<b style=\"color:Colors.INDIGO_PERSIAN;line-height:60px\">Analysis</b>",
           "",
           "[5600:5999]",
           "Chunk index: <b>14</b>",
           12.558899879455566,
           1.686
          ],
          [
           "Reconstruction Error",
           "<b style=\"color:Colors.INDIGO_PERSIAN;line-height:60px\">Analysis</b>",
           "",
           "[6000:6399]",
           "Chunk index: <b>15</b>",
           9.003999710083008,
           0.613
          ],
          [
           "Reconstruction Error",
           "<b style=\"color:Colors.INDIGO_PERSIAN;line-height:60px\">Analysis</b>",
           "",
           "[6400:6799]",
           "Chunk index: <b>16</b>",
           9.469799995422363,
           0.7196
          ],
          [
           "Reconstruction Error",
           "<b style=\"color:Colors.INDIGO_PERSIAN;line-height:60px\">Analysis</b>",
           "<span style=\"color:#AD0000\">⚠ <b>Drift detected</b></span>",
           "[6800:7199]",
           "Chunk index: <b>17</b>",
           22.2987003326416,
           3.4374
          ],
          [
           "Reconstruction Error",
           "<b style=\"color:Colors.INDIGO_PERSIAN;line-height:60px\">Analysis</b>",
           "<span style=\"color:#AD0000\">⚠ <b>Drift detected</b></span>",
           "[7200:7599]",
           "Chunk index: <b>18</b>",
           18.173599243164062,
           2.8685
          ],
          [
           "Reconstruction Error",
           "<b style=\"color:Colors.INDIGO_PERSIAN;line-height:60px\">Analysis</b>",
           "<span style=\"color:#AD0000\">⚠ <b>Drift detected</b></span>",
           "[7600:7999]",
           "Chunk index: <b>19</b>",
           16.208599090576172,
           2.894
          ],
          [
           "Reconstruction Error",
           "<b style=\"color:Colors.INDIGO_PERSIAN;line-height:60px\">Analysis</b>",
           "",
           "[8000:8399]",
           "Chunk index: <b>20</b>",
           11.93220043182373,
           1.269
          ],
          [
           "Reconstruction Error",
           "<b style=\"color:Colors.INDIGO_PERSIAN;line-height:60px\">Analysis</b>",
           "<span style=\"color:#AD0000\">⚠ <b>Drift detected</b></span>",
           "[8400:8799]",
           "Chunk index: <b>21</b>",
           17.20319938659668,
           2.5676
          ],
          [
           "Reconstruction Error",
           "<b style=\"color:Colors.INDIGO_PERSIAN;line-height:60px\">Analysis</b>",
           "<span style=\"color:#AD0000\">⚠ <b>Drift detected</b></span>",
           "[8800:9199]",
           "Chunk index: <b>22</b>",
           20.824399948120117,
           2.9893
          ],
          [
           "Reconstruction Error",
           "<b style=\"color:Colors.INDIGO_PERSIAN;line-height:60px\">Analysis</b>",
           "",
           "[9200:9599]",
           "Chunk index: <b>23</b>",
           15.19540023803711,
           1.529
          ],
          [
           "Reconstruction Error",
           "<b style=\"color:Colors.INDIGO_PERSIAN;line-height:60px\">Analysis</b>",
           "",
           "[9600:9999]",
           "Chunk index: <b>24</b>",
           13.166299819946289,
           1.4761
          ],
          [
           "Reconstruction Error",
           "<b style=\"color:Colors.INDIGO_PERSIAN;line-height:60px\">Analysis</b>",
           "",
           "[10000:10399]",
           "Chunk index: <b>25</b>",
           9.377699851989746,
           0.6453
          ],
          [
           "Reconstruction Error",
           "<b style=\"color:Colors.INDIGO_PERSIAN;line-height:60px\">Analysis</b>",
           "",
           "[10400:10799]",
           "Chunk index: <b>26</b>",
           13.343700408935547,
           1.5756
          ],
          [
           "Reconstruction Error",
           "<b style=\"color:Colors.INDIGO_PERSIAN;line-height:60px\">Analysis</b>",
           "<span style=\"color:#AD0000\">⚠ <b>Drift detected</b></span>",
           "[10800:11199]",
           "Chunk index: <b>27</b>",
           16.800899505615234,
           2.3329
          ],
          [
           "Reconstruction Error",
           "<b style=\"color:Colors.INDIGO_PERSIAN;line-height:60px\">Analysis</b>",
           "",
           "[11200:11599]",
           "Chunk index: <b>28</b>",
           15.093299865722656,
           1.5251
          ],
          [
           "Reconstruction Error",
           "<b style=\"color:Colors.INDIGO_PERSIAN;line-height:60px\">Analysis</b>",
           "",
           "[11600:11999]",
           "Chunk index: <b>29</b>",
           12.542099952697754,
           1.3591
          ],
          [
           "Reconstruction Error",
           "<b style=\"color:Colors.INDIGO_PERSIAN;line-height:60px\">Analysis</b>",
           "",
           "[12000:12399]",
           "Chunk index: <b>30</b>",
           9.347900390625,
           0.5186
          ],
          [
           "Reconstruction Error",
           "<b style=\"color:Colors.INDIGO_PERSIAN;line-height:60px\">Analysis</b>",
           "",
           "[12400:12799]",
           "Chunk index: <b>31</b>",
           13.40999984741211,
           1.6118
          ],
          [
           "Reconstruction Error",
           "<b style=\"color:Colors.INDIGO_PERSIAN;line-height:60px\">Analysis</b>",
           "",
           "[12800:13199]",
           "Chunk index: <b>32</b>",
           14.244000434875488,
           2
          ],
          [
           "Reconstruction Error",
           "<b style=\"color:Colors.INDIGO_PERSIAN;line-height:60px\">Analysis</b>",
           "<span style=\"color:#AD0000\">⚠ <b>Drift detected</b></span>",
           "[13200:13599]",
           "Chunk index: <b>33</b>",
           19.604799270629883,
           2.8075
          ],
          [
           "Reconstruction Error",
           "<b style=\"color:Colors.INDIGO_PERSIAN;line-height:60px\">Analysis</b>",
           "",
           "[13600:13999]",
           "Chunk index: <b>34</b>",
           13.022199630737305,
           1.1398
          ],
          [
           "Reconstruction Error",
           "<b style=\"color:Colors.INDIGO_PERSIAN;line-height:60px\">Analysis</b>",
           "",
           "[14000:14399]",
           "Chunk index: <b>35</b>",
           12.163399696350098,
           1.1668
          ],
          [
           "Reconstruction Error",
           "<b style=\"color:Colors.INDIGO_PERSIAN;line-height:60px\">Analysis</b>",
           "<span style=\"color:#AD0000\">⚠ <b>Drift detected</b></span>",
           "[14400:14799]",
           "Chunk index: <b>36</b>",
           16.110200881958008,
           1.7193
          ],
          [
           "Reconstruction Error",
           "<b style=\"color:Colors.INDIGO_PERSIAN;line-height:60px\">Analysis</b>",
           "",
           "[14800:15199]",
           "Chunk index: <b>37</b>",
           14.481599807739258,
           1.9076
          ],
          [
           "Reconstruction Error",
           "<b style=\"color:Colors.INDIGO_PERSIAN;line-height:60px\">Analysis</b>",
           "<span style=\"color:#AD0000\">⚠ <b>Drift detected</b></span>",
           "[15200:15599]",
           "Chunk index: <b>38</b>",
           20.234100341796875,
           2.5442
          ],
          [
           "Reconstruction Error",
           "<b style=\"color:Colors.INDIGO_PERSIAN;line-height:60px\">Analysis</b>",
           "<span style=\"color:#AD0000\">⚠ <b>Drift detected</b></span>",
           "[15600:15999]",
           "Chunk index: <b>39</b>",
           16.07830047607422,
           1.5033
          ],
          [
           "Reconstruction Error",
           "<b style=\"color:Colors.INDIGO_PERSIAN;line-height:60px\">Analysis</b>",
           "",
           "[16000:16399]",
           "Chunk index: <b>40</b>",
           9.702300071716309,
           0.7224
          ],
          [
           "Reconstruction Error",
           "<b style=\"color:Colors.INDIGO_PERSIAN;line-height:60px\">Analysis</b>",
           "",
           "[16400:16799]",
           "Chunk index: <b>41</b>",
           10.375,
           0.7972
          ],
          [
           "Reconstruction Error",
           "<b style=\"color:Colors.INDIGO_PERSIAN;line-height:60px\">Analysis</b>",
           "",
           "[16800:17199]",
           "Chunk index: <b>42</b>",
           15.237299919128418,
           2.5855
          ],
          [
           "Reconstruction Error",
           "<b style=\"color:Colors.INDIGO_PERSIAN;line-height:60px\">Analysis</b>",
           "<span style=\"color:#AD0000\">⚠ <b>Drift detected</b></span>",
           "[17200:17599]",
           "Chunk index: <b>43</b>",
           20.835599899291992,
           2.9544
          ],
          [
           "Reconstruction Error",
           "<b style=\"color:Colors.INDIGO_PERSIAN;line-height:60px\">Analysis</b>",
           "<span style=\"color:#AD0000\">⚠ <b>Drift detected</b></span>",
           "[17600:17999]",
           "Chunk index: <b>44</b>",
           20.371700286865234,
           2.3964
          ],
          [
           "Reconstruction Error",
           "<b style=\"color:Colors.INDIGO_PERSIAN;line-height:60px\">Analysis</b>",
           "",
           "[18000:18399]",
           "Chunk index: <b>45</b>",
           10.492799758911133,
           1.4159
          ],
          [
           "Reconstruction Error",
           "<b style=\"color:Colors.INDIGO_PERSIAN;line-height:60px\">Analysis</b>",
           "<span style=\"color:#AD0000\">⚠ <b>Drift detected</b></span>",
           "[18400:18799]",
           "Chunk index: <b>46</b>",
           16.88990020751953,
           2.1207
          ],
          [
           "Reconstruction Error",
           "<b style=\"color:Colors.INDIGO_PERSIAN;line-height:60px\">Analysis</b>",
           "<span style=\"color:#AD0000\">⚠ <b>Drift detected</b></span>",
           "[18800:19199]",
           "Chunk index: <b>47</b>",
           17.784900665283203,
           2.7924
          ],
          [
           "Reconstruction Error",
           "<b style=\"color:Colors.INDIGO_PERSIAN;line-height:60px\">Analysis</b>",
           "<span style=\"color:#AD0000\">⚠ <b>Drift detected</b></span>",
           "[19200:19599]",
           "Chunk index: <b>48</b>",
           27.66160011291504,
           3.2926
          ],
          [
           "Reconstruction Error",
           "<b style=\"color:Colors.INDIGO_PERSIAN;line-height:60px\">Analysis</b>",
           "<span style=\"color:#AD0000\">⚠ <b>Drift detected</b></span>",
           "[19600:19999]",
           "Chunk index: <b>49</b>",
           18.550100326538086,
           1.5619
          ],
          [
           "Reconstruction Error",
           "<b style=\"color:Colors.INDIGO_PERSIAN;line-height:60px\">Analysis</b>",
           "",
           "[20000:20399]",
           "Chunk index: <b>50</b>",
           8.922900199890137,
           0.663
          ],
          [
           "Reconstruction Error",
           "<b style=\"color:Colors.INDIGO_PERSIAN;line-height:60px\">Analysis</b>",
           "",
           "[20400:20799]",
           "Chunk index: <b>51</b>",
           13.703300476074219,
           1.3366
          ],
          [
           "Reconstruction Error",
           "<b style=\"color:Colors.INDIGO_PERSIAN;line-height:60px\">Analysis</b>",
           "<span style=\"color:#AD0000\">⚠ <b>Drift detected</b></span>",
           "[20800:21199]",
           "Chunk index: <b>52</b>",
           18.08449935913086,
           2.8702
          ],
          [
           "Reconstruction Error",
           "<b style=\"color:Colors.INDIGO_PERSIAN;line-height:60px\">Analysis</b>",
           "<span style=\"color:#AD0000\">⚠ <b>Drift detected</b></span>",
           "[21200:21599]",
           "Chunk index: <b>53</b>",
           26.302099227905273,
           3.3839
          ],
          [
           "Reconstruction Error",
           "<b style=\"color:Colors.INDIGO_PERSIAN;line-height:60px\">Analysis</b>",
           "<span style=\"color:#AD0000\">⚠ <b>Drift detected</b></span>",
           "[21600:21999]",
           "Chunk index: <b>54</b>",
           21.471200942993164,
           1.9012
          ],
          [
           "Reconstruction Error",
           "<b style=\"color:Colors.INDIGO_PERSIAN;line-height:60px\">Analysis</b>",
           "",
           "[22000:22399]",
           "Chunk index: <b>55</b>",
           13.285900115966797,
           1.5004
          ],
          [
           "Reconstruction Error",
           "<b style=\"color:Colors.INDIGO_PERSIAN;line-height:60px\">Analysis</b>",
           "",
           "[22400:22799]",
           "Chunk index: <b>56</b>",
           13.097200393676758,
           0.9508
          ],
          [
           "Reconstruction Error",
           "<b style=\"color:Colors.INDIGO_PERSIAN;line-height:60px\">Analysis</b>",
           "<span style=\"color:#AD0000\">⚠ <b>Drift detected</b></span>",
           "[22800:23199]",
           "Chunk index: <b>57</b>",
           20.339500427246094,
           2.876
          ],
          [
           "Reconstruction Error",
           "<b style=\"color:Colors.INDIGO_PERSIAN;line-height:60px\">Analysis</b>",
           "<span style=\"color:#AD0000\">⚠ <b>Drift detected</b></span>",
           "[23200:23599]",
           "Chunk index: <b>58</b>",
           21.10700035095215,
           2.7627
          ],
          [
           "Reconstruction Error",
           "<b style=\"color:Colors.INDIGO_PERSIAN;line-height:60px\">Analysis</b>",
           "<span style=\"color:#AD0000\">⚠ <b>Drift detected</b></span>",
           "[23600:23999]",
           "Chunk index: <b>59</b>",
           15.726699829101562,
           1.0404
          ],
          [
           "Reconstruction Error",
           "<b style=\"color:Colors.INDIGO_PERSIAN;line-height:60px\">Analysis</b>",
           "",
           "[24000:24399]",
           "Chunk index: <b>60</b>",
           9.77929973602295,
           0.805
          ],
          [
           "Reconstruction Error",
           "<b style=\"color:Colors.INDIGO_PERSIAN;line-height:60px\">Analysis</b>",
           "",
           "[24400:24799]",
           "Chunk index: <b>61</b>",
           13.52280044555664,
           0.8409
          ],
          [
           "Reconstruction Error",
           "<b style=\"color:Colors.INDIGO_PERSIAN;line-height:60px\">Analysis</b>",
           "",
           "[24800:25199]",
           "Chunk index: <b>62</b>",
           15.309100151062012,
           1.5932
          ],
          [
           "Reconstruction Error",
           "<b style=\"color:Colors.INDIGO_PERSIAN;line-height:60px\">Analysis</b>",
           "<span style=\"color:#AD0000\">⚠ <b>Drift detected</b></span>",
           "[25200:25599]",
           "Chunk index: <b>63</b>",
           17.597999572753906,
           1.9719
          ],
          [
           "Reconstruction Error",
           "<b style=\"color:Colors.INDIGO_PERSIAN;line-height:60px\">Analysis</b>",
           "",
           "[25600:25999]",
           "Chunk index: <b>64</b>",
           14.969900131225586,
           1.1669
          ],
          [
           "Reconstruction Error",
           "<b style=\"color:Colors.INDIGO_PERSIAN;line-height:60px\">Analysis</b>",
           "",
           "[26000:26063]",
           "Chunk index: <b>65</b>",
           8.30049991607666,
           0.6678
          ]
         ],
         "hovertemplate": "%{customdata[1]} &nbsp; &nbsp; %{customdata[2]} <br />Chunk: <b>%{customdata[3]}</b> &nbsp; &nbsp; %{customdata[4]} <br />%{customdata[0]}: <b>%{customdata[5]}</b><br />Confidence band: +/- <b>%{customdata[6]}</b><br /><extra></extra>",
         "legendgroup": "metric_analysis",
         "marker": {
          "color": "#00c8e5",
          "size": 5,
          "symbol": "circle"
         },
         "mode": "markers",
         "name": "Metric",
         "showlegend": false,
         "type": "scatter",
         "x": [
          66.5,
          67.5,
          68.5,
          69.5,
          70.5,
          71.5,
          72.5,
          73.5,
          74.5,
          75.5,
          76.5,
          77.5,
          78.5,
          79.5,
          80.5,
          81.5,
          82.5,
          83.5,
          84.5,
          85.5,
          86.5,
          87.5,
          88.5,
          89.5,
          90.5,
          91.5,
          92.5,
          93.5,
          94.5,
          95.5,
          96.5,
          97.5,
          98.5,
          99.5,
          100.5,
          101.5,
          102.5,
          103.5,
          104.5,
          105.5,
          106.5,
          107.5,
          108.5,
          109.5,
          110.5,
          111.5,
          112.5,
          113.5,
          114.5,
          115.5,
          116.5,
          117.5,
          118.5,
          119.5,
          120.5,
          121.5,
          122.5,
          123.5,
          124.5,
          125.5,
          126.5,
          127.5,
          128.5,
          129.5,
          130.5,
          131.5
         ],
         "y": [
          7.831425189971924,
          7.764648914337158,
          10.059427261352539,
          9.506119728088379,
          7.932254791259766,
          7.205318450927734,
          8.269848823547363,
          9.754612922668457,
          9.667162895202637,
          8.352985382080078,
          7.776443004608154,
          9.187496185302734,
          24.397294998168945,
          14.790611267089844,
          12.558923721313477,
          9.003966331481934,
          9.469841003417969,
          22.298677444458008,
          18.173561096191406,
          16.20864486694336,
          11.932193756103516,
          17.203231811523438,
          20.82437515258789,
          15.195442199707031,
          13.166345596313477,
          9.377747535705566,
          13.343725204467773,
          16.80091667175293,
          15.093308448791504,
          12.54205322265625,
          9.347860336303711,
          13.409984588623047,
          14.243963241577148,
          19.604774475097656,
          13.022172927856445,
          12.163444519042969,
          16.110218048095703,
          14.481620788574219,
          20.23409652709961,
          16.078298568725586,
          9.702282905578613,
          10.375048637390137,
          15.237287521362305,
          20.835630416870117,
          20.371685028076172,
          10.492775917053223,
          16.889907836914062,
          17.78491973876953,
          27.661550521850586,
          18.550121307373047,
          8.922855377197266,
          13.703317642211914,
          18.084531784057617,
          26.302112579345703,
          21.47119140625,
          13.285922050476074,
          13.097158432006836,
          20.339536666870117,
          21.1070499420166,
          15.726709365844727,
          9.779257774353027,
          13.522761344909668,
          15.309133529663086,
          17.59804916381836,
          14.9699125289917,
          8.300504684448242,
          8.300504684448242
         ]
        },
        {
         "hoverinfo": "skip",
         "legendgroup": "alert",
         "marker": {
          "color": "#DD4040",
          "size": 8,
          "symbol": "diamond"
         },
         "mode": "markers",
         "name": "Alert",
         "showlegend": true,
         "type": "scatter",
         "x": [
          78.5,
          83.5,
          84.5,
          85.5,
          87.5,
          88.5,
          93.5,
          99.5,
          102.5,
          104.5,
          105.5,
          109.5,
          110.5,
          112.5,
          113.5,
          114.5,
          115.5,
          118.5,
          119.5,
          120.5,
          123.5,
          124.5,
          125.5,
          129.5
         ],
         "y": [
          24.397294998168945,
          22.298677444458008,
          18.173561096191406,
          16.20864486694336,
          17.203231811523438,
          20.82437515258789,
          16.80091667175293,
          19.604774475097656,
          16.110218048095703,
          20.23409652709961,
          16.078298568725586,
          20.835630416870117,
          20.371685028076172,
          16.889907836914062,
          17.78491973876953,
          27.661550521850586,
          18.550121307373047,
          18.084531784057617,
          26.302112579345703,
          21.47119140625,
          20.339536666870117,
          21.1070499420166,
          15.726709365844727,
          17.59804916381836
         ]
        },
        {
         "hoverinfo": "skip",
         "legendgroup": "thresh",
         "line": {
          "color": "#DD4040",
          "dash": "dash",
          "width": 2
         },
         "mode": "lines",
         "name": "Threshold",
         "showlegend": false,
         "type": "scatter",
         "x": [
          0,
          1,
          2,
          3,
          4,
          5,
          6,
          7,
          8,
          9,
          10,
          11,
          12,
          13,
          14,
          15,
          16,
          17,
          18,
          19,
          20,
          21,
          22,
          23,
          24,
          25,
          26,
          27,
          28,
          29,
          30,
          31,
          32,
          33,
          34,
          35,
          36,
          37,
          38,
          39,
          40,
          41,
          42,
          43,
          44,
          45,
          46,
          47,
          48,
          49,
          50,
          51,
          52,
          53,
          54,
          55,
          56,
          57,
          58,
          59,
          60,
          61,
          62,
          63,
          64,
          65,
          66
         ],
         "y": [
          15.492986679077148,
          15.492986679077148,
          15.492986679077148,
          15.492986679077148,
          15.492986679077148,
          15.492986679077148,
          15.492986679077148,
          15.492986679077148,
          15.492986679077148,
          15.492986679077148,
          15.492986679077148,
          15.492986679077148,
          15.492986679077148,
          15.492986679077148,
          15.492986679077148,
          15.492986679077148,
          15.492986679077148,
          15.492986679077148,
          15.492986679077148,
          15.492986679077148,
          15.492986679077148,
          15.492986679077148,
          15.492986679077148,
          15.492986679077148,
          15.492986679077148,
          15.492986679077148,
          15.492986679077148,
          15.492986679077148,
          15.492986679077148,
          15.492986679077148,
          15.492986679077148,
          15.492986679077148,
          15.492986679077148,
          15.492986679077148,
          15.492986679077148,
          15.492986679077148,
          15.492986679077148,
          15.492986679077148,
          15.492986679077148,
          15.492986679077148,
          15.492986679077148,
          15.492986679077148,
          15.492986679077148,
          15.492986679077148,
          15.492986679077148,
          15.492986679077148,
          15.492986679077148,
          15.492986679077148,
          15.492986679077148,
          15.492986679077148,
          15.492986679077148,
          15.492986679077148,
          15.492986679077148,
          15.492986679077148,
          15.492986679077148,
          15.492986679077148,
          15.492986679077148,
          15.492986679077148,
          15.492986679077148,
          15.492986679077148,
          15.492986679077148,
          15.492986679077148,
          15.492986679077148,
          15.492986679077148,
          15.492986679077148,
          15.492986679077148,
          15.492986679077148
         ]
        },
        {
         "hoverinfo": "skip",
         "legendgroup": "thresh",
         "line": {
          "color": "#DD4040",
          "dash": "dash",
          "width": 2
         },
         "mode": "lines",
         "name": "Threshold",
         "showlegend": false,
         "type": "scatter",
         "x": [
          0,
          1,
          2,
          3,
          4,
          5,
          6,
          7,
          8,
          9,
          10,
          11,
          12,
          13,
          14,
          15,
          16,
          17,
          18,
          19,
          20,
          21,
          22,
          23,
          24,
          25,
          26,
          27,
          28,
          29,
          30,
          31,
          32,
          33,
          34,
          35,
          36,
          37,
          38,
          39,
          40,
          41,
          42,
          43,
          44,
          45,
          46,
          47,
          48,
          49,
          50,
          51,
          52,
          53,
          54,
          55,
          56,
          57,
          58,
          59,
          60,
          61,
          62,
          63,
          64,
          65,
          66
         ],
         "y": [
          2.8971900939941406,
          2.8971900939941406,
          2.8971900939941406,
          2.8971900939941406,
          2.8971900939941406,
          2.8971900939941406,
          2.8971900939941406,
          2.8971900939941406,
          2.8971900939941406,
          2.8971900939941406,
          2.8971900939941406,
          2.8971900939941406,
          2.8971900939941406,
          2.8971900939941406,
          2.8971900939941406,
          2.8971900939941406,
          2.8971900939941406,
          2.8971900939941406,
          2.8971900939941406,
          2.8971900939941406,
          2.8971900939941406,
          2.8971900939941406,
          2.8971900939941406,
          2.8971900939941406,
          2.8971900939941406,
          2.8971900939941406,
          2.8971900939941406,
          2.8971900939941406,
          2.8971900939941406,
          2.8971900939941406,
          2.8971900939941406,
          2.8971900939941406,
          2.8971900939941406,
          2.8971900939941406,
          2.8971900939941406,
          2.8971900939941406,
          2.8971900939941406,
          2.8971900939941406,
          2.8971900939941406,
          2.8971900939941406,
          2.8971900939941406,
          2.8971900939941406,
          2.8971900939941406,
          2.8971900939941406,
          2.8971900939941406,
          2.8971900939941406,
          2.8971900939941406,
          2.8971900939941406,
          2.8971900939941406,
          2.8971900939941406,
          2.8971900939941406,
          2.8971900939941406,
          2.8971900939941406,
          2.8971900939941406,
          2.8971900939941406,
          2.8971900939941406,
          2.8971900939941406,
          2.8971900939941406,
          2.8971900939941406,
          2.8971900939941406,
          2.8971900939941406,
          2.8971900939941406,
          2.8971900939941406,
          2.8971900939941406,
          2.8971900939941406,
          2.8971900939941406,
          2.8971900939941406
         ]
        },
        {
         "hoverinfo": "skip",
         "legendgroup": "thresh",
         "line": {
          "color": "#DD4040",
          "dash": "dash",
          "width": 2
         },
         "mode": "lines",
         "name": "Threshold",
         "showlegend": false,
         "type": "scatter",
         "x": [
          66,
          67,
          68,
          69,
          70,
          71,
          72,
          73,
          74,
          75,
          76,
          77,
          78,
          79,
          80,
          81,
          82,
          83,
          84,
          85,
          86,
          87,
          88,
          89,
          90,
          91,
          92,
          93,
          94,
          95,
          96,
          97,
          98,
          99,
          100,
          101,
          102,
          103,
          104,
          105,
          106,
          107,
          108,
          109,
          110,
          111,
          112,
          113,
          114,
          115,
          116,
          117,
          118,
          119,
          120,
          121,
          122,
          123,
          124,
          125,
          126,
          127,
          128,
          129,
          130,
          131,
          132
         ],
         "y": [
          15.492986679077148,
          15.492986679077148,
          15.492986679077148,
          15.492986679077148,
          15.492986679077148,
          15.492986679077148,
          15.492986679077148,
          15.492986679077148,
          15.492986679077148,
          15.492986679077148,
          15.492986679077148,
          15.492986679077148,
          15.492986679077148,
          15.492986679077148,
          15.492986679077148,
          15.492986679077148,
          15.492986679077148,
          15.492986679077148,
          15.492986679077148,
          15.492986679077148,
          15.492986679077148,
          15.492986679077148,
          15.492986679077148,
          15.492986679077148,
          15.492986679077148,
          15.492986679077148,
          15.492986679077148,
          15.492986679077148,
          15.492986679077148,
          15.492986679077148,
          15.492986679077148,
          15.492986679077148,
          15.492986679077148,
          15.492986679077148,
          15.492986679077148,
          15.492986679077148,
          15.492986679077148,
          15.492986679077148,
          15.492986679077148,
          15.492986679077148,
          15.492986679077148,
          15.492986679077148,
          15.492986679077148,
          15.492986679077148,
          15.492986679077148,
          15.492986679077148,
          15.492986679077148,
          15.492986679077148,
          15.492986679077148,
          15.492986679077148,
          15.492986679077148,
          15.492986679077148,
          15.492986679077148,
          15.492986679077148,
          15.492986679077148,
          15.492986679077148,
          15.492986679077148,
          15.492986679077148,
          15.492986679077148,
          15.492986679077148,
          15.492986679077148,
          15.492986679077148,
          15.492986679077148,
          15.492986679077148,
          15.492986679077148,
          15.492986679077148,
          15.492986679077148
         ]
        },
        {
         "hoverinfo": "skip",
         "legendgroup": "thresh",
         "line": {
          "color": "#DD4040",
          "dash": "dash",
          "width": 2
         },
         "mode": "lines",
         "name": "Threshold",
         "showlegend": false,
         "type": "scatter",
         "x": [
          66,
          67,
          68,
          69,
          70,
          71,
          72,
          73,
          74,
          75,
          76,
          77,
          78,
          79,
          80,
          81,
          82,
          83,
          84,
          85,
          86,
          87,
          88,
          89,
          90,
          91,
          92,
          93,
          94,
          95,
          96,
          97,
          98,
          99,
          100,
          101,
          102,
          103,
          104,
          105,
          106,
          107,
          108,
          109,
          110,
          111,
          112,
          113,
          114,
          115,
          116,
          117,
          118,
          119,
          120,
          121,
          122,
          123,
          124,
          125,
          126,
          127,
          128,
          129,
          130,
          131,
          132
         ],
         "y": [
          2.8971900939941406,
          2.8971900939941406,
          2.8971900939941406,
          2.8971900939941406,
          2.8971900939941406,
          2.8971900939941406,
          2.8971900939941406,
          2.8971900939941406,
          2.8971900939941406,
          2.8971900939941406,
          2.8971900939941406,
          2.8971900939941406,
          2.8971900939941406,
          2.8971900939941406,
          2.8971900939941406,
          2.8971900939941406,
          2.8971900939941406,
          2.8971900939941406,
          2.8971900939941406,
          2.8971900939941406,
          2.8971900939941406,
          2.8971900939941406,
          2.8971900939941406,
          2.8971900939941406,
          2.8971900939941406,
          2.8971900939941406,
          2.8971900939941406,
          2.8971900939941406,
          2.8971900939941406,
          2.8971900939941406,
          2.8971900939941406,
          2.8971900939941406,
          2.8971900939941406,
          2.8971900939941406,
          2.8971900939941406,
          2.8971900939941406,
          2.8971900939941406,
          2.8971900939941406,
          2.8971900939941406,
          2.8971900939941406,
          2.8971900939941406,
          2.8971900939941406,
          2.8971900939941406,
          2.8971900939941406,
          2.8971900939941406,
          2.8971900939941406,
          2.8971900939941406,
          2.8971900939941406,
          2.8971900939941406,
          2.8971900939941406,
          2.8971900939941406,
          2.8971900939941406,
          2.8971900939941406,
          2.8971900939941406,
          2.8971900939941406,
          2.8971900939941406,
          2.8971900939941406,
          2.8971900939941406,
          2.8971900939941406,
          2.8971900939941406,
          2.8971900939941406,
          2.8971900939941406,
          2.8971900939941406,
          2.8971900939941406,
          2.8971900939941406,
          2.8971900939941406,
          2.8971900939941406
         ]
        },
        {
         "connectgaps": true,
         "hoverinfo": "skip",
         "line": {
          "color": "rgba(0,0,0,0)",
          "shape": "hv"
         },
         "mode": "lines",
         "name": "Confidence band",
         "showlegend": false,
         "type": "scatter",
         "x": [
          0,
          1,
          2,
          3,
          4,
          5,
          6,
          7,
          8,
          9,
          10,
          11,
          12,
          13,
          14,
          15,
          16,
          17,
          18,
          19,
          20,
          21,
          22,
          23,
          24,
          25,
          26,
          27,
          28,
          29,
          30,
          31,
          32,
          33,
          34,
          35,
          36,
          37,
          38,
          39,
          40,
          41,
          42,
          43,
          44,
          45,
          46,
          47,
          48,
          49,
          50,
          51,
          52,
          53,
          54,
          55,
          56,
          57,
          58,
          59,
          60,
          61,
          62,
          63,
          64,
          65,
          66
         ],
         "y": [
          7.661902153491974,
          10.182222819328308,
          9.17167112827301,
          10.171930170059204,
          8.295905983448028,
          7.500750923156739,
          11.509857797622681,
          12.359800028800965,
          10.30066876411438,
          8.287345933914185,
          5.475454318523407,
          8.92594771385193,
          10.898928332328797,
          10.990179824829102,
          8.332023119926452,
          6.3214800477027895,
          10.951875638961791,
          11.285552287101746,
          10.91540265083313,
          10.7645263671875,
          5.658663696050644,
          10.463006234169006,
          10.620668816566468,
          9.73620080947876,
          8.724812936782836,
          6.29980320930481,
          10.856157112121583,
          9.908372116088866,
          9.28954119682312,
          9.343142294883728,
          6.4098443508148195,
          10.292529773712157,
          11.246713256835937,
          8.976778817176818,
          9.908023190498351,
          6.283633661270142,
          11.808808445930481,
          13.062341690063477,
          10.463402032852173,
          9.446481919288635,
          8.35298547744751,
          10.694253849983216,
          17.345048570632933,
          18.13800859451294,
          9.484961462020873,
          7.461537826061249,
          9.5714421749115,
          13.815521812438964,
          12.324215030670166,
          9.24191963672638,
          8.826324844360352,
          9.485997605323792,
          11.768434262275695,
          11.819906115531921,
          9.405308723449707,
          7.2702736258506775,
          9.43834433555603,
          11.670487761497498,
          11.746365976333617,
          9.072294974327088,
          7.6762611865997314,
          8.677904891967774,
          11.504602932929993,
          11.003369426727295,
          9.004329705238343,
          10.752289950847626,
          10.752289950847626
         ]
        },
        {
         "connectgaps": true,
         "fill": "tonexty",
         "fillcolor": "rgba(0.0, 0.7843137254901961, 0.8980392156862745, 0.2)",
         "hoverinfo": "skip",
         "line": {
          "color": "rgba(0,0,0,0)",
          "shape": "hv"
         },
         "mode": "lines",
         "name": "Confidence band",
         "showlegend": true,
         "type": "scatter",
         "x": [
          0,
          1,
          2,
          3,
          4,
          5,
          6,
          7,
          8,
          9,
          10,
          11,
          12,
          13,
          14,
          15,
          16,
          17,
          18,
          19,
          20,
          21,
          22,
          23,
          24,
          25,
          26,
          27,
          28,
          29,
          30,
          31,
          32,
          33,
          34,
          35,
          36,
          37,
          38,
          39,
          40,
          41,
          42,
          43,
          44,
          45,
          46,
          47,
          48,
          49,
          50,
          51,
          52,
          53,
          54,
          55,
          56,
          57,
          58,
          59,
          60,
          61,
          62,
          63,
          64,
          65,
          66
         ],
         "y": [
          6.981137549877166,
          8.863858723640442,
          7.721750044822693,
          8.722873830795288,
          7.3024092555046085,
          6.497497177124023,
          10.006816244125366,
          9.996816945075988,
          8.626802396774291,
          7.017092657089234,
          4.983634960651398,
          7.557366800308228,
          9.276515316963195,
          9.439953994750976,
          7.17668297290802,
          5.636158692836761,
          9.301307725906373,
          9.663000798225402,
          9.18459963798523,
          8.942621231079102,
          5.096338325738907,
          8.815359854698182,
          9.081950736045837,
          8.127868175506592,
          7.257067251205444,
          5.616392660140991,
          9.12944049835205,
          8.374266433715821,
          7.686265993118286,
          8.044953560829162,
          5.748580980300903,
          8.829426097869874,
          9.54100456237793,
          7.76544873714447,
          8.45731418132782,
          5.7677703380584715,
          10.151083827018738,
          11.307292938232422,
          8.891443014144897,
          8.324559950828553,
          7.511096858978272,
          9.160631251335143,
          15.298189496994018,
          16.805747509002686,
          8.078290033340455,
          6.694653999805451,
          7.8264421939849855,
          11.565806770324707,
          10.494993114471436,
          7.722102046012878,
          7.602918243408203,
          7.885023665428162,
          10.123377108573914,
          10.387954831123352,
          7.783400535583496,
          6.511311113834381,
          7.7917028903961185,
          9.592583298683167,
          10.15416579246521,
          7.5530178308486935,
          6.750261068344116,
          7.422639083862305,
          9.762261843681335,
          9.496933841705323,
          7.358081793785095,
          6.850661098957062,
          6.850661098957062
         ]
        },
        {
         "connectgaps": true,
         "hoverinfo": "skip",
         "line": {
          "color": "rgba(0,0,0,0)",
          "shape": "hv"
         },
         "mode": "lines",
         "name": "Confidence band",
         "showlegend": false,
         "type": "scatter",
         "x": [
          66,
          67,
          68,
          69,
          70,
          71,
          72,
          73,
          74,
          75,
          76,
          77,
          78,
          79,
          80,
          81,
          82,
          83,
          84,
          85,
          86,
          87,
          88,
          89,
          90,
          91,
          92,
          93,
          94,
          95,
          96,
          97,
          98,
          99,
          100,
          101,
          102,
          103,
          104,
          105,
          106,
          107,
          108,
          109,
          110,
          111,
          112,
          113,
          114,
          115,
          116,
          117,
          118,
          119,
          120,
          121,
          122,
          123,
          124,
          125,
          126,
          127,
          128,
          129,
          130,
          131,
          132
         ],
         "y": [
          8.423831892013549,
          8.466526007652282,
          10.796644067764282,
          10.236652612686157,
          8.54153208732605,
          7.5638897061347965,
          8.841411006450652,
          10.495177412033081,
          10.41605360507965,
          8.988093996047974,
          8.251441407203675,
          10.053896045684814,
          28.101729488372804,
          17.011066484451295,
          14.244920682907104,
          9.617000293731689,
          10.189469385147095,
          25.736034870147705,
          21.042041015625,
          19.102677440643312,
          13.201185607910157,
          19.770870304107667,
          23.813644313812254,
          16.724413204193116,
          14.64248309135437,
          10.02305498123169,
          14.919362497329711,
          19.13376932144165,
          16.618416929244994,
          13.901105785369873,
          9.866480362415313,
          15.021779918670655,
          16.243926000595092,
          22.412254524230956,
          14.161998176574707,
          13.330210375785828,
          17.829532051086424,
          16.389202547073364,
          22.778298950195314,
          17.581591892242432,
          10.424641275405884,
          11.172267389297485,
          17.82278165817261,
          23.79007577896118,
          22.768087720870973,
          11.908707761764527,
          19.010564422607423,
          20.577331066131592,
          30.95412588119507,
          20.112047147750854,
          9.585870480537414,
          15.039867973327636,
          20.954728031158446,
          29.686013221740723,
          23.37239365577698,
          14.786320161819457,
          14.047999167442322,
          23.215488147735595,
          23.869712924957277,
          16.767081093788146,
          10.584287476539611,
          14.363667058944703,
          16.902351665496827,
          19.569963455200195,
          16.13679418563843,
          8.96833074092865,
          8.96833074092865
         ]
        },
        {
         "connectgaps": true,
         "fill": "tonexty",
         "fillcolor": "rgba(0.0, 0.7843137254901961, 0.8980392156862745, 0.2)",
         "hoverinfo": "skip",
         "line": {
          "color": "rgba(0,0,0,0)",
          "shape": "hv"
         },
         "mode": "lines",
         "name": "Confidence band",
         "showlegend": false,
         "type": "scatter",
         "x": [
          66,
          67,
          68,
          69,
          70,
          71,
          72,
          73,
          74,
          75,
          76,
          77,
          78,
          79,
          80,
          81,
          82,
          83,
          84,
          85,
          86,
          87,
          88,
          89,
          90,
          91,
          92,
          93,
          94,
          95,
          96,
          97,
          98,
          99,
          100,
          101,
          102,
          103,
          104,
          105,
          106,
          107,
          108,
          109,
          110,
          111,
          112,
          113,
          114,
          115,
          116,
          117,
          118,
          119,
          120,
          121,
          122,
          123,
          124,
          125,
          126,
          127,
          128,
          129,
          130,
          131,
          132
         ],
         "y": [
          7.239018487930298,
          7.062771821022034,
          9.322210454940796,
          8.7755868434906,
          7.322977495193482,
          6.846747195720672,
          7.698286640644073,
          9.014048433303833,
          8.918272185325623,
          7.717876768112182,
          7.3014446020126345,
          8.321096324920655,
          20.692860507965086,
          12.570156049728393,
          10.87292675971985,
          8.390932369232178,
          8.750212621688842,
          18.86132001876831,
          15.305081176757813,
          13.314612293243409,
          10.663201904296875,
          14.63559331893921,
          17.835105991363527,
          13.666471195220947,
          11.690208101272583,
          8.732440090179443,
          11.768087911605836,
          14.468064022064208,
          13.568199968338012,
          11.183000659942627,
          8.829240310192109,
          11.798189258575439,
          12.244000482559205,
          16.797294425964356,
          11.882347679138183,
          10.99667866230011,
          14.39090404510498,
          12.574039030075074,
          17.689894104003905,
          14.57500524520874,
          8.979924535751342,
          9.577829885482789,
          12.651793384552002,
          17.881185054779053,
          17.97528233528137,
          9.076844072341919,
          14.769251251220703,
          14.99250841140747,
          24.368975162506104,
          16.98819546699524,
          8.259840273857117,
          12.366767311096192,
          15.214335536956787,
          22.918211936950684,
          19.56998915672302,
          11.785523939132691,
          12.14631769657135,
          17.46358518600464,
          18.344386959075926,
          14.686337637901307,
          8.974228072166444,
          12.681855630874633,
          13.715915393829345,
          15.626134872436523,
          13.803030872344971,
          7.6326786279678345,
          7.6326786279678345
         ]
        }
       ],
       "layout": {
        "annotations": [
         {
          "showarrow": false,
          "text": "Reference",
          "x": 32.5,
          "xshift": 10,
          "y": 1.1,
          "yref": "y domain"
         },
         {
          "showarrow": false,
          "text": "Analysis",
          "x": 98.5,
          "xshift": 15,
          "y": 1.1,
          "yref": "y domain"
         }
        ],
        "hoverlabel": {
         "bgcolor": "white",
         "font": {
          "size": 14
         }
        },
        "legend": {
         "itemclick": false,
         "itemdoubleclick": false,
         "traceorder": "grouped",
         "x": 0.05,
         "y": 1
        },
        "paper_bgcolor": "rgba(255,255,255,1)",
        "plot_bgcolor": "rgba(255,255,255,1)",
        "shapes": [
         {
          "layer": "below",
          "line": {
           "color": "#666666",
           "width": 1
          },
          "type": "line",
          "x0": 66,
          "x1": 66,
          "xref": "x",
          "y0": 0,
          "y1": 1,
          "yref": "y domain"
         }
        ],
        "template": {
         "data": {
          "bar": [
           {
            "error_x": {
             "color": "#2a3f5f"
            },
            "error_y": {
             "color": "#2a3f5f"
            },
            "marker": {
             "line": {
              "color": "#E5ECF6",
              "width": 0.5
             },
             "pattern": {
              "fillmode": "overlay",
              "size": 10,
              "solidity": 0.2
             }
            },
            "type": "bar"
           }
          ],
          "barpolar": [
           {
            "marker": {
             "line": {
              "color": "#E5ECF6",
              "width": 0.5
             },
             "pattern": {
              "fillmode": "overlay",
              "size": 10,
              "solidity": 0.2
             }
            },
            "type": "barpolar"
           }
          ],
          "carpet": [
           {
            "aaxis": {
             "endlinecolor": "#2a3f5f",
             "gridcolor": "white",
             "linecolor": "white",
             "minorgridcolor": "white",
             "startlinecolor": "#2a3f5f"
            },
            "baxis": {
             "endlinecolor": "#2a3f5f",
             "gridcolor": "white",
             "linecolor": "white",
             "minorgridcolor": "white",
             "startlinecolor": "#2a3f5f"
            },
            "type": "carpet"
           }
          ],
          "choropleth": [
           {
            "colorbar": {
             "outlinewidth": 0,
             "ticks": ""
            },
            "type": "choropleth"
           }
          ],
          "contour": [
           {
            "colorbar": {
             "outlinewidth": 0,
             "ticks": ""
            },
            "colorscale": [
             [
              0,
              "#0d0887"
             ],
             [
              0.1111111111111111,
              "#46039f"
             ],
             [
              0.2222222222222222,
              "#7201a8"
             ],
             [
              0.3333333333333333,
              "#9c179e"
             ],
             [
              0.4444444444444444,
              "#bd3786"
             ],
             [
              0.5555555555555556,
              "#d8576b"
             ],
             [
              0.6666666666666666,
              "#ed7953"
             ],
             [
              0.7777777777777778,
              "#fb9f3a"
             ],
             [
              0.8888888888888888,
              "#fdca26"
             ],
             [
              1,
              "#f0f921"
             ]
            ],
            "type": "contour"
           }
          ],
          "contourcarpet": [
           {
            "colorbar": {
             "outlinewidth": 0,
             "ticks": ""
            },
            "type": "contourcarpet"
           }
          ],
          "heatmap": [
           {
            "colorbar": {
             "outlinewidth": 0,
             "ticks": ""
            },
            "colorscale": [
             [
              0,
              "#0d0887"
             ],
             [
              0.1111111111111111,
              "#46039f"
             ],
             [
              0.2222222222222222,
              "#7201a8"
             ],
             [
              0.3333333333333333,
              "#9c179e"
             ],
             [
              0.4444444444444444,
              "#bd3786"
             ],
             [
              0.5555555555555556,
              "#d8576b"
             ],
             [
              0.6666666666666666,
              "#ed7953"
             ],
             [
              0.7777777777777778,
              "#fb9f3a"
             ],
             [
              0.8888888888888888,
              "#fdca26"
             ],
             [
              1,
              "#f0f921"
             ]
            ],
            "type": "heatmap"
           }
          ],
          "heatmapgl": [
           {
            "colorbar": {
             "outlinewidth": 0,
             "ticks": ""
            },
            "colorscale": [
             [
              0,
              "#0d0887"
             ],
             [
              0.1111111111111111,
              "#46039f"
             ],
             [
              0.2222222222222222,
              "#7201a8"
             ],
             [
              0.3333333333333333,
              "#9c179e"
             ],
             [
              0.4444444444444444,
              "#bd3786"
             ],
             [
              0.5555555555555556,
              "#d8576b"
             ],
             [
              0.6666666666666666,
              "#ed7953"
             ],
             [
              0.7777777777777778,
              "#fb9f3a"
             ],
             [
              0.8888888888888888,
              "#fdca26"
             ],
             [
              1,
              "#f0f921"
             ]
            ],
            "type": "heatmapgl"
           }
          ],
          "histogram": [
           {
            "marker": {
             "pattern": {
              "fillmode": "overlay",
              "size": 10,
              "solidity": 0.2
             }
            },
            "type": "histogram"
           }
          ],
          "histogram2d": [
           {
            "colorbar": {
             "outlinewidth": 0,
             "ticks": ""
            },
            "colorscale": [
             [
              0,
              "#0d0887"
             ],
             [
              0.1111111111111111,
              "#46039f"
             ],
             [
              0.2222222222222222,
              "#7201a8"
             ],
             [
              0.3333333333333333,
              "#9c179e"
             ],
             [
              0.4444444444444444,
              "#bd3786"
             ],
             [
              0.5555555555555556,
              "#d8576b"
             ],
             [
              0.6666666666666666,
              "#ed7953"
             ],
             [
              0.7777777777777778,
              "#fb9f3a"
             ],
             [
              0.8888888888888888,
              "#fdca26"
             ],
             [
              1,
              "#f0f921"
             ]
            ],
            "type": "histogram2d"
           }
          ],
          "histogram2dcontour": [
           {
            "colorbar": {
             "outlinewidth": 0,
             "ticks": ""
            },
            "colorscale": [
             [
              0,
              "#0d0887"
             ],
             [
              0.1111111111111111,
              "#46039f"
             ],
             [
              0.2222222222222222,
              "#7201a8"
             ],
             [
              0.3333333333333333,
              "#9c179e"
             ],
             [
              0.4444444444444444,
              "#bd3786"
             ],
             [
              0.5555555555555556,
              "#d8576b"
             ],
             [
              0.6666666666666666,
              "#ed7953"
             ],
             [
              0.7777777777777778,
              "#fb9f3a"
             ],
             [
              0.8888888888888888,
              "#fdca26"
             ],
             [
              1,
              "#f0f921"
             ]
            ],
            "type": "histogram2dcontour"
           }
          ],
          "mesh3d": [
           {
            "colorbar": {
             "outlinewidth": 0,
             "ticks": ""
            },
            "type": "mesh3d"
           }
          ],
          "parcoords": [
           {
            "line": {
             "colorbar": {
              "outlinewidth": 0,
              "ticks": ""
             }
            },
            "type": "parcoords"
           }
          ],
          "pie": [
           {
            "automargin": true,
            "type": "pie"
           }
          ],
          "scatter": [
           {
            "fillpattern": {
             "fillmode": "overlay",
             "size": 10,
             "solidity": 0.2
            },
            "type": "scatter"
           }
          ],
          "scatter3d": [
           {
            "line": {
             "colorbar": {
              "outlinewidth": 0,
              "ticks": ""
             }
            },
            "marker": {
             "colorbar": {
              "outlinewidth": 0,
              "ticks": ""
             }
            },
            "type": "scatter3d"
           }
          ],
          "scattercarpet": [
           {
            "marker": {
             "colorbar": {
              "outlinewidth": 0,
              "ticks": ""
             }
            },
            "type": "scattercarpet"
           }
          ],
          "scattergeo": [
           {
            "marker": {
             "colorbar": {
              "outlinewidth": 0,
              "ticks": ""
             }
            },
            "type": "scattergeo"
           }
          ],
          "scattergl": [
           {
            "marker": {
             "colorbar": {
              "outlinewidth": 0,
              "ticks": ""
             }
            },
            "type": "scattergl"
           }
          ],
          "scattermapbox": [
           {
            "marker": {
             "colorbar": {
              "outlinewidth": 0,
              "ticks": ""
             }
            },
            "type": "scattermapbox"
           }
          ],
          "scatterpolar": [
           {
            "marker": {
             "colorbar": {
              "outlinewidth": 0,
              "ticks": ""
             }
            },
            "type": "scatterpolar"
           }
          ],
          "scatterpolargl": [
           {
            "marker": {
             "colorbar": {
              "outlinewidth": 0,
              "ticks": ""
             }
            },
            "type": "scatterpolargl"
           }
          ],
          "scatterternary": [
           {
            "marker": {
             "colorbar": {
              "outlinewidth": 0,
              "ticks": ""
             }
            },
            "type": "scatterternary"
           }
          ],
          "surface": [
           {
            "colorbar": {
             "outlinewidth": 0,
             "ticks": ""
            },
            "colorscale": [
             [
              0,
              "#0d0887"
             ],
             [
              0.1111111111111111,
              "#46039f"
             ],
             [
              0.2222222222222222,
              "#7201a8"
             ],
             [
              0.3333333333333333,
              "#9c179e"
             ],
             [
              0.4444444444444444,
              "#bd3786"
             ],
             [
              0.5555555555555556,
              "#d8576b"
             ],
             [
              0.6666666666666666,
              "#ed7953"
             ],
             [
              0.7777777777777778,
              "#fb9f3a"
             ],
             [
              0.8888888888888888,
              "#fdca26"
             ],
             [
              1,
              "#f0f921"
             ]
            ],
            "type": "surface"
           }
          ],
          "table": [
           {
            "cells": {
             "fill": {
              "color": "#EBF0F8"
             },
             "line": {
              "color": "white"
             }
            },
            "header": {
             "fill": {
              "color": "#C8D4E3"
             },
             "line": {
              "color": "white"
             }
            },
            "type": "table"
           }
          ]
         },
         "layout": {
          "annotationdefaults": {
           "arrowcolor": "#2a3f5f",
           "arrowhead": 0,
           "arrowwidth": 1
          },
          "autotypenumbers": "strict",
          "coloraxis": {
           "colorbar": {
            "outlinewidth": 0,
            "ticks": ""
           }
          },
          "colorscale": {
           "diverging": [
            [
             0,
             "#8e0152"
            ],
            [
             0.1,
             "#c51b7d"
            ],
            [
             0.2,
             "#de77ae"
            ],
            [
             0.3,
             "#f1b6da"
            ],
            [
             0.4,
             "#fde0ef"
            ],
            [
             0.5,
             "#f7f7f7"
            ],
            [
             0.6,
             "#e6f5d0"
            ],
            [
             0.7,
             "#b8e186"
            ],
            [
             0.8,
             "#7fbc41"
            ],
            [
             0.9,
             "#4d9221"
            ],
            [
             1,
             "#276419"
            ]
           ],
           "sequential": [
            [
             0,
             "#0d0887"
            ],
            [
             0.1111111111111111,
             "#46039f"
            ],
            [
             0.2222222222222222,
             "#7201a8"
            ],
            [
             0.3333333333333333,
             "#9c179e"
            ],
            [
             0.4444444444444444,
             "#bd3786"
            ],
            [
             0.5555555555555556,
             "#d8576b"
            ],
            [
             0.6666666666666666,
             "#ed7953"
            ],
            [
             0.7777777777777778,
             "#fb9f3a"
            ],
            [
             0.8888888888888888,
             "#fdca26"
            ],
            [
             1,
             "#f0f921"
            ]
           ],
           "sequentialminus": [
            [
             0,
             "#0d0887"
            ],
            [
             0.1111111111111111,
             "#46039f"
            ],
            [
             0.2222222222222222,
             "#7201a8"
            ],
            [
             0.3333333333333333,
             "#9c179e"
            ],
            [
             0.4444444444444444,
             "#bd3786"
            ],
            [
             0.5555555555555556,
             "#d8576b"
            ],
            [
             0.6666666666666666,
             "#ed7953"
            ],
            [
             0.7777777777777778,
             "#fb9f3a"
            ],
            [
             0.8888888888888888,
             "#fdca26"
            ],
            [
             1,
             "#f0f921"
            ]
           ]
          },
          "colorway": [
           "#636efa",
           "#EF553B",
           "#00cc96",
           "#ab63fa",
           "#FFA15A",
           "#19d3f3",
           "#FF6692",
           "#B6E880",
           "#FF97FF",
           "#FECB52"
          ],
          "font": {
           "color": "#2a3f5f"
          },
          "geo": {
           "bgcolor": "white",
           "lakecolor": "white",
           "landcolor": "#E5ECF6",
           "showlakes": true,
           "showland": true,
           "subunitcolor": "white"
          },
          "hoverlabel": {
           "align": "left"
          },
          "hovermode": "closest",
          "mapbox": {
           "style": "light"
          },
          "paper_bgcolor": "white",
          "plot_bgcolor": "#E5ECF6",
          "polar": {
           "angularaxis": {
            "gridcolor": "white",
            "linecolor": "white",
            "ticks": ""
           },
           "bgcolor": "#E5ECF6",
           "radialaxis": {
            "gridcolor": "white",
            "linecolor": "white",
            "ticks": ""
           }
          },
          "scene": {
           "xaxis": {
            "backgroundcolor": "#E5ECF6",
            "gridcolor": "white",
            "gridwidth": 2,
            "linecolor": "white",
            "showbackground": true,
            "ticks": "",
            "zerolinecolor": "white"
           },
           "yaxis": {
            "backgroundcolor": "#E5ECF6",
            "gridcolor": "white",
            "gridwidth": 2,
            "linecolor": "white",
            "showbackground": true,
            "ticks": "",
            "zerolinecolor": "white"
           },
           "zaxis": {
            "backgroundcolor": "#E5ECF6",
            "gridcolor": "white",
            "gridwidth": 2,
            "linecolor": "white",
            "showbackground": true,
            "ticks": "",
            "zerolinecolor": "white"
           }
          },
          "shapedefaults": {
           "line": {
            "color": "#2a3f5f"
           }
          },
          "ternary": {
           "aaxis": {
            "gridcolor": "white",
            "linecolor": "white",
            "ticks": ""
           },
           "baxis": {
            "gridcolor": "white",
            "linecolor": "white",
            "ticks": ""
           },
           "bgcolor": "#E5ECF6",
           "caxis": {
            "gridcolor": "white",
            "linecolor": "white",
            "ticks": ""
           }
          },
          "title": {
           "x": 0.05
          },
          "xaxis": {
           "automargin": true,
           "gridcolor": "white",
           "linecolor": "white",
           "ticks": "",
           "title": {
            "standoff": 15
           },
           "zerolinecolor": "white",
           "zerolinewidth": 2
          },
          "yaxis": {
           "automargin": true,
           "gridcolor": "white",
           "linecolor": "white",
           "ticks": "",
           "title": {
            "standoff": 15
           },
           "zerolinecolor": "white",
           "zerolinewidth": 2
          }
         }
        },
        "title": {
         "text": ""
        },
        "xaxis": {
         "linecolor": "#3b0280",
         "matches": "x",
         "mirror": true,
         "showgrid": false,
         "title": {
          "text": "Chunk"
         },
         "zeroline": false
        },
        "yaxis": {
         "linecolor": "#3b0280",
         "mirror": true,
         "showgrid": false,
         "title": {
          "text": "Reconstruction Error"
         },
         "zeroline": false
        }
       }
      }
     },
     "metadata": {},
     "output_type": "display_data"
    }
   ],
   "source": [
    "PemsBay_drift_detector = nml.DataReconstructionDriftCalculator(\n",
    "    column_names=PemsBay_feature_names,\n",
    "    chunk_size=400\n",
    ").fit(reference_data=PemsBay_reference_set)\n",
    "\n",
    "# Calculate drift results\n",
    "PemsBay_drift_results = PemsBay_drift_detector.calculate(data=PemsBay_analysis_set)\n",
    "\n",
    "# Visualize drift\n",
    "PemsBay_drift_results_plot = plot_metric(PemsBay_drift_results, title='', metric_display_name='Reconstruction Error',\n",
    "                metric_column_name='reconstruction_error')\n",
    "# PemsBay_drift_results_plot = PemsBay_drift_results.plot()\n",
    "PemsBay_drift_results_plot.write_image('pemsbay_drift_results.png', width=1000, height=500)\n",
    "PemsBay_drift_results_plot.show()"
   ]
  },
  {
   "cell_type": "markdown",
   "metadata": {},
   "source": [
    "## AirQuality"
   ]
  },
  {
   "cell_type": "code",
   "execution_count": 35,
   "metadata": {},
   "outputs": [],
   "source": [
    "AirQuality_middle_index = len(df3) // 2\n",
    "\n",
    "AirQuality_first_half_df = df3.iloc[:AirQuality_middle_index] # reference dataset \n",
    "AirQuality_second_half_df = df3.iloc[AirQuality_middle_index:]\n",
    "\n",
    "AirQuality_feature_names = df3.columns\n",
    "AirQuality_reference_set = AirQuality_first_half_df.copy()  \n",
    "AirQuality_analysis_set = AirQuality_second_half_df.copy() "
   ]
  },
  {
   "cell_type": "code",
   "execution_count": 36,
   "metadata": {},
   "outputs": [
    {
     "data": {
      "application/vnd.plotly.v1+json": {
       "config": {
        "plotlyServerURL": "https://plot.ly"
       },
       "data": [
        {
         "hoverinfo": "skip",
         "legendgroup": "metric_reference",
         "line": {
          "color": "#00c8e5",
          "shape": "hv",
          "width": 2
         },
         "mode": "lines",
         "name": "Metric",
         "showlegend": true,
         "type": "scatter",
         "x": [
          0,
          1,
          2,
          3,
          4,
          5,
          6,
          7,
          8,
          9,
          10,
          11,
          12,
          13,
          14,
          15,
          16,
          17,
          18,
          19,
          20,
          21,
          22,
          23,
          24,
          25,
          26,
          27,
          28,
          29,
          30,
          31,
          32,
          33,
          34,
          35,
          36,
          37,
          38,
          39,
          40,
          41,
          42,
          43,
          44
         ],
         "y": [
          1.8716844320297241,
          1.7844209671020508,
          1.193040370941162,
          1.7640626430511475,
          2.366126775741577,
          2.469886064529419,
          1.5249717235565186,
          1.7811880111694336,
          1.3900961875915527,
          1.4653687477111816,
          1.9135929346084595,
          3.142854690551758,
          1.4940156936645508,
          2.063316822052002,
          2.631770372390747,
          4.256715774536133,
          2.6051840782165527,
          1.910365343093872,
          2.7949509620666504,
          2.0016896724700928,
          1.7997206449508667,
          2.741405963897705,
          2.64666748046875,
          1.481015920639038,
          1.4367448091506958,
          1.7063517570495605,
          1.5395268201828003,
          1.9529606103897095,
          1.71799898147583,
          2.0356106758117676,
          1.8185441493988037,
          1.6502294540405273,
          1.8543059825897217,
          1.8206957578659058,
          2.054300308227539,
          2.0321810245513916,
          1.6484839916229248,
          2.233994483947754,
          6.995153903961182,
          5.670020580291748,
          3.5917983055114746,
          5.827412128448486,
          5.191683292388916,
          2.768693685531616,
          2.768693685531616
         ]
        },
        {
         "customdata": [
          [
           "Reconstruction Error",
           "<b style=\"color:Colors.BLUE_SKY_CRAYOLA;line-height:60px\">Reference</b>",
           "",
           "[0:99]",
           "Chunk index: <b>0</b>",
           1.8717000484466553,
           0.2512
          ],
          [
           "Reconstruction Error",
           "<b style=\"color:Colors.BLUE_SKY_CRAYOLA;line-height:60px\">Reference</b>",
           "",
           "[100:199]",
           "Chunk index: <b>1</b>",
           1.7843999862670898,
           0.264
          ],
          [
           "Reconstruction Error",
           "<b style=\"color:Colors.BLUE_SKY_CRAYOLA;line-height:60px\">Reference</b>",
           "",
           "[200:299]",
           "Chunk index: <b>2</b>",
           1.1929999589920044,
           0.1122
          ],
          [
           "Reconstruction Error",
           "<b style=\"color:Colors.BLUE_SKY_CRAYOLA;line-height:60px\">Reference</b>",
           "",
           "[300:399]",
           "Chunk index: <b>3</b>",
           1.7640999555587769,
           0.1804
          ],
          [
           "Reconstruction Error",
           "<b style=\"color:Colors.BLUE_SKY_CRAYOLA;line-height:60px\">Reference</b>",
           "",
           "[400:499]",
           "Chunk index: <b>4</b>",
           2.3661000728607178,
           0.3375
          ],
          [
           "Reconstruction Error",
           "<b style=\"color:Colors.BLUE_SKY_CRAYOLA;line-height:60px\">Reference</b>",
           "",
           "[500:599]",
           "Chunk index: <b>5</b>",
           2.469899892807007,
           0.3867
          ],
          [
           "Reconstruction Error",
           "<b style=\"color:Colors.BLUE_SKY_CRAYOLA;line-height:60px\">Reference</b>",
           "",
           "[600:699]",
           "Chunk index: <b>6</b>",
           1.524999976158142,
           0.1737
          ],
          [
           "Reconstruction Error",
           "<b style=\"color:Colors.BLUE_SKY_CRAYOLA;line-height:60px\">Reference</b>",
           "",
           "[700:799]",
           "Chunk index: <b>7</b>",
           1.7812000513076782,
           0.2209
          ],
          [
           "Reconstruction Error",
           "<b style=\"color:Colors.BLUE_SKY_CRAYOLA;line-height:60px\">Reference</b>",
           "",
           "[800:899]",
           "Chunk index: <b>8</b>",
           1.3901000022888184,
           0.1768
          ],
          [
           "Reconstruction Error",
           "<b style=\"color:Colors.BLUE_SKY_CRAYOLA;line-height:60px\">Reference</b>",
           "",
           "[900:999]",
           "Chunk index: <b>9</b>",
           1.465399980545044,
           0.1677
          ],
          [
           "Reconstruction Error",
           "<b style=\"color:Colors.BLUE_SKY_CRAYOLA;line-height:60px\">Reference</b>",
           "",
           "[1000:1099]",
           "Chunk index: <b>10</b>",
           1.913599967956543,
           0.3189
          ],
          [
           "Reconstruction Error",
           "<b style=\"color:Colors.BLUE_SKY_CRAYOLA;line-height:60px\">Reference</b>",
           "",
           "[1100:1199]",
           "Chunk index: <b>11</b>",
           3.142899990081787,
           0.4032
          ],
          [
           "Reconstruction Error",
           "<b style=\"color:Colors.BLUE_SKY_CRAYOLA;line-height:60px\">Reference</b>",
           "",
           "[1200:1299]",
           "Chunk index: <b>12</b>",
           1.49399995803833,
           0.1308
          ],
          [
           "Reconstruction Error",
           "<b style=\"color:Colors.BLUE_SKY_CRAYOLA;line-height:60px\">Reference</b>",
           "",
           "[1300:1399]",
           "Chunk index: <b>13</b>",
           2.0632998943328857,
           0.2843
          ],
          [
           "Reconstruction Error",
           "<b style=\"color:Colors.BLUE_SKY_CRAYOLA;line-height:60px\">Reference</b>",
           "",
           "[1400:1499]",
           "Chunk index: <b>14</b>",
           2.6317999362945557,
           0.3745
          ],
          [
           "Reconstruction Error",
           "<b style=\"color:Colors.BLUE_SKY_CRAYOLA;line-height:60px\">Reference</b>",
           "",
           "[1500:1599]",
           "Chunk index: <b>15</b>",
           4.256700038909912,
           0.3252
          ],
          [
           "Reconstruction Error",
           "<b style=\"color:Colors.BLUE_SKY_CRAYOLA;line-height:60px\">Reference</b>",
           "",
           "[1600:1699]",
           "Chunk index: <b>16</b>",
           2.6052000522613525,
           0.4174
          ],
          [
           "Reconstruction Error",
           "<b style=\"color:Colors.BLUE_SKY_CRAYOLA;line-height:60px\">Reference</b>",
           "",
           "[1700:1799]",
           "Chunk index: <b>17</b>",
           1.9104000329971313,
           0.277
          ],
          [
           "Reconstruction Error",
           "<b style=\"color:Colors.BLUE_SKY_CRAYOLA;line-height:60px\">Reference</b>",
           "",
           "[1800:1899]",
           "Chunk index: <b>18</b>",
           2.7950000762939453,
           0.3462
          ],
          [
           "Reconstruction Error",
           "<b style=\"color:Colors.BLUE_SKY_CRAYOLA;line-height:60px\">Reference</b>",
           "",
           "[1900:1999]",
           "Chunk index: <b>19</b>",
           2.001699924468994,
           0.258
          ],
          [
           "Reconstruction Error",
           "<b style=\"color:Colors.BLUE_SKY_CRAYOLA;line-height:60px\">Reference</b>",
           "",
           "[2000:2099]",
           "Chunk index: <b>20</b>",
           1.7997000217437744,
           0.2194
          ],
          [
           "Reconstruction Error",
           "<b style=\"color:Colors.BLUE_SKY_CRAYOLA;line-height:60px\">Reference</b>",
           "",
           "[2100:2199]",
           "Chunk index: <b>21</b>",
           2.7414000034332275,
           0.2383
          ],
          [
           "Reconstruction Error",
           "<b style=\"color:Colors.BLUE_SKY_CRAYOLA;line-height:60px\">Reference</b>",
           "",
           "[2200:2299]",
           "Chunk index: <b>22</b>",
           2.646699905395508,
           0.2356
          ],
          [
           "Reconstruction Error",
           "<b style=\"color:Colors.BLUE_SKY_CRAYOLA;line-height:60px\">Reference</b>",
           "",
           "[2300:2399]",
           "Chunk index: <b>23</b>",
           1.4809999465942383,
           0.1855
          ],
          [
           "Reconstruction Error",
           "<b style=\"color:Colors.BLUE_SKY_CRAYOLA;line-height:60px\">Reference</b>",
           "",
           "[2400:2499]",
           "Chunk index: <b>24</b>",
           1.4366999864578247,
           0.1483
          ],
          [
           "Reconstruction Error",
           "<b style=\"color:Colors.BLUE_SKY_CRAYOLA;line-height:60px\">Reference</b>",
           "",
           "[2500:2599]",
           "Chunk index: <b>25</b>",
           1.7064000368118286,
           0.3561
          ],
          [
           "Reconstruction Error",
           "<b style=\"color:Colors.BLUE_SKY_CRAYOLA;line-height:60px\">Reference</b>",
           "",
           "[2600:2699]",
           "Chunk index: <b>26</b>",
           1.5394999980926514,
           0.1435
          ],
          [
           "Reconstruction Error",
           "<b style=\"color:Colors.BLUE_SKY_CRAYOLA;line-height:60px\">Reference</b>",
           "",
           "[2700:2799]",
           "Chunk index: <b>27</b>",
           1.9529999494552612,
           0.2233
          ],
          [
           "Reconstruction Error",
           "<b style=\"color:Colors.BLUE_SKY_CRAYOLA;line-height:60px\">Reference</b>",
           "",
           "[2800:2899]",
           "Chunk index: <b>28</b>",
           1.718000054359436,
           0.2139
          ],
          [
           "Reconstruction Error",
           "<b style=\"color:Colors.BLUE_SKY_CRAYOLA;line-height:60px\">Reference</b>",
           "",
           "[2900:2999]",
           "Chunk index: <b>29</b>",
           2.035599946975708,
           0.1798
          ],
          [
           "Reconstruction Error",
           "<b style=\"color:Colors.BLUE_SKY_CRAYOLA;line-height:60px\">Reference</b>",
           "",
           "[3000:3099]",
           "Chunk index: <b>30</b>",
           1.81850004196167,
           0.131
          ],
          [
           "Reconstruction Error",
           "<b style=\"color:Colors.BLUE_SKY_CRAYOLA;line-height:60px\">Reference</b>",
           "",
           "[3100:3199]",
           "Chunk index: <b>31</b>",
           1.6502000093460083,
           0.2511
          ],
          [
           "Reconstruction Error",
           "<b style=\"color:Colors.BLUE_SKY_CRAYOLA;line-height:60px\">Reference</b>",
           "",
           "[3200:3299]",
           "Chunk index: <b>32</b>",
           1.8543000221252441,
           0.1788
          ],
          [
           "Reconstruction Error",
           "<b style=\"color:Colors.BLUE_SKY_CRAYOLA;line-height:60px\">Reference</b>",
           "",
           "[3300:3399]",
           "Chunk index: <b>33</b>",
           1.8207000494003296,
           0.1789
          ],
          [
           "Reconstruction Error",
           "<b style=\"color:Colors.BLUE_SKY_CRAYOLA;line-height:60px\">Reference</b>",
           "",
           "[3400:3499]",
           "Chunk index: <b>34</b>",
           2.05430006980896,
           0.3098
          ],
          [
           "Reconstruction Error",
           "<b style=\"color:Colors.BLUE_SKY_CRAYOLA;line-height:60px\">Reference</b>",
           "",
           "[3500:3599]",
           "Chunk index: <b>35</b>",
           2.0322000980377197,
           0.2422
          ],
          [
           "Reconstruction Error",
           "<b style=\"color:Colors.BLUE_SKY_CRAYOLA;line-height:60px\">Reference</b>",
           "",
           "[3600:3699]",
           "Chunk index: <b>36</b>",
           1.6484999656677246,
           0.1696
          ],
          [
           "Reconstruction Error",
           "<b style=\"color:Colors.BLUE_SKY_CRAYOLA;line-height:60px\">Reference</b>",
           "",
           "[3700:3799]",
           "Chunk index: <b>37</b>",
           2.2339999675750732,
           0.4198
          ],
          [
           "Reconstruction Error",
           "<b style=\"color:Colors.BLUE_SKY_CRAYOLA;line-height:60px\">Reference</b>",
           "<span style=\"color:#AD0000\">⚠ <b>Drift detected</b></span>",
           "[3800:3899]",
           "Chunk index: <b>38</b>",
           6.995200157165527,
           0.8864
          ],
          [
           "Reconstruction Error",
           "<b style=\"color:Colors.BLUE_SKY_CRAYOLA;line-height:60px\">Reference</b>",
           "",
           "[3900:3999]",
           "Chunk index: <b>39</b>",
           5.670000076293945,
           0.9403
          ],
          [
           "Reconstruction Error",
           "<b style=\"color:Colors.BLUE_SKY_CRAYOLA;line-height:60px\">Reference</b>",
           "",
           "[4000:4099]",
           "Chunk index: <b>40</b>",
           3.5917999744415283,
           0.4348
          ],
          [
           "Reconstruction Error",
           "<b style=\"color:Colors.BLUE_SKY_CRAYOLA;line-height:60px\">Reference</b>",
           "",
           "[4100:4199]",
           "Chunk index: <b>41</b>",
           5.827400207519531,
           0.8893
          ],
          [
           "Reconstruction Error",
           "<b style=\"color:Colors.BLUE_SKY_CRAYOLA;line-height:60px\">Reference</b>",
           "",
           "[4200:4299]",
           "Chunk index: <b>42</b>",
           5.191699981689453,
           0.9005
          ],
          [
           "Reconstruction Error",
           "<b style=\"color:Colors.BLUE_SKY_CRAYOLA;line-height:60px\">Reference</b>",
           "",
           "[4300:4378]",
           "Chunk index: <b>43</b>",
           2.768699884414673,
           0.3042
          ]
         ],
         "hovertemplate": "%{customdata[1]} &nbsp; &nbsp; %{customdata[2]} <br />Chunk: <b>%{customdata[3]}</b> &nbsp; &nbsp; %{customdata[4]} <br />%{customdata[0]}: <b>%{customdata[5]}</b><br />Confidence band: +/- <b>%{customdata[6]}</b><br /><extra></extra>",
         "legendgroup": "metric_reference",
         "marker": {
          "color": "#00c8e5",
          "size": 5,
          "symbol": "circle"
         },
         "mode": "markers",
         "name": "Metric",
         "showlegend": false,
         "type": "scatter",
         "x": [
          0.5,
          1.5,
          2.5,
          3.5,
          4.5,
          5.5,
          6.5,
          7.5,
          8.5,
          9.5,
          10.5,
          11.5,
          12.5,
          13.5,
          14.5,
          15.5,
          16.5,
          17.5,
          18.5,
          19.5,
          20.5,
          21.5,
          22.5,
          23.5,
          24.5,
          25.5,
          26.5,
          27.5,
          28.5,
          29.5,
          30.5,
          31.5,
          32.5,
          33.5,
          34.5,
          35.5,
          36.5,
          37.5,
          38.5,
          39.5,
          40.5,
          41.5,
          42.5,
          43.5
         ],
         "y": [
          1.8716844320297241,
          1.7844209671020508,
          1.193040370941162,
          1.7640626430511475,
          2.366126775741577,
          2.469886064529419,
          1.5249717235565186,
          1.7811880111694336,
          1.3900961875915527,
          1.4653687477111816,
          1.9135929346084595,
          3.142854690551758,
          1.4940156936645508,
          2.063316822052002,
          2.631770372390747,
          4.256715774536133,
          2.6051840782165527,
          1.910365343093872,
          2.7949509620666504,
          2.0016896724700928,
          1.7997206449508667,
          2.741405963897705,
          2.64666748046875,
          1.481015920639038,
          1.4367448091506958,
          1.7063517570495605,
          1.5395268201828003,
          1.9529606103897095,
          1.71799898147583,
          2.0356106758117676,
          1.8185441493988037,
          1.6502294540405273,
          1.8543059825897217,
          1.8206957578659058,
          2.054300308227539,
          2.0321810245513916,
          1.6484839916229248,
          2.233994483947754,
          6.995153903961182,
          5.670020580291748,
          3.5917983055114746,
          5.827412128448486,
          5.191683292388916,
          2.768693685531616,
          2.768693685531616
         ]
        },
        {
         "hoverinfo": "skip",
         "legendgroup": "metric_analysis",
         "line": {
          "color": "#00c8e5",
          "shape": "hv",
          "width": 2
         },
         "mode": "lines",
         "name": "Metric",
         "showlegend": false,
         "type": "scatter",
         "x": [
          44,
          45,
          46,
          47,
          48,
          49,
          50,
          51,
          52,
          53,
          54,
          55,
          56,
          57,
          58,
          59,
          60,
          61,
          62,
          63,
          64,
          65,
          66,
          67,
          68,
          69,
          70,
          71,
          72,
          73,
          74,
          75,
          76,
          77,
          78,
          79,
          80,
          81,
          82,
          83,
          84,
          85,
          86,
          87,
          88
         ],
         "y": [
          3.038670063018799,
          2.191173553466797,
          2.6602907180786133,
          2.6089611053466797,
          5.822287559509277,
          7.615030288696289,
          5.020349025726318,
          2.9743247032165527,
          2.7319836616516113,
          5.330575466156006,
          3.8106372356414795,
          3.479923963546753,
          3.0733084678649902,
          5.907567977905273,
          7.21533203125,
          4.876611709594727,
          4.199648857116699,
          5.5091986656188965,
          5.2360968589782715,
          2.8394150733947754,
          4.9192795753479,
          2.272937059402466,
          2.9733498096466064,
          2.5562872886657715,
          3.294424533843994,
          3.9549224376678467,
          4.6354451179504395,
          3.4615917205810547,
          2.094073534011841,
          2.756117820739746,
          3.5501058101654053,
          2.0840094089508057,
          2.660890579223633,
          2.9982705116271973,
          1.2921724319458008,
          2.3753089904785156,
          2.4254515171051025,
          1.3979771137237549,
          2.12872314453125,
          1.576688289642334,
          3.176572799682617,
          2.321303606033325,
          2.4857802391052246,
          2.1959424018859863,
          2.1959424018859863
         ]
        },
        {
         "customdata": [
          [
           "Reconstruction Error",
           "<b style=\"color:Colors.INDIGO_PERSIAN;line-height:60px\">Analysis</b>",
           "",
           "[0:99]",
           "Chunk index: <b>0</b>",
           3.0387001037597656,
           0.4701
          ],
          [
           "Reconstruction Error",
           "<b style=\"color:Colors.INDIGO_PERSIAN;line-height:60px\">Analysis</b>",
           "",
           "[100:199]",
           "Chunk index: <b>1</b>",
           2.191200017929077,
           0.3878
          ],
          [
           "Reconstruction Error",
           "<b style=\"color:Colors.INDIGO_PERSIAN;line-height:60px\">Analysis</b>",
           "",
           "[200:299]",
           "Chunk index: <b>2</b>",
           2.6603000164031982,
           0.4275
          ],
          [
           "Reconstruction Error",
           "<b style=\"color:Colors.INDIGO_PERSIAN;line-height:60px\">Analysis</b>",
           "",
           "[300:399]",
           "Chunk index: <b>3</b>",
           2.6089999675750732,
           0.5892
          ],
          [
           "Reconstruction Error",
           "<b style=\"color:Colors.INDIGO_PERSIAN;line-height:60px\">Analysis</b>",
           "",
           "[400:499]",
           "Chunk index: <b>4</b>",
           5.822299957275391,
           0.8374
          ],
          [
           "Reconstruction Error",
           "<b style=\"color:Colors.INDIGO_PERSIAN;line-height:60px\">Analysis</b>",
           "<span style=\"color:#AD0000\">⚠ <b>Drift detected</b></span>",
           "[500:599]",
           "Chunk index: <b>5</b>",
           7.614999771118164,
           1.2695
          ],
          [
           "Reconstruction Error",
           "<b style=\"color:Colors.INDIGO_PERSIAN;line-height:60px\">Analysis</b>",
           "",
           "[600:699]",
           "Chunk index: <b>6</b>",
           5.020299911499023,
           0.8071
          ],
          [
           "Reconstruction Error",
           "<b style=\"color:Colors.INDIGO_PERSIAN;line-height:60px\">Analysis</b>",
           "",
           "[700:799]",
           "Chunk index: <b>7</b>",
           2.974299907684326,
           0.6702
          ],
          [
           "Reconstruction Error",
           "<b style=\"color:Colors.INDIGO_PERSIAN;line-height:60px\">Analysis</b>",
           "",
           "[800:899]",
           "Chunk index: <b>8</b>",
           2.7320001125335693,
           0.5726
          ],
          [
           "Reconstruction Error",
           "<b style=\"color:Colors.INDIGO_PERSIAN;line-height:60px\">Analysis</b>",
           "",
           "[900:999]",
           "Chunk index: <b>9</b>",
           5.330599784851074,
           0.9427
          ],
          [
           "Reconstruction Error",
           "<b style=\"color:Colors.INDIGO_PERSIAN;line-height:60px\">Analysis</b>",
           "",
           "[1000:1099]",
           "Chunk index: <b>10</b>",
           3.8106000423431396,
           0.6562
          ],
          [
           "Reconstruction Error",
           "<b style=\"color:Colors.INDIGO_PERSIAN;line-height:60px\">Analysis</b>",
           "",
           "[1100:1199]",
           "Chunk index: <b>11</b>",
           3.4798998832702637,
           0.6669
          ],
          [
           "Reconstruction Error",
           "<b style=\"color:Colors.INDIGO_PERSIAN;line-height:60px\">Analysis</b>",
           "",
           "[1200:1299]",
           "Chunk index: <b>12</b>",
           3.0732998847961426,
           0.7028
          ],
          [
           "Reconstruction Error",
           "<b style=\"color:Colors.INDIGO_PERSIAN;line-height:60px\">Analysis</b>",
           "",
           "[1300:1399]",
           "Chunk index: <b>13</b>",
           5.907599925994873,
           0.8778
          ],
          [
           "Reconstruction Error",
           "<b style=\"color:Colors.INDIGO_PERSIAN;line-height:60px\">Analysis</b>",
           "<span style=\"color:#AD0000\">⚠ <b>Drift detected</b></span>",
           "[1400:1499]",
           "Chunk index: <b>14</b>",
           7.2153000831604,
           1.5302
          ],
          [
           "Reconstruction Error",
           "<b style=\"color:Colors.INDIGO_PERSIAN;line-height:60px\">Analysis</b>",
           "",
           "[1500:1599]",
           "Chunk index: <b>15</b>",
           4.8765997886657715,
           0.6817
          ],
          [
           "Reconstruction Error",
           "<b style=\"color:Colors.INDIGO_PERSIAN;line-height:60px\">Analysis</b>",
           "",
           "[1600:1699]",
           "Chunk index: <b>16</b>",
           4.1996002197265625,
           0.7695
          ],
          [
           "Reconstruction Error",
           "<b style=\"color:Colors.INDIGO_PERSIAN;line-height:60px\">Analysis</b>",
           "",
           "[1700:1799]",
           "Chunk index: <b>17</b>",
           5.509200096130371,
           0.9644
          ],
          [
           "Reconstruction Error",
           "<b style=\"color:Colors.INDIGO_PERSIAN;line-height:60px\">Analysis</b>",
           "",
           "[1800:1899]",
           "Chunk index: <b>18</b>",
           5.236100196838379,
           0.9917
          ],
          [
           "Reconstruction Error",
           "<b style=\"color:Colors.INDIGO_PERSIAN;line-height:60px\">Analysis</b>",
           "",
           "[1900:1999]",
           "Chunk index: <b>19</b>",
           2.839400053024292,
           0.4844
          ],
          [
           "Reconstruction Error",
           "<b style=\"color:Colors.INDIGO_PERSIAN;line-height:60px\">Analysis</b>",
           "",
           "[2000:2099]",
           "Chunk index: <b>20</b>",
           4.919300079345703,
           0.769
          ],
          [
           "Reconstruction Error",
           "<b style=\"color:Colors.INDIGO_PERSIAN;line-height:60px\">Analysis</b>",
           "",
           "[2100:2199]",
           "Chunk index: <b>21</b>",
           2.272900104522705,
           0.5581
          ],
          [
           "Reconstruction Error",
           "<b style=\"color:Colors.INDIGO_PERSIAN;line-height:60px\">Analysis</b>",
           "",
           "[2200:2299]",
           "Chunk index: <b>22</b>",
           2.973299980163574,
           0.6463
          ],
          [
           "Reconstruction Error",
           "<b style=\"color:Colors.INDIGO_PERSIAN;line-height:60px\">Analysis</b>",
           "",
           "[2300:2399]",
           "Chunk index: <b>23</b>",
           2.556299924850464,
           0.6069
          ],
          [
           "Reconstruction Error",
           "<b style=\"color:Colors.INDIGO_PERSIAN;line-height:60px\">Analysis</b>",
           "",
           "[2400:2499]",
           "Chunk index: <b>24</b>",
           3.2943999767303467,
           0.6885
          ],
          [
           "Reconstruction Error",
           "<b style=\"color:Colors.INDIGO_PERSIAN;line-height:60px\">Analysis</b>",
           "",
           "[2500:2599]",
           "Chunk index: <b>25</b>",
           3.954900026321411,
           0.62
          ],
          [
           "Reconstruction Error",
           "<b style=\"color:Colors.INDIGO_PERSIAN;line-height:60px\">Analysis</b>",
           "",
           "[2600:2699]",
           "Chunk index: <b>26</b>",
           4.63539981842041,
           0.7556
          ],
          [
           "Reconstruction Error",
           "<b style=\"color:Colors.INDIGO_PERSIAN;line-height:60px\">Analysis</b>",
           "",
           "[2700:2799]",
           "Chunk index: <b>27</b>",
           3.4616000652313232,
           0.4863
          ],
          [
           "Reconstruction Error",
           "<b style=\"color:Colors.INDIGO_PERSIAN;line-height:60px\">Analysis</b>",
           "",
           "[2800:2899]",
           "Chunk index: <b>28</b>",
           2.094099998474121,
           0.3472
          ],
          [
           "Reconstruction Error",
           "<b style=\"color:Colors.INDIGO_PERSIAN;line-height:60px\">Analysis</b>",
           "",
           "[2900:2999]",
           "Chunk index: <b>29</b>",
           2.7560999393463135,
           0.6608
          ],
          [
           "Reconstruction Error",
           "<b style=\"color:Colors.INDIGO_PERSIAN;line-height:60px\">Analysis</b>",
           "",
           "[3000:3099]",
           "Chunk index: <b>30</b>",
           3.550100088119507,
           0.4354
          ],
          [
           "Reconstruction Error",
           "<b style=\"color:Colors.INDIGO_PERSIAN;line-height:60px\">Analysis</b>",
           "",
           "[3100:3199]",
           "Chunk index: <b>31</b>",
           2.0840001106262207,
           0.4348
          ],
          [
           "Reconstruction Error",
           "<b style=\"color:Colors.INDIGO_PERSIAN;line-height:60px\">Analysis</b>",
           "",
           "[3200:3299]",
           "Chunk index: <b>32</b>",
           2.660900115966797,
           0.3802
          ],
          [
           "Reconstruction Error",
           "<b style=\"color:Colors.INDIGO_PERSIAN;line-height:60px\">Analysis</b>",
           "",
           "[3300:3399]",
           "Chunk index: <b>33</b>",
           2.998300075531006,
           0.6456
          ],
          [
           "Reconstruction Error",
           "<b style=\"color:Colors.INDIGO_PERSIAN;line-height:60px\">Analysis</b>",
           "",
           "[3400:3499]",
           "Chunk index: <b>34</b>",
           1.292199969291687,
           0.1455
          ],
          [
           "Reconstruction Error",
           "<b style=\"color:Colors.INDIGO_PERSIAN;line-height:60px\">Analysis</b>",
           "",
           "[3500:3599]",
           "Chunk index: <b>35</b>",
           2.3752999305725098,
           0.359
          ],
          [
           "Reconstruction Error",
           "<b style=\"color:Colors.INDIGO_PERSIAN;line-height:60px\">Analysis</b>",
           "",
           "[3600:3699]",
           "Chunk index: <b>36</b>",
           2.42549991607666,
           0.344
          ],
          [
           "Reconstruction Error",
           "<b style=\"color:Colors.INDIGO_PERSIAN;line-height:60px\">Analysis</b>",
           "",
           "[3700:3799]",
           "Chunk index: <b>37</b>",
           1.3980000019073486,
           0.2485
          ],
          [
           "Reconstruction Error",
           "<b style=\"color:Colors.INDIGO_PERSIAN;line-height:60px\">Analysis</b>",
           "",
           "[3800:3899]",
           "Chunk index: <b>38</b>",
           2.128700017929077,
           0.4134
          ],
          [
           "Reconstruction Error",
           "<b style=\"color:Colors.INDIGO_PERSIAN;line-height:60px\">Analysis</b>",
           "",
           "[3900:3999]",
           "Chunk index: <b>39</b>",
           1.57669997215271,
           0.2369
          ],
          [
           "Reconstruction Error",
           "<b style=\"color:Colors.INDIGO_PERSIAN;line-height:60px\">Analysis</b>",
           "",
           "[4000:4099]",
           "Chunk index: <b>40</b>",
           3.1765999794006348,
           0.4761
          ],
          [
           "Reconstruction Error",
           "<b style=\"color:Colors.INDIGO_PERSIAN;line-height:60px\">Analysis</b>",
           "",
           "[4100:4199]",
           "Chunk index: <b>41</b>",
           2.3213000297546387,
           0.2577
          ],
          [
           "Reconstruction Error",
           "<b style=\"color:Colors.INDIGO_PERSIAN;line-height:60px\">Analysis</b>",
           "",
           "[4200:4299]",
           "Chunk index: <b>42</b>",
           2.48580002784729,
           0.292
          ],
          [
           "Reconstruction Error",
           "<b style=\"color:Colors.INDIGO_PERSIAN;line-height:60px\">Analysis</b>",
           "",
           "[4300:4379]",
           "Chunk index: <b>43</b>",
           2.1958999633789062,
           0.3154
          ]
         ],
         "hovertemplate": "%{customdata[1]} &nbsp; &nbsp; %{customdata[2]} <br />Chunk: <b>%{customdata[3]}</b> &nbsp; &nbsp; %{customdata[4]} <br />%{customdata[0]}: <b>%{customdata[5]}</b><br />Confidence band: +/- <b>%{customdata[6]}</b><br /><extra></extra>",
         "legendgroup": "metric_analysis",
         "marker": {
          "color": "#00c8e5",
          "size": 5,
          "symbol": "circle"
         },
         "mode": "markers",
         "name": "Metric",
         "showlegend": false,
         "type": "scatter",
         "x": [
          44.5,
          45.5,
          46.5,
          47.5,
          48.5,
          49.5,
          50.5,
          51.5,
          52.5,
          53.5,
          54.5,
          55.5,
          56.5,
          57.5,
          58.5,
          59.5,
          60.5,
          61.5,
          62.5,
          63.5,
          64.5,
          65.5,
          66.5,
          67.5,
          68.5,
          69.5,
          70.5,
          71.5,
          72.5,
          73.5,
          74.5,
          75.5,
          76.5,
          77.5,
          78.5,
          79.5,
          80.5,
          81.5,
          82.5,
          83.5,
          84.5,
          85.5,
          86.5,
          87.5
         ],
         "y": [
          3.038670063018799,
          2.191173553466797,
          2.6602907180786133,
          2.6089611053466797,
          5.822287559509277,
          7.615030288696289,
          5.020349025726318,
          2.9743247032165527,
          2.7319836616516113,
          5.330575466156006,
          3.8106372356414795,
          3.479923963546753,
          3.0733084678649902,
          5.907567977905273,
          7.21533203125,
          4.876611709594727,
          4.199648857116699,
          5.5091986656188965,
          5.2360968589782715,
          2.8394150733947754,
          4.9192795753479,
          2.272937059402466,
          2.9733498096466064,
          2.5562872886657715,
          3.294424533843994,
          3.9549224376678467,
          4.6354451179504395,
          3.4615917205810547,
          2.094073534011841,
          2.756117820739746,
          3.5501058101654053,
          2.0840094089508057,
          2.660890579223633,
          2.9982705116271973,
          1.2921724319458008,
          2.3753089904785156,
          2.4254515171051025,
          1.3979771137237549,
          2.12872314453125,
          1.576688289642334,
          3.176572799682617,
          2.321303606033325,
          2.4857802391052246,
          2.1959424018859863,
          2.1959424018859863
         ]
        },
        {
         "hoverinfo": "skip",
         "legendgroup": "alert",
         "marker": {
          "color": "#DD4040",
          "size": 8,
          "symbol": "diamond"
         },
         "mode": "markers",
         "name": "Alert",
         "showlegend": true,
         "type": "scatter",
         "x": [
          49.5,
          58.5
         ],
         "y": [
          7.615030288696289,
          7.21533203125
         ]
        },
        {
         "hoverinfo": "skip",
         "legendgroup": "thresh",
         "line": {
          "color": "#DD4040",
          "dash": "dash",
          "width": 2
         },
         "mode": "lines",
         "name": "Threshold",
         "showlegend": false,
         "type": "scatter",
         "x": [
          0,
          1,
          2,
          3,
          4,
          5,
          6,
          7,
          8,
          9,
          10,
          11,
          12,
          13,
          14,
          15,
          16,
          17,
          18,
          19,
          20,
          21,
          22,
          23,
          24,
          25,
          26,
          27,
          28,
          29,
          30,
          31,
          32,
          33,
          34,
          35,
          36,
          37,
          38,
          39,
          40,
          41,
          42,
          43,
          44
         ],
         "y": [
          6.233947038650513,
          6.233947038650513,
          6.233947038650513,
          6.233947038650513,
          6.233947038650513,
          6.233947038650513,
          6.233947038650513,
          6.233947038650513,
          6.233947038650513,
          6.233947038650513,
          6.233947038650513,
          6.233947038650513,
          6.233947038650513,
          6.233947038650513,
          6.233947038650513,
          6.233947038650513,
          6.233947038650513,
          6.233947038650513,
          6.233947038650513,
          6.233947038650513,
          6.233947038650513,
          6.233947038650513,
          6.233947038650513,
          6.233947038650513,
          6.233947038650513,
          6.233947038650513,
          6.233947038650513,
          6.233947038650513,
          6.233947038650513,
          6.233947038650513,
          6.233947038650513,
          6.233947038650513,
          6.233947038650513,
          6.233947038650513,
          6.233947038650513,
          6.233947038650513,
          6.233947038650513,
          6.233947038650513,
          6.233947038650513,
          6.233947038650513,
          6.233947038650513,
          6.233947038650513,
          6.233947038650513,
          6.233947038650513,
          6.233947038650513
         ]
        },
        {
         "hoverinfo": "skip",
         "legendgroup": "thresh",
         "line": {
          "color": "#DD4040",
          "dash": "dash",
          "width": 2
         },
         "mode": "lines",
         "name": "Threshold",
         "showlegend": false,
         "type": "scatter",
         "x": [
          44,
          45,
          46,
          47,
          48,
          49,
          50,
          51,
          52,
          53,
          54,
          55,
          56,
          57,
          58,
          59,
          60,
          61,
          62,
          63,
          64,
          65,
          66,
          67,
          68,
          69,
          70,
          71,
          72,
          73,
          74,
          75,
          76,
          77,
          78,
          79,
          80,
          81,
          82,
          83,
          84,
          85,
          86,
          87,
          88
         ],
         "y": [
          6.233947038650513,
          6.233947038650513,
          6.233947038650513,
          6.233947038650513,
          6.233947038650513,
          6.233947038650513,
          6.233947038650513,
          6.233947038650513,
          6.233947038650513,
          6.233947038650513,
          6.233947038650513,
          6.233947038650513,
          6.233947038650513,
          6.233947038650513,
          6.233947038650513,
          6.233947038650513,
          6.233947038650513,
          6.233947038650513,
          6.233947038650513,
          6.233947038650513,
          6.233947038650513,
          6.233947038650513,
          6.233947038650513,
          6.233947038650513,
          6.233947038650513,
          6.233947038650513,
          6.233947038650513,
          6.233947038650513,
          6.233947038650513,
          6.233947038650513,
          6.233947038650513,
          6.233947038650513,
          6.233947038650513,
          6.233947038650513,
          6.233947038650513,
          6.233947038650513,
          6.233947038650513,
          6.233947038650513,
          6.233947038650513,
          6.233947038650513,
          6.233947038650513,
          6.233947038650513,
          6.233947038650513,
          6.233947038650513,
          6.233947038650513
         ]
        },
        {
         "connectgaps": true,
         "hoverinfo": "skip",
         "line": {
          "color": "rgba(0,0,0,0)",
          "shape": "hv"
         },
         "mode": "lines",
         "name": "Confidence band",
         "showlegend": false,
         "type": "scatter",
         "x": [
          0,
          1,
          2,
          3,
          4,
          5,
          6,
          7,
          8,
          9,
          10,
          11,
          12,
          13,
          14,
          15,
          16,
          17,
          18,
          19,
          20,
          21,
          22,
          23,
          24,
          25,
          26,
          27,
          28,
          29,
          30,
          31,
          32,
          33,
          34,
          35,
          36,
          37,
          38,
          39,
          40,
          41,
          42,
          43,
          44
         ],
         "y": [
          2.122905457019806,
          2.048458033800125,
          1.305223861336708,
          1.9444142699241638,
          2.7035849690437317,
          2.856569516658783,
          1.6987008333206177,
          2.002038812637329,
          1.5669035255908965,
          1.633026158809662,
          2.2324814438819884,
          3.5460505723953246,
          1.6247679382562636,
          2.3475687146186828,
          3.0062414407730103,
          4.581938123703003,
          3.022618842124939,
          2.1874117136001585,
          3.1411582708358763,
          2.259720093011856,
          2.019098609685898,
          2.9797179281711577,
          2.8822535157203673,
          1.6664768159389496,
          1.5850906372070312,
          2.0624478697776794,
          1.6830431789159774,
          2.1762675642967224,
          1.931881046295166,
          2.215377151966095,
          1.9495613783597947,
          1.901341724395752,
          2.033070707321167,
          1.999575638771057,
          2.3641408681869507,
          2.274401593208313,
          1.818123036623001,
          2.6537526845932007,
          7.881589078903199,
          6.6103603601455685,
          4.026613998413086,
          6.7167470216751095,
          6.092205357551575,
          3.0729367870447923,
          3.0729367870447923
         ]
        },
        {
         "connectgaps": true,
         "fill": "tonexty",
         "fillcolor": "rgba(0.0, 0.7843137254901961, 0.8980392156862745, 0.2)",
         "hoverinfo": "skip",
         "line": {
          "color": "rgba(0,0,0,0)",
          "shape": "hv"
         },
         "mode": "lines",
         "name": "Confidence band",
         "showlegend": true,
         "type": "scatter",
         "x": [
          0,
          1,
          2,
          3,
          4,
          5,
          6,
          7,
          8,
          9,
          10,
          11,
          12,
          13,
          14,
          15,
          16,
          17,
          18,
          19,
          20,
          21,
          22,
          23,
          24,
          25,
          26,
          27,
          28,
          29,
          30,
          31,
          32,
          33,
          34,
          35,
          36,
          37,
          38,
          39,
          40,
          41,
          42,
          43,
          44
         ],
         "y": [
          1.6204634070396424,
          1.5203839004039765,
          1.0808568805456162,
          1.5837110161781311,
          2.0286685824394226,
          2.083202612400055,
          1.3512426137924194,
          1.560337209701538,
          1.213288849592209,
          1.2977113366127013,
          1.5947044253349305,
          2.739658808708191,
          1.363263449072838,
          1.7790649294853211,
          2.257299304008484,
          3.9314934253692626,
          2.1877493143081663,
          1.6333189725875854,
          2.4487436532974245,
          1.7436592519283294,
          1.5803426802158356,
          2.5030939996242525,
          2.4110814452171327,
          1.2955550253391266,
          1.2883989810943604,
          1.3502556443214417,
          1.3960104614496232,
          1.7296536564826965,
          1.504116916656494,
          1.8558441996574402,
          1.6875269204378127,
          1.3991171836853027,
          1.6755412578582765,
          1.6418158769607545,
          1.7444597482681274,
          1.7899604558944702,
          1.4788449466228486,
          1.8142362833023071,
          6.108718729019165,
          4.729680800437928,
          3.1569826126098635,
          4.938077235221863,
          4.291161227226257,
          2.46445058401844,
          2.46445058401844
         ]
        },
        {
         "connectgaps": true,
         "hoverinfo": "skip",
         "line": {
          "color": "rgba(0,0,0,0)",
          "shape": "hv"
         },
         "mode": "lines",
         "name": "Confidence band",
         "showlegend": false,
         "type": "scatter",
         "x": [
          44,
          45,
          46,
          47,
          48,
          49,
          50,
          51,
          52,
          53,
          54,
          55,
          56,
          57,
          58,
          59,
          60,
          61,
          62,
          63,
          64,
          65,
          66,
          67,
          68,
          69,
          70,
          71,
          72,
          73,
          74,
          75,
          76,
          77,
          78,
          79,
          80,
          81,
          82,
          83,
          84,
          85,
          86,
          87,
          88
         ],
         "y": [
          3.5087969303131104,
          2.5789628624916077,
          3.0877610564231874,
          3.19820955991745,
          6.659698033332825,
          8.884556865692138,
          5.827400469779969,
          3.644498586654663,
          3.3046024203300477,
          6.273294472694397,
          4.466872715950013,
          4.146833205223084,
          3.7760834217071535,
          6.785322737693787,
          8.745504808425903,
          5.558280324935913,
          4.969164252281189,
          6.473641061782837,
          6.227845001220703,
          3.3238577485084533,
          5.688321542739868,
          2.831028938293457,
          3.619686651229858,
          3.1632224798202513,
          3.9829056024551392,
          4.574937438964843,
          5.3910339832305905,
          3.947914016246796,
          2.4412423968315125,
          3.416883087158203,
          3.9854639530181886,
          2.5188430905342103,
          3.041099286079407,
          3.643894171714783,
          1.4376506745815276,
          2.73432914018631,
          2.769404447078705,
          1.646511173248291,
          2.5421487927436828,
          1.8135889291763305,
          3.6526987314224244,
          2.579008585214615,
          2.7777533173561095,
          2.511375446947258,
          2.511375446947258
         ]
        },
        {
         "connectgaps": true,
         "fill": "tonexty",
         "fillcolor": "rgba(0.0, 0.7843137254901961, 0.8980392156862745, 0.2)",
         "hoverinfo": "skip",
         "line": {
          "color": "rgba(0,0,0,0)",
          "shape": "hv"
         },
         "mode": "lines",
         "name": "Confidence band",
         "showlegend": false,
         "type": "scatter",
         "x": [
          44,
          45,
          46,
          47,
          48,
          49,
          50,
          51,
          52,
          53,
          54,
          55,
          56,
          57,
          58,
          59,
          60,
          61,
          62,
          63,
          64,
          65,
          66,
          67,
          68,
          69,
          70,
          71,
          72,
          73,
          74,
          75,
          76,
          77,
          78,
          79,
          80,
          81,
          82,
          83,
          84,
          85,
          86,
          87,
          88
         ],
         "y": [
          2.5685431957244873,
          1.803384244441986,
          2.232820379734039,
          2.0197126507759093,
          4.98487708568573,
          6.34550371170044,
          4.213297581672668,
          2.3041508197784424,
          2.159364902973175,
          4.387856459617614,
          3.154401755332947,
          2.8130147218704225,
          2.370533514022827,
          5.02981321811676,
          5.6851592540740965,
          4.19494309425354,
          3.4301334619522095,
          4.544756269454956,
          4.24434871673584,
          2.3549723982810975,
          4.150237607955932,
          1.7148451805114746,
          2.3270129680633547,
          1.9493520975112915,
          2.605943465232849,
          3.3349074363708495,
          3.879856252670288,
          2.9752694249153135,
          1.7469046711921692,
          2.095352554321289,
          3.114747667312622,
          1.649175727367401,
          2.280681872367859,
          2.3526468515396117,
          1.146694189310074,
          2.0162888407707213,
          2.0814985871315,
          1.1494430541992187,
          1.7152974963188172,
          1.3397876501083374,
          2.70044686794281,
          2.0635986268520354,
          2.1938071608543397,
          1.8805093568247147,
          1.8805093568247147
         ]
        }
       ],
       "layout": {
        "annotations": [
         {
          "showarrow": false,
          "text": "Reference",
          "x": 21.5,
          "xshift": 10,
          "y": 1.1,
          "yref": "y domain"
         },
         {
          "showarrow": false,
          "text": "Analysis",
          "x": 65.5,
          "xshift": 15,
          "y": 1.1,
          "yref": "y domain"
         }
        ],
        "hoverlabel": {
         "bgcolor": "white",
         "font": {
          "size": 14
         }
        },
        "legend": {
         "itemclick": false,
         "itemdoubleclick": false,
         "traceorder": "grouped",
         "x": 0.05,
         "y": 1
        },
        "paper_bgcolor": "rgba(255,255,255,1)",
        "plot_bgcolor": "rgba(255,255,255,1)",
        "shapes": [
         {
          "layer": "below",
          "line": {
           "color": "#666666",
           "width": 1
          },
          "type": "line",
          "x0": 44,
          "x1": 44,
          "xref": "x",
          "y0": 0,
          "y1": 1,
          "yref": "y domain"
         }
        ],
        "template": {
         "data": {
          "bar": [
           {
            "error_x": {
             "color": "#2a3f5f"
            },
            "error_y": {
             "color": "#2a3f5f"
            },
            "marker": {
             "line": {
              "color": "#E5ECF6",
              "width": 0.5
             },
             "pattern": {
              "fillmode": "overlay",
              "size": 10,
              "solidity": 0.2
             }
            },
            "type": "bar"
           }
          ],
          "barpolar": [
           {
            "marker": {
             "line": {
              "color": "#E5ECF6",
              "width": 0.5
             },
             "pattern": {
              "fillmode": "overlay",
              "size": 10,
              "solidity": 0.2
             }
            },
            "type": "barpolar"
           }
          ],
          "carpet": [
           {
            "aaxis": {
             "endlinecolor": "#2a3f5f",
             "gridcolor": "white",
             "linecolor": "white",
             "minorgridcolor": "white",
             "startlinecolor": "#2a3f5f"
            },
            "baxis": {
             "endlinecolor": "#2a3f5f",
             "gridcolor": "white",
             "linecolor": "white",
             "minorgridcolor": "white",
             "startlinecolor": "#2a3f5f"
            },
            "type": "carpet"
           }
          ],
          "choropleth": [
           {
            "colorbar": {
             "outlinewidth": 0,
             "ticks": ""
            },
            "type": "choropleth"
           }
          ],
          "contour": [
           {
            "colorbar": {
             "outlinewidth": 0,
             "ticks": ""
            },
            "colorscale": [
             [
              0,
              "#0d0887"
             ],
             [
              0.1111111111111111,
              "#46039f"
             ],
             [
              0.2222222222222222,
              "#7201a8"
             ],
             [
              0.3333333333333333,
              "#9c179e"
             ],
             [
              0.4444444444444444,
              "#bd3786"
             ],
             [
              0.5555555555555556,
              "#d8576b"
             ],
             [
              0.6666666666666666,
              "#ed7953"
             ],
             [
              0.7777777777777778,
              "#fb9f3a"
             ],
             [
              0.8888888888888888,
              "#fdca26"
             ],
             [
              1,
              "#f0f921"
             ]
            ],
            "type": "contour"
           }
          ],
          "contourcarpet": [
           {
            "colorbar": {
             "outlinewidth": 0,
             "ticks": ""
            },
            "type": "contourcarpet"
           }
          ],
          "heatmap": [
           {
            "colorbar": {
             "outlinewidth": 0,
             "ticks": ""
            },
            "colorscale": [
             [
              0,
              "#0d0887"
             ],
             [
              0.1111111111111111,
              "#46039f"
             ],
             [
              0.2222222222222222,
              "#7201a8"
             ],
             [
              0.3333333333333333,
              "#9c179e"
             ],
             [
              0.4444444444444444,
              "#bd3786"
             ],
             [
              0.5555555555555556,
              "#d8576b"
             ],
             [
              0.6666666666666666,
              "#ed7953"
             ],
             [
              0.7777777777777778,
              "#fb9f3a"
             ],
             [
              0.8888888888888888,
              "#fdca26"
             ],
             [
              1,
              "#f0f921"
             ]
            ],
            "type": "heatmap"
           }
          ],
          "heatmapgl": [
           {
            "colorbar": {
             "outlinewidth": 0,
             "ticks": ""
            },
            "colorscale": [
             [
              0,
              "#0d0887"
             ],
             [
              0.1111111111111111,
              "#46039f"
             ],
             [
              0.2222222222222222,
              "#7201a8"
             ],
             [
              0.3333333333333333,
              "#9c179e"
             ],
             [
              0.4444444444444444,
              "#bd3786"
             ],
             [
              0.5555555555555556,
              "#d8576b"
             ],
             [
              0.6666666666666666,
              "#ed7953"
             ],
             [
              0.7777777777777778,
              "#fb9f3a"
             ],
             [
              0.8888888888888888,
              "#fdca26"
             ],
             [
              1,
              "#f0f921"
             ]
            ],
            "type": "heatmapgl"
           }
          ],
          "histogram": [
           {
            "marker": {
             "pattern": {
              "fillmode": "overlay",
              "size": 10,
              "solidity": 0.2
             }
            },
            "type": "histogram"
           }
          ],
          "histogram2d": [
           {
            "colorbar": {
             "outlinewidth": 0,
             "ticks": ""
            },
            "colorscale": [
             [
              0,
              "#0d0887"
             ],
             [
              0.1111111111111111,
              "#46039f"
             ],
             [
              0.2222222222222222,
              "#7201a8"
             ],
             [
              0.3333333333333333,
              "#9c179e"
             ],
             [
              0.4444444444444444,
              "#bd3786"
             ],
             [
              0.5555555555555556,
              "#d8576b"
             ],
             [
              0.6666666666666666,
              "#ed7953"
             ],
             [
              0.7777777777777778,
              "#fb9f3a"
             ],
             [
              0.8888888888888888,
              "#fdca26"
             ],
             [
              1,
              "#f0f921"
             ]
            ],
            "type": "histogram2d"
           }
          ],
          "histogram2dcontour": [
           {
            "colorbar": {
             "outlinewidth": 0,
             "ticks": ""
            },
            "colorscale": [
             [
              0,
              "#0d0887"
             ],
             [
              0.1111111111111111,
              "#46039f"
             ],
             [
              0.2222222222222222,
              "#7201a8"
             ],
             [
              0.3333333333333333,
              "#9c179e"
             ],
             [
              0.4444444444444444,
              "#bd3786"
             ],
             [
              0.5555555555555556,
              "#d8576b"
             ],
             [
              0.6666666666666666,
              "#ed7953"
             ],
             [
              0.7777777777777778,
              "#fb9f3a"
             ],
             [
              0.8888888888888888,
              "#fdca26"
             ],
             [
              1,
              "#f0f921"
             ]
            ],
            "type": "histogram2dcontour"
           }
          ],
          "mesh3d": [
           {
            "colorbar": {
             "outlinewidth": 0,
             "ticks": ""
            },
            "type": "mesh3d"
           }
          ],
          "parcoords": [
           {
            "line": {
             "colorbar": {
              "outlinewidth": 0,
              "ticks": ""
             }
            },
            "type": "parcoords"
           }
          ],
          "pie": [
           {
            "automargin": true,
            "type": "pie"
           }
          ],
          "scatter": [
           {
            "fillpattern": {
             "fillmode": "overlay",
             "size": 10,
             "solidity": 0.2
            },
            "type": "scatter"
           }
          ],
          "scatter3d": [
           {
            "line": {
             "colorbar": {
              "outlinewidth": 0,
              "ticks": ""
             }
            },
            "marker": {
             "colorbar": {
              "outlinewidth": 0,
              "ticks": ""
             }
            },
            "type": "scatter3d"
           }
          ],
          "scattercarpet": [
           {
            "marker": {
             "colorbar": {
              "outlinewidth": 0,
              "ticks": ""
             }
            },
            "type": "scattercarpet"
           }
          ],
          "scattergeo": [
           {
            "marker": {
             "colorbar": {
              "outlinewidth": 0,
              "ticks": ""
             }
            },
            "type": "scattergeo"
           }
          ],
          "scattergl": [
           {
            "marker": {
             "colorbar": {
              "outlinewidth": 0,
              "ticks": ""
             }
            },
            "type": "scattergl"
           }
          ],
          "scattermapbox": [
           {
            "marker": {
             "colorbar": {
              "outlinewidth": 0,
              "ticks": ""
             }
            },
            "type": "scattermapbox"
           }
          ],
          "scatterpolar": [
           {
            "marker": {
             "colorbar": {
              "outlinewidth": 0,
              "ticks": ""
             }
            },
            "type": "scatterpolar"
           }
          ],
          "scatterpolargl": [
           {
            "marker": {
             "colorbar": {
              "outlinewidth": 0,
              "ticks": ""
             }
            },
            "type": "scatterpolargl"
           }
          ],
          "scatterternary": [
           {
            "marker": {
             "colorbar": {
              "outlinewidth": 0,
              "ticks": ""
             }
            },
            "type": "scatterternary"
           }
          ],
          "surface": [
           {
            "colorbar": {
             "outlinewidth": 0,
             "ticks": ""
            },
            "colorscale": [
             [
              0,
              "#0d0887"
             ],
             [
              0.1111111111111111,
              "#46039f"
             ],
             [
              0.2222222222222222,
              "#7201a8"
             ],
             [
              0.3333333333333333,
              "#9c179e"
             ],
             [
              0.4444444444444444,
              "#bd3786"
             ],
             [
              0.5555555555555556,
              "#d8576b"
             ],
             [
              0.6666666666666666,
              "#ed7953"
             ],
             [
              0.7777777777777778,
              "#fb9f3a"
             ],
             [
              0.8888888888888888,
              "#fdca26"
             ],
             [
              1,
              "#f0f921"
             ]
            ],
            "type": "surface"
           }
          ],
          "table": [
           {
            "cells": {
             "fill": {
              "color": "#EBF0F8"
             },
             "line": {
              "color": "white"
             }
            },
            "header": {
             "fill": {
              "color": "#C8D4E3"
             },
             "line": {
              "color": "white"
             }
            },
            "type": "table"
           }
          ]
         },
         "layout": {
          "annotationdefaults": {
           "arrowcolor": "#2a3f5f",
           "arrowhead": 0,
           "arrowwidth": 1
          },
          "autotypenumbers": "strict",
          "coloraxis": {
           "colorbar": {
            "outlinewidth": 0,
            "ticks": ""
           }
          },
          "colorscale": {
           "diverging": [
            [
             0,
             "#8e0152"
            ],
            [
             0.1,
             "#c51b7d"
            ],
            [
             0.2,
             "#de77ae"
            ],
            [
             0.3,
             "#f1b6da"
            ],
            [
             0.4,
             "#fde0ef"
            ],
            [
             0.5,
             "#f7f7f7"
            ],
            [
             0.6,
             "#e6f5d0"
            ],
            [
             0.7,
             "#b8e186"
            ],
            [
             0.8,
             "#7fbc41"
            ],
            [
             0.9,
             "#4d9221"
            ],
            [
             1,
             "#276419"
            ]
           ],
           "sequential": [
            [
             0,
             "#0d0887"
            ],
            [
             0.1111111111111111,
             "#46039f"
            ],
            [
             0.2222222222222222,
             "#7201a8"
            ],
            [
             0.3333333333333333,
             "#9c179e"
            ],
            [
             0.4444444444444444,
             "#bd3786"
            ],
            [
             0.5555555555555556,
             "#d8576b"
            ],
            [
             0.6666666666666666,
             "#ed7953"
            ],
            [
             0.7777777777777778,
             "#fb9f3a"
            ],
            [
             0.8888888888888888,
             "#fdca26"
            ],
            [
             1,
             "#f0f921"
            ]
           ],
           "sequentialminus": [
            [
             0,
             "#0d0887"
            ],
            [
             0.1111111111111111,
             "#46039f"
            ],
            [
             0.2222222222222222,
             "#7201a8"
            ],
            [
             0.3333333333333333,
             "#9c179e"
            ],
            [
             0.4444444444444444,
             "#bd3786"
            ],
            [
             0.5555555555555556,
             "#d8576b"
            ],
            [
             0.6666666666666666,
             "#ed7953"
            ],
            [
             0.7777777777777778,
             "#fb9f3a"
            ],
            [
             0.8888888888888888,
             "#fdca26"
            ],
            [
             1,
             "#f0f921"
            ]
           ]
          },
          "colorway": [
           "#636efa",
           "#EF553B",
           "#00cc96",
           "#ab63fa",
           "#FFA15A",
           "#19d3f3",
           "#FF6692",
           "#B6E880",
           "#FF97FF",
           "#FECB52"
          ],
          "font": {
           "color": "#2a3f5f"
          },
          "geo": {
           "bgcolor": "white",
           "lakecolor": "white",
           "landcolor": "#E5ECF6",
           "showlakes": true,
           "showland": true,
           "subunitcolor": "white"
          },
          "hoverlabel": {
           "align": "left"
          },
          "hovermode": "closest",
          "mapbox": {
           "style": "light"
          },
          "paper_bgcolor": "white",
          "plot_bgcolor": "#E5ECF6",
          "polar": {
           "angularaxis": {
            "gridcolor": "white",
            "linecolor": "white",
            "ticks": ""
           },
           "bgcolor": "#E5ECF6",
           "radialaxis": {
            "gridcolor": "white",
            "linecolor": "white",
            "ticks": ""
           }
          },
          "scene": {
           "xaxis": {
            "backgroundcolor": "#E5ECF6",
            "gridcolor": "white",
            "gridwidth": 2,
            "linecolor": "white",
            "showbackground": true,
            "ticks": "",
            "zerolinecolor": "white"
           },
           "yaxis": {
            "backgroundcolor": "#E5ECF6",
            "gridcolor": "white",
            "gridwidth": 2,
            "linecolor": "white",
            "showbackground": true,
            "ticks": "",
            "zerolinecolor": "white"
           },
           "zaxis": {
            "backgroundcolor": "#E5ECF6",
            "gridcolor": "white",
            "gridwidth": 2,
            "linecolor": "white",
            "showbackground": true,
            "ticks": "",
            "zerolinecolor": "white"
           }
          },
          "shapedefaults": {
           "line": {
            "color": "#2a3f5f"
           }
          },
          "ternary": {
           "aaxis": {
            "gridcolor": "white",
            "linecolor": "white",
            "ticks": ""
           },
           "baxis": {
            "gridcolor": "white",
            "linecolor": "white",
            "ticks": ""
           },
           "bgcolor": "#E5ECF6",
           "caxis": {
            "gridcolor": "white",
            "linecolor": "white",
            "ticks": ""
           }
          },
          "title": {
           "x": 0.05
          },
          "xaxis": {
           "automargin": true,
           "gridcolor": "white",
           "linecolor": "white",
           "ticks": "",
           "title": {
            "standoff": 15
           },
           "zerolinecolor": "white",
           "zerolinewidth": 2
          },
          "yaxis": {
           "automargin": true,
           "gridcolor": "white",
           "linecolor": "white",
           "ticks": "",
           "title": {
            "standoff": 15
           },
           "zerolinecolor": "white",
           "zerolinewidth": 2
          }
         }
        },
        "title": {
         "text": ""
        },
        "xaxis": {
         "linecolor": "#3b0280",
         "matches": "x",
         "mirror": true,
         "showgrid": false,
         "title": {
          "text": "Chunk"
         },
         "zeroline": false
        },
        "yaxis": {
         "linecolor": "#3b0280",
         "mirror": true,
         "showgrid": false,
         "title": {
          "text": "Reconstruction Error"
         },
         "zeroline": false
        }
       }
      }
     },
     "metadata": {},
     "output_type": "display_data"
    }
   ],
   "source": [
    "AirQuality_drift_detector = nml.DataReconstructionDriftCalculator(\n",
    "    column_names=AirQuality_feature_names,\n",
    "    chunk_size=100\n",
    ").fit(reference_data=AirQuality_reference_set)\n",
    "\n",
    "# Calculate drift results\n",
    "AirQuality_drift_results = AirQuality_drift_detector.calculate(data=AirQuality_analysis_set)\n",
    "\n",
    "# Visualize drift\n",
    "# AirQuality_drift_results_plot = AirQuality_drift_results.plot()\n",
    "AirQuality_drift_results_plot = plot_metric(AirQuality_drift_results, title='', metric_display_name='Reconstruction Error',\n",
    "                metric_column_name='reconstruction_error')\n",
    "# PemsBay_drift_results_plot = PemsBay_drift_results.plot()\n",
    "AirQuality_drift_results_plot.write_image('airquality_drift_results.png', width=1000, height=500)\n",
    "AirQuality_drift_results_plot.show()"
   ]
  },
  {
   "cell_type": "code",
   "execution_count": 37,
   "metadata": {},
   "outputs": [],
   "source": [
    "# AirQuality_reference_set['datetime'] = AirQuality_reference_set.index\n",
    "# AirQuality_analysis_set['datetime'] = AirQuality_analysis_set.index\n",
    "\n",
    "# AirQuality_reference_set.reset_index(drop=True, inplace=True)\n",
    "# AirQuality_analysis_set.reset_index(drop=True, inplace=True)"
   ]
  },
  {
   "cell_type": "code",
   "execution_count": 38,
   "metadata": {},
   "outputs": [],
   "source": [
    "# import nannyml as nml\n",
    "# from IPython.display import display\n",
    "\n",
    "# calc = nml.DomainClassifierCalculator(\n",
    "#     feature_column_names=AirQuality_feature_names,\n",
    "#     timestamp_column_name='datetime',\n",
    "#     chunk_size=50\n",
    "# )\n",
    "# calc.fit(AirQuality_reference_set)\n",
    "# results = calc.calculate(AirQuality_analysis_set)\n",
    "\n",
    "# figure = results.plot()\n",
    "# figure.show()"
   ]
  }
 ],
 "metadata": {
  "kernelspec": {
   "display_name": "Thesis",
   "language": "python",
   "name": "python3"
  },
  "language_info": {
   "codemirror_mode": {
    "name": "ipython",
    "version": 3
   },
   "file_extension": ".py",
   "mimetype": "text/x-python",
   "name": "python",
   "nbconvert_exporter": "python",
   "pygments_lexer": "ipython3",
   "version": "3.11.9"
  }
 },
 "nbformat": 4,
 "nbformat_minor": 2
}
