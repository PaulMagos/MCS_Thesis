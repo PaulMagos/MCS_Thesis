{
 "cells": [
  {
   "cell_type": "code",
   "execution_count": 1,
   "metadata": {},
   "outputs": [],
   "source": [
    "import pandas as pd\n",
    "import numpy as np\n",
    "from gretel_synthetics.timeseries_dgan.dgan import DGAN\n",
    "from gretel_synthetics.timeseries_dgan.config import DGANConfig\n",
    "from gretel_synthetics.timeseries_dgan.config import  OutputType\n",
    "from os import path\n",
    "from sklearn.preprocessing import MinMaxScaler\n",
    "from tsl.datasets import AirQuality, MetrLA, PemsBay"
   ]
  },
  {
   "cell_type": "code",
   "execution_count": 2,
   "metadata": {},
   "outputs": [],
   "source": [
    "# Create some random training data\n",
    "df_PemsBay = PemsBay()\n",
    "df_PemsBay = df_PemsBay.dataframe()[-2000:]\n",
    "df_PemsBay.columns = df_PemsBay.columns.droplevel('channels')\n",
    "PemsBay_scaler = MinMaxScaler()\n",
    "df_PemsBay = PemsBay_scaler.fit_transform(df_PemsBay)"
   ]
  },
  {
   "cell_type": "code",
   "execution_count": 3,
   "metadata": {},
   "outputs": [
    {
     "ename": "AttributeError",
     "evalue": "'numpy.ndarray' object has no attribute 'columns'",
     "output_type": "error",
     "traceback": [
      "\u001b[0;31m---------------------------------------------------------------------------\u001b[0m",
      "\u001b[0;31mAttributeError\u001b[0m                            Traceback (most recent call last)",
      "Cell \u001b[0;32mIn[3], line 12\u001b[0m\n\u001b[1;32m      4\u001b[0m \u001b[38;5;28;01melse\u001b[39;00m:\n\u001b[1;32m      5\u001b[0m     model_PemsBay \u001b[38;5;241m=\u001b[39m DGAN(DGANConfig(\n\u001b[1;32m      6\u001b[0m         max_sequence_len\u001b[38;5;241m=\u001b[39m\u001b[38;5;241m325\u001b[39m,\n\u001b[1;32m      7\u001b[0m         sample_len\u001b[38;5;241m=\u001b[39m\u001b[38;5;241m1\u001b[39m,\n\u001b[1;32m      8\u001b[0m         batch_size\u001b[38;5;241m=\u001b[39m\u001b[38;5;241m100\u001b[39m,\n\u001b[1;32m      9\u001b[0m         epochs\u001b[38;5;241m=\u001b[39m\u001b[38;5;241m50\u001b[39m,  \u001b[38;5;66;03m# For real data sets, 100–1000 epochs is typical\u001b[39;00m\n\u001b[1;32m     10\u001b[0m     ))\n\u001b[0;32m---> 12\u001b[0m     \u001b[43mmodel_PemsBay\u001b[49m\u001b[38;5;241;43m.\u001b[39;49m\u001b[43mtrain_dataframe\u001b[49m\u001b[43m(\u001b[49m\n\u001b[1;32m     13\u001b[0m \u001b[43m        \u001b[49m\u001b[43mdf_PemsBay\u001b[49m\u001b[43m,\u001b[49m\n\u001b[1;32m     14\u001b[0m \u001b[43m    \u001b[49m\u001b[43m)\u001b[49m\n\u001b[1;32m     15\u001b[0m \u001b[38;5;66;03m# Generate synthetic data\u001b[39;00m\n\u001b[1;32m     16\u001b[0m synthetic_df_PemsBay \u001b[38;5;241m=\u001b[39m model_PemsBay\u001b[38;5;241m.\u001b[39mgenerate_dataframe(\u001b[38;5;241m1000\u001b[39m)\n",
      "File \u001b[0;32m~/.pyenv/versions/3.11.9/envs/Dopple/lib/python3.11/site-packages/gretel_synthetics/timeseries_dgan/dgan.py:352\u001b[0m, in \u001b[0;36mDGAN.train_dataframe\u001b[0;34m(self, df, attribute_columns, feature_columns, example_id_column, time_column, discrete_columns, df_style, progress_callback)\u001b[0m\n\u001b[1;32m    349\u001b[0m \u001b[38;5;28;01mif\u001b[39;00m \u001b[38;5;28mself\u001b[39m\u001b[38;5;241m.\u001b[39mdata_frame_converter \u001b[38;5;129;01mis\u001b[39;00m \u001b[38;5;28;01mNone\u001b[39;00m:\n\u001b[1;32m    351\u001b[0m     \u001b[38;5;28;01mif\u001b[39;00m df_style \u001b[38;5;241m==\u001b[39m DfStyle\u001b[38;5;241m.\u001b[39mWIDE:\n\u001b[0;32m--> 352\u001b[0m         \u001b[38;5;28mself\u001b[39m\u001b[38;5;241m.\u001b[39mdata_frame_converter \u001b[38;5;241m=\u001b[39m \u001b[43m_WideDataFrameConverter\u001b[49m\u001b[38;5;241;43m.\u001b[39;49m\u001b[43mcreate\u001b[49m\u001b[43m(\u001b[49m\n\u001b[1;32m    353\u001b[0m \u001b[43m            \u001b[49m\u001b[43mdf\u001b[49m\u001b[43m,\u001b[49m\n\u001b[1;32m    354\u001b[0m \u001b[43m            \u001b[49m\u001b[43mattribute_columns\u001b[49m\u001b[38;5;241;43m=\u001b[39;49m\u001b[43mattribute_columns\u001b[49m\u001b[43m,\u001b[49m\n\u001b[1;32m    355\u001b[0m \u001b[43m            \u001b[49m\u001b[43mfeature_columns\u001b[49m\u001b[38;5;241;43m=\u001b[39;49m\u001b[43mfeature_columns\u001b[49m\u001b[43m,\u001b[49m\n\u001b[1;32m    356\u001b[0m \u001b[43m            \u001b[49m\u001b[43mdiscrete_columns\u001b[49m\u001b[38;5;241;43m=\u001b[39;49m\u001b[43mdiscrete_columns\u001b[49m\u001b[43m,\u001b[49m\n\u001b[1;32m    357\u001b[0m \u001b[43m        \u001b[49m\u001b[43m)\u001b[49m\n\u001b[1;32m    358\u001b[0m     \u001b[38;5;28;01melif\u001b[39;00m df_style \u001b[38;5;241m==\u001b[39m DfStyle\u001b[38;5;241m.\u001b[39mLONG:\n\u001b[1;32m    359\u001b[0m         \u001b[38;5;28;01mif\u001b[39;00m example_id_column \u001b[38;5;241m==\u001b[39m \u001b[38;5;28;01mNone\u001b[39;00m \u001b[38;5;129;01mand\u001b[39;00m attribute_columns:\n",
      "File \u001b[0;32m~/.pyenv/versions/3.11.9/envs/Dopple/lib/python3.11/site-packages/gretel_synthetics/timeseries_dgan/dgan.py:1138\u001b[0m, in \u001b[0;36m_WideDataFrameConverter.create\u001b[0;34m(cls, df, attribute_columns, feature_columns, discrete_columns)\u001b[0m\n\u001b[1;32m   1135\u001b[0m     attribute_columns \u001b[38;5;241m=\u001b[39m attribute_columns\n\u001b[1;32m   1137\u001b[0m \u001b[38;5;28;01mif\u001b[39;00m feature_columns \u001b[38;5;129;01mis\u001b[39;00m \u001b[38;5;28;01mNone\u001b[39;00m:\n\u001b[0;32m-> 1138\u001b[0m     feature_columns \u001b[38;5;241m=\u001b[39m [c \u001b[38;5;28;01mfor\u001b[39;00m c \u001b[38;5;129;01min\u001b[39;00m \u001b[43mdf\u001b[49m\u001b[38;5;241;43m.\u001b[39;49m\u001b[43mcolumns\u001b[49m \u001b[38;5;28;01mif\u001b[39;00m c \u001b[38;5;129;01mnot\u001b[39;00m \u001b[38;5;129;01min\u001b[39;00m attribute_columns]\n\u001b[1;32m   1139\u001b[0m \u001b[38;5;28;01melse\u001b[39;00m:\n\u001b[1;32m   1140\u001b[0m     feature_columns \u001b[38;5;241m=\u001b[39m feature_columns\n",
      "\u001b[0;31mAttributeError\u001b[0m: 'numpy.ndarray' object has no attribute 'columns'"
     ]
    }
   ],
   "source": [
    "# Train the model\n",
    "if path.exists('models/PemsBay.model'):\n",
    "    model_PemsBay = DGAN.load('models/PemsBay.model')\n",
    "else:\n",
    "    model_PemsBay = DGAN(DGANConfig(\n",
    "        max_sequence_len=325,\n",
    "        sample_len=1,\n",
    "        batch_size=100,\n",
    "        epochs=50,  # For real data sets, 100–1000 epochs is typical\n",
    "    ))\n",
    "\n",
    "    model_PemsBay.train_dataframe(\n",
    "        df_PemsBay,\n",
    "    )\n",
    "# Generate synthetic data\n",
    "synthetic_df_PemsBay = model_PemsBay.generate_dataframe(1000)\n",
    "synthetic_df_PemsBay.columns = df_PemsBay.columns\n",
    "synthetic_df_PemsBay = PemsBay_scaler.inverse_transform(synthetic_df_PemsBay)"
   ]
  },
  {
   "cell_type": "code",
   "execution_count": 4,
   "metadata": {},
   "outputs": [],
   "source": [
    "df_MetrLA = MetrLA()\n",
    "df_MetrLA = df_MetrLA.dataframe()[-2000:]\n",
    "df_MetrLA.columns = df_MetrLA.columns.droplevel('channels')\n",
    "MetrLA_scaler = MinMaxScaler()\n",
    "df_MetrLA = MetrLA_scaler.fit_transform(df_MetrLA)"
   ]
  },
  {
   "cell_type": "code",
   "execution_count": 5,
   "metadata": {},
   "outputs": [
    {
     "name": "stderr",
     "output_type": "stream",
     "text": [
      "/Users/paulmagos/.pyenv/versions/3.11.9/envs/Dopple/lib/python3.11/site-packages/gretel_synthetics/timeseries_dgan/dgan.py:996: FutureWarning: You are using `torch.load` with `weights_only=False` (the current default value), which uses the default pickle module implicitly. It is possible to construct malicious pickle data which will execute arbitrary code during unpickling (See https://github.com/pytorch/pytorch/blob/main/SECURITY.md#untrusted-models for more details). In a future release, the default value for `weights_only` will be flipped to `True`. This limits the functions that could be executed during unpickling. Arbitrary objects will no longer be allowed to be loaded via this mode unless they are explicitly allowlisted by the user via `torch.serialization.add_safe_globals`. We recommend you start setting `weights_only=True` for any use case where you don't have full control of the loaded file. Please open an issue on GitHub for any issues related to this experimental feature.\n",
      "  state = torch.load(file_name, **kwargs)\n"
     ]
    }
   ],
   "source": [
    "# Train the model\n",
    "if path.exists('models/MetrLA.model'):\n",
    "    model_MetrLA = DGAN.load('models/MetrLA.model')\n",
    "else:\n",
    "    model_MetrLA = DGAN(DGANConfig(\n",
    "        max_sequence_len=207,\n",
    "        sample_len=1,\n",
    "        batch_size=100,\n",
    "        epochs=50, # For real data sets, 100–1000 epochs is typical\n",
    "    ))\n",
    "\n",
    "    model_MetrLA.train_dataframe(\n",
    "        df_MetrLA,\n",
    "    )\n",
    "\n",
    "# Generate synthetic data\n",
    "synthetic_df_MetrLA = model_MetrLA.generate_dataframe(1000)\n",
    "synthetic_df_MetrLA.columns = df_MetrLA.columns\n",
    "synthetic_df_MetrLA = MetrLA_scaler.inverse_transform(synthetic_df_MetrLA)"
   ]
  },
  {
   "cell_type": "code",
   "execution_count": 6,
   "metadata": {},
   "outputs": [],
   "source": [
    "df_AirQuality = AirQuality(impute_nans=True, small=True)\n",
    "df_AirQuality = df_AirQuality.dataframe()[-2000:]\n",
    "df_AirQuality.columns = df_AirQuality.columns.droplevel('channels')\n",
    "AirQuality_scaler = MinMaxScaler()\n",
    "df_AirQuality = AirQuality_scaler.fit_transform(df_AirQuality)"
   ]
  },
  {
   "cell_type": "code",
   "execution_count": 7,
   "metadata": {},
   "outputs": [
    {
     "name": "stderr",
     "output_type": "stream",
     "text": [
      "/Users/paulmagos/.pyenv/versions/3.11.9/envs/Dopple/lib/python3.11/site-packages/gretel_synthetics/timeseries_dgan/dgan.py:996: FutureWarning: You are using `torch.load` with `weights_only=False` (the current default value), which uses the default pickle module implicitly. It is possible to construct malicious pickle data which will execute arbitrary code during unpickling (See https://github.com/pytorch/pytorch/blob/main/SECURITY.md#untrusted-models for more details). In a future release, the default value for `weights_only` will be flipped to `True`. This limits the functions that could be executed during unpickling. Arbitrary objects will no longer be allowed to be loaded via this mode unless they are explicitly allowlisted by the user via `torch.serialization.add_safe_globals`. We recommend you start setting `weights_only=True` for any use case where you don't have full control of the loaded file. Please open an issue on GitHub for any issues related to this experimental feature.\n",
      "  state = torch.load(file_name, **kwargs)\n"
     ]
    }
   ],
   "source": [
    "# Train the model\n",
    "if path.exists('models/AirQuality.model'):\n",
    "    model_AirQuality = DGAN.load('models/AirQuality.model')\n",
    "else:\n",
    "    model_AirQuality = DGAN(DGANConfig(\n",
    "        max_sequence_len=36,\n",
    "        sample_len=1,\n",
    "        batch_size=100,\n",
    "        epochs=50, # For real data sets, 100–1000 epochs is typical\n",
    "    ))\n",
    "\n",
    "    model_AirQuality.train_dataframe(\n",
    "        df_AirQuality,\n",
    "    )\n",
    "\n",
    "# Generate synthetic data\n",
    "synthetic_df_AirQuality = model_AirQuality.generate_dataframe(1000)\n",
    "synthetic_df_AirQuality.columns = df_AirQuality.columns\n",
    "synthetic_df_AirQuality = AirQuality_scaler.inverse_transform(synthetic_df_AirQuality)"
   ]
  },
  {
   "cell_type": "code",
   "execution_count": 8,
   "metadata": {},
   "outputs": [],
   "source": [
    "synthetic_df_AirQuality.to_csv('../../Datasets/GeneratedDatasets/AirQuality/synthteticAirQualityDGAN.csv', index=False)\n",
    "synthetic_df_PemsBay.to_csv('../../Datasets/GeneratedDatasets/PemsBay/synthteticPemsBayDGAN.csv', index=False)\n",
    "synthetic_df_MetrLA.to_csv('../../Datasets/GeneratedDatasets/MetrLA/synthteticMetrLADGAN.csv', index=False)"
   ]
  }
 ],
 "metadata": {
  "kernelspec": {
   "display_name": "Dopple",
   "language": "python",
   "name": "python3"
  },
  "language_info": {
   "codemirror_mode": {
    "name": "ipython",
    "version": 3
   },
   "file_extension": ".py",
   "mimetype": "text/x-python",
   "name": "python",
   "nbconvert_exporter": "python",
   "pygments_lexer": "ipython3",
   "version": "3.11.9"
  }
 },
 "nbformat": 4,
 "nbformat_minor": 2
}
