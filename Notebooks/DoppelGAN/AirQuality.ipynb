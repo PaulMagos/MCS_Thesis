{
 "cells": [
  {
   "cell_type": "code",
   "execution_count": 1,
   "metadata": {},
   "outputs": [],
   "source": [
    "import pandas as pd\n",
    "import numpy as np\n",
    "from gretel_synthetics.timeseries_dgan.dgan import DGAN\n",
    "from gretel_synthetics.timeseries_dgan.config import DGANConfig\n",
    "from gretel_synthetics.timeseries_dgan.config import  OutputType\n",
    "import os\n",
    "from os import path\n",
    "from sklearn.preprocessing import MinMaxScaler\n",
    "from tsl.datasets import AirQuality, MetrLA, PemsBay\n",
    "\n",
    "dataset_name = 'AirQuality'\n",
    "df = AirQuality(small=True)"
   ]
  },
  {
   "cell_type": "code",
   "execution_count": 2,
   "metadata": {},
   "outputs": [],
   "source": [
    "# Create some random training data\n",
    "df = df.dataframe()[-2000:]\n",
    "df.columns = df.columns.droplevel('channels')\n",
    "df_cols = df.columns\n",
    "scaler = MinMaxScaler()\n",
    "df = scaler.fit_transform(df)\n",
    "df = pd.DataFrame(df)\n",
    "df.columns = df_cols"
   ]
  },
  {
   "cell_type": "code",
   "execution_count": 3,
   "metadata": {},
   "outputs": [
    {
     "name": "stderr",
     "output_type": "stream",
     "text": [
      "/Users/paulmagos/.pyenv/versions/3.11.9/envs/Dopple/lib/python3.11/site-packages/gretel_synthetics/timeseries_dgan/dgan.py:688: FutureWarning: `torch.cuda.amp.GradScaler(args...)` is deprecated. Please use `torch.amp.GradScaler('cuda', args...)` instead.\n",
      "  scaler = torch.cuda.amp.GradScaler(enabled=self.config.mixed_precision_training)\n",
      "2024-09-15 18:23:59,166 : MainThread : INFO : epoch: 0\n",
      "/Users/paulmagos/.pyenv/versions/3.11.9/envs/Dopple/lib/python3.11/site-packages/gretel_synthetics/timeseries_dgan/dgan.py:696: FutureWarning: `torch.cuda.amp.autocast(args...)` is deprecated. Please use `torch.amp.autocast('cuda', args...)` instead.\n",
      "  with torch.cuda.amp.autocast(\n",
      "/Users/paulmagos/.pyenv/versions/3.11.9/envs/Dopple/lib/python3.11/site-packages/gretel_synthetics/timeseries_dgan/dgan.py:719: FutureWarning: `torch.cuda.amp.autocast(args...)` is deprecated. Please use `torch.amp.autocast('cuda', args...)` instead.\n",
      "  with torch.cuda.amp.autocast(enabled=True):\n",
      "/Users/paulmagos/.pyenv/versions/3.11.9/envs/Dopple/lib/python3.11/site-packages/torch/amp/autocast_mode.py:265: UserWarning: User provided device_type of 'cuda', but CUDA is not available. Disabling\n",
      "  warnings.warn(\n",
      "/Users/paulmagos/.pyenv/versions/3.11.9/envs/Dopple/lib/python3.11/site-packages/gretel_synthetics/timeseries_dgan/dgan.py:743: FutureWarning: `torch.cuda.amp.autocast(args...)` is deprecated. Please use `torch.amp.autocast('cuda', args...)` instead.\n",
      "  with torch.cuda.amp.autocast(\n",
      "/Users/paulmagos/.pyenv/versions/3.11.9/envs/Dopple/lib/python3.11/site-packages/gretel_synthetics/timeseries_dgan/dgan.py:772: FutureWarning: `torch.cuda.amp.autocast(args...)` is deprecated. Please use `torch.amp.autocast('cuda', args...)` instead.\n",
      "  with torch.cuda.amp.autocast(\n",
      "2024-09-15 18:23:59,936 : MainThread : INFO : epoch: 1\n",
      "2024-09-15 18:24:00,439 : MainThread : INFO : epoch: 2\n",
      "2024-09-15 18:24:00,937 : MainThread : INFO : epoch: 3\n",
      "2024-09-15 18:24:01,506 : MainThread : INFO : epoch: 4\n",
      "2024-09-15 18:24:02,068 : MainThread : INFO : epoch: 5\n",
      "2024-09-15 18:24:02,588 : MainThread : INFO : epoch: 6\n",
      "2024-09-15 18:24:03,139 : MainThread : INFO : epoch: 7\n",
      "2024-09-15 18:24:03,729 : MainThread : INFO : epoch: 8\n",
      "2024-09-15 18:24:04,245 : MainThread : INFO : epoch: 9\n",
      "2024-09-15 18:24:04,743 : MainThread : INFO : epoch: 10\n",
      "2024-09-15 18:24:05,321 : MainThread : INFO : epoch: 11\n",
      "2024-09-15 18:24:05,859 : MainThread : INFO : epoch: 12\n",
      "2024-09-15 18:24:06,427 : MainThread : INFO : epoch: 13\n",
      "2024-09-15 18:24:06,968 : MainThread : INFO : epoch: 14\n",
      "2024-09-15 18:24:07,516 : MainThread : INFO : epoch: 15\n",
      "2024-09-15 18:24:08,024 : MainThread : INFO : epoch: 16\n",
      "2024-09-15 18:24:08,542 : MainThread : INFO : epoch: 17\n",
      "2024-09-15 18:24:09,048 : MainThread : INFO : epoch: 18\n",
      "2024-09-15 18:24:09,580 : MainThread : INFO : epoch: 19\n",
      "2024-09-15 18:24:10,046 : MainThread : INFO : epoch: 20\n",
      "2024-09-15 18:24:10,514 : MainThread : INFO : epoch: 21\n",
      "2024-09-15 18:24:11,008 : MainThread : INFO : epoch: 22\n",
      "2024-09-15 18:24:11,568 : MainThread : INFO : epoch: 23\n",
      "2024-09-15 18:24:12,074 : MainThread : INFO : epoch: 24\n",
      "2024-09-15 18:24:12,602 : MainThread : INFO : epoch: 25\n",
      "2024-09-15 18:24:13,107 : MainThread : INFO : epoch: 26\n",
      "2024-09-15 18:24:13,593 : MainThread : INFO : epoch: 27\n",
      "2024-09-15 18:24:14,081 : MainThread : INFO : epoch: 28\n",
      "2024-09-15 18:24:14,586 : MainThread : INFO : epoch: 29\n",
      "2024-09-15 18:24:15,066 : MainThread : INFO : epoch: 30\n",
      "2024-09-15 18:24:15,534 : MainThread : INFO : epoch: 31\n",
      "2024-09-15 18:24:16,048 : MainThread : INFO : epoch: 32\n",
      "2024-09-15 18:24:16,554 : MainThread : INFO : epoch: 33\n",
      "2024-09-15 18:24:17,119 : MainThread : INFO : epoch: 34\n",
      "2024-09-15 18:24:17,619 : MainThread : INFO : epoch: 35\n",
      "2024-09-15 18:24:18,092 : MainThread : INFO : epoch: 36\n",
      "2024-09-15 18:24:18,678 : MainThread : INFO : epoch: 37\n",
      "2024-09-15 18:24:19,234 : MainThread : INFO : epoch: 38\n",
      "2024-09-15 18:24:19,729 : MainThread : INFO : epoch: 39\n",
      "2024-09-15 18:24:20,248 : MainThread : INFO : epoch: 40\n",
      "2024-09-15 18:24:20,759 : MainThread : INFO : epoch: 41\n",
      "2024-09-15 18:24:21,289 : MainThread : INFO : epoch: 42\n",
      "2024-09-15 18:24:21,793 : MainThread : INFO : epoch: 43\n",
      "2024-09-15 18:24:22,341 : MainThread : INFO : epoch: 44\n",
      "2024-09-15 18:24:22,830 : MainThread : INFO : epoch: 45\n",
      "2024-09-15 18:24:23,316 : MainThread : INFO : epoch: 46\n",
      "2024-09-15 18:24:23,831 : MainThread : INFO : epoch: 47\n",
      "2024-09-15 18:24:24,373 : MainThread : INFO : epoch: 48\n",
      "2024-09-15 18:24:24,859 : MainThread : INFO : epoch: 49\n"
     ]
    }
   ],
   "source": [
    "# Train the model\n",
    "model_path = f'models/{dataset_name}.model'\n",
    "\n",
    "if path.exists(model_path):\n",
    "    model = DGAN.load(model_path)\n",
    "else:\n",
    "    model = DGAN(DGANConfig(\n",
    "        max_sequence_len=len(df_cols),\n",
    "        sample_len=6,\n",
    "        batch_size=100,\n",
    "        epochs=50,  # For real data sets, 100–1000 epochs is typical\n",
    "    ))\n",
    "\n",
    "    model.train_dataframe(\n",
    "        df,\n",
    "    )\n",
    "    \n",
    "    model.save(model_path)\n",
    "# Generate synthetic data\n",
    "synthetic_df = model.generate_dataframe(1000)\n",
    "synthetic_df = scaler.inverse_transform(synthetic_df)\n",
    "synthetic_df = pd.DataFrame(synthetic_df)\n",
    "synthetic_df.columns = df.columns"
   ]
  },
  {
   "cell_type": "code",
   "execution_count": 4,
   "metadata": {},
   "outputs": [],
   "source": [
    "synthetic_df.to_csv(f'{os.getcwd()}/../../Datasets/GeneratedDatasets/{dataset_name}/syntetic{dataset_name}DGAN.csv', index=False)"
   ]
  }
 ],
 "metadata": {
  "kernelspec": {
   "display_name": "Dopple",
   "language": "python",
   "name": "python3"
  },
  "language_info": {
   "codemirror_mode": {
    "name": "ipython",
    "version": 3
   },
   "file_extension": ".py",
   "mimetype": "text/x-python",
   "name": "python",
   "nbconvert_exporter": "python",
   "pygments_lexer": "ipython3",
   "version": "3.11.9"
  }
 },
 "nbformat": 4,
 "nbformat_minor": 2
}
