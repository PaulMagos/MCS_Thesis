{
 "cells": [
  {
   "cell_type": "code",
   "execution_count": 2,
   "metadata": {},
   "outputs": [],
   "source": [
    "import pandas as pd\n",
    "import numpy as np\n",
    "from gretel_synthetics.timeseries_dgan.dgan import DGAN\n",
    "from gretel_synthetics.timeseries_dgan.config import DGANConfig\n",
    "from gretel_synthetics.timeseries_dgan.config import  OutputType\n",
    "from tsl.datasets import AirQuality, MetrLA, PemsBay"
   ]
  },
  {
   "cell_type": "code",
   "execution_count": 3,
   "metadata": {},
   "outputs": [
    {
     "name": "stderr",
     "output_type": "stream",
     "text": [
      "/Users/paulmagos/.pyenv/versions/3.11.9/envs/Dopple/lib/python3.11/site-packages/tsl/datasets/pems_bay.py:84: FutureWarning: 'T' is deprecated and will be removed in a future version, please use 'min' instead.\n",
      "  date_range = pd.date_range(df.index[0], df.index[-1], freq='5T')\n",
      "/Users/paulmagos/.pyenv/versions/3.11.9/envs/Dopple/lib/python3.11/site-packages/tsl/datasets/pems_bay.py:96: FutureWarning: DataFrame.fillna with 'method' is deprecated and will raise in a future version. Use obj.ffill() or obj.bfill() instead.\n",
      "  df.fillna(method='ffill', axis=0, inplace=True)\n"
     ]
    }
   ],
   "source": [
    "# Create some random training data\n",
    "df_PemsBay = PemsBay()\n",
    "df_PemsBay = df_PemsBay.dataframe()[-2000:]"
   ]
  },
  {
   "cell_type": "code",
   "execution_count": 4,
   "metadata": {},
   "outputs": [
    {
     "name": "stderr",
     "output_type": "stream",
     "text": [
      "/Users/paulmagos/.pyenv/versions/3.11.9/envs/Dopple/lib/python3.11/site-packages/gretel_synthetics/timeseries_dgan/dgan.py:688: FutureWarning: `torch.cuda.amp.GradScaler(args...)` is deprecated. Please use `torch.amp.GradScaler('cuda', args...)` instead.\n",
      "  scaler = torch.cuda.amp.GradScaler(enabled=self.config.mixed_precision_training)\n",
      "2024-09-09 17:07:28,972 : MainThread : INFO : epoch: 0\n",
      "/Users/paulmagos/.pyenv/versions/3.11.9/envs/Dopple/lib/python3.11/site-packages/gretel_synthetics/timeseries_dgan/dgan.py:696: FutureWarning: `torch.cuda.amp.autocast(args...)` is deprecated. Please use `torch.amp.autocast('cuda', args...)` instead.\n",
      "  with torch.cuda.amp.autocast(\n",
      "/Users/paulmagos/.pyenv/versions/3.11.9/envs/Dopple/lib/python3.11/site-packages/gretel_synthetics/timeseries_dgan/dgan.py:719: FutureWarning: `torch.cuda.amp.autocast(args...)` is deprecated. Please use `torch.amp.autocast('cuda', args...)` instead.\n",
      "  with torch.cuda.amp.autocast(enabled=True):\n",
      "/Users/paulmagos/.pyenv/versions/3.11.9/envs/Dopple/lib/python3.11/site-packages/torch/amp/autocast_mode.py:265: UserWarning: User provided device_type of 'cuda', but CUDA is not available. Disabling\n",
      "  warnings.warn(\n",
      "/Users/paulmagos/.pyenv/versions/3.11.9/envs/Dopple/lib/python3.11/site-packages/gretel_synthetics/timeseries_dgan/dgan.py:743: FutureWarning: `torch.cuda.amp.autocast(args...)` is deprecated. Please use `torch.amp.autocast('cuda', args...)` instead.\n",
      "  with torch.cuda.amp.autocast(\n",
      "/Users/paulmagos/.pyenv/versions/3.11.9/envs/Dopple/lib/python3.11/site-packages/gretel_synthetics/timeseries_dgan/dgan.py:772: FutureWarning: `torch.cuda.amp.autocast(args...)` is deprecated. Please use `torch.amp.autocast('cuda', args...)` instead.\n",
      "  with torch.cuda.amp.autocast(\n",
      "2024-09-09 17:07:30,630 : MainThread : INFO : epoch: 1\n",
      "2024-09-09 17:07:32,370 : MainThread : INFO : epoch: 2\n",
      "2024-09-09 17:07:33,663 : MainThread : INFO : epoch: 3\n",
      "2024-09-09 17:07:35,064 : MainThread : INFO : epoch: 4\n",
      "2024-09-09 17:07:36,383 : MainThread : INFO : epoch: 5\n",
      "2024-09-09 17:07:37,689 : MainThread : INFO : epoch: 6\n",
      "2024-09-09 17:07:38,959 : MainThread : INFO : epoch: 7\n",
      "2024-09-09 17:07:40,287 : MainThread : INFO : epoch: 8\n",
      "2024-09-09 17:07:41,507 : MainThread : INFO : epoch: 9\n",
      "2024-09-09 17:07:42,912 : MainThread : INFO : epoch: 10\n",
      "2024-09-09 17:07:44,079 : MainThread : INFO : epoch: 11\n",
      "2024-09-09 17:07:45,277 : MainThread : INFO : epoch: 12\n",
      "2024-09-09 17:07:46,617 : MainThread : INFO : epoch: 13\n",
      "2024-09-09 17:07:48,272 : MainThread : INFO : epoch: 14\n",
      "2024-09-09 17:07:49,515 : MainThread : INFO : epoch: 15\n",
      "2024-09-09 17:07:50,676 : MainThread : INFO : epoch: 16\n",
      "2024-09-09 17:07:51,729 : MainThread : INFO : epoch: 17\n",
      "2024-09-09 17:07:52,769 : MainThread : INFO : epoch: 18\n",
      "2024-09-09 17:07:53,879 : MainThread : INFO : epoch: 19\n",
      "2024-09-09 17:07:55,044 : MainThread : INFO : epoch: 20\n",
      "2024-09-09 17:07:56,209 : MainThread : INFO : epoch: 21\n",
      "2024-09-09 17:07:57,331 : MainThread : INFO : epoch: 22\n",
      "2024-09-09 17:07:58,625 : MainThread : INFO : epoch: 23\n",
      "2024-09-09 17:07:59,910 : MainThread : INFO : epoch: 24\n",
      "2024-09-09 17:08:01,153 : MainThread : INFO : epoch: 25\n",
      "2024-09-09 17:08:02,493 : MainThread : INFO : epoch: 26\n",
      "2024-09-09 17:08:03,861 : MainThread : INFO : epoch: 27\n",
      "2024-09-09 17:08:05,221 : MainThread : INFO : epoch: 28\n",
      "2024-09-09 17:08:06,675 : MainThread : INFO : epoch: 29\n",
      "2024-09-09 17:08:07,946 : MainThread : INFO : epoch: 30\n",
      "2024-09-09 17:08:09,170 : MainThread : INFO : epoch: 31\n",
      "2024-09-09 17:08:10,321 : MainThread : INFO : epoch: 32\n",
      "2024-09-09 17:08:11,393 : MainThread : INFO : epoch: 33\n",
      "2024-09-09 17:08:12,533 : MainThread : INFO : epoch: 34\n",
      "2024-09-09 17:08:13,913 : MainThread : INFO : epoch: 35\n",
      "2024-09-09 17:08:15,272 : MainThread : INFO : epoch: 36\n",
      "2024-09-09 17:08:16,437 : MainThread : INFO : epoch: 37\n",
      "2024-09-09 17:08:17,597 : MainThread : INFO : epoch: 38\n",
      "2024-09-09 17:08:18,757 : MainThread : INFO : epoch: 39\n",
      "2024-09-09 17:08:19,947 : MainThread : INFO : epoch: 40\n",
      "2024-09-09 17:08:21,231 : MainThread : INFO : epoch: 41\n",
      "2024-09-09 17:08:22,396 : MainThread : INFO : epoch: 42\n",
      "2024-09-09 17:08:23,576 : MainThread : INFO : epoch: 43\n",
      "2024-09-09 17:08:24,698 : MainThread : INFO : epoch: 44\n",
      "2024-09-09 17:08:25,745 : MainThread : INFO : epoch: 45\n",
      "2024-09-09 17:08:26,962 : MainThread : INFO : epoch: 46\n",
      "2024-09-09 17:08:28,197 : MainThread : INFO : epoch: 47\n",
      "2024-09-09 17:08:29,311 : MainThread : INFO : epoch: 48\n",
      "2024-09-09 17:08:30,385 : MainThread : INFO : epoch: 49\n"
     ]
    }
   ],
   "source": [
    "# Train the model\n",
    "model_PemsBay = DGAN(DGANConfig(\n",
    "    max_sequence_len=325,\n",
    "    sample_len=5,\n",
    "    batch_size=100,\n",
    "    epochs=50, # For real data sets, 100–1000 epochs is typical\n",
    "))\n",
    "model_PemsBay.train_dataframe(\n",
    "    df_PemsBay,\n",
    ")\n",
    "# Generate synthetic data\n",
    "synthetic_df_PemsBay = model_PemsBay.generate_dataframe(1000)"
   ]
  },
  {
   "cell_type": "code",
   "execution_count": 5,
   "metadata": {},
   "outputs": [
    {
     "name": "stderr",
     "output_type": "stream",
     "text": [
      "/Users/paulmagos/.pyenv/versions/3.11.9/envs/Dopple/lib/python3.11/site-packages/tsl/datasets/metr_la.py:98: FutureWarning: 'T' is deprecated and will be removed in a future version, please use 'min' instead.\n",
      "  date_range = pd.date_range(df.index[0], df.index[-1], freq='5T')\n",
      "/Users/paulmagos/.pyenv/versions/3.11.9/envs/Dopple/lib/python3.11/site-packages/tsl/datasets/metr_la.py:109: FutureWarning: The 'method' keyword in DataFrame.replace is deprecated and will be removed in a future version.\n",
      "  df = df.replace(to_replace=0., method='ffill')\n"
     ]
    }
   ],
   "source": [
    "df_MetrLA = MetrLA()\n",
    "df_MetrLA = df_MetrLA.dataframe()[-2000:]"
   ]
  },
  {
   "cell_type": "code",
   "execution_count": 6,
   "metadata": {},
   "outputs": [
    {
     "name": "stderr",
     "output_type": "stream",
     "text": [
      "/Users/paulmagos/.pyenv/versions/3.11.9/envs/Dopple/lib/python3.11/site-packages/gretel_synthetics/timeseries_dgan/dgan.py:688: FutureWarning: `torch.cuda.amp.GradScaler(args...)` is deprecated. Please use `torch.amp.GradScaler('cuda', args...)` instead.\n",
      "  scaler = torch.cuda.amp.GradScaler(enabled=self.config.mixed_precision_training)\n",
      "2024-09-09 17:08:32,171 : MainThread : INFO : epoch: 0\n",
      "/Users/paulmagos/.pyenv/versions/3.11.9/envs/Dopple/lib/python3.11/site-packages/gretel_synthetics/timeseries_dgan/dgan.py:696: FutureWarning: `torch.cuda.amp.autocast(args...)` is deprecated. Please use `torch.amp.autocast('cuda', args...)` instead.\n",
      "  with torch.cuda.amp.autocast(\n",
      "/Users/paulmagos/.pyenv/versions/3.11.9/envs/Dopple/lib/python3.11/site-packages/gretel_synthetics/timeseries_dgan/dgan.py:719: FutureWarning: `torch.cuda.amp.autocast(args...)` is deprecated. Please use `torch.amp.autocast('cuda', args...)` instead.\n",
      "  with torch.cuda.amp.autocast(enabled=True):\n",
      "/Users/paulmagos/.pyenv/versions/3.11.9/envs/Dopple/lib/python3.11/site-packages/torch/amp/autocast_mode.py:265: UserWarning: User provided device_type of 'cuda', but CUDA is not available. Disabling\n",
      "  warnings.warn(\n",
      "/Users/paulmagos/.pyenv/versions/3.11.9/envs/Dopple/lib/python3.11/site-packages/gretel_synthetics/timeseries_dgan/dgan.py:743: FutureWarning: `torch.cuda.amp.autocast(args...)` is deprecated. Please use `torch.amp.autocast('cuda', args...)` instead.\n",
      "  with torch.cuda.amp.autocast(\n",
      "/Users/paulmagos/.pyenv/versions/3.11.9/envs/Dopple/lib/python3.11/site-packages/gretel_synthetics/timeseries_dgan/dgan.py:772: FutureWarning: `torch.cuda.amp.autocast(args...)` is deprecated. Please use `torch.amp.autocast('cuda', args...)` instead.\n",
      "  with torch.cuda.amp.autocast(\n",
      "2024-09-09 17:08:35,304 : MainThread : INFO : epoch: 1\n",
      "2024-09-09 17:08:38,382 : MainThread : INFO : epoch: 2\n",
      "2024-09-09 17:08:41,726 : MainThread : INFO : epoch: 3\n",
      "2024-09-09 17:08:44,935 : MainThread : INFO : epoch: 4\n",
      "2024-09-09 17:08:48,214 : MainThread : INFO : epoch: 5\n",
      "2024-09-09 17:08:51,462 : MainThread : INFO : epoch: 6\n",
      "2024-09-09 17:08:54,981 : MainThread : INFO : epoch: 7\n",
      "2024-09-09 17:08:58,292 : MainThread : INFO : epoch: 8\n",
      "2024-09-09 17:09:01,574 : MainThread : INFO : epoch: 9\n",
      "2024-09-09 17:09:04,619 : MainThread : INFO : epoch: 10\n",
      "2024-09-09 17:09:07,681 : MainThread : INFO : epoch: 11\n",
      "2024-09-09 17:09:10,543 : MainThread : INFO : epoch: 12\n",
      "2024-09-09 17:09:14,038 : MainThread : INFO : epoch: 13\n",
      "2024-09-09 17:09:17,206 : MainThread : INFO : epoch: 14\n",
      "2024-09-09 17:09:20,635 : MainThread : INFO : epoch: 15\n",
      "2024-09-09 17:09:23,801 : MainThread : INFO : epoch: 16\n",
      "2024-09-09 17:09:26,788 : MainThread : INFO : epoch: 17\n",
      "2024-09-09 17:09:29,667 : MainThread : INFO : epoch: 18\n",
      "2024-09-09 17:09:32,699 : MainThread : INFO : epoch: 19\n",
      "2024-09-09 17:09:35,868 : MainThread : INFO : epoch: 20\n",
      "2024-09-09 17:09:39,120 : MainThread : INFO : epoch: 21\n",
      "2024-09-09 17:09:42,647 : MainThread : INFO : epoch: 22\n",
      "2024-09-09 17:09:45,711 : MainThread : INFO : epoch: 23\n",
      "2024-09-09 17:09:49,017 : MainThread : INFO : epoch: 24\n",
      "2024-09-09 17:09:52,110 : MainThread : INFO : epoch: 25\n",
      "2024-09-09 17:09:55,151 : MainThread : INFO : epoch: 26\n",
      "2024-09-09 17:09:58,328 : MainThread : INFO : epoch: 27\n",
      "2024-09-09 17:10:01,535 : MainThread : INFO : epoch: 28\n",
      "2024-09-09 17:10:04,802 : MainThread : INFO : epoch: 29\n",
      "2024-09-09 17:10:08,273 : MainThread : INFO : epoch: 30\n",
      "2024-09-09 17:10:11,697 : MainThread : INFO : epoch: 31\n",
      "2024-09-09 17:10:15,162 : MainThread : INFO : epoch: 32\n",
      "2024-09-09 17:10:18,632 : MainThread : INFO : epoch: 33\n",
      "2024-09-09 17:10:22,039 : MainThread : INFO : epoch: 34\n",
      "2024-09-09 17:10:25,692 : MainThread : INFO : epoch: 35\n",
      "2024-09-09 17:10:29,207 : MainThread : INFO : epoch: 36\n",
      "2024-09-09 17:10:32,722 : MainThread : INFO : epoch: 37\n",
      "2024-09-09 17:10:36,007 : MainThread : INFO : epoch: 38\n",
      "2024-09-09 17:10:39,132 : MainThread : INFO : epoch: 39\n",
      "2024-09-09 17:10:42,380 : MainThread : INFO : epoch: 40\n",
      "2024-09-09 17:10:45,708 : MainThread : INFO : epoch: 41\n",
      "2024-09-09 17:10:49,022 : MainThread : INFO : epoch: 42\n",
      "2024-09-09 17:10:52,198 : MainThread : INFO : epoch: 43\n",
      "2024-09-09 17:10:55,415 : MainThread : INFO : epoch: 44\n",
      "2024-09-09 17:10:58,680 : MainThread : INFO : epoch: 45\n",
      "2024-09-09 17:11:02,185 : MainThread : INFO : epoch: 46\n",
      "2024-09-09 17:11:05,691 : MainThread : INFO : epoch: 47\n",
      "2024-09-09 17:11:08,916 : MainThread : INFO : epoch: 48\n",
      "2024-09-09 17:11:12,042 : MainThread : INFO : epoch: 49\n"
     ]
    }
   ],
   "source": [
    "# Train the model\n",
    "model_MetrLA = DGAN(DGANConfig(\n",
    "    max_sequence_len=207,\n",
    "    sample_len=1,\n",
    "    batch_size=100,\n",
    "    epochs=50, # For real data sets, 100–1000 epochs is typical\n",
    "))\n",
    "model_MetrLA.train_dataframe(\n",
    "    df_MetrLA,\n",
    ")\n",
    "# Generate synthetic data\n",
    "synthetic_df_MetrLA = model_MetrLA.generate_dataframe(1000)"
   ]
  },
  {
   "cell_type": "code",
   "execution_count": 7,
   "metadata": {},
   "outputs": [],
   "source": [
    "df_AirQuality = AirQuality(impute_nans=True, small=True)\n",
    "df_AirQuality = df_AirQuality.dataframe()[-2000:]"
   ]
  },
  {
   "cell_type": "code",
   "execution_count": 8,
   "metadata": {},
   "outputs": [
    {
     "name": "stderr",
     "output_type": "stream",
     "text": [
      "/Users/paulmagos/.pyenv/versions/3.11.9/envs/Dopple/lib/python3.11/site-packages/gretel_synthetics/timeseries_dgan/dgan.py:688: FutureWarning: `torch.cuda.amp.GradScaler(args...)` is deprecated. Please use `torch.amp.GradScaler('cuda', args...)` instead.\n",
      "  scaler = torch.cuda.amp.GradScaler(enabled=self.config.mixed_precision_training)\n",
      "2024-09-09 17:11:15,726 : MainThread : INFO : epoch: 0\n",
      "/Users/paulmagos/.pyenv/versions/3.11.9/envs/Dopple/lib/python3.11/site-packages/gretel_synthetics/timeseries_dgan/dgan.py:696: FutureWarning: `torch.cuda.amp.autocast(args...)` is deprecated. Please use `torch.amp.autocast('cuda', args...)` instead.\n",
      "  with torch.cuda.amp.autocast(\n",
      "/Users/paulmagos/.pyenv/versions/3.11.9/envs/Dopple/lib/python3.11/site-packages/gretel_synthetics/timeseries_dgan/dgan.py:719: FutureWarning: `torch.cuda.amp.autocast(args...)` is deprecated. Please use `torch.amp.autocast('cuda', args...)` instead.\n",
      "  with torch.cuda.amp.autocast(enabled=True):\n",
      "/Users/paulmagos/.pyenv/versions/3.11.9/envs/Dopple/lib/python3.11/site-packages/torch/amp/autocast_mode.py:265: UserWarning: User provided device_type of 'cuda', but CUDA is not available. Disabling\n",
      "  warnings.warn(\n",
      "/Users/paulmagos/.pyenv/versions/3.11.9/envs/Dopple/lib/python3.11/site-packages/gretel_synthetics/timeseries_dgan/dgan.py:743: FutureWarning: `torch.cuda.amp.autocast(args...)` is deprecated. Please use `torch.amp.autocast('cuda', args...)` instead.\n",
      "  with torch.cuda.amp.autocast(\n",
      "/Users/paulmagos/.pyenv/versions/3.11.9/envs/Dopple/lib/python3.11/site-packages/gretel_synthetics/timeseries_dgan/dgan.py:772: FutureWarning: `torch.cuda.amp.autocast(args...)` is deprecated. Please use `torch.amp.autocast('cuda', args...)` instead.\n",
      "  with torch.cuda.amp.autocast(\n",
      "2024-09-09 17:11:16,134 : MainThread : INFO : epoch: 1\n",
      "2024-09-09 17:11:16,484 : MainThread : INFO : epoch: 2\n",
      "2024-09-09 17:11:16,847 : MainThread : INFO : epoch: 3\n",
      "2024-09-09 17:11:17,220 : MainThread : INFO : epoch: 4\n",
      "2024-09-09 17:11:17,572 : MainThread : INFO : epoch: 5\n",
      "2024-09-09 17:11:17,918 : MainThread : INFO : epoch: 6\n",
      "2024-09-09 17:11:18,266 : MainThread : INFO : epoch: 7\n",
      "2024-09-09 17:11:18,626 : MainThread : INFO : epoch: 8\n",
      "2024-09-09 17:11:18,971 : MainThread : INFO : epoch: 9\n",
      "2024-09-09 17:11:19,348 : MainThread : INFO : epoch: 10\n",
      "2024-09-09 17:11:19,755 : MainThread : INFO : epoch: 11\n",
      "2024-09-09 17:11:20,134 : MainThread : INFO : epoch: 12\n",
      "2024-09-09 17:11:20,502 : MainThread : INFO : epoch: 13\n",
      "2024-09-09 17:11:20,886 : MainThread : INFO : epoch: 14\n",
      "2024-09-09 17:11:21,253 : MainThread : INFO : epoch: 15\n",
      "2024-09-09 17:11:21,627 : MainThread : INFO : epoch: 16\n",
      "2024-09-09 17:11:21,989 : MainThread : INFO : epoch: 17\n",
      "2024-09-09 17:11:22,384 : MainThread : INFO : epoch: 18\n",
      "2024-09-09 17:11:22,767 : MainThread : INFO : epoch: 19\n",
      "2024-09-09 17:11:23,109 : MainThread : INFO : epoch: 20\n",
      "2024-09-09 17:11:23,470 : MainThread : INFO : epoch: 21\n",
      "2024-09-09 17:11:23,825 : MainThread : INFO : epoch: 22\n",
      "2024-09-09 17:11:24,233 : MainThread : INFO : epoch: 23\n",
      "2024-09-09 17:11:24,619 : MainThread : INFO : epoch: 24\n",
      "2024-09-09 17:11:25,001 : MainThread : INFO : epoch: 25\n",
      "2024-09-09 17:11:25,380 : MainThread : INFO : epoch: 26\n",
      "2024-09-09 17:11:25,775 : MainThread : INFO : epoch: 27\n",
      "2024-09-09 17:11:26,151 : MainThread : INFO : epoch: 28\n",
      "2024-09-09 17:11:26,530 : MainThread : INFO : epoch: 29\n",
      "2024-09-09 17:11:26,898 : MainThread : INFO : epoch: 30\n",
      "2024-09-09 17:11:27,249 : MainThread : INFO : epoch: 31\n",
      "2024-09-09 17:11:27,610 : MainThread : INFO : epoch: 32\n",
      "2024-09-09 17:11:27,950 : MainThread : INFO : epoch: 33\n",
      "2024-09-09 17:11:28,310 : MainThread : INFO : epoch: 34\n",
      "2024-09-09 17:11:28,652 : MainThread : INFO : epoch: 35\n",
      "2024-09-09 17:11:29,111 : MainThread : INFO : epoch: 36\n",
      "2024-09-09 17:11:29,475 : MainThread : INFO : epoch: 37\n",
      "2024-09-09 17:11:29,905 : MainThread : INFO : epoch: 38\n",
      "2024-09-09 17:11:30,274 : MainThread : INFO : epoch: 39\n",
      "2024-09-09 17:11:30,645 : MainThread : INFO : epoch: 40\n",
      "2024-09-09 17:11:31,003 : MainThread : INFO : epoch: 41\n",
      "2024-09-09 17:11:31,365 : MainThread : INFO : epoch: 42\n",
      "2024-09-09 17:11:31,716 : MainThread : INFO : epoch: 43\n",
      "2024-09-09 17:11:32,065 : MainThread : INFO : epoch: 44\n",
      "2024-09-09 17:11:32,407 : MainThread : INFO : epoch: 45\n",
      "2024-09-09 17:11:32,756 : MainThread : INFO : epoch: 46\n",
      "2024-09-09 17:11:33,089 : MainThread : INFO : epoch: 47\n",
      "2024-09-09 17:11:33,423 : MainThread : INFO : epoch: 48\n",
      "2024-09-09 17:11:33,752 : MainThread : INFO : epoch: 49\n"
     ]
    }
   ],
   "source": [
    "# Train the model\n",
    "model_AirQuality = DGAN(DGANConfig(\n",
    "    max_sequence_len=36,\n",
    "    sample_len=6,\n",
    "    batch_size=100,\n",
    "    epochs=50, # For real data sets, 100–1000 epochs is typical\n",
    "))\n",
    "model_AirQuality.train_dataframe(\n",
    "    df_AirQuality,\n",
    ")\n",
    "# Generate synthetic data\n",
    "synthetic_df_AirQuality = model_AirQuality.generate_dataframe(1000)"
   ]
  }
 ],
 "metadata": {
  "kernelspec": {
   "display_name": "Dopple",
   "language": "python",
   "name": "python3"
  },
  "language_info": {
   "codemirror_mode": {
    "name": "ipython",
    "version": 3
   },
   "file_extension": ".py",
   "mimetype": "text/x-python",
   "name": "python",
   "nbconvert_exporter": "python",
   "pygments_lexer": "ipython3",
   "version": "3.11.9"
  }
 },
 "nbformat": 4,
 "nbformat_minor": 2
}
