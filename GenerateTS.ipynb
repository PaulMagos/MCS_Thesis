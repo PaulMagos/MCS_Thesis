{
 "cells": [
  {
   "cell_type": "code",
   "execution_count": 1,
   "metadata": {},
   "outputs": [],
   "source": [
    "from tsl.data import SpatioTemporalDataset, SpatioTemporalDataModule\n",
    "from tsl.data.preprocessing import StandardScaler\n",
    "from MMD import mmd_rbf, mmd_linear\n",
    "from tsl.datasets import AirQuality, MetrLA, PemsBay\n",
    "from GRGN.Engines.Generator import Generator\n",
    "from GRGN.GRGNModel import GRGNModel\n",
    "from GRGN.Loss.LogLikelihood import LogLikelihood\n",
    "from pytorch_lightning import Trainer\n",
    "from pytorch_lightning.callbacks import EarlyStopping, ModelCheckpoint\n",
    "from pytorch_lightning.loggers import TensorBoardLogger\n",
    "from tsl.utils.casting import torch_to_numpy\n",
    "import matplotlib.pyplot as plt\n",
    "import torch\n"
   ]
  },
  {
   "cell_type": "code",
   "execution_count": 2,
   "metadata": {},
   "outputs": [],
   "source": [
    "model_params = {\n",
    "        'hidden_size': 32,\n",
    "        'embedding_size': 32,\n",
    "        'n_layers': 1,\n",
    "        'kernel_size': 2,\n",
    "        'decoder_order': 1,\n",
    "        'layer_norm': True,\n",
    "        'dropout': 0.05,\n",
    "}\n",
    "optim_params = {'lr': 0.00001, 'weight_decay': 0.01}\n",
    "\n",
    "optim = 'RMSprop' # SGD or Adam"
   ]
  },
  {
   "cell_type": "code",
   "execution_count": 3,
   "metadata": {},
   "outputs": [],
   "source": [
    "dataset = PemsBay()\n",
    "\n",
    "adj = dataset.get_connectivity(**{'method': 'distance',\n",
    "'threshold': 0.1,\n",
    "'include_self': False,\n",
    "'layout': 'edge_index'\n",
    "})\n",
    "\n",
    "# instantiate dataset\n",
    "torch_dataset = SpatioTemporalDataset(target=dataset.dataframe()[-10000:],\n",
    "                                    covariates=None,\n",
    "                                    connectivity=adj,\n",
    "                                    window=1,\n",
    "                                    stride=1)\n",
    "scalers = {'target': StandardScaler(axis=(0, 1))}\n",
    "\n",
    "dm = SpatioTemporalDataModule(\n",
    "    dataset=torch_dataset,\n",
    "    scalers=scalers,\n",
    "    splitter=dataset.get_splitter(**{'val_len': 0.2, 'test_len': 0.1}),\n",
    "    batch_size=1,\n",
    "    workers=32)\n",
    "dm.setup(stage='test')\n",
    "\n",
    "# if cfg.get('in_sample', False):\n",
    "dm.trainset = list(range(len(torch_dataset)))"
   ]
  },
  {
   "cell_type": "code",
   "execution_count": 4,
   "metadata": {},
   "outputs": [],
   "source": [
    "model_cls = GRGNModel\n",
    "\n",
    "model_kwargs = dict(n_nodes=torch_dataset.n_nodes,\n",
    "                    input_size=torch_dataset.n_channels)\n",
    "\n",
    "\n",
    "model_cls.filter_model_args_(model_kwargs)\n",
    "model_kwargs.update(model_params)\n",
    "\n",
    "loss_fn = LogLikelihood(both=True)\n",
    "\n",
    "log_metrics = {\n",
    "    '1stLL': LogLikelihood(False),\n",
    "    '2ndLL': LogLikelihood(),\n",
    "    '12LL': LogLikelihood(both=True),\n",
    "}\n",
    "\n",
    "scheduler_class = getattr(torch.optim.lr_scheduler, 'CosineAnnealingLR')\n",
    "scheduler_kwargs = {'eta_min': 0.0001, 'T_max': 300}\n",
    "\n",
    "# setup generator\n",
    "generator = Generator(model_class=model_cls,\n",
    "                    model_kwargs=model_kwargs,\n",
    "                    optim_class=getattr(torch.optim, optim),\n",
    "                    optim_kwargs=optim_params,\n",
    "                    loss_fn=loss_fn,\n",
    "                    metrics=log_metrics,\n",
    "                    scheduler_class=scheduler_class,\n",
    "                    scheduler_kwargs=scheduler_kwargs,\n",
    "                    scale_target=True)\n",
    "\n",
    "generator.load_model('/Users/paulmagos/Documents/TSGen/logs/generation/grgn1/best-model-epoch=295-val_loss=-0.2568.ckpt')\n"
   ]
  },
  {
   "cell_type": "code",
   "execution_count": 5,
   "metadata": {},
   "outputs": [
    {
     "name": "stderr",
     "output_type": "stream",
     "text": [
      "GPU available: True (mps), used: False\n",
      "TPU available: False, using: 0 TPU cores\n",
      "HPU available: False, using: 0 HPUs\n",
      "/Users/paulmagos/.pyenv/versions/3.11.9/envs/Thesis/lib/python3.11/site-packages/pytorch_lightning/trainer/setup.py:177: GPU available but not used. You can set it by doing `Trainer(accelerator='gpu')`.\n"
     ]
    }
   ],
   "source": [
    "\n",
    "exp_logger = TensorBoardLogger(save_dir=f'logs/generation/grgn/',\n",
    "                                    name='tensorboard')\n",
    "early_stop_callback = EarlyStopping(monitor='val_loss',\n",
    "                                        patience=50,\n",
    "                                        mode='min')\n",
    "\n",
    "checkpoint_callback = ModelCheckpoint(\n",
    "    dirpath='logs/generation/grgn1/',\n",
    "    filename='best-model-{epoch:02d}-{val_loss:.4f}',\n",
    "    save_top_k=1,\n",
    "    monitor='val_loss',\n",
    "    mode='min',\n",
    ")\n",
    "\n",
    "trainer = Trainer(\n",
    "    max_epochs=500,\n",
    "    default_root_dir='logs/generation/grgn1/',\n",
    "    logger=exp_logger,\n",
    "    accelerator='cpu',\n",
    "    devices=1,\n",
    "    gradient_clip_val=5,\n",
    "    callbacks=[early_stop_callback, checkpoint_callback])\n",
    "\n",
    "trainer.ckpt_path= '/Users/paulmagos/Documents/TSGen/logs/generation/grgn1/best-model-epoch=295-val_loss=-0.2568.ckpt'\n",
    "\n",
    "generator.freeze()\n",
    "# trainer.test(generator, datamodule=dm)"
   ]
  },
  {
   "cell_type": "code",
   "execution_count": 6,
   "metadata": {},
   "outputs": [
    {
     "name": "stderr",
     "output_type": "stream",
     "text": [
      "/Users/paulmagos/.pyenv/versions/3.11.9/envs/Thesis/lib/python3.11/site-packages/torch/utils/data/dataloader.py:558: UserWarning: This DataLoader will create 32 worker processes in total. Our suggested max number of worker in current system is 10 (`cpuset` is not taken into account), which is smaller than what this DataLoader is going to create. Please be aware that excessive worker creation might get DataLoader running slow or even freeze, lower the worker number to avoid potential slowness/freeze if necessary.\n",
      "  warnings.warn(_create_warning_msg(\n",
      "Restoring states from the checkpoint path at /Users/paulmagos/Documents/TSGen/logs/generation/grgn1/best-model-epoch=295-val_loss=-0.2568.ckpt\n",
      "Loaded model weights from the checkpoint at /Users/paulmagos/Documents/TSGen/logs/generation/grgn1/best-model-epoch=295-val_loss=-0.2568.ckpt\n",
      "/Users/paulmagos/.pyenv/versions/3.11.9/envs/Thesis/lib/python3.11/site-packages/torch/utils/data/dataloader.py:558: UserWarning: This DataLoader will create 32 worker processes in total. Our suggested max number of worker in current system is 10 (`cpuset` is not taken into account), which is smaller than what this DataLoader is going to create. Please be aware that excessive worker creation might get DataLoader running slow or even freeze, lower the worker number to avoid potential slowness/freeze if necessary.\n",
      "  warnings.warn(_create_warning_msg(\n",
      "/Users/paulmagos/.pyenv/versions/3.11.9/envs/Thesis/lib/python3.11/site-packages/pytorch_lightning/trainer/connectors/data_connector.py:419: Consider setting `persistent_workers=True` in 'predict_dataloader' to speed up the dataloader worker initialization.\n"
     ]
    },
    {
     "name": "stdout",
     "output_type": "stream",
     "text": [
      "Predicting DataLoader 0:   0%|          | 0/999 [00:00<?, ?it/s]"
     ]
    },
    {
     "name": "stderr",
     "output_type": "stream",
     "text": [
      "Only args ['edge_index', 'edge_weight', 'x'] are forwarded to the model (GRGNModel). \n"
     ]
    },
    {
     "name": "stdout",
     "output_type": "stream",
     "text": [
      "Predicting DataLoader 0: 100%|██████████| 999/999 [00:26<00:00, 37.47it/s]\n"
     ]
    },
    {
     "data": {
      "text/plain": [
       "{'test_mae': tensor([[-2.4221]])}"
      ]
     },
     "execution_count": 6,
     "metadata": {},
     "output_type": "execute_result"
    }
   ],
   "source": [
    "output = trainer.predict(generator, dataloaders=dm.test_dataloader())\n",
    "output = generator.collate_prediction_outputs(output)\n",
    "output = torch_to_numpy(output)\n",
    "y_hat, y_true = (output['y_hat'], output['y'])\n",
    "res = dict(test_mae=loss_fn.loss_function(torch.tensor(y_hat), y_true))\n",
    "res"
   ]
  },
  {
   "cell_type": "code",
   "execution_count": 7,
   "metadata": {},
   "outputs": [],
   "source": [
    "y_true = torch.tensor(y_true)\n",
    "y_hat = torch.tensor(y_hat)"
   ]
  },
  {
   "cell_type": "code",
   "execution_count": 79,
   "metadata": {},
   "outputs": [
    {
     "name": "stderr",
     "output_type": "stream",
     "text": [
      "/var/folders/2f/0xjdq0xn6b3cfw3v2k2svn3m0000gn/T/ipykernel_88371/3700738302.py:3: UserWarning: To copy construct from a tensor, it is recommended to use sourceTensor.clone().detach() or sourceTensor.clone().detach().requires_grad_(True), rather than torch.tensor(sourceTensor).\n",
      "  out = torch.tensor(out)\n"
     ]
    }
   ],
   "source": [
    "out = y_hat[..., :(1 + 2) * 32]\n",
    "out = scalers['target'].transform(out)\n",
    "out = torch.tensor(out)    \n",
    "D = out.shape[-1] // 32 - 2\n",
    "\n",
    "means = out[..., :32*D]\n",
    "stds  = out[..., 32*D:32 * (D+1)]\n",
    "weights = out[..., 32*(D+1):]\n",
    "\n",
    "pred = weights * torch.normal(means, stds)\n",
    "pred = torch.sum(pred, dim=-1)\n",
    "pred = scalers['target'].inverse_transform(pred)"
   ]
  },
  {
   "cell_type": "code",
   "execution_count": 80,
   "metadata": {},
   "outputs": [],
   "source": [
    "X = y_true.reshape(y_true.shape[0], -1)\n",
    "Y = pred.reshape(y_true.shape[0], -1)"
   ]
  },
  {
   "cell_type": "code",
   "execution_count": 85,
   "metadata": {},
   "outputs": [
    {
     "data": {
      "text/plain": [
       "0.0020020019728690386"
      ]
     },
     "execution_count": 85,
     "metadata": {},
     "output_type": "execute_result"
    }
   ],
   "source": [
    "mmd_rbf(torch.Tensor(X), torch.Tensor(Y))"
   ]
  },
  {
   "cell_type": "code",
   "execution_count": 86,
   "metadata": {},
   "outputs": [
    {
     "data": {
      "text/plain": [
       "tensor(11901.1895)"
      ]
     },
     "execution_count": 86,
     "metadata": {},
     "output_type": "execute_result"
    }
   ],
   "source": [
    "mmd_linear(torch.Tensor(X), torch.Tensor(Y))"
   ]
  },
  {
   "cell_type": "code",
   "execution_count": 87,
   "metadata": {},
   "outputs": [
    {
     "data": {
      "text/plain": [
       "<matplotlib.legend.Legend at 0x377a5b510>"
      ]
     },
     "execution_count": 87,
     "metadata": {},
     "output_type": "execute_result"
    },
    {
     "data": {
      "image/png": "[encoded data removed]",
      "text/plain": [
       "<Figure size 640x480 with 1 Axes>"
      ]
     },
     "metadata": {},
     "output_type": "display_data"
    }
   ],
   "source": [
    "plt.plot(pred[200][0][:50], label='Pred')\n",
    "plt.plot(y_true[200][0][:50], label='True')\n",
    "plt.legend()"
   ]
  }
 ],
 "metadata": {
  "kernelspec": {
   "display_name": "Thesis",
   "language": "python",
   "name": "python3"
  },
  "language_info": {
   "codemirror_mode": {
    "name": "ipython",
    "version": 3
   },
   "file_extension": ".py",
   "mimetype": "text/x-python",
   "name": "python",
   "nbconvert_exporter": "python",
   "pygments_lexer": "ipython3",
   "version": "3.11.9"
  }
 },
 "nbformat": 4,
 "nbformat_minor": 2
}
