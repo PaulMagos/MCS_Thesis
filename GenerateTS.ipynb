{
 "cells": [
  {
   "cell_type": "code",
   "execution_count": 1,
   "metadata": {},
   "outputs": [],
   "source": [
    "from tsl.data import SpatioTemporalDataset, SpatioTemporalDataModule\n",
    "from tsl.data.preprocessing import StandardScaler\n",
    "from tsl.datasets import AirQuality, MetrLA, PemsBay\n",
    "from GRGN.Engines.Generator import Generator\n",
    "from GRGN.GRGNModel import GRGNModel\n",
    "from GRGN.Loss.LogLikelihood import LogLikelihood\n",
    "from pytorch_lightning import Trainer\n",
    "from pytorch_lightning.callbacks import EarlyStopping, ModelCheckpoint\n",
    "from pytorch_lightning.loggers import TensorBoardLogger\n",
    "from tsl.utils.casting import torch_to_numpy\n",
    "import matplotlib.pyplot as plt\n",
    "import torch\n"
   ]
  },
  {
   "cell_type": "code",
   "execution_count": 2,
   "metadata": {},
   "outputs": [],
   "source": [
    "model_params = {\n",
    "        'hidden_size': 32,\n",
    "        'embedding_size': 16,\n",
    "        'n_layers': 1,\n",
    "        'kernel_size': 2,\n",
    "        'decoder_order': 1,\n",
    "        'layer_norm': True,\n",
    "        'dropout': 0.05,\n",
    "}\n",
    "optim_params = {'lr': 0.00001, 'weight_decay': 0.01}\n",
    "\n",
    "optim = 'RMSprop' # SGD or Adam"
   ]
  },
  {
   "cell_type": "code",
   "execution_count": 3,
   "metadata": {},
   "outputs": [],
   "source": [
    "dataset = PemsBay()\n",
    "    \n",
    "adj = dataset.get_connectivity(**{'method': 'distance',\n",
    "'threshold': 0.1,\n",
    "'include_self': False,\n",
    "'layout': 'edge_index'\n",
    "})\n",
    "\n",
    "# instantiate dataset\n",
    "torch_dataset = SpatioTemporalDataset(target=dataset.dataframe(),\n",
    "                                    covariates=None,\n",
    "                                    connectivity=adj,\n",
    "                                    window=1,\n",
    "                                    stride=1)\n",
    "\n",
    "scalers = {'target': StandardScaler(axis=(0, 1))}\n",
    "dm = SpatioTemporalDataModule(\n",
    "    dataset=torch_dataset,\n",
    "    scalers=scalers,\n",
    "    splitter=dataset.get_splitter(**{'val_len': 0.2, 'test_len': 0.1}),\n",
    "    batch_size=2,\n",
    "    workers=32)\n",
    "dm.setup(stage='fit')\n",
    "\n",
    "# if cfg.get('in_sample', False):\n",
    "dm.trainset = list(range(len(torch_dataset)))"
   ]
  },
  {
   "cell_type": "code",
   "execution_count": 4,
   "metadata": {},
   "outputs": [],
   "source": [
    "model_cls = GRGNModel\n",
    "\n",
    "model_kwargs = dict(n_nodes=torch_dataset.n_nodes,\n",
    "                    input_size=torch_dataset.n_channels)\n",
    "\n",
    "\n",
    "model_cls.filter_model_args_(model_kwargs)\n",
    "model_kwargs.update(model_params)\n",
    "\n",
    "loss_fn = LogLikelihood(both=True)\n",
    "\n",
    "log_metrics = {\n",
    "    '1stLL': LogLikelihood(False),\n",
    "    '2ndLL': LogLikelihood(),\n",
    "    '12LL': LogLikelihood(both=True),\n",
    "}\n",
    "\n",
    "scheduler_class = getattr(torch.optim.lr_scheduler, 'CosineAnnealingLR')\n",
    "scheduler_kwargs = {'eta_min': 0.0001, 'T_max': 300}\n",
    "\n",
    "# setup generator\n",
    "generator = Generator(model_class=model_cls,\n",
    "                    model_kwargs=model_kwargs,\n",
    "                    optim_class=getattr(torch.optim, optim),\n",
    "                    optim_kwargs=optim_params,\n",
    "                    loss_fn=loss_fn,\n",
    "                    metrics=log_metrics,\n",
    "                    scheduler_class=scheduler_class,\n",
    "                    scheduler_kwargs=scheduler_kwargs,\n",
    "                    scale_target=False)\n",
    "\n",
    "generator.load_model('model300.ckpt')\n"
   ]
  },
  {
   "cell_type": "code",
   "execution_count": 5,
   "metadata": {},
   "outputs": [
    {
     "name": "stderr",
     "output_type": "stream",
     "text": [
      "GPU available: True (mps), used: False\n",
      "TPU available: False, using: 0 TPU cores\n",
      "HPU available: False, using: 0 HPUs\n",
      "/Users/paulmagos/.pyenv/versions/3.11.9/envs/Thesis/lib/python3.11/site-packages/pytorch_lightning/trainer/setup.py:177: GPU available but not used. You can set it by doing `Trainer(accelerator='gpu')`.\n",
      "Restoring states from the checkpoint path at model300.ckpt\n",
      "Loaded model weights from the checkpoint at model300.ckpt\n",
      "/Users/paulmagos/.pyenv/versions/3.11.9/envs/Thesis/lib/python3.11/site-packages/torch/utils/data/dataloader.py:558: UserWarning: This DataLoader will create 32 worker processes in total. Our suggested max number of worker in current system is 10 (`cpuset` is not taken into account), which is smaller than what this DataLoader is going to create. Please be aware that excessive worker creation might get DataLoader running slow or even freeze, lower the worker number to avoid potential slowness/freeze if necessary.\n",
      "  warnings.warn(_create_warning_msg(\n",
      "/Users/paulmagos/.pyenv/versions/3.11.9/envs/Thesis/lib/python3.11/site-packages/pytorch_lightning/trainer/connectors/data_connector.py:419: Consider setting `persistent_workers=True` in 'test_dataloader' to speed up the dataloader worker initialization.\n"
     ]
    },
    {
     "name": "stdout",
     "output_type": "stream",
     "text": [
      "Testing DataLoader 0:   0%|          | 0/2606 [00:00<?, ?it/s]"
     ]
    },
    {
     "name": "stderr",
     "output_type": "stream",
     "text": [
      "Only args ['x', 'edge_index', 'edge_weight'] are forwarded to the model (GRGNModel). \n"
     ]
    },
    {
     "name": "stdout",
     "output_type": "stream",
     "text": [
      "Testing DataLoader 0: 100%|██████████| 2606/2606 [02:00<00:00, 21.67it/s]\n"
     ]
    },
    {
     "data": {
      "text/html": [
       "<pre style=\"white-space:pre;overflow-x:auto;line-height:normal;font-family:Menlo,'DejaVu Sans Mono',consolas,'Courier New',monospace\">┏━━━━━━━━━━━━━━━━━━━━━━━━━━━┳━━━━━━━━━━━━━━━━━━━━━━━━━━━┓\n",
       "┃<span style=\"font-weight: bold\">        Test metric        </span>┃<span style=\"font-weight: bold\">       DataLoader 0        </span>┃\n",
       "┡━━━━━━━━━━━━━━━━━━━━━━━━━━━╇━━━━━━━━━━━━━━━━━━━━━━━━━━━┩\n",
       "│<span style=\"color: #008080; text-decoration-color: #008080\">         test_12LL         </span>│<span style=\"color: #800080; text-decoration-color: #800080\">    -2.427305221557617     </span>│\n",
       "│<span style=\"color: #008080; text-decoration-color: #008080\">        test_1stLL         </span>│<span style=\"color: #800080; text-decoration-color: #800080\">    -2.404417037963867     </span>│\n",
       "│<span style=\"color: #008080; text-decoration-color: #008080\">        test_2ndLL         </span>│<span style=\"color: #800080; text-decoration-color: #800080\">    -2.427305221557617     </span>│\n",
       "│<span style=\"color: #008080; text-decoration-color: #008080\">         test_loss         </span>│<span style=\"color: #800080; text-decoration-color: #800080\">    -2.4196932315826416    </span>│\n",
       "└───────────────────────────┴───────────────────────────┘\n",
       "</pre>\n"
      ],
      "text/plain": [
       "┏━━━━━━━━━━━━━━━━━━━━━━━━━━━┳━━━━━━━━━━━━━━━━━━━━━━━━━━━┓\n",
       "┃\u001b[1m \u001b[0m\u001b[1m       Test metric       \u001b[0m\u001b[1m \u001b[0m┃\u001b[1m \u001b[0m\u001b[1m      DataLoader 0       \u001b[0m\u001b[1m \u001b[0m┃\n",
       "┡━━━━━━━━━━━━━━━━━━━━━━━━━━━╇━━━━━━━━━━━━━━━━━━━━━━━━━━━┩\n",
       "│\u001b[36m \u001b[0m\u001b[36m        test_12LL        \u001b[0m\u001b[36m \u001b[0m│\u001b[35m \u001b[0m\u001b[35m   -2.427305221557617    \u001b[0m\u001b[35m \u001b[0m│\n",
       "│\u001b[36m \u001b[0m\u001b[36m       test_1stLL        \u001b[0m\u001b[36m \u001b[0m│\u001b[35m \u001b[0m\u001b[35m   -2.404417037963867    \u001b[0m\u001b[35m \u001b[0m│\n",
       "│\u001b[36m \u001b[0m\u001b[36m       test_2ndLL        \u001b[0m\u001b[36m \u001b[0m│\u001b[35m \u001b[0m\u001b[35m   -2.427305221557617    \u001b[0m\u001b[35m \u001b[0m│\n",
       "│\u001b[36m \u001b[0m\u001b[36m        test_loss        \u001b[0m\u001b[36m \u001b[0m│\u001b[35m \u001b[0m\u001b[35m   -2.4196932315826416   \u001b[0m\u001b[35m \u001b[0m│\n",
       "└───────────────────────────┴───────────────────────────┘\n"
      ]
     },
     "metadata": {},
     "output_type": "display_data"
    },
    {
     "data": {
      "text/plain": [
       "[{'test_12LL': -2.427305221557617,\n",
       "  'test_1stLL': -2.404417037963867,\n",
       "  'test_2ndLL': -2.427305221557617,\n",
       "  'test_loss': -2.4196932315826416}]"
      ]
     },
     "execution_count": 5,
     "metadata": {},
     "output_type": "execute_result"
    }
   ],
   "source": [
    "\n",
    "exp_logger = TensorBoardLogger(save_dir=f'logs/generation/grgn/',\n",
    "                                    name='tensorboard')\n",
    "early_stop_callback = EarlyStopping(monitor='val_loss',\n",
    "                                        patience=50,\n",
    "                                        mode='min')\n",
    "\n",
    "checkpoint_callback = ModelCheckpoint(\n",
    "    dirpath='logs/generation/grgn/',\n",
    "    filename='best-model-{epoch:02d}-{val_loss:.4f}',\n",
    "    save_top_k=1,\n",
    "    monitor='val_loss',\n",
    "    mode='min',\n",
    ")\n",
    "\n",
    "trainer = Trainer(\n",
    "    max_epochs=500,\n",
    "    default_root_dir='logs/generation/grgn/',\n",
    "    logger=exp_logger,\n",
    "    accelerator='cpu',\n",
    "    devices=1,\n",
    "    gradient_clip_val=5,\n",
    "    callbacks=[early_stop_callback, checkpoint_callback])\n",
    "\n",
    "trainer.ckpt_path= 'model300.ckpt'\n",
    "\n",
    "generator.freeze()\n",
    "trainer.test(generator, datamodule=dm)"
   ]
  },
  {
   "cell_type": "code",
   "execution_count": 6,
   "metadata": {},
   "outputs": [
    {
     "name": "stderr",
     "output_type": "stream",
     "text": [
      "Restoring states from the checkpoint path at model300.ckpt\n",
      "Loaded model weights from the checkpoint at model300.ckpt\n",
      "/Users/paulmagos/.pyenv/versions/3.11.9/envs/Thesis/lib/python3.11/site-packages/pytorch_lightning/trainer/connectors/data_connector.py:419: Consider setting `persistent_workers=True` in 'predict_dataloader' to speed up the dataloader worker initialization.\n"
     ]
    },
    {
     "name": "stdout",
     "output_type": "stream",
     "text": [
      "Predicting DataLoader 0: 100%|██████████| 2606/2606 [01:19<00:00, 32.65it/s]\n"
     ]
    },
    {
     "data": {
      "text/plain": [
       "{'test_mae': tensor([[-2.4198]])}"
      ]
     },
     "execution_count": 6,
     "metadata": {},
     "output_type": "execute_result"
    }
   ],
   "source": [
    "output = trainer.predict(generator, dataloaders=dm.test_dataloader())\n",
    "output = generator.collate_prediction_outputs(output)\n",
    "output = torch_to_numpy(output)\n",
    "y_hat, y_true = (output['y_hat'], output['y'])\n",
    "res = dict(test_mae=loss_fn.loss_function(torch.tensor(y_hat), y_true))\n",
    "res"
   ]
  },
  {
   "cell_type": "code",
   "execution_count": 7,
   "metadata": {},
   "outputs": [],
   "source": [
    "y_true = torch.tensor(y_true)\n",
    "y_hat = torch.tensor(y_hat)\n",
    "pred = scalers['target'].transform(y_hat)"
   ]
  },
  {
   "cell_type": "code",
   "execution_count": 8,
   "metadata": {},
   "outputs": [
    {
     "name": "stderr",
     "output_type": "stream",
     "text": [
      "/var/folders/2f/0xjdq0xn6b3cfw3v2k2svn3m0000gn/T/ipykernel_1352/1400274278.py:2: UserWarning: To copy construct from a tensor, it is recommended to use sourceTensor.clone().detach() or sourceTensor.clone().detach().requires_grad_(True), rather than torch.tensor(sourceTensor).\n",
      "  out = torch.tensor(out)\n"
     ]
    }
   ],
   "source": [
    "out = y_hat[..., :(1 + 2) * 32]\n",
    "out = torch.tensor(out)    \n",
    "out = scalers['target'].transform(out)\n",
    "D = out.shape[-1] // 32 - 2\n",
    "\n",
    "means = out[..., :32*D]\n",
    "stds  = out[..., 32*D:32 * (D+1)]\n",
    "weights = out[..., 32*(D+1):]\n",
    "\n",
    "pred = weights * torch.normal(means, stds)\n",
    "pred = torch.sum(pred, dim=-1)\n",
    "pred = scalers['target'].inverse_transform(pred)"
   ]
  },
  {
   "cell_type": "code",
   "execution_count": 9,
   "metadata": {},
   "outputs": [],
   "source": [
    "means2 = means * weights \n",
    "stds2 = stds * weights "
   ]
  },
  {
   "cell_type": "code",
   "execution_count": 34,
   "metadata": {},
   "outputs": [
    {
     "data": {
      "text/plain": [
       "<matplotlib.legend.Legend at 0x32a314a10>"
      ]
     },
     "execution_count": 34,
     "metadata": {},
     "output_type": "execute_result"
    },
    {
     "data": {
      "image/png": "[encoded data removed]",
      "text/plain": [
       "<Figure size 640x480 with 1 Axes>"
      ]
     },
     "metadata": {},
     "output_type": "display_data"
    }
   ],
   "source": [
    "plt.plot(pred[1][0][:50], label='Pred')\n",
    "plt.plot(y_true[1][0][:50], label='True')\n",
    "plt.legend()"
   ]
  },
  {
   "cell_type": "code",
   "execution_count": 11,
   "metadata": {},
   "outputs": [],
   "source": [
    "device = torch.device('mps')\n",
    "\n",
    "def MMD(x, y, kernel):\n",
    "    \"\"\"Emprical maximum mean discrepancy. The lower the result\n",
    "       the more evidence that distributions are the same.\n",
    "\n",
    "    Args:\n",
    "        x: first sample, distribution P\n",
    "        y: second sample, distribution Q\n",
    "        kernel: kernel type such as \"multiscale\" or \"rbf\"\n",
    "    \"\"\"\n",
    "    xx, yy, zz = torch.mm(x, x.t()), torch.mm(y, y.t()), torch.mm(x, y.t())\n",
    "    rx = (xx.diag().unsqueeze(0).expand_as(xx))\n",
    "    ry = (yy.diag().unsqueeze(0).expand_as(yy))\n",
    "    \n",
    "    dxx = rx.t() + rx - 2. * xx # Used for A in (1)\n",
    "    dyy = ry.t() + ry - 2. * yy # Used for B in (1)\n",
    "    dxy = rx.t() + ry - 2. * zz # Used for C in (1)\n",
    "    \n",
    "    XX, YY, XY = (torch.zeros(xx.shape).to(device),\n",
    "                  torch.zeros(xx.shape).to(device),\n",
    "                  torch.zeros(xx.shape).to(device))\n",
    "    \n",
    "    if kernel == \"multiscale\":\n",
    "        \n",
    "        bandwidth_range = [0.2, 0.5, 0.9, 1.3]\n",
    "        for a in bandwidth_range:\n",
    "            XX += a**2 * (a**2 + dxx)**-1\n",
    "            YY += a**2 * (a**2 + dyy)**-1\n",
    "            XY += a**2 * (a**2 + dxy)**-1\n",
    "            \n",
    "    if kernel == \"rbf\":\n",
    "      \n",
    "        bandwidth_range = [10, 15, 20, 50]\n",
    "        for a in bandwidth_range:\n",
    "            XX += torch.exp(-0.5*dxx/a)\n",
    "            YY += torch.exp(-0.5*dyy/a)\n",
    "            XY += torch.exp(-0.5*dxy/a)\n",
    "      \n",
    "      \n",
    "\n",
    "    return torch.mean(XX + YY - 2. * XY)"
   ]
  },
  {
   "cell_type": "code",
   "execution_count": 30,
   "metadata": {},
   "outputs": [
    {
     "data": {
      "text/plain": [
       "(torch.Size([5212, 1, 325]), torch.Size([5212, 1, 325]))"
      ]
     },
     "execution_count": 30,
     "metadata": {},
     "output_type": "execute_result"
    }
   ],
   "source": [
    "y_true.shape, pred.shape\n",
    "# pred = pred.reshape(pred.shape[0], 1, pred.shape[-2])\n",
    "# y_true = y_true.reshape(y_true.shape[0], 1, y_true.shape[-2])"
   ]
  },
  {
   "cell_type": "code",
   "execution_count": 31,
   "metadata": {},
   "outputs": [],
   "source": [
    "# pred = pred.reshape(pred.shape[0], 1, pred.shape[-1], 1)\n",
    "import torch\n",
    "from torch import nn\n",
    "\n",
    "\n",
    "class RBF(nn.Module):\n",
    "\n",
    "    def __init__(self, n_kernels=5, mul_factor=2.0, bandwidth=None):\n",
    "        super().__init__()\n",
    "        self.bandwidth_multipliers = mul_factor ** (torch.arange(n_kernels) - n_kernels // 2)\n",
    "        self.bandwidth = bandwidth\n",
    "\n",
    "    def get_bandwidth(self, L2_distances):\n",
    "        if self.bandwidth is None:\n",
    "            n_samples = L2_distances.shape[0]\n",
    "            return L2_distances.data.sum() / (n_samples ** 2 - n_samples)\n",
    "\n",
    "        return self.bandwidth\n",
    "\n",
    "    def forward(self, X):\n",
    "        L2_distances = torch.cdist(X, X) ** 2\n",
    "        return torch.exp(-L2_distances[None, ...] / (self.get_bandwidth(L2_distances) * self.bandwidth_multipliers)[:, None, None]).sum(dim=0)\n",
    "\n",
    "\n",
    "class MMDLoss(nn.Module):\n",
    "\n",
    "    def __init__(self, kernel=RBF(bandwidth=1)):\n",
    "        super().__init__()\n",
    "        self.kernel = kernel\n",
    "\n",
    "    def forward(self, X, Y):\n",
    "        K = self.kernel(torch.vstack([X, Y]))\n",
    "\n",
    "        X_size = X.shape[0]\n",
    "        XX = K[:X_size, :X_size].mean()\n",
    "        XY = K[:X_size, X_size:].mean()\n",
    "        YY = K[X_size:, X_size:].mean()\n",
    "        return XX - 2 * XY + YY"
   ]
  },
  {
   "cell_type": "code",
   "execution_count": 33,
   "metadata": {},
   "outputs": [
    {
     "ename": "RuntimeError",
     "evalue": "The size of tensor a (10424) must match the size of tensor b (5) at non-singleton dimension 1",
     "output_type": "error",
     "traceback": [
      "\u001b[0;31m---------------------------------------------------------------------------\u001b[0m",
      "\u001b[0;31mRuntimeError\u001b[0m                              Traceback (most recent call last)",
      "Cell \u001b[0;32mIn[33], line 3\u001b[0m\n\u001b[1;32m      1\u001b[0m Loss  \u001b[38;5;241m=\u001b[39m MMDLoss()\n\u001b[0;32m----> 3\u001b[0m out \u001b[38;5;241m=\u001b[39m \u001b[43mLoss\u001b[49m\u001b[38;5;241;43m.\u001b[39;49m\u001b[43mforward\u001b[49m\u001b[43m(\u001b[49m\u001b[43mpred\u001b[49m\u001b[43m,\u001b[49m\u001b[43m \u001b[49m\u001b[43my_true\u001b[49m\u001b[43m)\u001b[49m\n",
      "Cell \u001b[0;32mIn[31], line 32\u001b[0m, in \u001b[0;36mMMDLoss.forward\u001b[0;34m(self, X, Y)\u001b[0m\n\u001b[1;32m     31\u001b[0m \u001b[38;5;28;01mdef\u001b[39;00m \u001b[38;5;21mforward\u001b[39m(\u001b[38;5;28mself\u001b[39m, X, Y):\n\u001b[0;32m---> 32\u001b[0m     K \u001b[38;5;241m=\u001b[39m \u001b[38;5;28;43mself\u001b[39;49m\u001b[38;5;241;43m.\u001b[39;49m\u001b[43mkernel\u001b[49m\u001b[43m(\u001b[49m\u001b[43mtorch\u001b[49m\u001b[38;5;241;43m.\u001b[39;49m\u001b[43mvstack\u001b[49m\u001b[43m(\u001b[49m\u001b[43m[\u001b[49m\u001b[43mX\u001b[49m\u001b[43m,\u001b[49m\u001b[43m \u001b[49m\u001b[43mY\u001b[49m\u001b[43m]\u001b[49m\u001b[43m)\u001b[49m\u001b[43m)\u001b[49m\n\u001b[1;32m     34\u001b[0m     X_size \u001b[38;5;241m=\u001b[39m X\u001b[38;5;241m.\u001b[39mshape[\u001b[38;5;241m0\u001b[39m]\n\u001b[1;32m     35\u001b[0m     XX \u001b[38;5;241m=\u001b[39m K[:X_size, :X_size]\u001b[38;5;241m.\u001b[39mmean()\n",
      "File \u001b[0;32m~/.pyenv/versions/3.11.9/envs/Thesis/lib/python3.11/site-packages/torch/nn/modules/module.py:1532\u001b[0m, in \u001b[0;36mModule._wrapped_call_impl\u001b[0;34m(self, *args, **kwargs)\u001b[0m\n\u001b[1;32m   1530\u001b[0m     \u001b[38;5;28;01mreturn\u001b[39;00m \u001b[38;5;28mself\u001b[39m\u001b[38;5;241m.\u001b[39m_compiled_call_impl(\u001b[38;5;241m*\u001b[39margs, \u001b[38;5;241m*\u001b[39m\u001b[38;5;241m*\u001b[39mkwargs)  \u001b[38;5;66;03m# type: ignore[misc]\u001b[39;00m\n\u001b[1;32m   1531\u001b[0m \u001b[38;5;28;01melse\u001b[39;00m:\n\u001b[0;32m-> 1532\u001b[0m     \u001b[38;5;28;01mreturn\u001b[39;00m \u001b[38;5;28;43mself\u001b[39;49m\u001b[38;5;241;43m.\u001b[39;49m\u001b[43m_call_impl\u001b[49m\u001b[43m(\u001b[49m\u001b[38;5;241;43m*\u001b[39;49m\u001b[43margs\u001b[49m\u001b[43m,\u001b[49m\u001b[43m \u001b[49m\u001b[38;5;241;43m*\u001b[39;49m\u001b[38;5;241;43m*\u001b[39;49m\u001b[43mkwargs\u001b[49m\u001b[43m)\u001b[49m\n",
      "File \u001b[0;32m~/.pyenv/versions/3.11.9/envs/Thesis/lib/python3.11/site-packages/torch/nn/modules/module.py:1541\u001b[0m, in \u001b[0;36mModule._call_impl\u001b[0;34m(self, *args, **kwargs)\u001b[0m\n\u001b[1;32m   1536\u001b[0m \u001b[38;5;66;03m# If we don't have any hooks, we want to skip the rest of the logic in\u001b[39;00m\n\u001b[1;32m   1537\u001b[0m \u001b[38;5;66;03m# this function, and just call forward.\u001b[39;00m\n\u001b[1;32m   1538\u001b[0m \u001b[38;5;28;01mif\u001b[39;00m \u001b[38;5;129;01mnot\u001b[39;00m (\u001b[38;5;28mself\u001b[39m\u001b[38;5;241m.\u001b[39m_backward_hooks \u001b[38;5;129;01mor\u001b[39;00m \u001b[38;5;28mself\u001b[39m\u001b[38;5;241m.\u001b[39m_backward_pre_hooks \u001b[38;5;129;01mor\u001b[39;00m \u001b[38;5;28mself\u001b[39m\u001b[38;5;241m.\u001b[39m_forward_hooks \u001b[38;5;129;01mor\u001b[39;00m \u001b[38;5;28mself\u001b[39m\u001b[38;5;241m.\u001b[39m_forward_pre_hooks\n\u001b[1;32m   1539\u001b[0m         \u001b[38;5;129;01mor\u001b[39;00m _global_backward_pre_hooks \u001b[38;5;129;01mor\u001b[39;00m _global_backward_hooks\n\u001b[1;32m   1540\u001b[0m         \u001b[38;5;129;01mor\u001b[39;00m _global_forward_hooks \u001b[38;5;129;01mor\u001b[39;00m _global_forward_pre_hooks):\n\u001b[0;32m-> 1541\u001b[0m     \u001b[38;5;28;01mreturn\u001b[39;00m \u001b[43mforward_call\u001b[49m\u001b[43m(\u001b[49m\u001b[38;5;241;43m*\u001b[39;49m\u001b[43margs\u001b[49m\u001b[43m,\u001b[49m\u001b[43m \u001b[49m\u001b[38;5;241;43m*\u001b[39;49m\u001b[38;5;241;43m*\u001b[39;49m\u001b[43mkwargs\u001b[49m\u001b[43m)\u001b[49m\n\u001b[1;32m   1543\u001b[0m \u001b[38;5;28;01mtry\u001b[39;00m:\n\u001b[1;32m   1544\u001b[0m     result \u001b[38;5;241m=\u001b[39m \u001b[38;5;28;01mNone\u001b[39;00m\n",
      "Cell \u001b[0;32mIn[31], line 22\u001b[0m, in \u001b[0;36mRBF.forward\u001b[0;34m(self, X)\u001b[0m\n\u001b[1;32m     20\u001b[0m \u001b[38;5;28;01mdef\u001b[39;00m \u001b[38;5;21mforward\u001b[39m(\u001b[38;5;28mself\u001b[39m, X):\n\u001b[1;32m     21\u001b[0m     L2_distances \u001b[38;5;241m=\u001b[39m torch\u001b[38;5;241m.\u001b[39mcdist(X, X) \u001b[38;5;241m*\u001b[39m\u001b[38;5;241m*\u001b[39m \u001b[38;5;241m2\u001b[39m\n\u001b[0;32m---> 22\u001b[0m     \u001b[38;5;28;01mreturn\u001b[39;00m torch\u001b[38;5;241m.\u001b[39mexp(\u001b[38;5;241;43m-\u001b[39;49m\u001b[43mL2_distances\u001b[49m\u001b[43m[\u001b[49m\u001b[38;5;28;43;01mNone\u001b[39;49;00m\u001b[43m,\u001b[49m\u001b[43m \u001b[49m\u001b[38;5;241;43m.\u001b[39;49m\u001b[38;5;241;43m.\u001b[39;49m\u001b[38;5;241;43m.\u001b[39;49m\u001b[43m]\u001b[49m\u001b[43m \u001b[49m\u001b[38;5;241;43m/\u001b[39;49m\u001b[43m \u001b[49m\u001b[43m(\u001b[49m\u001b[38;5;28;43mself\u001b[39;49m\u001b[38;5;241;43m.\u001b[39;49m\u001b[43mget_bandwidth\u001b[49m\u001b[43m(\u001b[49m\u001b[43mL2_distances\u001b[49m\u001b[43m)\u001b[49m\u001b[43m \u001b[49m\u001b[38;5;241;43m*\u001b[39;49m\u001b[43m \u001b[49m\u001b[38;5;28;43mself\u001b[39;49m\u001b[38;5;241;43m.\u001b[39;49m\u001b[43mbandwidth_multipliers\u001b[49m\u001b[43m)\u001b[49m\u001b[43m[\u001b[49m\u001b[43m:\u001b[49m\u001b[43m,\u001b[49m\u001b[43m \u001b[49m\u001b[38;5;28;43;01mNone\u001b[39;49;00m\u001b[43m,\u001b[49m\u001b[43m \u001b[49m\u001b[38;5;28;43;01mNone\u001b[39;49;00m\u001b[43m]\u001b[49m)\u001b[38;5;241m.\u001b[39msum(dim\u001b[38;5;241m=\u001b[39m\u001b[38;5;241m0\u001b[39m)\n",
      "\u001b[0;31mRuntimeError\u001b[0m: The size of tensor a (10424) must match the size of tensor b (5) at non-singleton dimension 1"
     ]
    }
   ],
   "source": [
    "Loss  = MMDLoss()\n",
    "\n",
    "out = Loss.forward(pred, y_true)"
   ]
  },
  {
   "cell_type": "code",
   "execution_count": null,
   "metadata": {},
   "outputs": [
    {
     "data": {
      "text/plain": [
       "tensor(nan)"
      ]
     },
     "execution_count": 23,
     "metadata": {},
     "output_type": "execute_result"
    }
   ],
   "source": [
    "out"
   ]
  },
  {
   "cell_type": "code",
   "execution_count": null,
   "metadata": {},
   "outputs": [],
   "source": [
    "# %matplotlib inline\n",
    "\n",
    "# import numpy as np\n",
    "# import matplotlib.pyplot as plt\n",
    "# from scipy.stats import multivariate_normal\n",
    "# from scipy.stats import dirichlet \n",
    "# from torch.distributions.multivariate_normal import MultivariateNormal \n",
    "\n",
    "\n",
    "# m = 32 # sample size\n",
    "# x_cov, x_mean = torch.std_mean(y_true, dim=0)\n",
    "# y_cov, y_mean = torch.std_mean(pred, dim=0)\n",
    "\n",
    "# print(x_mean[0].shape)\n",
    "# px = MultivariateNormal(x_mean[0], x_cov[0])\n",
    "# qy = MultivariateNormal(y_mean[0], y_cov[0])\n",
    "# x = px.sample([m]).to(device)\n",
    "# y = qy.sample([m]).to(device)\n",
    "\n",
    "# print(x.shape)\n",
    "# result = MMD(x, y, kernel=\"multiscale\")\n",
    "\n",
    "# print(f\"MMD result of X and Y is {result.item()}\")\n",
    "\n",
    "# # ---- Plotting setup ----\n",
    "\n",
    "# fig, (ax1,ax2) = plt.subplots(1,2,figsize=(8,4), dpi=100)\n",
    "# #plt.tight_layout() \n",
    "# delta = 0.025\n",
    "\n",
    "# x1_val = np.linspace(-5, 5, num=m)\n",
    "# x2_val = np.linspace(-5, 5, num=m)\n",
    "\n",
    "# x1, x2 = np.meshgrid(x1_val, x2_val)\n",
    "\n",
    "# px_grid = torch.zeros(m,m)\n",
    "# qy_grid = torch.zeros(m,m)\n",
    "\n",
    "\n",
    "# for i in range(m):\n",
    "#     for j in range(m):\n",
    "#         px_grid[i,j] = multivariate_normal.pdf([x1_val[i],x2_val[j]], x_mean, x_cov)\n",
    "#         qy_grid[i,j] = multivariate_normal.pdf([x1_val[i],x2_val[j]], y_mean, y_cov)\n",
    "\n",
    "\n",
    "# CS1 = ax1.contourf(x1, x2, px_grid,100, cmap=plt.cm.YlGnBu)\n",
    "# ax1.set_title(\"Distribution of $X \\sim P(X)$\")\n",
    "# ax1.set_ylabel('$x_2$')\n",
    "# ax1.set_xlabel('$x_1$')\n",
    "# ax1.set_aspect('equal')\n",
    "# ax1.scatter(x[:10,0].cpu(), x[:10,1].cpu(), label=\"$X$ Samples\", marker=\"o\", facecolor=\"r\", edgecolor=\"k\")\n",
    "# ax1.legend()\n",
    "\n",
    "# CS2 = ax2.contourf(x1, x2, qy_grid,100, cmap=plt.cm.YlGnBu)\n",
    "# ax2.set_title(\"Distribution of $Y \\sim Q(Y)$\")\n",
    "# ax2.set_xlabel('$y_1$')\n",
    "# ax2.set_ylabel('$y_2$')\n",
    "# ax2.set_aspect('equal')\n",
    "# ax2.scatter(y[:10,0].cpu(), y[:10,1].cpu(), label=\"$Y$ Samples\", marker=\"o\", facecolor=\"r\", edgecolor=\"k\")\n",
    "# ax2.legend()\n",
    "# #ax1.axis([-2.5, 2.5, -2.5, 2.5])\n",
    "\n",
    "# # Add colorbar and title\n",
    "# fig.subplots_adjust(right=0.8)\n",
    "# cbar_ax = fig.add_axes([0.85, 0.15, 0.02, 0.7])\n",
    "# cbar = fig.colorbar(CS2, cax=cbar_ax)\n",
    "# cbar.ax.set_ylabel('Density results')\n",
    "# plt.suptitle(f\"MMD result: {round(result.item(),3)}\",y=0.95, fontweight=\"bold\")\n",
    "# plt.show()"
   ]
  }
 ],
 "metadata": {
  "kernelspec": {
   "display_name": "Thesis",
   "language": "python",
   "name": "python3"
  },
  "language_info": {
   "codemirror_mode": {
    "name": "ipython",
    "version": 3
   },
   "file_extension": ".py",
   "mimetype": "text/x-python",
   "name": "python",
   "nbconvert_exporter": "python",
   "pygments_lexer": "ipython3",
   "version": "3.11.9"
  }
 },
 "nbformat": 4,
 "nbformat_minor": 2
}
