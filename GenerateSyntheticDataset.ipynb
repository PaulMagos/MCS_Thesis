{
 "cells": [
  {
   "cell_type": "code",
   "execution_count": null,
   "metadata": {},
   "outputs": [
    {
     "ename": "",
     "evalue": "",
     "output_type": "error",
     "traceback": [
      "\u001b[1;31mNon è stato possibile avviare il kernel. \n",
      "\u001b[1;31mrequest to http://localhost:8888/api/sessions?1730819804982 failed, reason:. \n",
      "\u001b[1;31mPer ulteriori dettagli, visualizzare Jupyter <a href='command:jupyter.viewOutput'>log</a>."
     ]
    }
   ],
   "source": [
    "import numpy as np\n",
    "import matplotlib.pyplot as plt\n",
    "import pandas as pd\n",
    "from sklearn.preprocessing import MinMaxScaler\n",
    "\n",
    "x = np.arange(0, 250 * np.pi, 0.1)\n",
    "length = len(x)//63\n",
    "x = x[:length*63]\n",
    "\n",
    "y = np.sin(x)\n",
    "y2 = np.cos(x)\n",
    "y3 = y + y2\n",
    "y4 = np.sin(y2)\n",
    "y5 = np.cos(y)\n",
    "y6 = np.tan(y3)\n",
    "    \n",
    "\n",
    "data = pd.DataFrame(columns=['sin', 'cos', 'sin_cos', 'scos', 'csin', 'tan'])\n",
    "data['sin'] = y\n",
    "data['cos'] = y2\n",
    "data['sin_cos'] = y3\n",
    "data['scos'] = y4\n",
    "data['csin'] = y5\n",
    "data['tan'] = y6\n",
    "\n",
    "scaler = MinMaxScaler()\n",
    "data = scaler.fit_transform(data)\n",
    "plt.plot(x, data)\n",
    "plt.show()"
   ]
  },
  {
   "cell_type": "code",
   "execution_count": 2,
   "metadata": {},
   "outputs": [],
   "source": [
    "\n",
    "# from tsl.datasets.mts_benchmarks import ExchangeBenchmark\n",
    "\n",
    "# data = ExchangeBenchmark().dataframe().values\n",
    "def find_period(signal):\n",
    "    periods = []\n",
    "    for i in range(len(signal)):\n",
    "        sing = signal[i]\n",
    "        acf = np.correlate(sing, sing, 'full')[-len(sing):]\n",
    "        inflection = np.diff(np.sign(np.diff(acf)))\n",
    "        peaks = (inflection < 0).nonzero()[0] + 1\n",
    "        periods.append(peaks[acf[peaks].argmax()])\n",
    "    return int(np.median(periods))"
   ]
  },
  {
   "cell_type": "code",
   "execution_count": 3,
   "metadata": {},
   "outputs": [],
   "source": [
    "data = data.reshape(length, 63, 6)"
   ]
  },
  {
   "cell_type": "code",
   "execution_count": 4,
   "metadata": {},
   "outputs": [],
   "source": [
    "np.save('./Datasets/SyntheticSinDataset', data)\n",
    "np.save('./Datasets/SyntheticSinScaler', scaler)"
   ]
  }
 ],
 "metadata": {
  "kernelspec": {
   "display_name": "Python 3",
   "language": "python",
   "name": "python3"
  },
  "language_info": {
   "codemirror_mode": {
    "name": "ipython",
    "version": 3
   },
   "file_extension": ".py",
   "mimetype": "text/x-python",
   "name": "python",
   "nbconvert_exporter": "python",
   "pygments_lexer": "ipython3",
   "version": "3.11.9"
  }
 },
 "nbformat": 4,
 "nbformat_minor": 2
}
