{
 "cells": [
  {
   "cell_type": "code",
   "execution_count": 10,
   "metadata": {},
   "outputs": [
    {
     "data": {
      "image/png": "[encoded data removed]",
      "text/plain": [
       "<Figure size 640x480 with 1 Axes>"
      ]
     },
     "metadata": {},
     "output_type": "display_data"
    }
   ],
   "source": [
    "import numpy as np\n",
    "import matplotlib.pyplot as plt\n",
    "import pandas as pd\n",
    "from sklearn.preprocessing import MinMaxScaler\n",
    "\n",
    "x = np.arange(0, 1000 * np.pi, 0.1)\n",
    "length = len(x)//63\n",
    "x = x[:length*63]\n",
    "y = np.sin(x)\n",
    "y2 = np.cos(x)\n",
    "y3 = y + y2\n",
    "\n",
    "data1 = np.array([y, y2, y3])\n",
    "\n",
    "def find_period(signal):\n",
    "    periods = []\n",
    "    for i in range(len(signal)):\n",
    "        sing = signal[i]\n",
    "        acf = np.correlate(sing, sing, 'full')[-len(sing):]\n",
    "        inflection = np.diff(np.sign(np.diff(acf)))\n",
    "        peaks = (inflection < 0).nonzero()[0] + 1\n",
    "        periods.append(peaks[acf[peaks].argmax()])\n",
    "    return int(np.median(periods))\n",
    "\n",
    "def generate_combination(data1, permutation):\n",
    "    y4 = np.sin(data1[permutation[0]])\n",
    "    y5 = np.cos(data1[permutation[1]])\n",
    "    y6 = np.tan(data1[permutation[2]])\n",
    "    return y4, y5, y6\n",
    "\n",
    "to_generate = len(y)\n",
    "steps = 63\n",
    "y4, y5, y6 = np.zeros_like(y), np.zeros_like(y), np.zeros_like(y)\n",
    "for i in range(to_generate//steps):\n",
    "    y4[i*steps:(i+1)*steps], y5[i*steps:(i+1)*steps], y6[i*steps:(i+1)*steps] = generate_combination(data1[:,  i*steps:(i+1)*steps], [0, 1, 2])\n",
    "    \n",
    "\n",
    "data = pd.DataFrame(columns=['sin', 'cos', 'sin_cos', 'scos', 'csin', 'tan'])\n",
    "data['sin'] = y\n",
    "data['cos'] = y2\n",
    "\n",
    "\n",
    "data['sin_cos'] = y3\n",
    "data['scos'] = y4\n",
    "data['csin'] = y5\n",
    "data['tan'] = y6\n",
    "\n",
    "scaler = MinMaxScaler()\n",
    "\n",
    "data = scaler.fit_transform(data)\n",
    "# data.to_json('./data/SynteticSin/data.json')\n",
    "# data = (data - data.max(axis = 0))/(data.min(axis=0)-data.max(axis=0))\n",
    "plt.plot(x, data)\n",
    "plt.show()"
   ]
  },
  {
   "cell_type": "code",
   "execution_count": 11,
   "metadata": {},
   "outputs": [],
   "source": [
    "data = data.reshape(length, 63, 6)"
   ]
  },
  {
   "cell_type": "code",
   "execution_count": 12,
   "metadata": {},
   "outputs": [],
   "source": [
    "np.save('./Datasets/SyntheticSinDataset', data)\n",
    "np.save('./Datasets/SyntheticSinScaler', scaler)"
   ]
  }
 ],
 "metadata": {
  "kernelspec": {
   "display_name": "Thesis",
   "language": "python",
   "name": "python3"
  },
  "language_info": {
   "codemirror_mode": {
    "name": "ipython",
    "version": 3
   },
   "file_extension": ".py",
   "mimetype": "text/x-python",
   "name": "python",
   "nbconvert_exporter": "python",
   "pygments_lexer": "ipython3",
   "version": "3.11.9"
  }
 },
 "nbformat": 4,
 "nbformat_minor": 2
}
