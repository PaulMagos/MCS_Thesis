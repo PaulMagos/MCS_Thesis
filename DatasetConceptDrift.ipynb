{
 "cells": [
  {
   "cell_type": "code",
   "execution_count": null,
   "metadata": {},
   "outputs": [
    {
     "ename": "",
     "evalue": "",
     "output_type": "error",
     "traceback": [
      "\u001b[1;31mNon è stato possibile avviare il kernel. \n",
      "\u001b[1;31mrequest to http://localhost:8888/api/sessions?1730816771399 failed, reason:. \n",
      "\u001b[1;31mPer ulteriori dettagli, visualizzare Jupyter <a href='command:jupyter.viewOutput'>log</a>."
     ]
    }
   ],
   "source": [
    "from tsl.datasets import AirQuality\n",
    "from tsl.datasets.mts_benchmarks import ExchangeBenchmark\n",
    "from scipy.stats import skew, kurtosis\n",
    "import nannyml as nml\n",
    "import pandas as pd\n",
    "import numpy as np\n",
    "from GT import get_dataset\n",
    "\n",
    "\n",
    "dataset1 = get_dataset('Synth')[0]\n",
    "dataset1 = dataset1.reshape(dataset1.shape[0]*dataset1.shape[1], dataset1.shape[2])\n",
    "\n",
    "dataset2 = ExchangeBenchmark().dataframe().values[:7560]\n",
    "dataset2 = get_dataset('ExchangeBenchmark', dataset2, 216)[0]\n",
    "dataset2 = dataset2.reshape(dataset2.shape[0]*dataset2.shape[1], dataset2.shape[2])\n",
    "\n",
    "dataset3 = AirQuality(impute_nans=True, small=True).dataframe().values[:8736]\n",
    "dataset3 = get_dataset('AirQuality', dataset3, 168)[0]\n",
    "dataset3 = dataset3.reshape(dataset3.shape[0]*dataset3.shape[1], dataset3.shape[2])\n",
    "\n",
    "df1 = pd.DataFrame(dataset1)\n",
    "df2 = pd.DataFrame(dataset2)\n",
    "df3 = pd.DataFrame(dataset3)"
   ]
  },
  {
   "cell_type": "code",
   "execution_count": null,
   "metadata": {},
   "outputs": [],
   "source": [
    "def get_stats(df):\n",
    "    \"\"\"\n",
    "    Get statistics of dataframe.\n",
    "    \"\"\"\n",
    "    df_described = df.describe()\n",
    "    stats = pd.DataFrame({'skewness': [], 'kurtosis': []})\n",
    "    for column in df.columns:\n",
    "        stats = pd.concat([stats, pd.DataFrame({\n",
    "            'skewness': [skew(df[column])],\n",
    "            'kurtosis': [kurtosis(df[column])]\n",
    "        })], ignore_index=True)\n",
    "    stats = stats.T\n",
    "    stats.columns = df_described.columns\n",
    "    df_described = pd.concat([df_described, stats], axis=0)\n",
    "    return df_described.mean(axis=1)"
   ]
  },
  {
   "cell_type": "markdown",
   "metadata": {},
   "source": [
    "# Description of values of MetrLA Dataset"
   ]
  },
  {
   "cell_type": "code",
   "execution_count": null,
   "metadata": {},
   "outputs": [],
   "source": [
    "df1_described = get_stats(df1)"
   ]
  },
  {
   "cell_type": "markdown",
   "metadata": {},
   "source": [
    "# Description of values of PemsBay Dataset"
   ]
  },
  {
   "cell_type": "code",
   "execution_count": null,
   "metadata": {},
   "outputs": [],
   "source": [
    "df2_described = get_stats(df2)"
   ]
  },
  {
   "cell_type": "markdown",
   "metadata": {},
   "source": [
    "# Description of values of AirQuality Dataset"
   ]
  },
  {
   "cell_type": "code",
   "execution_count": null,
   "metadata": {},
   "outputs": [],
   "source": [
    "df3_described = get_stats(df3)"
   ]
  },
  {
   "cell_type": "code",
   "execution_count": null,
   "metadata": {},
   "outputs": [],
   "source": [
    "df_stats = pd.concat([df1_described, df2_described, df3_described], axis=1)\n",
    "df_stats.columns = ['Synthetic Sin', 'Exchange', 'AirQuality(36)']\n",
    "df_stats = df_stats.T\n",
    "df_stats.insert(0, 'Dataset', df_stats.index)\n",
    "df_stats.reset_index(drop=True, inplace=True)\n",
    "df_stats['count'] = df_stats['count'].astype('int') \n",
    "df_stats.drop(columns=['min', '25%', '50%','75%', 'max'], inplace=True)\n",
    "df_stats.to_csv('datasets_statistics.csv', index=False)"
   ]
  },
  {
   "cell_type": "code",
   "execution_count": null,
   "metadata": {},
   "outputs": [],
   "source": [
    "df_stats"
   ]
  },
  {
   "cell_type": "markdown",
   "metadata": {},
   "source": [
    "# Check distribution drift for both datasets"
   ]
  },
  {
   "cell_type": "code",
   "execution_count": null,
   "metadata": {},
   "outputs": [],
   "source": [
    "\n",
    "def detect_drift(data, threshold=0.05):\n",
    "  \"\"\"\n",
    "  Code for detecting data drift\n",
    "\n",
    "  Args:\n",
    "      data: sample NumPy array of data points.\n",
    "      threshold: Proportion of data points allowed to fall outside the expected range (default: 0.05).\n",
    "\n",
    "  Returns:\n",
    "      A boolean indicating if data drift is detected.\n",
    "  \"\"\"\n",
    "  mean = np.mean(data)\n",
    "  std = np.std(data)\n",
    "  expected_upper_bound = mean + 2 * std\n",
    "  expected_lower_bound = mean - 2 * std\n",
    "\n",
    "  # Calculate the cumulative sum of deviations from the mean\n",
    "  deviations = np.cumsum(data - mean)\n",
    "\n",
    "  # Identify data points exceeding the expected bounds\n",
    "  outliers = np.sum(deviations > expected_upper_bound) + np.sum(deviations < expected_lower_bound)\n",
    "\n",
    "  # Check if the proportion of outliers exceeds the threshold\n",
    "  return outliers / len(data) > threshold\n",
    "\n",
    "\n",
    "# Calculate drift for both datasets\n",
    "drift_detected_1 = detect_drift(df1)\n",
    "drift_detected_2 = detect_drift(df2)\n",
    "drift_detected_3 = detect_drift(df3)\n",
    "\n",
    "if np.mean(drift_detected_1):\n",
    "  print(\"Data drift detected in Synthetic data\")\n",
    "else:\n",
    "  print(\"No data drift detected in Synthetic data.\")\n",
    "  \n",
    "if np.mean(drift_detected_2):\n",
    "  print(\"Data drift detected in Exchange dataset\")\n",
    "else:\n",
    "  print(\"No data drift detected in Exchange data.\")\n",
    "  \n",
    "if np.mean(drift_detected_3):\n",
    "  print(\"Data drift detected in AirQuality dataset\")\n",
    "else:\n",
    "  print(\"No data drift detected in AirQuality data.\")\n"
   ]
  },
  {
   "cell_type": "markdown",
   "metadata": {},
   "source": [
    "# Check drift distribution after half dataset fit with nannyml "
   ]
  },
  {
   "cell_type": "markdown",
   "metadata": {},
   "source": [
    "## MetrLa"
   ]
  },
  {
   "cell_type": "code",
   "execution_count": null,
   "metadata": {},
   "outputs": [],
   "source": [
    "METRLA_middle_index = len(df1) // 2\n",
    "\n",
    "METRLA_first_half_df = df1.iloc[:METRLA_middle_index] # reference dataset \n",
    "METRLA_second_half_df = df1.iloc[METRLA_middle_index:]\n",
    "METRLA_feature_names = df1.columns\n",
    "METRLA_reference_set = METRLA_first_half_df.copy()  \n",
    "METRLA_analysis_set = METRLA_second_half_df.copy() "
   ]
  },
  {
   "cell_type": "code",
   "execution_count": null,
   "metadata": {},
   "outputs": [],
   "source": [
    "from nannyml.plots.blueprints.metrics import plot_metric\n",
    "METRLA_drift_detector = nml.DataReconstructionDriftCalculator(\n",
    "    column_names=METRLA_feature_names,\n",
    "    chunk_size=15\n",
    ").fit(reference_data=METRLA_reference_set)\n",
    "\n",
    "# Calculate drift results\n",
    "METRLA_drift_results = METRLA_drift_detector.calculate(data=METRLA_analysis_set)\n",
    "\n",
    "# Visualize drift\n",
    "METRLA_drift_results_plot = plot_metric(METRLA_drift_results, title='', metric_display_name='Reconstruction Error',\n",
    "                metric_column_name='reconstruction_error')\n",
    "METRLA_drift_results_plot.write_image('metrla_drift_results.png', width=1000, height=500)\n",
    "METRLA_drift_results_plot.show()"
   ]
  },
  {
   "cell_type": "code",
   "execution_count": null,
   "metadata": {},
   "outputs": [],
   "source": []
  },
  {
   "cell_type": "markdown",
   "metadata": {},
   "source": [
    "## PemsBay"
   ]
  },
  {
   "cell_type": "code",
   "execution_count": null,
   "metadata": {},
   "outputs": [],
   "source": [
    "PemsBay_middle_index = len(df2) // 2\n",
    "\n",
    "PemsBay_first_half_df = df2.iloc[:PemsBay_middle_index] # reference dataset \n",
    "PemsBay_second_half_df = df2.iloc[PemsBay_middle_index:]\n",
    "\n",
    "PemsBay_feature_names = df2.columns\n",
    "PemsBay_reference_set = PemsBay_first_half_df.copy()  \n",
    "PemsBay_analysis_set = PemsBay_second_half_df.copy() "
   ]
  },
  {
   "cell_type": "code",
   "execution_count": null,
   "metadata": {},
   "outputs": [],
   "source": [
    "PemsBay_drift_detector = nml.DataReconstructionDriftCalculator(\n",
    "    column_names=PemsBay_feature_names,\n",
    "    chunk_size=216\n",
    ").fit(reference_data=PemsBay_reference_set)\n",
    "\n",
    "# Calculate drift results\n",
    "PemsBay_drift_results = PemsBay_drift_detector.calculate(data=PemsBay_analysis_set)\n",
    "\n",
    "# Visualize drift\n",
    "PemsBay_drift_results_plot = plot_metric(PemsBay_drift_results, title='', metric_display_name='Reconstruction Error',\n",
    "                metric_column_name='reconstruction_error')\n",
    "# PemsBay_drift_results_plot = PemsBay_drift_results.plot()\n",
    "PemsBay_drift_results_plot.write_image('pemsbay_drift_results.png', width=1000, height=500)\n",
    "PemsBay_drift_results_plot.show()"
   ]
  },
  {
   "cell_type": "markdown",
   "metadata": {},
   "source": [
    "## AirQuality"
   ]
  },
  {
   "cell_type": "code",
   "execution_count": null,
   "metadata": {},
   "outputs": [],
   "source": [
    "AirQuality_middle_index = len(df3) // 2\n",
    "\n",
    "AirQuality_first_half_df = df3.iloc[:AirQuality_middle_index] # reference dataset \n",
    "AirQuality_second_half_df = df3.iloc[AirQuality_middle_index:]\n",
    "\n",
    "AirQuality_feature_names = df3.columns\n",
    "AirQuality_reference_set = AirQuality_first_half_df.copy()  \n",
    "AirQuality_analysis_set = AirQuality_second_half_df.copy() "
   ]
  },
  {
   "cell_type": "code",
   "execution_count": null,
   "metadata": {},
   "outputs": [],
   "source": [
    "AirQuality_drift_detector = nml.DataReconstructionDriftCalculator(\n",
    "    column_names=AirQuality_feature_names,\n",
    "    chunk_size=168\n",
    ").fit(reference_data=AirQuality_reference_set)\n",
    "\n",
    "# Calculate drift results\n",
    "AirQuality_drift_results = AirQuality_drift_detector.calculate(data=AirQuality_analysis_set)\n",
    "\n",
    "# Visualize drift\n",
    "# AirQuality_drift_results_plot = AirQuality_drift_results.plot()\n",
    "AirQuality_drift_results_plot = plot_metric(AirQuality_drift_results, title='', metric_display_name='Reconstruction Error',\n",
    "                metric_column_name='reconstruction_error')\n",
    "# PemsBay_drift_results_plot = PemsBay_drift_results.plot()\n",
    "AirQuality_drift_results_plot.write_image('airquality_drift_results.png', width=1000, height=500)\n",
    "AirQuality_drift_results_plot.show()"
   ]
  },
  {
   "cell_type": "code",
   "execution_count": null,
   "metadata": {},
   "outputs": [],
   "source": [
    "# AirQuality_reference_set['datetime'] = AirQuality_reference_set.index\n",
    "# AirQuality_analysis_set['datetime'] = AirQuality_analysis_set.index\n",
    "\n",
    "# AirQuality_reference_set.reset_index(drop=True, inplace=True)\n",
    "# AirQuality_analysis_set.reset_index(drop=True, inplace=True)"
   ]
  },
  {
   "cell_type": "code",
   "execution_count": null,
   "metadata": {},
   "outputs": [],
   "source": [
    "# import nannyml as nml\n",
    "# from IPython.display import display\n",
    "\n",
    "# calc = nml.DomainClassifierCalculator(\n",
    "#     feature_column_names=AirQuality_feature_names,\n",
    "#     timestamp_column_name='datetime',\n",
    "#     chunk_size=50\n",
    "# )\n",
    "# calc.fit(AirQuality_reference_set)\n",
    "# results = calc.calculate(AirQuality_analysis_set)\n",
    "\n",
    "# figure = results.plot()\n",
    "# figure.show()"
   ]
  }
 ],
 "metadata": {
  "kernelspec": {
   "display_name": "OLDE",
   "language": "python",
   "name": "python3"
  },
  "language_info": {
   "codemirror_mode": {
    "name": "ipython",
    "version": 3
   },
   "file_extension": ".py",
   "mimetype": "text/x-python",
   "name": "python",
   "nbconvert_exporter": "python",
   "pygments_lexer": "ipython3",
   "version": "3.10.14"
  }
 },
 "nbformat": 4,
 "nbformat_minor": 2
}
