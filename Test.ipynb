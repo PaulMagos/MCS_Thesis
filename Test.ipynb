{
 "cells": [
  {
   "cell_type": "code",
   "execution_count": 115,
   "metadata": {},
   "outputs": [],
   "source": [
    "import torch.nn.functional as F\n",
    "import torch\n",
    "from GRGN.Utils.reshapes import reshape_to_original"
   ]
  },
  {
   "cell_type": "code",
   "execution_count": 116,
   "metadata": {},
   "outputs": [
    {
     "name": "stderr",
     "output_type": "stream",
     "text": [
      "/var/folders/2f/0xjdq0xn6b3cfw3v2k2svn3m0000gn/T/ipykernel_58384/4026433915.py:3: UserWarning: To copy construct from a tensor, it is recommended to use sourceTensor.clone().detach() or sourceTensor.clone().detach().requires_grad_(True), rather than torch.tensor(sourceTensor).\n",
      "  out1 = torch.tensor(out)\n"
     ]
    }
   ],
   "source": [
    "out = torch.rand(1, 2, 6)\n",
    "out[0][1][-2:] = out[0][0][-2:]\n",
    "out1 = torch.tensor(out)\n"
   ]
  },
  {
   "cell_type": "code",
   "execution_count": 117,
   "metadata": {},
   "outputs": [
    {
     "data": {
      "text/plain": [
       "tensor([[[0.8681, 0.3033, 0.7846, 0.0203, 0.1975, 0.6623],\n",
       "         [0.6018, 0.1305, 0.4733, 0.6715, 0.1975, 0.6623]]])"
      ]
     },
     "execution_count": 117,
     "metadata": {},
     "output_type": "execute_result"
    }
   ],
   "source": [
    "out"
   ]
  },
  {
   "cell_type": "code",
   "execution_count": 118,
   "metadata": {},
   "outputs": [
    {
     "data": {
      "text/plain": [
       "tensor([[[0.8681, 0.3033, 0.7846, 0.0203, 0.1975, 0.6623],\n",
       "         [0.6018, 0.1305, 0.4733, 0.6715, 0.1975, 0.6623]]])"
      ]
     },
     "execution_count": 118,
     "metadata": {},
     "output_type": "execute_result"
    }
   ],
   "source": [
    "out1"
   ]
  },
  {
   "cell_type": "code",
   "execution_count": 119,
   "metadata": {},
   "outputs": [
    {
     "data": {
      "text/plain": [
       "tensor([[0.8681, 0.3033, 0.6018, 0.1305, 0.7846, 0.0203, 0.4733, 0.6715, 0.1975,\n",
       "         0.6623, 0.1975, 0.6623]])"
      ]
     },
     "execution_count": 119,
     "metadata": {},
     "output_type": "execute_result"
    }
   ],
   "source": [
    "out = reshape_to_original(out, 2, 1, 2)\n",
    "out"
   ]
  },
  {
   "cell_type": "code",
   "execution_count": 120,
   "metadata": {},
   "outputs": [
    {
     "data": {
      "text/plain": [
       "tensor([[[0.3859, 0.6141],\n",
       "         [0.3859, 0.6141]]])"
      ]
     },
     "execution_count": 120,
     "metadata": {},
     "output_type": "execute_result"
    }
   ],
   "source": [
    "out1[..., -2:] = F.softmax(out1[..., -2:], dim=-1)\n",
    "out1[..., -2:]"
   ]
  },
  {
   "cell_type": "code",
   "execution_count": 121,
   "metadata": {},
   "outputs": [
    {
     "data": {
      "text/plain": [
       "tensor([[0.3859, 0.6141]])"
      ]
     },
     "execution_count": 121,
     "metadata": {},
     "output_type": "execute_result"
    }
   ],
   "source": [
    "out[..., -2*2:-2*2 + 2] = F.softmax(out[..., -2*2:-2*2 + 2], dim=-1)\n",
    "out[..., -2*2:-2*2 + 2]"
   ]
  }
 ],
 "metadata": {
  "kernelspec": {
   "display_name": "Dopple",
   "language": "python",
   "name": "python3"
  },
  "language_info": {
   "codemirror_mode": {
    "name": "ipython",
    "version": 3
   },
   "file_extension": ".py",
   "mimetype": "text/x-python",
   "name": "python",
   "nbconvert_exporter": "python",
   "pygments_lexer": "ipython3",
   "version": "3.11.9"
  }
 },
 "nbformat": 4,
 "nbformat_minor": 2
}
