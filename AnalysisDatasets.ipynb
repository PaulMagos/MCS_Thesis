{
 "cells": [
  {
   "cell_type": "code",
   "execution_count": null,
   "metadata": {},
   "outputs": [
    {
     "ename": "",
     "evalue": "",
     "output_type": "error",
     "traceback": [
      "\u001b[1;31mNon è stato possibile avviare il kernel. \n",
      "\u001b[1;31mrequest to http://localhost:8888/api/sessions?1721596372360 failed, reason:. \n",
      "\u001b[1;31mPer ulteriori dettagli, visualizzare Jupyter <a href='command:jupyter.viewOutput'>log</a>."
     ]
    }
   ],
   "source": [
    "\n",
    "from tsl.data import SpatioTemporalDataset, SpatioTemporalDataModule\n",
    "from tsl.datasets import AirQuality, MetrLA, PemsBay\n",
    "from tsl.data.preprocessing import StandardScaler\n",
    "\n",
    "dataset = PemsBay()\n",
    " # get adjacency matrix\n",
    "# adj = dataset.get_connectivity(**{'method': 'distance',\n",
    "# 'threshold': 0.1,\n",
    "# 'include_self': False,\n",
    "# 'layout': 'edge_index'\n",
    "# })\n",
    "\n",
    "\n",
    "# # instantiate dataset\n",
    "# torch_dataset = SpatioTemporalDataset(target=dataset.dataframe(),\n",
    "#                                     covariates=None,\n",
    "#                                     connectivity=adj,\n",
    "#                                     window=1,\n",
    "#                                     stride=1)\n",
    "\n",
    "# scalers = {'target': StandardScaler(axis=(0, 1))}\n",
    "# dm = SpatioTemporalDataModule(\n",
    "#     dataset=torch_dataset,\n",
    "#     scalers=scalers,\n",
    "#     splitter=dataset.get_splitter(**{'val_len': 0.2, 'test_len': 0.1}),\n",
    "#     batch_size=32,\n",
    "#     workers=32)\n",
    "# dm.setup(stage='fit')\n",
    "# dm.trainset = list(range(len(torch_dataset)))"
   ]
  },
  {
   "cell_type": "code",
   "execution_count": null,
   "metadata": {},
   "outputs": [
    {
     "ename": "",
     "evalue": "",
     "output_type": "error",
     "traceback": [
      "\u001b[1;31mNon è stato possibile avviare il kernel. \n",
      "\u001b[1;31mrequest to http://localhost:8888/api/sessions?1721596372360 failed, reason:. \n",
      "\u001b[1;31mPer ulteriori dettagli, visualizzare Jupyter <a href='command:jupyter.viewOutput'>log</a>."
     ]
    }
   ],
   "source": [
    "df = dataset.dataframe().head(1000)\n",
    "df"
   ]
  },
  {
   "cell_type": "code",
   "execution_count": null,
   "metadata": {},
   "outputs": [],
   "source": [
    "df.info()"
   ]
  }
 ],
 "metadata": {
  "kernelspec": {
   "display_name": "Thesis",
   "language": "python",
   "name": "python3"
  },
  "language_info": {
   "codemirror_mode": {
    "name": "ipython",
    "version": 3
   },
   "file_extension": ".py",
   "mimetype": "text/x-python",
   "name": "python",
   "nbconvert_exporter": "python",
   "pygments_lexer": "ipython3",
   "version": "3.11.9"
  }
 },
 "nbformat": 4,
 "nbformat_minor": 2
}
