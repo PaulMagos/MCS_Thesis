{
 "cells": [
  {
   "cell_type": "code",
   "execution_count": 1,
   "metadata": {},
   "outputs": [],
   "source": [
    "from tsl.data import SpatioTemporalDataset, SpatioTemporalDataModule, ImputationDataset\n",
    "from tsl.data.preprocessing import StandardScaler\n",
    "from tsl.datasets import AirQuality, MetrLA, PemsBay\n",
    "from tsl.ops.imputation import add_missing_values\n",
    "from MMD import mmd_rbf, mmd_linear\n",
    "from tsl.engines import Imputer\n",
    "from tsl.transforms import MaskInput\n",
    "from tsl.nn.models import GRINModel\n",
    "from pytorch_lightning import Trainer\n",
    "from pytorch_lightning.callbacks import EarlyStopping, ModelCheckpoint\n",
    "from pytorch_lightning.loggers import TensorBoardLogger\n",
    "from tsl.utils.casting import torch_to_numpy\n",
    "from tsl.metrics import torch as torch_metrics\n",
    "import matplotlib.pyplot as plt\n",
    "import torch\n"
   ]
  },
  {
   "cell_type": "code",
   "execution_count": 2,
   "metadata": {},
   "outputs": [
    {
     "name": "stderr",
     "output_type": "stream",
     "text": [
      "/data/p.magos/.pyenv/versions/3.11.9/lib/python3.11/site-packages/tsl/ops/framearray.py:181: FutureWarning: The provided callable <function nanmean at 0x7f4c2c52c680> is currently using DataFrameGroupBy.mean. In a future version of pandas, the provided callable will be used directly. To keep current behavior pass the string \"mean\" instead.\n",
      "  nan_mean = df_mean.groupby(conditions[0]).transform(np.nanmean)\n",
      "/data/p.magos/.pyenv/versions/3.11.9/lib/python3.11/site-packages/tsl/ops/framearray.py:181: FutureWarning: The provided callable <function nanmean at 0x7f4c2c52c680> is currently using DataFrameGroupBy.mean. In a future version of pandas, the provided callable will be used directly. To keep current behavior pass the string \"mean\" instead.\n",
      "  nan_mean = df_mean.groupby(conditions[0]).transform(np.nanmean)\n"
     ]
    }
   ],
   "source": [
    "p_fault, p_noise = 0.0015, 0.05\n",
    "dataset = add_missing_values(AirQuality(impute_nans=True, small=True),\n",
    "                                p_fault=p_fault,\n",
    "                                p_noise=p_noise,\n",
    "                                min_seq=12,\n",
    "                                max_seq=12 * 4,\n",
    "                                seed=56789)\n",
    "    \n",
    "adj = dataset.get_connectivity(**{'method': 'distance',\n",
    "'threshold': 0.1,\n",
    "'include_self': False,\n",
    "'layout': 'edge_index'\n",
    "})\n",
    "\n",
    "# instantiate dataset\n",
    "torch_dataset = ImputationDataset(target=dataset.dataframe(),\n",
    "                                    mask=dataset.training_mask,\n",
    "                                    eval_mask=dataset.eval_mask,\n",
    "                                    covariates=None,\n",
    "                                    transform=MaskInput(),\n",
    "                                    connectivity=adj,\n",
    "                                    window=1,\n",
    "                                    stride=1)\n",
    "\n",
    "\n",
    "scalers = {'target': StandardScaler(axis=(0, 1))}\n",
    "dm = SpatioTemporalDataModule(\n",
    "    dataset=torch_dataset,\n",
    "    scalers=scalers,\n",
    "    splitter=dataset.get_splitter(**{'val_len': 0.2, 'test_len': 0.1}),\n",
    "    batch_size=1,\n",
    "    workers=8)\n",
    "dm.setup(stage='fit')\n",
    "dm.trainset = list(range(len(torch_dataset)))"
   ]
  },
  {
   "cell_type": "code",
   "execution_count": 3,
   "metadata": {},
   "outputs": [],
   "source": [
    "loss_fn = torch_metrics.MaskedMAE()\n",
    "\n",
    "# setup generator\n",
    "imputer = Imputer.load_from_checkpoint('/data/p.magos/TSGen/logs/prediction/grinAir/best-model-epoch=12-val_loss=6.2821.ckpt')"
   ]
  },
  {
   "cell_type": "code",
   "execution_count": 4,
   "metadata": {},
   "outputs": [
    {
     "name": "stderr",
     "output_type": "stream",
     "text": [
      "Trainer will use only 1 of 4 GPUs because it is running inside an interactive / notebook environment. You may try to set `Trainer(devices=4)` but please note that multi-GPU inside interactive / notebook environments is considered experimental and unstable. Your mileage may vary.\n",
      "GPU available: True (cuda), used: True\n",
      "TPU available: False, using: 0 TPU cores\n",
      "IPU available: False, using: 0 IPUs\n",
      "HPU available: False, using: 0 HPUs\n"
     ]
    }
   ],
   "source": [
    "trainer = Trainer()\n",
    "\n",
    "trainer.ckpt_path= '/data/p.magos/TSGen/logs/prediction/grinAir/best-model-epoch=12-val_loss=6.2821.ckpt'\n",
    "\n",
    "imputer.freeze()"
   ]
  },
  {
   "cell_type": "code",
   "execution_count": 5,
   "metadata": {},
   "outputs": [
    {
     "name": "stderr",
     "output_type": "stream",
     "text": [
      "Restoring states from the checkpoint path at /data/p.magos/TSGen/logs/prediction/grinAir/best-model-epoch=12-val_loss=6.2821.ckpt\n",
      "LOCAL_RANK: 0 - CUDA_VISIBLE_DEVICES: [0,1,2,3]\n"
     ]
    },
    {
     "name": "stderr",
     "output_type": "stream",
     "text": [
      "Loaded model weights from the checkpoint at /data/p.magos/TSGen/logs/prediction/grinAir/best-model-epoch=12-val_loss=6.2821.ckpt\n"
     ]
    },
    {
     "data": {
      "application/vnd.jupyter.widget-view+json": {
       "model_id": "1e8708e714a146d79fc55748a1a14586",
       "version_major": 2,
       "version_minor": 0
      },
      "text/plain": [
       "Predicting: |          | 0/? [00:00<?, ?it/s]"
      ]
     },
     "metadata": {},
     "output_type": "display_data"
    },
    {
     "name": "stderr",
     "output_type": "stream",
     "text": [
      "Only args ['mask', 'x', 'edge_index', 'edge_weight'] are forwarded to the model (GRINModel). \n"
     ]
    },
    {
     "ename": "TypeError",
     "evalue": "'int' object is not callable",
     "output_type": "error",
     "traceback": [
      "\u001b[0;31m---------------------------------------------------------------------------\u001b[0m",
      "\u001b[0;31mTypeError\u001b[0m                                 Traceback (most recent call last)",
      "Cell \u001b[0;32mIn[5], line 5\u001b[0m\n\u001b[1;32m      3\u001b[0m output \u001b[38;5;241m=\u001b[39m torch_to_numpy(output)\n\u001b[1;32m      4\u001b[0m y_hat, y_true \u001b[38;5;241m=\u001b[39m (output[\u001b[38;5;124m'\u001b[39m\u001b[38;5;124my_hat\u001b[39m\u001b[38;5;124m'\u001b[39m], output[\u001b[38;5;124m'\u001b[39m\u001b[38;5;124my\u001b[39m\u001b[38;5;124m'\u001b[39m])\n\u001b[0;32m----> 5\u001b[0m res \u001b[38;5;241m=\u001b[39m \u001b[38;5;28mdict\u001b[39m(test_mae\u001b[38;5;241m=\u001b[39m\u001b[43mloss_fn\u001b[49m\u001b[43m(\u001b[49m\u001b[43mtorch\u001b[49m\u001b[38;5;241;43m.\u001b[39;49m\u001b[43mtensor\u001b[49m\u001b[43m(\u001b[49m\u001b[43my_hat\u001b[49m\u001b[43m)\u001b[49m\u001b[43m,\u001b[49m\u001b[43m \u001b[49m\u001b[43my_true\u001b[49m\u001b[43m)\u001b[49m)\n\u001b[1;32m      6\u001b[0m res\n",
      "File \u001b[0;32m/data/p.magos/.pyenv/versions/3.11.9/lib/python3.11/site-packages/torch/nn/modules/module.py:1532\u001b[0m, in \u001b[0;36mModule._wrapped_call_impl\u001b[0;34m(self, *args, **kwargs)\u001b[0m\n\u001b[1;32m   1530\u001b[0m     \u001b[38;5;28;01mreturn\u001b[39;00m \u001b[38;5;28mself\u001b[39m\u001b[38;5;241m.\u001b[39m_compiled_call_impl(\u001b[38;5;241m*\u001b[39margs, \u001b[38;5;241m*\u001b[39m\u001b[38;5;241m*\u001b[39mkwargs)  \u001b[38;5;66;03m# type: ignore[misc]\u001b[39;00m\n\u001b[1;32m   1531\u001b[0m \u001b[38;5;28;01melse\u001b[39;00m:\n\u001b[0;32m-> 1532\u001b[0m     \u001b[38;5;28;01mreturn\u001b[39;00m \u001b[38;5;28;43mself\u001b[39;49m\u001b[38;5;241;43m.\u001b[39;49m\u001b[43m_call_impl\u001b[49m\u001b[43m(\u001b[49m\u001b[38;5;241;43m*\u001b[39;49m\u001b[43margs\u001b[49m\u001b[43m,\u001b[49m\u001b[43m \u001b[49m\u001b[38;5;241;43m*\u001b[39;49m\u001b[38;5;241;43m*\u001b[39;49m\u001b[43mkwargs\u001b[49m\u001b[43m)\u001b[49m\n",
      "File \u001b[0;32m/data/p.magos/.pyenv/versions/3.11.9/lib/python3.11/site-packages/torch/nn/modules/module.py:1541\u001b[0m, in \u001b[0;36mModule._call_impl\u001b[0;34m(self, *args, **kwargs)\u001b[0m\n\u001b[1;32m   1536\u001b[0m \u001b[38;5;66;03m# If we don't have any hooks, we want to skip the rest of the logic in\u001b[39;00m\n\u001b[1;32m   1537\u001b[0m \u001b[38;5;66;03m# this function, and just call forward.\u001b[39;00m\n\u001b[1;32m   1538\u001b[0m \u001b[38;5;28;01mif\u001b[39;00m \u001b[38;5;129;01mnot\u001b[39;00m (\u001b[38;5;28mself\u001b[39m\u001b[38;5;241m.\u001b[39m_backward_hooks \u001b[38;5;129;01mor\u001b[39;00m \u001b[38;5;28mself\u001b[39m\u001b[38;5;241m.\u001b[39m_backward_pre_hooks \u001b[38;5;129;01mor\u001b[39;00m \u001b[38;5;28mself\u001b[39m\u001b[38;5;241m.\u001b[39m_forward_hooks \u001b[38;5;129;01mor\u001b[39;00m \u001b[38;5;28mself\u001b[39m\u001b[38;5;241m.\u001b[39m_forward_pre_hooks\n\u001b[1;32m   1539\u001b[0m         \u001b[38;5;129;01mor\u001b[39;00m _global_backward_pre_hooks \u001b[38;5;129;01mor\u001b[39;00m _global_backward_hooks\n\u001b[1;32m   1540\u001b[0m         \u001b[38;5;129;01mor\u001b[39;00m _global_forward_hooks \u001b[38;5;129;01mor\u001b[39;00m _global_forward_pre_hooks):\n\u001b[0;32m-> 1541\u001b[0m     \u001b[38;5;28;01mreturn\u001b[39;00m \u001b[43mforward_call\u001b[49m\u001b[43m(\u001b[49m\u001b[38;5;241;43m*\u001b[39;49m\u001b[43margs\u001b[49m\u001b[43m,\u001b[49m\u001b[43m \u001b[49m\u001b[38;5;241;43m*\u001b[39;49m\u001b[38;5;241;43m*\u001b[39;49m\u001b[43mkwargs\u001b[49m\u001b[43m)\u001b[49m\n\u001b[1;32m   1543\u001b[0m \u001b[38;5;28;01mtry\u001b[39;00m:\n\u001b[1;32m   1544\u001b[0m     result \u001b[38;5;241m=\u001b[39m \u001b[38;5;28;01mNone\u001b[39;00m\n",
      "File \u001b[0;32m/data/p.magos/.pyenv/versions/3.11.9/lib/python3.11/site-packages/torchmetrics/metric.py:311\u001b[0m, in \u001b[0;36mMetric.forward\u001b[0;34m(self, *args, **kwargs)\u001b[0m\n\u001b[1;32m    309\u001b[0m     \u001b[38;5;28mself\u001b[39m\u001b[38;5;241m.\u001b[39m_forward_cache \u001b[38;5;241m=\u001b[39m \u001b[38;5;28mself\u001b[39m\u001b[38;5;241m.\u001b[39m_forward_full_state_update(\u001b[38;5;241m*\u001b[39margs, \u001b[38;5;241m*\u001b[39m\u001b[38;5;241m*\u001b[39mkwargs)\n\u001b[1;32m    310\u001b[0m \u001b[38;5;28;01melse\u001b[39;00m:\n\u001b[0;32m--> 311\u001b[0m     \u001b[38;5;28mself\u001b[39m\u001b[38;5;241m.\u001b[39m_forward_cache \u001b[38;5;241m=\u001b[39m \u001b[38;5;28;43mself\u001b[39;49m\u001b[38;5;241;43m.\u001b[39;49m\u001b[43m_forward_reduce_state_update\u001b[49m\u001b[43m(\u001b[49m\u001b[38;5;241;43m*\u001b[39;49m\u001b[43margs\u001b[49m\u001b[43m,\u001b[49m\u001b[43m \u001b[49m\u001b[38;5;241;43m*\u001b[39;49m\u001b[38;5;241;43m*\u001b[39;49m\u001b[43mkwargs\u001b[49m\u001b[43m)\u001b[49m\n\u001b[1;32m    313\u001b[0m \u001b[38;5;28;01mreturn\u001b[39;00m \u001b[38;5;28mself\u001b[39m\u001b[38;5;241m.\u001b[39m_forward_cache\n",
      "File \u001b[0;32m/data/p.magos/.pyenv/versions/3.11.9/lib/python3.11/site-packages/torchmetrics/metric.py:380\u001b[0m, in \u001b[0;36mMetric._forward_reduce_state_update\u001b[0;34m(self, *args, **kwargs)\u001b[0m\n\u001b[1;32m    377\u001b[0m \u001b[38;5;28mself\u001b[39m\u001b[38;5;241m.\u001b[39m_enable_grad \u001b[38;5;241m=\u001b[39m \u001b[38;5;28;01mTrue\u001b[39;00m  \u001b[38;5;66;03m# allow grads for batch computation\u001b[39;00m\n\u001b[1;32m    379\u001b[0m \u001b[38;5;66;03m# calculate batch state and compute batch value\u001b[39;00m\n\u001b[0;32m--> 380\u001b[0m \u001b[38;5;28;43mself\u001b[39;49m\u001b[38;5;241;43m.\u001b[39;49m\u001b[43mupdate\u001b[49m\u001b[43m(\u001b[49m\u001b[38;5;241;43m*\u001b[39;49m\u001b[43margs\u001b[49m\u001b[43m,\u001b[49m\u001b[43m \u001b[49m\u001b[38;5;241;43m*\u001b[39;49m\u001b[38;5;241;43m*\u001b[39;49m\u001b[43mkwargs\u001b[49m\u001b[43m)\u001b[49m\n\u001b[1;32m    381\u001b[0m batch_val \u001b[38;5;241m=\u001b[39m \u001b[38;5;28mself\u001b[39m\u001b[38;5;241m.\u001b[39mcompute()\n\u001b[1;32m    383\u001b[0m \u001b[38;5;66;03m# reduce batch and global state\u001b[39;00m\n",
      "File \u001b[0;32m/data/p.magos/.pyenv/versions/3.11.9/lib/python3.11/site-packages/torchmetrics/metric.py:482\u001b[0m, in \u001b[0;36mMetric._wrap_update.<locals>.wrapped_func\u001b[0;34m(*args, **kwargs)\u001b[0m\n\u001b[1;32m    480\u001b[0m \u001b[38;5;28;01mwith\u001b[39;00m torch\u001b[38;5;241m.\u001b[39mset_grad_enabled(\u001b[38;5;28mself\u001b[39m\u001b[38;5;241m.\u001b[39m_enable_grad):\n\u001b[1;32m    481\u001b[0m     \u001b[38;5;28;01mtry\u001b[39;00m:\n\u001b[0;32m--> 482\u001b[0m         \u001b[43mupdate\u001b[49m\u001b[43m(\u001b[49m\u001b[38;5;241;43m*\u001b[39;49m\u001b[43margs\u001b[49m\u001b[43m,\u001b[49m\u001b[43m \u001b[49m\u001b[38;5;241;43m*\u001b[39;49m\u001b[38;5;241;43m*\u001b[39;49m\u001b[43mkwargs\u001b[49m\u001b[43m)\u001b[49m\n\u001b[1;32m    483\u001b[0m     \u001b[38;5;28;01mexcept\u001b[39;00m \u001b[38;5;167;01mRuntimeError\u001b[39;00m \u001b[38;5;28;01mas\u001b[39;00m err:\n\u001b[1;32m    484\u001b[0m         \u001b[38;5;28;01mif\u001b[39;00m \u001b[38;5;124m\"\u001b[39m\u001b[38;5;124mExpected all tensors to be on\u001b[39m\u001b[38;5;124m\"\u001b[39m \u001b[38;5;129;01min\u001b[39;00m \u001b[38;5;28mstr\u001b[39m(err):\n",
      "File \u001b[0;32m/data/p.magos/.pyenv/versions/3.11.9/lib/python3.11/site-packages/tsl/metrics/torch/metric_base.py:119\u001b[0m, in \u001b[0;36mMaskedMetric.update\u001b[0;34m(self, y_hat, y, mask)\u001b[0m\n\u001b[1;32m    117\u001b[0m     val, numel \u001b[38;5;241m=\u001b[39m \u001b[38;5;28mself\u001b[39m\u001b[38;5;241m.\u001b[39m_compute_masked(y_hat, y, mask)\n\u001b[1;32m    118\u001b[0m \u001b[38;5;28;01melse\u001b[39;00m:\n\u001b[0;32m--> 119\u001b[0m     val, numel \u001b[38;5;241m=\u001b[39m \u001b[38;5;28;43mself\u001b[39;49m\u001b[38;5;241;43m.\u001b[39;49m\u001b[43m_compute_std\u001b[49m\u001b[43m(\u001b[49m\u001b[43my_hat\u001b[49m\u001b[43m,\u001b[49m\u001b[43m \u001b[49m\u001b[43my\u001b[49m\u001b[43m)\u001b[49m\n\u001b[1;32m    120\u001b[0m \u001b[38;5;28mself\u001b[39m\u001b[38;5;241m.\u001b[39mvalue \u001b[38;5;241m+\u001b[39m\u001b[38;5;241m=\u001b[39m val\n\u001b[1;32m    121\u001b[0m \u001b[38;5;28mself\u001b[39m\u001b[38;5;241m.\u001b[39mnumel \u001b[38;5;241m+\u001b[39m\u001b[38;5;241m=\u001b[39m numel\n",
      "File \u001b[0;32m/data/p.magos/.pyenv/versions/3.11.9/lib/python3.11/site-packages/tsl/metrics/torch/metric_base.py:105\u001b[0m, in \u001b[0;36mMaskedMetric._compute_std\u001b[0;34m(self, y_hat, y)\u001b[0m\n\u001b[1;32m    103\u001b[0m \u001b[38;5;28;01mdef\u001b[39;00m \u001b[38;5;21m_compute_std\u001b[39m(\u001b[38;5;28mself\u001b[39m, y_hat, y):\n\u001b[1;32m    104\u001b[0m     \u001b[38;5;66;03m# _check_same_shape(y_hat, y)\u001b[39;00m\n\u001b[0;32m--> 105\u001b[0m     val \u001b[38;5;241m=\u001b[39m \u001b[38;5;28;43mself\u001b[39;49m\u001b[38;5;241;43m.\u001b[39;49m\u001b[43mmetric_fn\u001b[49m\u001b[43m(\u001b[49m\u001b[43my_hat\u001b[49m\u001b[43m,\u001b[49m\u001b[43m \u001b[49m\u001b[43my\u001b[49m\u001b[43m)\u001b[49m\n\u001b[1;32m    106\u001b[0m     \u001b[38;5;28;01mreturn\u001b[39;00m val\u001b[38;5;241m.\u001b[39msum(), val\u001b[38;5;241m.\u001b[39mnumel()\n",
      "File \u001b[0;32m/data/p.magos/.pyenv/versions/3.11.9/lib/python3.11/site-packages/torch/nn/functional.py:3325\u001b[0m, in \u001b[0;36ml1_loss\u001b[0;34m(input, target, size_average, reduce, reduction)\u001b[0m\n\u001b[1;32m   3321\u001b[0m \u001b[38;5;28;01mif\u001b[39;00m has_torch_function_variadic(\u001b[38;5;28minput\u001b[39m, target):\n\u001b[1;32m   3322\u001b[0m     \u001b[38;5;28;01mreturn\u001b[39;00m handle_torch_function(\n\u001b[1;32m   3323\u001b[0m         l1_loss, (\u001b[38;5;28minput\u001b[39m, target), \u001b[38;5;28minput\u001b[39m, target, size_average\u001b[38;5;241m=\u001b[39msize_average, reduce\u001b[38;5;241m=\u001b[39mreduce, reduction\u001b[38;5;241m=\u001b[39mreduction\n\u001b[1;32m   3324\u001b[0m     )\n\u001b[0;32m-> 3325\u001b[0m \u001b[38;5;28;01mif\u001b[39;00m \u001b[38;5;129;01mnot\u001b[39;00m (\u001b[43mtarget\u001b[49m\u001b[38;5;241;43m.\u001b[39;49m\u001b[43msize\u001b[49m\u001b[43m(\u001b[49m\u001b[43m)\u001b[49m \u001b[38;5;241m==\u001b[39m \u001b[38;5;28minput\u001b[39m\u001b[38;5;241m.\u001b[39msize()):\n\u001b[1;32m   3326\u001b[0m     warnings\u001b[38;5;241m.\u001b[39mwarn(\n\u001b[1;32m   3327\u001b[0m         \u001b[38;5;124mf\u001b[39m\u001b[38;5;124m\"\u001b[39m\u001b[38;5;124mUsing a target size (\u001b[39m\u001b[38;5;132;01m{\u001b[39;00mtarget\u001b[38;5;241m.\u001b[39msize()\u001b[38;5;132;01m}\u001b[39;00m\u001b[38;5;124m) that is different to the input size (\u001b[39m\u001b[38;5;132;01m{\u001b[39;00m\u001b[38;5;28minput\u001b[39m\u001b[38;5;241m.\u001b[39msize()\u001b[38;5;132;01m}\u001b[39;00m\u001b[38;5;124m). \u001b[39m\u001b[38;5;124m\"\u001b[39m\n\u001b[1;32m   3328\u001b[0m         \u001b[38;5;124m\"\u001b[39m\u001b[38;5;124mThis will likely lead to incorrect results due to broadcasting. \u001b[39m\u001b[38;5;124m\"\u001b[39m\n\u001b[1;32m   3329\u001b[0m         \u001b[38;5;124m\"\u001b[39m\u001b[38;5;124mPlease ensure they have the same size.\u001b[39m\u001b[38;5;124m\"\u001b[39m,\n\u001b[1;32m   3330\u001b[0m         stacklevel\u001b[38;5;241m=\u001b[39m\u001b[38;5;241m2\u001b[39m,\n\u001b[1;32m   3331\u001b[0m     )\n\u001b[1;32m   3332\u001b[0m \u001b[38;5;28;01mif\u001b[39;00m size_average \u001b[38;5;129;01mis\u001b[39;00m \u001b[38;5;129;01mnot\u001b[39;00m \u001b[38;5;28;01mNone\u001b[39;00m \u001b[38;5;129;01mor\u001b[39;00m reduce \u001b[38;5;129;01mis\u001b[39;00m \u001b[38;5;129;01mnot\u001b[39;00m \u001b[38;5;28;01mNone\u001b[39;00m:\n",
      "\u001b[0;31mTypeError\u001b[0m: 'int' object is not callable"
     ]
    }
   ],
   "source": [
    "output = trainer.predict(imputer, dataloaders=dm.test_dataloader())\n",
    "output = imputer.collate_prediction_outputs(output)\n",
    "output = torch_to_numpy(output)\n",
    "y_hat, y_true = (output['y_hat'], output['y'])\n",
    "# res = dict(test_mae=loss_fn(torch.tensor(y_hat), y_true))\n",
    "# res"
   ]
  },
  {
   "cell_type": "code",
   "execution_count": 6,
   "metadata": {},
   "outputs": [],
   "source": [
    "y_true = torch.tensor(y_true)\n",
    "y_hat = torch.tensor(y_hat)\n",
    "pred = scalers['target'].transform(y_hat)"
   ]
  },
  {
   "cell_type": "code",
   "execution_count": 7,
   "metadata": {},
   "outputs": [
    {
     "data": {
      "text/plain": [
       "0.0007110724691301584"
      ]
     },
     "execution_count": 7,
     "metadata": {},
     "output_type": "execute_result"
    }
   ],
   "source": [
    "X = y_true.reshape(y_true.shape[0], -1)\n",
    "Y = scalers['target'].inverse_transform(pred)\n",
    "Y = Y.reshape(y_true.shape[0], -1)\n",
    "mmd_rbf(torch.Tensor(X), torch.Tensor(Y))"
   ]
  },
  {
   "cell_type": "code",
   "execution_count": 8,
   "metadata": {},
   "outputs": [
    {
     "name": "stderr",
     "output_type": "stream",
     "text": [
      "/data/p.magos/TSGen/MMD.py:23: UserWarning: The use of `x.T` on tensors of dimension other than 2 to reverse their shape is deprecated and it will throw an error in a future release. Consider `x.mT` to transpose batches of matrices or `x.permute(*torch.arange(x.ndim - 1, -1, -1))` to reverse the dimensions of a tensor. (Triggered internally at ../aten/src/ATen/native/TensorShape.cpp:3675.)\n",
      "  return delta.dot(delta.T)\n"
     ]
    },
    {
     "data": {
      "text/plain": [
       "tensor(646.4571)"
      ]
     },
     "execution_count": 8,
     "metadata": {},
     "output_type": "execute_result"
    }
   ],
   "source": [
    "mmd_linear(torch.Tensor(X), torch.Tensor(Y))"
   ]
  },
  {
   "cell_type": "code",
   "execution_count": 10,
   "metadata": {},
   "outputs": [
    {
     "data": {
      "text/plain": [
       "<matplotlib.legend.Legend at 0x7f4a3f5ba450>"
      ]
     },
     "execution_count": 10,
     "metadata": {},
     "output_type": "execute_result"
    },
    {
     "data": {
      "image/png": "[encoded data removed]",
      "text/plain": [
       "<Figure size 640x480 with 1 Axes>"
      ]
     },
     "metadata": {},
     "output_type": "display_data"
    }
   ],
   "source": [
    "plt.plot(Y[:100, 30], label='Pred')\n",
    "plt.plot(X[:100, 30], label='True')\n",
    "plt.legend()"
   ]
  },
  {
   "cell_type": "code",
   "execution_count": 12,
   "metadata": {},
   "outputs": [],
   "source": [
    "import pandas as pd\n",
    "\n",
    "cols = [1001,1002,1003,1004,1005,1006,1007,1008,1009,1010,1011,1012,1013,1014,1015,1016,1017,1018,1019,1020,1021,1022,1023,1024,1025,1026,1027,1028,1029,1030,1031,1032,1033,1034,1035,1036]\n",
    "df = pd.DataFrame(Y, columns=cols)"
   ]
  },
  {
   "cell_type": "code",
   "execution_count": 13,
   "metadata": {},
   "outputs": [
    {
     "data": {
      "text/html": [
       "<div>\n",
       "<style scoped>\n",
       "    .dataframe tbody tr th:only-of-type {\n",
       "        vertical-align: middle;\n",
       "    }\n",
       "\n",
       "    .dataframe tbody tr th {\n",
       "        vertical-align: top;\n",
       "    }\n",
       "\n",
       "    .dataframe thead th {\n",
       "        text-align: right;\n",
       "    }\n",
       "</style>\n",
       "<table border=\"1\" class=\"dataframe\">\n",
       "  <thead>\n",
       "    <tr style=\"text-align: right;\">\n",
       "      <th></th>\n",
       "      <th>1001</th>\n",
       "      <th>1002</th>\n",
       "      <th>1003</th>\n",
       "      <th>1004</th>\n",
       "      <th>1005</th>\n",
       "      <th>1006</th>\n",
       "      <th>1007</th>\n",
       "      <th>1008</th>\n",
       "      <th>1009</th>\n",
       "      <th>1010</th>\n",
       "      <th>...</th>\n",
       "      <th>1027</th>\n",
       "      <th>1028</th>\n",
       "      <th>1029</th>\n",
       "      <th>1030</th>\n",
       "      <th>1031</th>\n",
       "      <th>1032</th>\n",
       "      <th>1033</th>\n",
       "      <th>1034</th>\n",
       "      <th>1035</th>\n",
       "      <th>1036</th>\n",
       "    </tr>\n",
       "  </thead>\n",
       "  <tbody>\n",
       "    <tr>\n",
       "      <th>0</th>\n",
       "      <td>113.025253</td>\n",
       "      <td>108.408302</td>\n",
       "      <td>112.931374</td>\n",
       "      <td>112.181458</td>\n",
       "      <td>115.740158</td>\n",
       "      <td>112.161850</td>\n",
       "      <td>110.939270</td>\n",
       "      <td>111.348145</td>\n",
       "      <td>109.179138</td>\n",
       "      <td>115.939301</td>\n",
       "      <td>...</td>\n",
       "      <td>105.461693</td>\n",
       "      <td>120.474991</td>\n",
       "      <td>109.273499</td>\n",
       "      <td>103.242531</td>\n",
       "      <td>95.860725</td>\n",
       "      <td>53.234177</td>\n",
       "      <td>139.727753</td>\n",
       "      <td>100.489380</td>\n",
       "      <td>99.275352</td>\n",
       "      <td>107.146523</td>\n",
       "    </tr>\n",
       "    <tr>\n",
       "      <th>1</th>\n",
       "      <td>69.320930</td>\n",
       "      <td>63.203522</td>\n",
       "      <td>70.149155</td>\n",
       "      <td>71.415024</td>\n",
       "      <td>77.912086</td>\n",
       "      <td>69.032410</td>\n",
       "      <td>69.397240</td>\n",
       "      <td>72.930443</td>\n",
       "      <td>69.645401</td>\n",
       "      <td>76.253593</td>\n",
       "      <td>...</td>\n",
       "      <td>68.238052</td>\n",
       "      <td>79.688171</td>\n",
       "      <td>73.280228</td>\n",
       "      <td>62.769829</td>\n",
       "      <td>73.661789</td>\n",
       "      <td>53.234177</td>\n",
       "      <td>66.584465</td>\n",
       "      <td>84.848091</td>\n",
       "      <td>80.881310</td>\n",
       "      <td>90.720421</td>\n",
       "    </tr>\n",
       "    <tr>\n",
       "      <th>2</th>\n",
       "      <td>63.453754</td>\n",
       "      <td>57.016869</td>\n",
       "      <td>63.736298</td>\n",
       "      <td>64.564644</td>\n",
       "      <td>69.037140</td>\n",
       "      <td>62.070396</td>\n",
       "      <td>63.771221</td>\n",
       "      <td>68.643250</td>\n",
       "      <td>62.246971</td>\n",
       "      <td>69.357071</td>\n",
       "      <td>...</td>\n",
       "      <td>60.772148</td>\n",
       "      <td>58.280144</td>\n",
       "      <td>54.750450</td>\n",
       "      <td>49.489330</td>\n",
       "      <td>41.988255</td>\n",
       "      <td>53.234177</td>\n",
       "      <td>50.509556</td>\n",
       "      <td>76.296150</td>\n",
       "      <td>69.647774</td>\n",
       "      <td>80.240501</td>\n",
       "    </tr>\n",
       "    <tr>\n",
       "      <th>3</th>\n",
       "      <td>54.332512</td>\n",
       "      <td>47.723881</td>\n",
       "      <td>52.503048</td>\n",
       "      <td>53.978569</td>\n",
       "      <td>59.630978</td>\n",
       "      <td>52.853390</td>\n",
       "      <td>54.940155</td>\n",
       "      <td>59.464470</td>\n",
       "      <td>53.028854</td>\n",
       "      <td>60.552696</td>\n",
       "      <td>...</td>\n",
       "      <td>60.588264</td>\n",
       "      <td>58.781044</td>\n",
       "      <td>54.750450</td>\n",
       "      <td>44.246044</td>\n",
       "      <td>38.773205</td>\n",
       "      <td>53.234177</td>\n",
       "      <td>54.178673</td>\n",
       "      <td>70.606499</td>\n",
       "      <td>58.662186</td>\n",
       "      <td>66.988174</td>\n",
       "    </tr>\n",
       "    <tr>\n",
       "      <th>4</th>\n",
       "      <td>46.029125</td>\n",
       "      <td>40.065086</td>\n",
       "      <td>45.225998</td>\n",
       "      <td>46.338741</td>\n",
       "      <td>53.959255</td>\n",
       "      <td>45.323898</td>\n",
       "      <td>47.249985</td>\n",
       "      <td>51.589737</td>\n",
       "      <td>45.499313</td>\n",
       "      <td>52.279369</td>\n",
       "      <td>...</td>\n",
       "      <td>55.322437</td>\n",
       "      <td>53.512329</td>\n",
       "      <td>48.221264</td>\n",
       "      <td>44.253887</td>\n",
       "      <td>53.243568</td>\n",
       "      <td>53.234177</td>\n",
       "      <td>52.007130</td>\n",
       "      <td>68.190430</td>\n",
       "      <td>56.070370</td>\n",
       "      <td>61.295284</td>\n",
       "    </tr>\n",
       "    <tr>\n",
       "      <th>...</th>\n",
       "      <td>...</td>\n",
       "      <td>...</td>\n",
       "      <td>...</td>\n",
       "      <td>...</td>\n",
       "      <td>...</td>\n",
       "      <td>...</td>\n",
       "      <td>...</td>\n",
       "      <td>...</td>\n",
       "      <td>...</td>\n",
       "      <td>...</td>\n",
       "      <td>...</td>\n",
       "      <td>...</td>\n",
       "      <td>...</td>\n",
       "      <td>...</td>\n",
       "      <td>...</td>\n",
       "      <td>...</td>\n",
       "      <td>...</td>\n",
       "      <td>...</td>\n",
       "      <td>...</td>\n",
       "      <td>...</td>\n",
       "      <td>...</td>\n",
       "    </tr>\n",
       "    <tr>\n",
       "      <th>2923</th>\n",
       "      <td>73.103340</td>\n",
       "      <td>69.510803</td>\n",
       "      <td>76.245773</td>\n",
       "      <td>76.989876</td>\n",
       "      <td>81.798058</td>\n",
       "      <td>75.013840</td>\n",
       "      <td>76.419266</td>\n",
       "      <td>79.207169</td>\n",
       "      <td>75.501587</td>\n",
       "      <td>82.149940</td>\n",
       "      <td>...</td>\n",
       "      <td>60.805611</td>\n",
       "      <td>59.156765</td>\n",
       "      <td>54.750450</td>\n",
       "      <td>58.559406</td>\n",
       "      <td>55.898781</td>\n",
       "      <td>53.234177</td>\n",
       "      <td>72.167595</td>\n",
       "      <td>89.685730</td>\n",
       "      <td>85.841843</td>\n",
       "      <td>92.266953</td>\n",
       "    </tr>\n",
       "    <tr>\n",
       "      <th>2924</th>\n",
       "      <td>72.821526</td>\n",
       "      <td>69.169357</td>\n",
       "      <td>75.917938</td>\n",
       "      <td>76.698242</td>\n",
       "      <td>81.561371</td>\n",
       "      <td>74.601067</td>\n",
       "      <td>75.908844</td>\n",
       "      <td>78.737129</td>\n",
       "      <td>75.039200</td>\n",
       "      <td>81.645645</td>\n",
       "      <td>...</td>\n",
       "      <td>60.805611</td>\n",
       "      <td>59.156765</td>\n",
       "      <td>54.750450</td>\n",
       "      <td>58.559406</td>\n",
       "      <td>55.898781</td>\n",
       "      <td>53.234177</td>\n",
       "      <td>72.167595</td>\n",
       "      <td>89.105225</td>\n",
       "      <td>85.841843</td>\n",
       "      <td>92.266953</td>\n",
       "    </tr>\n",
       "    <tr>\n",
       "      <th>2925</th>\n",
       "      <td>74.110634</td>\n",
       "      <td>65.704063</td>\n",
       "      <td>70.987541</td>\n",
       "      <td>71.342155</td>\n",
       "      <td>77.000908</td>\n",
       "      <td>70.968597</td>\n",
       "      <td>71.815987</td>\n",
       "      <td>73.146843</td>\n",
       "      <td>70.125412</td>\n",
       "      <td>75.454399</td>\n",
       "      <td>...</td>\n",
       "      <td>68.499657</td>\n",
       "      <td>62.927536</td>\n",
       "      <td>75.289520</td>\n",
       "      <td>70.775383</td>\n",
       "      <td>80.620651</td>\n",
       "      <td>57.371140</td>\n",
       "      <td>71.230156</td>\n",
       "      <td>86.644150</td>\n",
       "      <td>84.749634</td>\n",
       "      <td>91.921082</td>\n",
       "    </tr>\n",
       "    <tr>\n",
       "      <th>2926</th>\n",
       "      <td>67.235832</td>\n",
       "      <td>58.262508</td>\n",
       "      <td>61.692673</td>\n",
       "      <td>59.775963</td>\n",
       "      <td>64.251770</td>\n",
       "      <td>62.335381</td>\n",
       "      <td>62.227554</td>\n",
       "      <td>64.753105</td>\n",
       "      <td>58.780159</td>\n",
       "      <td>64.949837</td>\n",
       "      <td>...</td>\n",
       "      <td>76.122803</td>\n",
       "      <td>67.136566</td>\n",
       "      <td>119.579346</td>\n",
       "      <td>80.580963</td>\n",
       "      <td>102.489426</td>\n",
       "      <td>67.066269</td>\n",
       "      <td>70.282578</td>\n",
       "      <td>66.190269</td>\n",
       "      <td>57.189289</td>\n",
       "      <td>65.469757</td>\n",
       "    </tr>\n",
       "    <tr>\n",
       "      <th>2927</th>\n",
       "      <td>72.700737</td>\n",
       "      <td>69.023026</td>\n",
       "      <td>75.777435</td>\n",
       "      <td>76.573250</td>\n",
       "      <td>81.459938</td>\n",
       "      <td>74.424164</td>\n",
       "      <td>75.690086</td>\n",
       "      <td>78.535690</td>\n",
       "      <td>74.841034</td>\n",
       "      <td>81.429520</td>\n",
       "      <td>...</td>\n",
       "      <td>60.805611</td>\n",
       "      <td>59.156765</td>\n",
       "      <td>54.750450</td>\n",
       "      <td>58.559406</td>\n",
       "      <td>55.898781</td>\n",
       "      <td>53.234177</td>\n",
       "      <td>72.167595</td>\n",
       "      <td>88.856438</td>\n",
       "      <td>85.841843</td>\n",
       "      <td>92.266953</td>\n",
       "    </tr>\n",
       "  </tbody>\n",
       "</table>\n",
       "<p>2928 rows × 36 columns</p>\n",
       "</div>"
      ],
      "text/plain": [
       "            1001        1002        1003        1004        1005        1006  \\\n",
       "0     113.025253  108.408302  112.931374  112.181458  115.740158  112.161850   \n",
       "1      69.320930   63.203522   70.149155   71.415024   77.912086   69.032410   \n",
       "2      63.453754   57.016869   63.736298   64.564644   69.037140   62.070396   \n",
       "3      54.332512   47.723881   52.503048   53.978569   59.630978   52.853390   \n",
       "4      46.029125   40.065086   45.225998   46.338741   53.959255   45.323898   \n",
       "...          ...         ...         ...         ...         ...         ...   \n",
       "2923   73.103340   69.510803   76.245773   76.989876   81.798058   75.013840   \n",
       "2924   72.821526   69.169357   75.917938   76.698242   81.561371   74.601067   \n",
       "2925   74.110634   65.704063   70.987541   71.342155   77.000908   70.968597   \n",
       "2926   67.235832   58.262508   61.692673   59.775963   64.251770   62.335381   \n",
       "2927   72.700737   69.023026   75.777435   76.573250   81.459938   74.424164   \n",
       "\n",
       "            1007        1008        1009        1010  ...        1027  \\\n",
       "0     110.939270  111.348145  109.179138  115.939301  ...  105.461693   \n",
       "1      69.397240   72.930443   69.645401   76.253593  ...   68.238052   \n",
       "2      63.771221   68.643250   62.246971   69.357071  ...   60.772148   \n",
       "3      54.940155   59.464470   53.028854   60.552696  ...   60.588264   \n",
       "4      47.249985   51.589737   45.499313   52.279369  ...   55.322437   \n",
       "...          ...         ...         ...         ...  ...         ...   \n",
       "2923   76.419266   79.207169   75.501587   82.149940  ...   60.805611   \n",
       "2924   75.908844   78.737129   75.039200   81.645645  ...   60.805611   \n",
       "2925   71.815987   73.146843   70.125412   75.454399  ...   68.499657   \n",
       "2926   62.227554   64.753105   58.780159   64.949837  ...   76.122803   \n",
       "2927   75.690086   78.535690   74.841034   81.429520  ...   60.805611   \n",
       "\n",
       "            1028        1029        1030        1031       1032        1033  \\\n",
       "0     120.474991  109.273499  103.242531   95.860725  53.234177  139.727753   \n",
       "1      79.688171   73.280228   62.769829   73.661789  53.234177   66.584465   \n",
       "2      58.280144   54.750450   49.489330   41.988255  53.234177   50.509556   \n",
       "3      58.781044   54.750450   44.246044   38.773205  53.234177   54.178673   \n",
       "4      53.512329   48.221264   44.253887   53.243568  53.234177   52.007130   \n",
       "...          ...         ...         ...         ...        ...         ...   \n",
       "2923   59.156765   54.750450   58.559406   55.898781  53.234177   72.167595   \n",
       "2924   59.156765   54.750450   58.559406   55.898781  53.234177   72.167595   \n",
       "2925   62.927536   75.289520   70.775383   80.620651  57.371140   71.230156   \n",
       "2926   67.136566  119.579346   80.580963  102.489426  67.066269   70.282578   \n",
       "2927   59.156765   54.750450   58.559406   55.898781  53.234177   72.167595   \n",
       "\n",
       "            1034       1035        1036  \n",
       "0     100.489380  99.275352  107.146523  \n",
       "1      84.848091  80.881310   90.720421  \n",
       "2      76.296150  69.647774   80.240501  \n",
       "3      70.606499  58.662186   66.988174  \n",
       "4      68.190430  56.070370   61.295284  \n",
       "...          ...        ...         ...  \n",
       "2923   89.685730  85.841843   92.266953  \n",
       "2924   89.105225  85.841843   92.266953  \n",
       "2925   86.644150  84.749634   91.921082  \n",
       "2926   66.190269  57.189289   65.469757  \n",
       "2927   88.856438  85.841843   92.266953  \n",
       "\n",
       "[2928 rows x 36 columns]"
      ]
     },
     "execution_count": 13,
     "metadata": {},
     "output_type": "execute_result"
    }
   ],
   "source": [
    "df"
   ]
  },
  {
   "cell_type": "code",
   "execution_count": 14,
   "metadata": {},
   "outputs": [],
   "source": [
    "df.to_csv('GRINAirQualityPrediction.csv', index=False)"
   ]
  }
 ],
 "metadata": {
  "kernelspec": {
   "display_name": "Thesis",
   "language": "python",
   "name": "python3"
  },
  "language_info": {
   "codemirror_mode": {
    "name": "ipython",
    "version": 3
   },
   "file_extension": ".py",
   "mimetype": "text/x-python",
   "name": "python",
   "nbconvert_exporter": "python",
   "pygments_lexer": "ipython3",
   "version": "3.11.9"
  }
 },
 "nbformat": 4,
 "nbformat_minor": 2
}
