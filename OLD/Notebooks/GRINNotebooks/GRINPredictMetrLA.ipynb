{
 "cells": [
  {
   "cell_type": "code",
   "execution_count": 1,
   "metadata": {},
   "outputs": [],
   "source": [
    "from tsl.data import SpatioTemporalDataset, SpatioTemporalDataModule, ImputationDataset\n",
    "from tsl.data.preprocessing import StandardScaler\n",
    "from tsl.datasets import AirQuality, MetrLA, PemsBay\n",
    "from tsl.ops.imputation import add_missing_values\n",
    "from MMD import mmd_rbf, mmd_linear\n",
    "from tsl.engines import Imputer\n",
    "from tsl.transforms import MaskInput\n",
    "from tsl.nn.models import GRINModel\n",
    "from pytorch_lightning import Trainer\n",
    "from pytorch_lightning.callbacks import EarlyStopping, ModelCheckpoint\n",
    "from pytorch_lightning.loggers import TensorBoardLogger\n",
    "from tsl.utils.casting import torch_to_numpy\n",
    "from tsl.metrics import torch as torch_metrics\n",
    "import matplotlib.pyplot as plt\n",
    "import torch\n"
   ]
  },
  {
   "cell_type": "code",
   "execution_count": 2,
   "metadata": {},
   "outputs": [
    {
     "name": "stderr",
     "output_type": "stream",
     "text": [
      "/data/p.magos/.pyenv/versions/3.11.9/lib/python3.11/site-packages/tsl/datasets/metr_la.py:96: FutureWarning: 'T' is deprecated and will be removed in a future version, please use 'min' instead.\n",
      "  date_range = pd.date_range(datetime_idx[0],\n",
      "/data/p.magos/.pyenv/versions/3.11.9/lib/python3.11/site-packages/tsl/datasets/metr_la.py:109: FutureWarning: The 'method' keyword in DataFrame.replace is deprecated and will be removed in a future version.\n",
      "  df = df.replace(to_replace=0., method='ffill')\n"
     ]
    }
   ],
   "source": [
    "p_fault, p_noise = 0.0015, 0.05\n",
    "dataset = add_missing_values(MetrLA(),\n",
    "                                p_fault=p_fault,\n",
    "                                p_noise=p_noise,\n",
    "                                min_seq=12,\n",
    "                                max_seq=12 * 4,\n",
    "                                seed=56789)\n",
    "    \n",
    "adj = dataset.get_connectivity(**{'method': 'distance',\n",
    "'threshold': 0.1,\n",
    "'include_self': False,\n",
    "'layout': 'edge_index'\n",
    "})\n",
    "\n",
    "# instantiate dataset\n",
    "torch_dataset = ImputationDataset(target=dataset.dataframe(),\n",
    "                                    mask=dataset.training_mask,\n",
    "                                    eval_mask=dataset.eval_mask,\n",
    "                                    covariates=None,\n",
    "                                    transform=MaskInput(),\n",
    "                                    connectivity=adj,\n",
    "                                    window=1,\n",
    "                                    stride=1)\n",
    "\n",
    "\n",
    "scalers = {'target': StandardScaler(axis=(0, 1))}\n",
    "dm = SpatioTemporalDataModule(\n",
    "    dataset=torch_dataset,\n",
    "    scalers=scalers,\n",
    "    splitter=dataset.get_splitter(**{'val_len': 0.2, 'test_len': 0.1}),\n",
    "    batch_size=1,\n",
    "    workers=8)\n",
    "dm.setup(stage='fit')\n",
    "dm.trainset = list(range(len(torch_dataset)))"
   ]
  },
  {
   "cell_type": "code",
   "execution_count": 3,
   "metadata": {},
   "outputs": [],
   "source": [
    "loss_fn = torch_metrics.MaskedMAE()\n",
    "\n",
    "# setup generator\n",
    "imputer = Imputer.load_from_checkpoint('/data/p.magos/TSGen/logs/prediction/grinMetr/best-model-epoch=49-val_loss=554.3832.ckpt')"
   ]
  },
  {
   "cell_type": "code",
   "execution_count": 4,
   "metadata": {},
   "outputs": [
    {
     "name": "stderr",
     "output_type": "stream",
     "text": [
      "Trainer will use only 1 of 4 GPUs because it is running inside an interactive / notebook environment. You may try to set `Trainer(devices=4)` but please note that multi-GPU inside interactive / notebook environments is considered experimental and unstable. Your mileage may vary.\n",
      "GPU available: True (cuda), used: True\n",
      "TPU available: False, using: 0 TPU cores\n",
      "IPU available: False, using: 0 IPUs\n",
      "HPU available: False, using: 0 HPUs\n"
     ]
    }
   ],
   "source": [
    "trainer = Trainer()\n",
    "\n",
    "trainer.ckpt_path= '/data/p.magos/TSGen/logs/prediction/grinMetr/best-model-epoch=49-val_loss=554.3832.ckpt'\n",
    "\n",
    "imputer.freeze()"
   ]
  },
  {
   "cell_type": "code",
   "execution_count": 5,
   "metadata": {},
   "outputs": [
    {
     "name": "stderr",
     "output_type": "stream",
     "text": [
      "Restoring states from the checkpoint path at /data/p.magos/TSGen/logs/prediction/grinMetr/best-model-epoch=49-val_loss=554.3832.ckpt\n",
      "LOCAL_RANK: 0 - CUDA_VISIBLE_DEVICES: [0,1,2,3]\n"
     ]
    },
    {
     "name": "stderr",
     "output_type": "stream",
     "text": [
      "Loaded model weights from the checkpoint at /data/p.magos/TSGen/logs/prediction/grinMetr/best-model-epoch=49-val_loss=554.3832.ckpt\n"
     ]
    },
    {
     "data": {
      "application/vnd.jupyter.widget-view+json": {
       "model_id": "1e5a5e07234c46a2898d701bcf785869",
       "version_major": 2,
       "version_minor": 0
      },
      "text/plain": [
       "Predicting: |          | 0/? [00:00<?, ?it/s]"
      ]
     },
     "metadata": {},
     "output_type": "display_data"
    },
    {
     "name": "stderr",
     "output_type": "stream",
     "text": [
      "Only args ['x', 'edge_weight', 'edge_index', 'mask'] are forwarded to the model (GRINModel). \n"
     ]
    },
    {
     "ename": "TypeError",
     "evalue": "'int' object is not callable",
     "output_type": "error",
     "traceback": [
      "\u001b[0;31m---------------------------------------------------------------------------\u001b[0m",
      "\u001b[0;31mTypeError\u001b[0m                                 Traceback (most recent call last)",
      "Cell \u001b[0;32mIn[5], line 5\u001b[0m\n\u001b[1;32m      3\u001b[0m output \u001b[38;5;241m=\u001b[39m torch_to_numpy(output)\n\u001b[1;32m      4\u001b[0m y_hat, y_true \u001b[38;5;241m=\u001b[39m (output[\u001b[38;5;124m'\u001b[39m\u001b[38;5;124my_hat\u001b[39m\u001b[38;5;124m'\u001b[39m], output[\u001b[38;5;124m'\u001b[39m\u001b[38;5;124my\u001b[39m\u001b[38;5;124m'\u001b[39m])\n\u001b[0;32m----> 5\u001b[0m res \u001b[38;5;241m=\u001b[39m \u001b[38;5;28mdict\u001b[39m(test_mae\u001b[38;5;241m=\u001b[39m\u001b[43mloss_fn\u001b[49m\u001b[43m(\u001b[49m\u001b[43mtorch\u001b[49m\u001b[38;5;241;43m.\u001b[39;49m\u001b[43mtensor\u001b[49m\u001b[43m(\u001b[49m\u001b[43my_hat\u001b[49m\u001b[43m)\u001b[49m\u001b[43m,\u001b[49m\u001b[43m \u001b[49m\u001b[43my_true\u001b[49m\u001b[43m)\u001b[49m)\n\u001b[1;32m      6\u001b[0m res\n",
      "File \u001b[0;32m/data/p.magos/.pyenv/versions/3.11.9/lib/python3.11/site-packages/torch/nn/modules/module.py:1532\u001b[0m, in \u001b[0;36mModule._wrapped_call_impl\u001b[0;34m(self, *args, **kwargs)\u001b[0m\n\u001b[1;32m   1530\u001b[0m     \u001b[38;5;28;01mreturn\u001b[39;00m \u001b[38;5;28mself\u001b[39m\u001b[38;5;241m.\u001b[39m_compiled_call_impl(\u001b[38;5;241m*\u001b[39margs, \u001b[38;5;241m*\u001b[39m\u001b[38;5;241m*\u001b[39mkwargs)  \u001b[38;5;66;03m# type: ignore[misc]\u001b[39;00m\n\u001b[1;32m   1531\u001b[0m \u001b[38;5;28;01melse\u001b[39;00m:\n\u001b[0;32m-> 1532\u001b[0m     \u001b[38;5;28;01mreturn\u001b[39;00m \u001b[38;5;28;43mself\u001b[39;49m\u001b[38;5;241;43m.\u001b[39;49m\u001b[43m_call_impl\u001b[49m\u001b[43m(\u001b[49m\u001b[38;5;241;43m*\u001b[39;49m\u001b[43margs\u001b[49m\u001b[43m,\u001b[49m\u001b[43m \u001b[49m\u001b[38;5;241;43m*\u001b[39;49m\u001b[38;5;241;43m*\u001b[39;49m\u001b[43mkwargs\u001b[49m\u001b[43m)\u001b[49m\n",
      "File \u001b[0;32m/data/p.magos/.pyenv/versions/3.11.9/lib/python3.11/site-packages/torch/nn/modules/module.py:1541\u001b[0m, in \u001b[0;36mModule._call_impl\u001b[0;34m(self, *args, **kwargs)\u001b[0m\n\u001b[1;32m   1536\u001b[0m \u001b[38;5;66;03m# If we don't have any hooks, we want to skip the rest of the logic in\u001b[39;00m\n\u001b[1;32m   1537\u001b[0m \u001b[38;5;66;03m# this function, and just call forward.\u001b[39;00m\n\u001b[1;32m   1538\u001b[0m \u001b[38;5;28;01mif\u001b[39;00m \u001b[38;5;129;01mnot\u001b[39;00m (\u001b[38;5;28mself\u001b[39m\u001b[38;5;241m.\u001b[39m_backward_hooks \u001b[38;5;129;01mor\u001b[39;00m \u001b[38;5;28mself\u001b[39m\u001b[38;5;241m.\u001b[39m_backward_pre_hooks \u001b[38;5;129;01mor\u001b[39;00m \u001b[38;5;28mself\u001b[39m\u001b[38;5;241m.\u001b[39m_forward_hooks \u001b[38;5;129;01mor\u001b[39;00m \u001b[38;5;28mself\u001b[39m\u001b[38;5;241m.\u001b[39m_forward_pre_hooks\n\u001b[1;32m   1539\u001b[0m         \u001b[38;5;129;01mor\u001b[39;00m _global_backward_pre_hooks \u001b[38;5;129;01mor\u001b[39;00m _global_backward_hooks\n\u001b[1;32m   1540\u001b[0m         \u001b[38;5;129;01mor\u001b[39;00m _global_forward_hooks \u001b[38;5;129;01mor\u001b[39;00m _global_forward_pre_hooks):\n\u001b[0;32m-> 1541\u001b[0m     \u001b[38;5;28;01mreturn\u001b[39;00m \u001b[43mforward_call\u001b[49m\u001b[43m(\u001b[49m\u001b[38;5;241;43m*\u001b[39;49m\u001b[43margs\u001b[49m\u001b[43m,\u001b[49m\u001b[43m \u001b[49m\u001b[38;5;241;43m*\u001b[39;49m\u001b[38;5;241;43m*\u001b[39;49m\u001b[43mkwargs\u001b[49m\u001b[43m)\u001b[49m\n\u001b[1;32m   1543\u001b[0m \u001b[38;5;28;01mtry\u001b[39;00m:\n\u001b[1;32m   1544\u001b[0m     result \u001b[38;5;241m=\u001b[39m \u001b[38;5;28;01mNone\u001b[39;00m\n",
      "File \u001b[0;32m/data/p.magos/.pyenv/versions/3.11.9/lib/python3.11/site-packages/torchmetrics/metric.py:311\u001b[0m, in \u001b[0;36mMetric.forward\u001b[0;34m(self, *args, **kwargs)\u001b[0m\n\u001b[1;32m    309\u001b[0m     \u001b[38;5;28mself\u001b[39m\u001b[38;5;241m.\u001b[39m_forward_cache \u001b[38;5;241m=\u001b[39m \u001b[38;5;28mself\u001b[39m\u001b[38;5;241m.\u001b[39m_forward_full_state_update(\u001b[38;5;241m*\u001b[39margs, \u001b[38;5;241m*\u001b[39m\u001b[38;5;241m*\u001b[39mkwargs)\n\u001b[1;32m    310\u001b[0m \u001b[38;5;28;01melse\u001b[39;00m:\n\u001b[0;32m--> 311\u001b[0m     \u001b[38;5;28mself\u001b[39m\u001b[38;5;241m.\u001b[39m_forward_cache \u001b[38;5;241m=\u001b[39m \u001b[38;5;28;43mself\u001b[39;49m\u001b[38;5;241;43m.\u001b[39;49m\u001b[43m_forward_reduce_state_update\u001b[49m\u001b[43m(\u001b[49m\u001b[38;5;241;43m*\u001b[39;49m\u001b[43margs\u001b[49m\u001b[43m,\u001b[49m\u001b[43m \u001b[49m\u001b[38;5;241;43m*\u001b[39;49m\u001b[38;5;241;43m*\u001b[39;49m\u001b[43mkwargs\u001b[49m\u001b[43m)\u001b[49m\n\u001b[1;32m    313\u001b[0m \u001b[38;5;28;01mreturn\u001b[39;00m \u001b[38;5;28mself\u001b[39m\u001b[38;5;241m.\u001b[39m_forward_cache\n",
      "File \u001b[0;32m/data/p.magos/.pyenv/versions/3.11.9/lib/python3.11/site-packages/torchmetrics/metric.py:380\u001b[0m, in \u001b[0;36mMetric._forward_reduce_state_update\u001b[0;34m(self, *args, **kwargs)\u001b[0m\n\u001b[1;32m    377\u001b[0m \u001b[38;5;28mself\u001b[39m\u001b[38;5;241m.\u001b[39m_enable_grad \u001b[38;5;241m=\u001b[39m \u001b[38;5;28;01mTrue\u001b[39;00m  \u001b[38;5;66;03m# allow grads for batch computation\u001b[39;00m\n\u001b[1;32m    379\u001b[0m \u001b[38;5;66;03m# calculate batch state and compute batch value\u001b[39;00m\n\u001b[0;32m--> 380\u001b[0m \u001b[38;5;28;43mself\u001b[39;49m\u001b[38;5;241;43m.\u001b[39;49m\u001b[43mupdate\u001b[49m\u001b[43m(\u001b[49m\u001b[38;5;241;43m*\u001b[39;49m\u001b[43margs\u001b[49m\u001b[43m,\u001b[49m\u001b[43m \u001b[49m\u001b[38;5;241;43m*\u001b[39;49m\u001b[38;5;241;43m*\u001b[39;49m\u001b[43mkwargs\u001b[49m\u001b[43m)\u001b[49m\n\u001b[1;32m    381\u001b[0m batch_val \u001b[38;5;241m=\u001b[39m \u001b[38;5;28mself\u001b[39m\u001b[38;5;241m.\u001b[39mcompute()\n\u001b[1;32m    383\u001b[0m \u001b[38;5;66;03m# reduce batch and global state\u001b[39;00m\n",
      "File \u001b[0;32m/data/p.magos/.pyenv/versions/3.11.9/lib/python3.11/site-packages/torchmetrics/metric.py:482\u001b[0m, in \u001b[0;36mMetric._wrap_update.<locals>.wrapped_func\u001b[0;34m(*args, **kwargs)\u001b[0m\n\u001b[1;32m    480\u001b[0m \u001b[38;5;28;01mwith\u001b[39;00m torch\u001b[38;5;241m.\u001b[39mset_grad_enabled(\u001b[38;5;28mself\u001b[39m\u001b[38;5;241m.\u001b[39m_enable_grad):\n\u001b[1;32m    481\u001b[0m     \u001b[38;5;28;01mtry\u001b[39;00m:\n\u001b[0;32m--> 482\u001b[0m         \u001b[43mupdate\u001b[49m\u001b[43m(\u001b[49m\u001b[38;5;241;43m*\u001b[39;49m\u001b[43margs\u001b[49m\u001b[43m,\u001b[49m\u001b[43m \u001b[49m\u001b[38;5;241;43m*\u001b[39;49m\u001b[38;5;241;43m*\u001b[39;49m\u001b[43mkwargs\u001b[49m\u001b[43m)\u001b[49m\n\u001b[1;32m    483\u001b[0m     \u001b[38;5;28;01mexcept\u001b[39;00m \u001b[38;5;167;01mRuntimeError\u001b[39;00m \u001b[38;5;28;01mas\u001b[39;00m err:\n\u001b[1;32m    484\u001b[0m         \u001b[38;5;28;01mif\u001b[39;00m \u001b[38;5;124m\"\u001b[39m\u001b[38;5;124mExpected all tensors to be on\u001b[39m\u001b[38;5;124m\"\u001b[39m \u001b[38;5;129;01min\u001b[39;00m \u001b[38;5;28mstr\u001b[39m(err):\n",
      "File \u001b[0;32m/data/p.magos/.pyenv/versions/3.11.9/lib/python3.11/site-packages/tsl/metrics/torch/metric_base.py:119\u001b[0m, in \u001b[0;36mMaskedMetric.update\u001b[0;34m(self, y_hat, y, mask)\u001b[0m\n\u001b[1;32m    117\u001b[0m     val, numel \u001b[38;5;241m=\u001b[39m \u001b[38;5;28mself\u001b[39m\u001b[38;5;241m.\u001b[39m_compute_masked(y_hat, y, mask)\n\u001b[1;32m    118\u001b[0m \u001b[38;5;28;01melse\u001b[39;00m:\n\u001b[0;32m--> 119\u001b[0m     val, numel \u001b[38;5;241m=\u001b[39m \u001b[38;5;28;43mself\u001b[39;49m\u001b[38;5;241;43m.\u001b[39;49m\u001b[43m_compute_std\u001b[49m\u001b[43m(\u001b[49m\u001b[43my_hat\u001b[49m\u001b[43m,\u001b[49m\u001b[43m \u001b[49m\u001b[43my\u001b[49m\u001b[43m)\u001b[49m\n\u001b[1;32m    120\u001b[0m \u001b[38;5;28mself\u001b[39m\u001b[38;5;241m.\u001b[39mvalue \u001b[38;5;241m+\u001b[39m\u001b[38;5;241m=\u001b[39m val\n\u001b[1;32m    121\u001b[0m \u001b[38;5;28mself\u001b[39m\u001b[38;5;241m.\u001b[39mnumel \u001b[38;5;241m+\u001b[39m\u001b[38;5;241m=\u001b[39m numel\n",
      "File \u001b[0;32m/data/p.magos/.pyenv/versions/3.11.9/lib/python3.11/site-packages/tsl/metrics/torch/metric_base.py:105\u001b[0m, in \u001b[0;36mMaskedMetric._compute_std\u001b[0;34m(self, y_hat, y)\u001b[0m\n\u001b[1;32m    103\u001b[0m \u001b[38;5;28;01mdef\u001b[39;00m \u001b[38;5;21m_compute_std\u001b[39m(\u001b[38;5;28mself\u001b[39m, y_hat, y):\n\u001b[1;32m    104\u001b[0m     \u001b[38;5;66;03m# _check_same_shape(y_hat, y)\u001b[39;00m\n\u001b[0;32m--> 105\u001b[0m     val \u001b[38;5;241m=\u001b[39m \u001b[38;5;28;43mself\u001b[39;49m\u001b[38;5;241;43m.\u001b[39;49m\u001b[43mmetric_fn\u001b[49m\u001b[43m(\u001b[49m\u001b[43my_hat\u001b[49m\u001b[43m,\u001b[49m\u001b[43m \u001b[49m\u001b[43my\u001b[49m\u001b[43m)\u001b[49m\n\u001b[1;32m    106\u001b[0m     \u001b[38;5;28;01mreturn\u001b[39;00m val\u001b[38;5;241m.\u001b[39msum(), val\u001b[38;5;241m.\u001b[39mnumel()\n",
      "File \u001b[0;32m/data/p.magos/.pyenv/versions/3.11.9/lib/python3.11/site-packages/torch/nn/functional.py:3325\u001b[0m, in \u001b[0;36ml1_loss\u001b[0;34m(input, target, size_average, reduce, reduction)\u001b[0m\n\u001b[1;32m   3321\u001b[0m \u001b[38;5;28;01mif\u001b[39;00m has_torch_function_variadic(\u001b[38;5;28minput\u001b[39m, target):\n\u001b[1;32m   3322\u001b[0m     \u001b[38;5;28;01mreturn\u001b[39;00m handle_torch_function(\n\u001b[1;32m   3323\u001b[0m         l1_loss, (\u001b[38;5;28minput\u001b[39m, target), \u001b[38;5;28minput\u001b[39m, target, size_average\u001b[38;5;241m=\u001b[39msize_average, reduce\u001b[38;5;241m=\u001b[39mreduce, reduction\u001b[38;5;241m=\u001b[39mreduction\n\u001b[1;32m   3324\u001b[0m     )\n\u001b[0;32m-> 3325\u001b[0m \u001b[38;5;28;01mif\u001b[39;00m \u001b[38;5;129;01mnot\u001b[39;00m (\u001b[43mtarget\u001b[49m\u001b[38;5;241;43m.\u001b[39;49m\u001b[43msize\u001b[49m\u001b[43m(\u001b[49m\u001b[43m)\u001b[49m \u001b[38;5;241m==\u001b[39m \u001b[38;5;28minput\u001b[39m\u001b[38;5;241m.\u001b[39msize()):\n\u001b[1;32m   3326\u001b[0m     warnings\u001b[38;5;241m.\u001b[39mwarn(\n\u001b[1;32m   3327\u001b[0m         \u001b[38;5;124mf\u001b[39m\u001b[38;5;124m\"\u001b[39m\u001b[38;5;124mUsing a target size (\u001b[39m\u001b[38;5;132;01m{\u001b[39;00mtarget\u001b[38;5;241m.\u001b[39msize()\u001b[38;5;132;01m}\u001b[39;00m\u001b[38;5;124m) that is different to the input size (\u001b[39m\u001b[38;5;132;01m{\u001b[39;00m\u001b[38;5;28minput\u001b[39m\u001b[38;5;241m.\u001b[39msize()\u001b[38;5;132;01m}\u001b[39;00m\u001b[38;5;124m). \u001b[39m\u001b[38;5;124m\"\u001b[39m\n\u001b[1;32m   3328\u001b[0m         \u001b[38;5;124m\"\u001b[39m\u001b[38;5;124mThis will likely lead to incorrect results due to broadcasting. \u001b[39m\u001b[38;5;124m\"\u001b[39m\n\u001b[1;32m   3329\u001b[0m         \u001b[38;5;124m\"\u001b[39m\u001b[38;5;124mPlease ensure they have the same size.\u001b[39m\u001b[38;5;124m\"\u001b[39m,\n\u001b[1;32m   3330\u001b[0m         stacklevel\u001b[38;5;241m=\u001b[39m\u001b[38;5;241m2\u001b[39m,\n\u001b[1;32m   3331\u001b[0m     )\n\u001b[1;32m   3332\u001b[0m \u001b[38;5;28;01mif\u001b[39;00m size_average \u001b[38;5;129;01mis\u001b[39;00m \u001b[38;5;129;01mnot\u001b[39;00m \u001b[38;5;28;01mNone\u001b[39;00m \u001b[38;5;129;01mor\u001b[39;00m reduce \u001b[38;5;129;01mis\u001b[39;00m \u001b[38;5;129;01mnot\u001b[39;00m \u001b[38;5;28;01mNone\u001b[39;00m:\n",
      "\u001b[0;31mTypeError\u001b[0m: 'int' object is not callable"
     ]
    }
   ],
   "source": [
    "output = trainer.predict(imputer, dataloaders=dm.test_dataloader())\n",
    "output = imputer.collate_prediction_outputs(output)\n",
    "output = torch_to_numpy(output)\n",
    "y_hat, y_true = (output['y_hat'], output['y'])\n",
    "# res = dict(test_mae=loss_fn(torch.tensor(y_hat), y_true))\n",
    "# res"
   ]
  },
  {
   "cell_type": "code",
   "execution_count": 10,
   "metadata": {},
   "outputs": [
    {
     "name": "stderr",
     "output_type": "stream",
     "text": [
      "/tmp/ipykernel_23808/189480785.py:1: UserWarning: To copy construct from a tensor, it is recommended to use sourceTensor.clone().detach() or sourceTensor.clone().detach().requires_grad_(True), rather than torch.tensor(sourceTensor).\n",
      "  y_true = torch.tensor(y_true)\n",
      "/tmp/ipykernel_23808/189480785.py:2: UserWarning: To copy construct from a tensor, it is recommended to use sourceTensor.clone().detach() or sourceTensor.clone().detach().requires_grad_(True), rather than torch.tensor(sourceTensor).\n",
      "  y_hat = torch.tensor(y_hat)\n"
     ]
    }
   ],
   "source": [
    "y_true = torch.tensor(y_true)\n",
    "y_hat = torch.tensor(y_hat)\n",
    "pred = scalers['target'].transform(y_hat)"
   ]
  },
  {
   "cell_type": "code",
   "execution_count": 12,
   "metadata": {},
   "outputs": [
    {
     "data": {
      "text/plain": [
       "0.023926781490445137"
      ]
     },
     "execution_count": 12,
     "metadata": {},
     "output_type": "execute_result"
    }
   ],
   "source": [
    "X = y_true.reshape(y_true.shape[0], -1)\n",
    "Y = scalers['target'].inverse_transform(pred)\n",
    "Y = Y.reshape(y_true.shape[0], -1)\n",
    "mmd_rbf(torch.Tensor(X), torch.Tensor(Y))"
   ]
  },
  {
   "cell_type": "code",
   "execution_count": 13,
   "metadata": {},
   "outputs": [
    {
     "data": {
      "text/plain": [
       "tensor(2120.0044)"
      ]
     },
     "execution_count": 13,
     "metadata": {},
     "output_type": "execute_result"
    }
   ],
   "source": [
    "mmd_linear(torch.Tensor(X), torch.Tensor(Y))"
   ]
  },
  {
   "cell_type": "code",
   "execution_count": 17,
   "metadata": {},
   "outputs": [
    {
     "data": {
      "text/plain": [
       "<matplotlib.legend.Legend at 0x7fb580143590>"
      ]
     },
     "execution_count": 17,
     "metadata": {},
     "output_type": "execute_result"
    },
    {
     "data": {
      "image/png": "[encoded data removed]",
      "text/plain": [
       "<Figure size 640x480 with 1 Axes>"
      ]
     },
     "metadata": {},
     "output_type": "display_data"
    }
   ],
   "source": [
    "plt.plot(Y[:100, 100], label='Pred')\n",
    "plt.plot(X[:100, 100], label='True')\n",
    "plt.legend()"
   ]
  },
  {
   "cell_type": "code",
   "execution_count": 19,
   "metadata": {},
   "outputs": [],
   "source": [
    "import pandas as pd\n",
    "\n",
    "cols = [773869,767541,767542,717447,717446,717445,773062,767620,737529,717816,765604,767471,716339,773906,765273,716331,771667,716337,769953,769402,769403,769819,769405,716941,717578,716960,717804,767572,767573,773012,773013,764424,769388,716328,717819,769941,760987,718204,718045,769418,768066,772140,773927,760024,774012,774011,767609,769359,760650,716956,769831,761604,717495,716554,773953,767470,716955,764949,773954,767366,769444,773939,774067,769443,767750,767751,767610,773880,764766,717497,717490,717491,717492,717493,765176,717498,717499,765171,718064,718066,765164,769431,769430,717610,767053,767621,772596,772597,767350,767351,716571,773023,767585,773024,717483,718379,717481,717480,717486,764120,772151,718371,717489,717488,717818,718076,718072,767455,767454,761599,717099,773916,716968,769467,717576,717573,717572,717571,717570,764760,718089,769847,717608,767523,716942,718090,769867,717472,717473,759591,764781,765099,762329,716953,716951,767509,765182,769358,772513,716958,718496,769346,773904,718499,764853,761003,717502,759602,717504,763995,717508,765265,773996,773995,717469,717468,764106,717465,764794,717466,717461,717460,717463,717462,769345,716943,772669,717582,717583,717580,716949,717587,772178,717585,716939,768469,764101,767554,773975,773974,717510,717513,717825,767495,767494,717821,717823,717458,717459,769926,764858,717450,717452,717453,759772,717456,771673,772167,769372,774204,769806,717590,717592,717595,772168,718141,769373]\n",
    "df = pd.DataFrame(Y, columns=cols)"
   ]
  },
  {
   "cell_type": "code",
   "execution_count": 20,
   "metadata": {},
   "outputs": [
    {
     "data": {
      "text/html": [
       "<div>\n",
       "<style scoped>\n",
       "    .dataframe tbody tr th:only-of-type {\n",
       "        vertical-align: middle;\n",
       "    }\n",
       "\n",
       "    .dataframe tbody tr th {\n",
       "        vertical-align: top;\n",
       "    }\n",
       "\n",
       "    .dataframe thead th {\n",
       "        text-align: right;\n",
       "    }\n",
       "</style>\n",
       "<table border=\"1\" class=\"dataframe\">\n",
       "  <thead>\n",
       "    <tr style=\"text-align: right;\">\n",
       "      <th></th>\n",
       "      <th>773869</th>\n",
       "      <th>767541</th>\n",
       "      <th>767542</th>\n",
       "      <th>717447</th>\n",
       "      <th>717446</th>\n",
       "      <th>717445</th>\n",
       "      <th>773062</th>\n",
       "      <th>767620</th>\n",
       "      <th>737529</th>\n",
       "      <th>717816</th>\n",
       "      <th>...</th>\n",
       "      <th>772167</th>\n",
       "      <th>769372</th>\n",
       "      <th>774204</th>\n",
       "      <th>769806</th>\n",
       "      <th>717590</th>\n",
       "      <th>717592</th>\n",
       "      <th>717595</th>\n",
       "      <th>772168</th>\n",
       "      <th>718141</th>\n",
       "      <th>769373</th>\n",
       "    </tr>\n",
       "  </thead>\n",
       "  <tbody>\n",
       "    <tr>\n",
       "      <th>0</th>\n",
       "      <td>64.777603</td>\n",
       "      <td>64.626968</td>\n",
       "      <td>66.516983</td>\n",
       "      <td>56.724983</td>\n",
       "      <td>58.994576</td>\n",
       "      <td>59.327736</td>\n",
       "      <td>63.425434</td>\n",
       "      <td>62.884956</td>\n",
       "      <td>62.132294</td>\n",
       "      <td>64.976036</td>\n",
       "      <td>...</td>\n",
       "      <td>43.785980</td>\n",
       "      <td>67.323807</td>\n",
       "      <td>61.383209</td>\n",
       "      <td>64.153946</td>\n",
       "      <td>66.021812</td>\n",
       "      <td>62.601936</td>\n",
       "      <td>66.970558</td>\n",
       "      <td>62.207912</td>\n",
       "      <td>66.562836</td>\n",
       "      <td>61.746437</td>\n",
       "    </tr>\n",
       "    <tr>\n",
       "      <th>1</th>\n",
       "      <td>64.777603</td>\n",
       "      <td>64.626968</td>\n",
       "      <td>66.516983</td>\n",
       "      <td>56.724983</td>\n",
       "      <td>58.994576</td>\n",
       "      <td>59.327736</td>\n",
       "      <td>63.425434</td>\n",
       "      <td>62.884956</td>\n",
       "      <td>62.132294</td>\n",
       "      <td>64.976036</td>\n",
       "      <td>...</td>\n",
       "      <td>43.785980</td>\n",
       "      <td>67.323799</td>\n",
       "      <td>61.383209</td>\n",
       "      <td>64.153946</td>\n",
       "      <td>66.021812</td>\n",
       "      <td>62.601936</td>\n",
       "      <td>66.970558</td>\n",
       "      <td>62.207912</td>\n",
       "      <td>66.562836</td>\n",
       "      <td>61.746437</td>\n",
       "    </tr>\n",
       "    <tr>\n",
       "      <th>2</th>\n",
       "      <td>64.777603</td>\n",
       "      <td>64.626968</td>\n",
       "      <td>66.516983</td>\n",
       "      <td>56.724983</td>\n",
       "      <td>58.994576</td>\n",
       "      <td>59.327736</td>\n",
       "      <td>63.425434</td>\n",
       "      <td>62.884956</td>\n",
       "      <td>62.132294</td>\n",
       "      <td>64.976036</td>\n",
       "      <td>...</td>\n",
       "      <td>43.785980</td>\n",
       "      <td>67.323799</td>\n",
       "      <td>61.383209</td>\n",
       "      <td>64.153946</td>\n",
       "      <td>66.021812</td>\n",
       "      <td>62.601936</td>\n",
       "      <td>66.970558</td>\n",
       "      <td>62.207912</td>\n",
       "      <td>66.562836</td>\n",
       "      <td>61.746437</td>\n",
       "    </tr>\n",
       "    <tr>\n",
       "      <th>3</th>\n",
       "      <td>64.777603</td>\n",
       "      <td>64.626968</td>\n",
       "      <td>66.516983</td>\n",
       "      <td>56.724983</td>\n",
       "      <td>58.994576</td>\n",
       "      <td>59.327736</td>\n",
       "      <td>63.425434</td>\n",
       "      <td>62.884956</td>\n",
       "      <td>62.132294</td>\n",
       "      <td>64.976036</td>\n",
       "      <td>...</td>\n",
       "      <td>43.785980</td>\n",
       "      <td>67.323799</td>\n",
       "      <td>61.383209</td>\n",
       "      <td>64.153946</td>\n",
       "      <td>66.021812</td>\n",
       "      <td>62.601936</td>\n",
       "      <td>66.970558</td>\n",
       "      <td>62.207912</td>\n",
       "      <td>66.562836</td>\n",
       "      <td>61.746437</td>\n",
       "    </tr>\n",
       "    <tr>\n",
       "      <th>4</th>\n",
       "      <td>64.777603</td>\n",
       "      <td>64.626968</td>\n",
       "      <td>66.516983</td>\n",
       "      <td>56.724983</td>\n",
       "      <td>58.994576</td>\n",
       "      <td>59.327736</td>\n",
       "      <td>63.425434</td>\n",
       "      <td>62.884956</td>\n",
       "      <td>62.132294</td>\n",
       "      <td>64.976036</td>\n",
       "      <td>...</td>\n",
       "      <td>43.785980</td>\n",
       "      <td>67.323799</td>\n",
       "      <td>61.383209</td>\n",
       "      <td>64.153946</td>\n",
       "      <td>66.021812</td>\n",
       "      <td>62.601936</td>\n",
       "      <td>66.970558</td>\n",
       "      <td>62.207912</td>\n",
       "      <td>66.562836</td>\n",
       "      <td>61.746437</td>\n",
       "    </tr>\n",
       "    <tr>\n",
       "      <th>...</th>\n",
       "      <td>...</td>\n",
       "      <td>...</td>\n",
       "      <td>...</td>\n",
       "      <td>...</td>\n",
       "      <td>...</td>\n",
       "      <td>...</td>\n",
       "      <td>...</td>\n",
       "      <td>...</td>\n",
       "      <td>...</td>\n",
       "      <td>...</td>\n",
       "      <td>...</td>\n",
       "      <td>...</td>\n",
       "      <td>...</td>\n",
       "      <td>...</td>\n",
       "      <td>...</td>\n",
       "      <td>...</td>\n",
       "      <td>...</td>\n",
       "      <td>...</td>\n",
       "      <td>...</td>\n",
       "      <td>...</td>\n",
       "      <td>...</td>\n",
       "    </tr>\n",
       "    <tr>\n",
       "      <th>3422</th>\n",
       "      <td>65.771149</td>\n",
       "      <td>66.266495</td>\n",
       "      <td>68.120522</td>\n",
       "      <td>58.875359</td>\n",
       "      <td>64.112297</td>\n",
       "      <td>62.059704</td>\n",
       "      <td>63.951218</td>\n",
       "      <td>64.055107</td>\n",
       "      <td>62.600067</td>\n",
       "      <td>66.513428</td>\n",
       "      <td>...</td>\n",
       "      <td>46.782543</td>\n",
       "      <td>68.161018</td>\n",
       "      <td>64.239677</td>\n",
       "      <td>58.477001</td>\n",
       "      <td>66.770477</td>\n",
       "      <td>63.211647</td>\n",
       "      <td>67.131569</td>\n",
       "      <td>63.768265</td>\n",
       "      <td>67.725693</td>\n",
       "      <td>63.532093</td>\n",
       "    </tr>\n",
       "    <tr>\n",
       "      <th>3423</th>\n",
       "      <td>65.280029</td>\n",
       "      <td>66.201790</td>\n",
       "      <td>67.701942</td>\n",
       "      <td>58.311661</td>\n",
       "      <td>64.347061</td>\n",
       "      <td>61.590210</td>\n",
       "      <td>64.278008</td>\n",
       "      <td>64.307808</td>\n",
       "      <td>63.277225</td>\n",
       "      <td>67.381470</td>\n",
       "      <td>...</td>\n",
       "      <td>45.804996</td>\n",
       "      <td>67.888954</td>\n",
       "      <td>63.987484</td>\n",
       "      <td>57.503643</td>\n",
       "      <td>66.468079</td>\n",
       "      <td>63.842987</td>\n",
       "      <td>67.463242</td>\n",
       "      <td>65.001938</td>\n",
       "      <td>67.710266</td>\n",
       "      <td>63.106003</td>\n",
       "    </tr>\n",
       "    <tr>\n",
       "      <th>3424</th>\n",
       "      <td>65.822540</td>\n",
       "      <td>66.191429</td>\n",
       "      <td>67.252968</td>\n",
       "      <td>57.682190</td>\n",
       "      <td>63.614666</td>\n",
       "      <td>61.385548</td>\n",
       "      <td>64.230698</td>\n",
       "      <td>63.683815</td>\n",
       "      <td>61.878757</td>\n",
       "      <td>66.850708</td>\n",
       "      <td>...</td>\n",
       "      <td>46.984058</td>\n",
       "      <td>68.143600</td>\n",
       "      <td>62.380932</td>\n",
       "      <td>62.329704</td>\n",
       "      <td>67.049500</td>\n",
       "      <td>63.748436</td>\n",
       "      <td>67.792801</td>\n",
       "      <td>64.451813</td>\n",
       "      <td>67.570091</td>\n",
       "      <td>63.939579</td>\n",
       "    </tr>\n",
       "    <tr>\n",
       "      <th>3425</th>\n",
       "      <td>65.096001</td>\n",
       "      <td>65.407120</td>\n",
       "      <td>67.247292</td>\n",
       "      <td>58.235958</td>\n",
       "      <td>63.879086</td>\n",
       "      <td>61.531475</td>\n",
       "      <td>64.617989</td>\n",
       "      <td>63.503807</td>\n",
       "      <td>61.292938</td>\n",
       "      <td>67.002487</td>\n",
       "      <td>...</td>\n",
       "      <td>46.485115</td>\n",
       "      <td>68.459198</td>\n",
       "      <td>62.913712</td>\n",
       "      <td>61.810730</td>\n",
       "      <td>66.524818</td>\n",
       "      <td>64.358246</td>\n",
       "      <td>67.663658</td>\n",
       "      <td>63.905998</td>\n",
       "      <td>67.737198</td>\n",
       "      <td>64.306900</td>\n",
       "    </tr>\n",
       "    <tr>\n",
       "      <th>3426</th>\n",
       "      <td>66.324295</td>\n",
       "      <td>66.195335</td>\n",
       "      <td>68.121948</td>\n",
       "      <td>58.638329</td>\n",
       "      <td>64.727516</td>\n",
       "      <td>61.897278</td>\n",
       "      <td>64.521080</td>\n",
       "      <td>64.219269</td>\n",
       "      <td>62.915562</td>\n",
       "      <td>65.925262</td>\n",
       "      <td>...</td>\n",
       "      <td>47.103394</td>\n",
       "      <td>68.192368</td>\n",
       "      <td>62.484474</td>\n",
       "      <td>64.086243</td>\n",
       "      <td>67.186684</td>\n",
       "      <td>63.744179</td>\n",
       "      <td>67.349586</td>\n",
       "      <td>63.959179</td>\n",
       "      <td>67.492256</td>\n",
       "      <td>63.759819</td>\n",
       "    </tr>\n",
       "  </tbody>\n",
       "</table>\n",
       "<p>3427 rows × 207 columns</p>\n",
       "</div>"
      ],
      "text/plain": [
       "         773869     767541     767542     717447     717446     717445  \\\n",
       "0     64.777603  64.626968  66.516983  56.724983  58.994576  59.327736   \n",
       "1     64.777603  64.626968  66.516983  56.724983  58.994576  59.327736   \n",
       "2     64.777603  64.626968  66.516983  56.724983  58.994576  59.327736   \n",
       "3     64.777603  64.626968  66.516983  56.724983  58.994576  59.327736   \n",
       "4     64.777603  64.626968  66.516983  56.724983  58.994576  59.327736   \n",
       "...         ...        ...        ...        ...        ...        ...   \n",
       "3422  65.771149  66.266495  68.120522  58.875359  64.112297  62.059704   \n",
       "3423  65.280029  66.201790  67.701942  58.311661  64.347061  61.590210   \n",
       "3424  65.822540  66.191429  67.252968  57.682190  63.614666  61.385548   \n",
       "3425  65.096001  65.407120  67.247292  58.235958  63.879086  61.531475   \n",
       "3426  66.324295  66.195335  68.121948  58.638329  64.727516  61.897278   \n",
       "\n",
       "         773062     767620     737529     717816  ...     772167     769372  \\\n",
       "0     63.425434  62.884956  62.132294  64.976036  ...  43.785980  67.323807   \n",
       "1     63.425434  62.884956  62.132294  64.976036  ...  43.785980  67.323799   \n",
       "2     63.425434  62.884956  62.132294  64.976036  ...  43.785980  67.323799   \n",
       "3     63.425434  62.884956  62.132294  64.976036  ...  43.785980  67.323799   \n",
       "4     63.425434  62.884956  62.132294  64.976036  ...  43.785980  67.323799   \n",
       "...         ...        ...        ...        ...  ...        ...        ...   \n",
       "3422  63.951218  64.055107  62.600067  66.513428  ...  46.782543  68.161018   \n",
       "3423  64.278008  64.307808  63.277225  67.381470  ...  45.804996  67.888954   \n",
       "3424  64.230698  63.683815  61.878757  66.850708  ...  46.984058  68.143600   \n",
       "3425  64.617989  63.503807  61.292938  67.002487  ...  46.485115  68.459198   \n",
       "3426  64.521080  64.219269  62.915562  65.925262  ...  47.103394  68.192368   \n",
       "\n",
       "         774204     769806     717590     717592     717595     772168  \\\n",
       "0     61.383209  64.153946  66.021812  62.601936  66.970558  62.207912   \n",
       "1     61.383209  64.153946  66.021812  62.601936  66.970558  62.207912   \n",
       "2     61.383209  64.153946  66.021812  62.601936  66.970558  62.207912   \n",
       "3     61.383209  64.153946  66.021812  62.601936  66.970558  62.207912   \n",
       "4     61.383209  64.153946  66.021812  62.601936  66.970558  62.207912   \n",
       "...         ...        ...        ...        ...        ...        ...   \n",
       "3422  64.239677  58.477001  66.770477  63.211647  67.131569  63.768265   \n",
       "3423  63.987484  57.503643  66.468079  63.842987  67.463242  65.001938   \n",
       "3424  62.380932  62.329704  67.049500  63.748436  67.792801  64.451813   \n",
       "3425  62.913712  61.810730  66.524818  64.358246  67.663658  63.905998   \n",
       "3426  62.484474  64.086243  67.186684  63.744179  67.349586  63.959179   \n",
       "\n",
       "         718141     769373  \n",
       "0     66.562836  61.746437  \n",
       "1     66.562836  61.746437  \n",
       "2     66.562836  61.746437  \n",
       "3     66.562836  61.746437  \n",
       "4     66.562836  61.746437  \n",
       "...         ...        ...  \n",
       "3422  67.725693  63.532093  \n",
       "3423  67.710266  63.106003  \n",
       "3424  67.570091  63.939579  \n",
       "3425  67.737198  64.306900  \n",
       "3426  67.492256  63.759819  \n",
       "\n",
       "[3427 rows x 207 columns]"
      ]
     },
     "execution_count": 20,
     "metadata": {},
     "output_type": "execute_result"
    }
   ],
   "source": [
    "df"
   ]
  },
  {
   "cell_type": "code",
   "execution_count": 21,
   "metadata": {},
   "outputs": [],
   "source": [
    "df.to_csv('pred_grin_metr.csv', index=False)"
   ]
  }
 ],
 "metadata": {
  "kernelspec": {
   "display_name": "Thesis",
   "language": "python",
   "name": "python3"
  },
  "language_info": {
   "codemirror_mode": {
    "name": "ipython",
    "version": 3
   },
   "file_extension": ".py",
   "mimetype": "text/x-python",
   "name": "python",
   "nbconvert_exporter": "python",
   "pygments_lexer": "ipython3",
   "version": "3.11.9"
  }
 },
 "nbformat": 4,
 "nbformat_minor": 2
}
