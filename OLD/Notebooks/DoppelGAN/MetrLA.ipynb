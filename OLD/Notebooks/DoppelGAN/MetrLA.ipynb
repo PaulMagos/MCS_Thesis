{
 "cells": [
  {
   "cell_type": "code",
   "execution_count": 4,
   "metadata": {},
   "outputs": [],
   "source": [
    "import pandas as pd\n",
    "import numpy as np\n",
    "from gretel_synthetics.timeseries_dgan.dgan import DGAN\n",
    "from gretel_synthetics.timeseries_dgan.config import DGANConfig\n",
    "from gretel_synthetics.timeseries_dgan.config import  OutputType\n",
    "from os import path\n",
    "import os\n",
    "from sklearn.preprocessing import MinMaxScaler\n",
    "from tsl.datasets import AirQuality, MetrLA, PemsBay\n",
    "\n",
    "dataset_name = 'MetrLA'\n",
    "df = MetrLA()"
   ]
  },
  {
   "cell_type": "code",
   "execution_count": 5,
   "metadata": {},
   "outputs": [],
   "source": [
    "# Create some random training data\n",
    "df = df.dataframe()[-2000:]\n",
    "df.columns = df.columns.droplevel('channels')\n",
    "df_cols = df.columns\n",
    "scaler = MinMaxScaler()\n",
    "df = scaler.fit_transform(df)\n",
    "df = pd.DataFrame(df)\n",
    "df.columns = df_cols"
   ]
  },
  {
   "cell_type": "code",
   "execution_count": 6,
   "metadata": {},
   "outputs": [
    {
     "name": "stderr",
     "output_type": "stream",
     "text": [
      "/Users/paulmagos/.pyenv/versions/3.11.9/envs/Dopple/lib/python3.11/site-packages/gretel_synthetics/timeseries_dgan/dgan.py:688: FutureWarning: `torch.cuda.amp.GradScaler(args...)` is deprecated. Please use `torch.amp.GradScaler('cuda', args...)` instead.\n",
      "  scaler = torch.cuda.amp.GradScaler(enabled=self.config.mixed_precision_training)\n",
      "2024-09-15 18:23:26,234 : MainThread : INFO : epoch: 0\n",
      "/Users/paulmagos/.pyenv/versions/3.11.9/envs/Dopple/lib/python3.11/site-packages/gretel_synthetics/timeseries_dgan/dgan.py:696: FutureWarning: `torch.cuda.amp.autocast(args...)` is deprecated. Please use `torch.amp.autocast('cuda', args...)` instead.\n",
      "  with torch.cuda.amp.autocast(\n",
      "/Users/paulmagos/.pyenv/versions/3.11.9/envs/Dopple/lib/python3.11/site-packages/gretel_synthetics/timeseries_dgan/dgan.py:719: FutureWarning: `torch.cuda.amp.autocast(args...)` is deprecated. Please use `torch.amp.autocast('cuda', args...)` instead.\n",
      "  with torch.cuda.amp.autocast(enabled=True):\n",
      "/Users/paulmagos/.pyenv/versions/3.11.9/envs/Dopple/lib/python3.11/site-packages/torch/amp/autocast_mode.py:265: UserWarning: User provided device_type of 'cuda', but CUDA is not available. Disabling\n",
      "  warnings.warn(\n",
      "/Users/paulmagos/.pyenv/versions/3.11.9/envs/Dopple/lib/python3.11/site-packages/gretel_synthetics/timeseries_dgan/dgan.py:743: FutureWarning: `torch.cuda.amp.autocast(args...)` is deprecated. Please use `torch.amp.autocast('cuda', args...)` instead.\n",
      "  with torch.cuda.amp.autocast(\n",
      "/Users/paulmagos/.pyenv/versions/3.11.9/envs/Dopple/lib/python3.11/site-packages/gretel_synthetics/timeseries_dgan/dgan.py:772: FutureWarning: `torch.cuda.amp.autocast(args...)` is deprecated. Please use `torch.amp.autocast('cuda', args...)` instead.\n",
      "  with torch.cuda.amp.autocast(\n",
      "2024-09-15 18:23:27,733 : MainThread : INFO : epoch: 1\n",
      "2024-09-15 18:23:28,983 : MainThread : INFO : epoch: 2\n",
      "2024-09-15 18:23:30,183 : MainThread : INFO : epoch: 3\n",
      "2024-09-15 18:23:31,376 : MainThread : INFO : epoch: 4\n",
      "2024-09-15 18:23:32,537 : MainThread : INFO : epoch: 5\n",
      "2024-09-15 18:23:33,810 : MainThread : INFO : epoch: 6\n",
      "2024-09-15 18:23:34,975 : MainThread : INFO : epoch: 7\n",
      "2024-09-15 18:23:36,075 : MainThread : INFO : epoch: 8\n",
      "2024-09-15 18:23:37,274 : MainThread : INFO : epoch: 9\n",
      "2024-09-15 18:23:38,563 : MainThread : INFO : epoch: 10\n",
      "2024-09-15 18:23:39,689 : MainThread : INFO : epoch: 11\n",
      "2024-09-15 18:23:41,453 : MainThread : INFO : epoch: 12\n",
      "2024-09-15 18:23:43,155 : MainThread : INFO : epoch: 13\n",
      "2024-09-15 18:23:45,025 : MainThread : INFO : epoch: 14\n",
      "2024-09-15 18:23:46,904 : MainThread : INFO : epoch: 15\n",
      "2024-09-15 18:23:48,790 : MainThread : INFO : epoch: 16\n",
      "2024-09-15 18:23:50,709 : MainThread : INFO : epoch: 17\n",
      "2024-09-15 18:23:52,907 : MainThread : INFO : epoch: 18\n",
      "2024-09-15 18:23:54,745 : MainThread : INFO : epoch: 19\n",
      "2024-09-15 18:23:56,544 : MainThread : INFO : epoch: 20\n",
      "2024-09-15 18:23:57,917 : MainThread : INFO : epoch: 21\n",
      "2024-09-15 18:23:59,367 : MainThread : INFO : epoch: 22\n",
      "2024-09-15 18:24:01,010 : MainThread : INFO : epoch: 23\n",
      "2024-09-15 18:24:02,853 : MainThread : INFO : epoch: 24\n",
      "2024-09-15 18:24:04,676 : MainThread : INFO : epoch: 25\n",
      "2024-09-15 18:24:06,516 : MainThread : INFO : epoch: 26\n",
      "2024-09-15 18:24:08,310 : MainThread : INFO : epoch: 27\n",
      "2024-09-15 18:24:10,026 : MainThread : INFO : epoch: 28\n",
      "2024-09-15 18:24:11,746 : MainThread : INFO : epoch: 29\n",
      "2024-09-15 18:24:13,420 : MainThread : INFO : epoch: 30\n",
      "2024-09-15 18:24:15,040 : MainThread : INFO : epoch: 31\n",
      "2024-09-15 18:24:16,701 : MainThread : INFO : epoch: 32\n",
      "2024-09-15 18:24:18,424 : MainThread : INFO : epoch: 33\n",
      "2024-09-15 18:24:20,144 : MainThread : INFO : epoch: 34\n",
      "2024-09-15 18:24:21,867 : MainThread : INFO : epoch: 35\n",
      "2024-09-15 18:24:23,598 : MainThread : INFO : epoch: 36\n",
      "2024-09-15 18:24:25,295 : MainThread : INFO : epoch: 37\n",
      "2024-09-15 18:24:26,506 : MainThread : INFO : epoch: 38\n",
      "2024-09-15 18:24:27,584 : MainThread : INFO : epoch: 39\n",
      "2024-09-15 18:24:28,642 : MainThread : INFO : epoch: 40\n",
      "2024-09-15 18:24:29,669 : MainThread : INFO : epoch: 41\n",
      "2024-09-15 18:24:30,744 : MainThread : INFO : epoch: 42\n",
      "2024-09-15 18:24:31,877 : MainThread : INFO : epoch: 43\n",
      "2024-09-15 18:24:33,078 : MainThread : INFO : epoch: 44\n",
      "2024-09-15 18:24:34,082 : MainThread : INFO : epoch: 45\n",
      "2024-09-15 18:24:35,112 : MainThread : INFO : epoch: 46\n",
      "2024-09-15 18:24:36,116 : MainThread : INFO : epoch: 47\n",
      "2024-09-15 18:24:37,157 : MainThread : INFO : epoch: 48\n",
      "2024-09-15 18:24:38,140 : MainThread : INFO : epoch: 49\n"
     ]
    }
   ],
   "source": [
    "# Train the model\n",
    "model_path = f'models/{dataset_name}.model'\n",
    "\n",
    "if path.exists(model_path):\n",
    "    model = DGAN.load(model_path)\n",
    "else:\n",
    "    model = DGAN(DGANConfig(\n",
    "        max_sequence_len=len(df_cols),\n",
    "        sample_len=3,\n",
    "        batch_size=100,\n",
    "        epochs=50,  # For real data sets, 100–1000 epochs is typical\n",
    "    ))\n",
    "\n",
    "    model.train_dataframe(\n",
    "        df,\n",
    "    )\n",
    "    \n",
    "    model.save(model_path)\n",
    "# Generate synthetic data\n",
    "synthetic_df = model.generate_dataframe(1000)\n",
    "synthetic_df = scaler.inverse_transform(synthetic_df)\n",
    "synthetic_df = pd.DataFrame(synthetic_df)\n",
    "synthetic_df.columns = df.columns"
   ]
  },
  {
   "cell_type": "code",
   "execution_count": 7,
   "metadata": {},
   "outputs": [],
   "source": [
    "synthetic_df.to_csv(f'{os.getcwd()}/../../Datasets/GeneratedDatasets/{dataset_name}/syntetic{dataset_name}DGAN.csv', index=False)"
   ]
  }
 ],
 "metadata": {
  "kernelspec": {
   "display_name": "Dopple",
   "language": "python",
   "name": "python3"
  },
  "language_info": {
   "codemirror_mode": {
    "name": "ipython",
    "version": 3
   },
   "file_extension": ".py",
   "mimetype": "text/x-python",
   "name": "python",
   "nbconvert_exporter": "python",
   "pygments_lexer": "ipython3",
   "version": "3.11.9"
  }
 },
 "nbformat": 4,
 "nbformat_minor": 2
}
