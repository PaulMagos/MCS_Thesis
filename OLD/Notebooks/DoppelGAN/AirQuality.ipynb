{
 "cells": [
  {
   "cell_type": "code",
   "execution_count": 2,
   "metadata": {},
   "outputs": [],
   "source": [
    "import pandas as pd\n",
    "import numpy as np\n",
    "from gretel_synthetics.timeseries_dgan.dgan import DGAN\n",
    "from gretel_synthetics.timeseries_dgan.config import DGANConfig\n",
    "from gretel_synthetics.timeseries_dgan.config import  OutputType\n",
    "import os\n",
    "from os import path\n",
    "from sklearn.preprocessing import MinMaxScaler\n",
    "from tsl.datasets import AirQuality, MetrLA, PemsBay\n",
    "\n",
    "dataset_name = 'AirQuality'\n",
    "df = AirQuality(small=True)"
   ]
  },
  {
   "cell_type": "code",
   "execution_count": 3,
   "metadata": {},
   "outputs": [],
   "source": [
    "# Create some random training data\n",
    "df = df.dataframe()[-8736:]\n",
    "df.columns = df.columns.droplevel('channels')\n",
    "df_cols = df.columns\n",
    "scaler = MinMaxScaler()\n",
    "df = scaler.fit_transform(df)\n",
    "df = pd.DataFrame(df)\n",
    "df.columns = df_cols\n",
    "\n",
    "data = df.values\n",
    "data = data.reshape(8736//168, 168, 36)"
   ]
  },
  {
   "cell_type": "code",
   "execution_count": 4,
   "metadata": {},
   "outputs": [
    {
     "name": "stderr",
     "output_type": "stream",
     "text": [
      "/Users/paulmagos/.pyenv/versions/3.11.9/envs/Thesis/lib/python3.11/site-packages/gretel_synthetics/timeseries_dgan/dgan.py:996: FutureWarning: You are using `torch.load` with `weights_only=False` (the current default value), which uses the default pickle module implicitly. It is possible to construct malicious pickle data which will execute arbitrary code during unpickling (See https://github.com/pytorch/pytorch/blob/main/SECURITY.md#untrusted-models for more details). In a future release, the default value for `weights_only` will be flipped to `True`. This limits the functions that could be executed during unpickling. Arbitrary objects will no longer be allowed to be loaded via this mode unless they are explicitly allowlisted by the user via `torch.serialization.add_safe_globals`. We recommend you start setting `weights_only=True` for any use case where you don't have full control of the loaded file. Please open an issue on GitHub for any issues related to this experimental feature.\n",
      "  state = torch.load(file_name, **kwargs)\n"
     ]
    }
   ],
   "source": [
    "# Train the model\n",
    "model_path = f'models/{dataset_name}1.model'\n",
    "\n",
    "if path.exists(model_path):\n",
    "    model = DGAN.load(model_path)\n",
    "else:\n",
    "    model = DGAN(DGANConfig(\n",
    "        max_sequence_len=168,\n",
    "        sample_len=24,\n",
    "        batch_size=13,\n",
    "        epochs=10,\n",
    "        apply_feature_scaling=False,\n",
    "    ))\n",
    "\n",
    "    model.train_numpy(\n",
    "        data\n",
    "    )\n",
    "    \n",
    "    model.save(model_path)\n",
    "# Generate synthetic data\n",
    "synthetic_df = model.generate_numpy(1000)[1]\n",
    "# synthetic_df.columns = df.columns"
   ]
  },
  {
   "cell_type": "code",
   "execution_count": 7,
   "metadata": {},
   "outputs": [
    {
     "data": {
      "text/plain": [
       "(1000, 168, 36)"
      ]
     },
     "execution_count": 7,
     "metadata": {},
     "output_type": "execute_result"
    }
   ],
   "source": [
    "synthetic_df.shape"
   ]
  },
  {
   "cell_type": "code",
   "execution_count": 16,
   "metadata": {},
   "outputs": [],
   "source": [
    "# synthetic_df.to_csv(f'{os.getcwd()}/../../Datasets/GeneratedDatasets/{dataset_name}/syntetic{dataset_name}DGAN.csv', index=False)"
   ]
  }
 ],
 "metadata": {
  "kernelspec": {
   "display_name": "Thesis",
   "language": "python",
   "name": "python3"
  },
  "language_info": {
   "codemirror_mode": {
    "name": "ipython",
    "version": 3
   },
   "file_extension": ".py",
   "mimetype": "text/x-python",
   "name": "python",
   "nbconvert_exporter": "python",
   "pygments_lexer": "ipython3",
   "version": "3.11.9"
  }
 },
 "nbformat": 4,
 "nbformat_minor": 2
}
